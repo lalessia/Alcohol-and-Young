{
 "cells": [
  {
   "cell_type": "markdown",
   "metadata": {},
   "source": [
    "1. [Introduzione](#introduction)\n",
    "\n",
    "2. [Data Cleaning & Data Manipulation](#data_clean_man)\n",
    "\n",
    "3. [EDA](#eda) \n",
    "\n",
    "    - [Analisi generali](#general)\n",
    "    - [Relazioni con la famiglia](#family_rel)\n",
    "    - [Relazioni con le istituzioni educative](#school_rel)\n",
    "    - [Gestione del tempo](#time_mng)\n",
    "    - [Conclusioni](#conclusions)\n",
    "\n",
    "4. [Analisi Predittiva](#pred_ana)\n",
    "\n",
    "    - [Random Forest (obbl)](#random_forest)\n",
    "    - [Support Vector Regression (obbl)](#SVR)\n",
    "    - [Logistic Regression (opz.)](#log_reg)\n",
    "    - [KNN (opz.)](#KNN)\n",
    "    - [Confronto](#comparison)\n",
    "\n",
    "\n",
    "[Help](https://www.kaggle.com/code/akerineth/notebook762a532494)"
   ]
  },
  {
   "cell_type": "code",
   "execution_count": 1,
   "metadata": {},
   "outputs": [],
   "source": [
    "#import library \n",
    "\n",
    "#pip install graphviz\n",
    "\n",
    "import pandas as pd\n",
    "import seaborn as sns\n",
    "import matplotlib.pyplot as plt\n",
    "import plotly.express as px\n",
    "import plotly.graph_objects as go\n",
    "\n",
    "from graphviz import Digraph\n",
    "from IPython.display import display"
   ]
  },
  {
   "cell_type": "markdown",
   "metadata": {},
   "source": [
    "<h1 id=\"introduction\"> Introduzione </h1>\n",
    "\n",
    "<b>SCALETTA: TO DELETE</b>\n",
    "Visualizzazione dei dati tramite shape, info, description\n",
    "\n",
    "Analisi descrittiva su:\n",
    "\n",
    "<ul>\n",
    "    <li>Cosa sto analizzando?</li>\n",
    "    <li>Come posso scomporre il problema?</li>\n",
    "    <li>Cosa mi aspetto di trovare? Da ogni sotto problema?</li>\n",
    "</ul>\n",
    "\n",
    "<b>END TO DELETE</b>"
   ]
  },
  {
   "cell_type": "code",
   "execution_count": 2,
   "metadata": {},
   "outputs": [],
   "source": [
    "mat = pd.read_csv('dataset/dataset/student-mat.csv')\n",
    "por = pd.read_csv('dataset/dataset/student-por.csv')"
   ]
  },
  {
   "cell_type": "markdown",
   "metadata": {},
   "source": [
    "Questo progetto si articola in 2 parti:\n",
    "<ul>\n",
    "<li>una prima parte è volta ad analizzare il consumo di alcolici nei giovani, prendendo ad esame un <[dataset](https://www.kaggle.com/datasets/uciml/student-alcohol-consumption) di studenti della scuola secondaria (15-22 anni), cercando di capire se e quali possono essere le sottoaree su cui intervenire.</li>\n",
    "<li>successivamente, si procederà, usando lo stesso dataset, ad un'analisi predittiva sul voto finale di uno studente, utilizzando differenti algoritmi di ML e mettendoli a confronto.</li>\n",
    "</ul>"
   ]
  },
  {
   "cell_type": "code",
   "execution_count": null,
   "metadata": {},
   "outputs": [],
   "source": [
    "#Dataset Analysis"
   ]
  },
  {
   "cell_type": "markdown",
   "metadata": {},
   "source": [
    "\n",
    "Il dataset selezionato, ha messo a disposizione le seguenti colonne:"
   ]
  },
  {
   "cell_type": "code",
   "execution_count": 3,
   "metadata": {},
   "outputs": [
    {
     "data": {
      "text/plain": [
       "array(['school', 'sex', 'age', 'address', 'famsize', 'Pstatus', 'Medu',\n",
       "       'Fedu', 'Mjob', 'Fjob', 'reason', 'guardian', 'traveltime',\n",
       "       'studytime', 'failures', 'schoolsup', 'famsup', 'paid',\n",
       "       'activities', 'nursery', 'higher', 'internet', 'romantic',\n",
       "       'famrel', 'freetime', 'goout', 'Dalc', 'Walc', 'health',\n",
       "       'absences', 'G1', 'G2', 'G3'], dtype=object)"
      ]
     },
     "execution_count": 3,
     "metadata": {},
     "output_type": "execute_result"
    }
   ],
   "source": [
    "mat.columns.values"
   ]
  },
  {
   "cell_type": "markdown",
   "metadata": {},
   "source": [
    "Dove: \n",
    "<ul>\n",
    "<li><b>school</b>:  student's school (binary: 'GP' - Gabriel Pereira or 'MS' - Mousinho da Silveira)</li>\n",
    "<li><b>sex</b>: student's sex (binary: 'F' - female or 'M' - male)</li>\n",
    "<li><b>age</b>: student's age (numeric: from 15 to 22)</li>\n",
    "<li><b>address</b>: student's home address type (binary: 'U' - urban or 'R' - rural)</li>\n",
    "<li><b>famsize</b>: family size (binary: 'LE3' - less or equal to 3 or 'GT3' - greater than 3)</li>\n",
    "<li><b>Pstatus</b>: parent's cohabitation status (binary: 'T' - living together or 'A' - apart)</li>\n",
    "<li><b>Medu</b>: mother's education (numeric: 0 - none, 1 - primary education (4th grade), 2 – 5th to 9th grade, 3 – secondary education or 4 – higher education)</li>\n",
    "<li><b>Fedu</b>: Fedu - father's education (numeric: 0 - none, 1 - primary education (4th grade), 2 – 5th to 9th grade, 3 – secondary education or 4 – higher education)</li>\n",
    "<li><b>Mjob</b>: Mjob - mother's job (nominal: 'teacher', 'health' care related, civil 'services' (e.g. administrative or police), 'at_home' or 'other')</li>\n",
    "<li><b>Fjob</b>: Fjob - father's job (nominal: 'teacher', 'health' care related, civil 'services' (e.g. administrative or police), 'at_home' or 'other')</li>\n",
    "<li><b>reason</b>: reason - reason to choose this school (nominal: close to 'home', school 'reputation', 'course' preference or 'other')</li>\n",
    "<li><b>guardian</b>: guardian - student's guardian (nominal: 'mother', 'father' or 'other')</li>\n",
    "<li><b>traveltime</b>: traveltime - home to school travel time (numeric: 1 - <15 min., 2 - 15 to 30 min., 3 - 30 min. to 1 hour, or 4 - >1 hour)</li>\n",
    "<li><b>studytime</b>: studytime - weekly study time (numeric: 1 - <2 hours, 2 - 2 to 5 hours, 3 - 5 to 10 hours, or 4 - >10 hours)</li>\n",
    "<li><b>failures</b>: number of past class failures (numeric: n if 1<=n<3, else 4)</li>\n",
    "<li><b>schoolsup</b>: extra educational support (binary: yes or no)</li>\n",
    "<li><b>famsup</b>: family educational support (binary: yes or no)</li>\n",
    "<li><b>paid</b>: extra paid classes within the course subject (Math or Portuguese) (binary: yes or no)</li>\n",
    "<li><b>activities</b>: extra-curricular activities (binary: yes or no)</li>\n",
    "<li><b>nursery</b>: attended nursery school (binary: yes or no)</li>\n",
    "<li><b>higher</b>: wants to take higher education (binary: yes or no)</li>\n",
    "<li><b>internet</b>: Internet access at home (binary: yes or no)</li>\n",
    "<li><b>romantic</b>: with a romantic relationship (binary: yes or no)</li>\n",
    "<li><b>famrel</b>: quality of family relationships (numeric: from 1 - very bad to 5 - excellent)</li>\n",
    "<li><b>freetime</b>: free time after school (numeric: from 1 - very low to 5 - very high)</li>\n",
    "<li><b>goout</b>: going out with friends (numeric: from 1 - very low to 5 - very high)</li>\n",
    "<li><b>Dalc</b>: workday alcohol consumption (numeric: from 1 - very low to 5 - very high)</li>\n",
    "<li><b>Walc</b>: weekend alcohol consumption (numeric: from 1 - very low to 5 - very high)</li>\n",
    "<li><b>health</b>: current health status (numeric: from 1 - very bad to 5 - very good)</li>\n",
    "<li><b>absences</b>: number of school absences (numeric: from 0 to 93)</li>\n",
    "\n",
    "<li><b>G1</b>: first period grade (numeric: from 0 to 20)</li>\n",
    "<li><b>G2</b>: second period grade (numeric: from 0 to 20)</li>\n",
    "<li><b>G3</b>: final grade (numeric: from 0 to 20, output target)</li>\n",
    "\n",
    "</ul>"
   ]
  },
  {
   "cell_type": "markdown",
   "metadata": {},
   "source": [
    "<h1 id=\"data_clean_man\"> Data Cleaning & Manipulation </h1>\n",
    "\n",
    "<b>SCALETTA: TO DELETE</b>\n",
    "<ul>\n",
    "    <li>Analisi sul join dei dataset</li>\n",
    "    <li>Controllo Duplicati</li>\n",
    "    <li>Gestione dei valori mancanti</li>\n",
    "    <li>Controllo Data Type puntando a una conversione delle colonne orientata al numero</li>\n",
    "    <li>Rimozione di eventuali valori anomali</li>\n",
    "</ul>\n",
    "<b>END TO DELETE</b>"
   ]
  },
  {
   "cell_type": "code",
   "execution_count": 7,
   "metadata": {},
   "outputs": [
    {
     "name": "stdout",
     "output_type": "stream",
     "text": [
      "por.shape:  (649, 33)\n",
      "mat.shape:  (395, 33)\n"
     ]
    }
   ],
   "source": [
    "#Join Dataset Analysis\n",
    "\n",
    "print('por.shape: ', por.shape)\n",
    "print('mat.shape: ', mat.shape)"
   ]
  },
  {
   "cell_type": "code",
   "execution_count": 11,
   "metadata": {},
   "outputs": [
    {
     "name": "stdout",
     "output_type": "stream",
     "text": [
      "<class 'pandas.core.frame.DataFrame'>\n",
      "RangeIndex: 649 entries, 0 to 648\n",
      "Data columns (total 33 columns):\n",
      " #   Column      Non-Null Count  Dtype \n",
      "---  ------      --------------  ----- \n",
      " 0   school      649 non-null    object\n",
      " 1   sex         649 non-null    object\n",
      " 2   age         649 non-null    int64 \n",
      " 3   address     649 non-null    object\n",
      " 4   famsize     649 non-null    object\n",
      " 5   Pstatus     649 non-null    object\n",
      " 6   Medu        649 non-null    int64 \n",
      " 7   Fedu        649 non-null    int64 \n",
      " 8   Mjob        649 non-null    object\n",
      " 9   Fjob        649 non-null    object\n",
      " 10  reason      649 non-null    object\n",
      " 11  guardian    649 non-null    object\n",
      " 12  traveltime  649 non-null    int64 \n",
      " 13  studytime   649 non-null    int64 \n",
      " 14  failures    649 non-null    int64 \n",
      " 15  schoolsup   649 non-null    object\n",
      " 16  famsup      649 non-null    object\n",
      " 17  paid        649 non-null    object\n",
      " 18  activities  649 non-null    object\n",
      " 19  nursery     649 non-null    object\n",
      " 20  higher      649 non-null    object\n",
      " 21  internet    649 non-null    object\n",
      " 22  romantic    649 non-null    object\n",
      " 23  famrel      649 non-null    int64 \n",
      " 24  freetime    649 non-null    int64 \n",
      " 25  goout       649 non-null    int64 \n",
      " 26  Dalc        649 non-null    int64 \n",
      " 27  Walc        649 non-null    int64 \n",
      " 28  health      649 non-null    int64 \n",
      " 29  absences    649 non-null    int64 \n",
      " 30  G1          649 non-null    int64 \n",
      " 31  G2          649 non-null    int64 \n",
      " 32  G3          649 non-null    int64 \n",
      "dtypes: int64(16), object(17)\n",
      "memory usage: 167.4+ KB\n"
     ]
    }
   ],
   "source": [
    "por.info()"
   ]
  },
  {
   "cell_type": "code",
   "execution_count": 12,
   "metadata": {},
   "outputs": [
    {
     "name": "stdout",
     "output_type": "stream",
     "text": [
      "<class 'pandas.core.frame.DataFrame'>\n",
      "RangeIndex: 395 entries, 0 to 394\n",
      "Data columns (total 33 columns):\n",
      " #   Column      Non-Null Count  Dtype \n",
      "---  ------      --------------  ----- \n",
      " 0   school      395 non-null    object\n",
      " 1   sex         395 non-null    object\n",
      " 2   age         395 non-null    int64 \n",
      " 3   address     395 non-null    object\n",
      " 4   famsize     395 non-null    object\n",
      " 5   Pstatus     395 non-null    object\n",
      " 6   Medu        395 non-null    int64 \n",
      " 7   Fedu        395 non-null    int64 \n",
      " 8   Mjob        395 non-null    object\n",
      " 9   Fjob        395 non-null    object\n",
      " 10  reason      395 non-null    object\n",
      " 11  guardian    395 non-null    object\n",
      " 12  traveltime  395 non-null    int64 \n",
      " 13  studytime   395 non-null    int64 \n",
      " 14  failures    395 non-null    int64 \n",
      " 15  schoolsup   395 non-null    object\n",
      " 16  famsup      395 non-null    object\n",
      " 17  paid        395 non-null    object\n",
      " 18  activities  395 non-null    object\n",
      " 19  nursery     395 non-null    object\n",
      " 20  higher      395 non-null    object\n",
      " 21  internet    395 non-null    object\n",
      " 22  romantic    395 non-null    object\n",
      " 23  famrel      395 non-null    int64 \n",
      " 24  freetime    395 non-null    int64 \n",
      " 25  goout       395 non-null    int64 \n",
      " 26  Dalc        395 non-null    int64 \n",
      " 27  Walc        395 non-null    int64 \n",
      " 28  health      395 non-null    int64 \n",
      " 29  absences    395 non-null    int64 \n",
      " 30  G1          395 non-null    int64 \n",
      " 31  G2          395 non-null    int64 \n",
      " 32  G3          395 non-null    int64 \n",
      "dtypes: int64(16), object(17)\n",
      "memory usage: 102.0+ KB\n"
     ]
    }
   ],
   "source": [
    "mat.info()"
   ]
  },
  {
   "cell_type": "code",
   "execution_count": 13,
   "metadata": {},
   "outputs": [
    {
     "name": "stdout",
     "output_type": "stream",
     "text": [
      "Numero di righe duplicate per dataset\n",
      "Por:  0\n",
      "Mat 0\n"
     ]
    }
   ],
   "source": [
    "print('Numero di righe duplicate per dataset')\n",
    "print('Por: ', len(por[por.duplicated()]))\n",
    "print('Mat', len(mat[mat.duplicated()]))"
   ]
  },
  {
   "cell_type": "code",
   "execution_count": null,
   "metadata": {},
   "outputs": [],
   "source": []
  },
  {
   "cell_type": "code",
   "execution_count": null,
   "metadata": {},
   "outputs": [],
   "source": [
    "mat['course'] = 'MT'\n",
    "por['course'] = 'PR'"
   ]
  },
  {
   "cell_type": "code",
   "execution_count": null,
   "metadata": {},
   "outputs": [],
   "source": [
    "both = pd.concat([por, mat])"
   ]
  },
  {
   "cell_type": "code",
   "execution_count": null,
   "metadata": {},
   "outputs": [],
   "source": [
    "#total duplicate\n",
    "\n",
    "both[both.duplicated()]"
   ]
  },
  {
   "cell_type": "code",
   "execution_count": null,
   "metadata": {},
   "outputs": [],
   "source": [
    "both.columns.values"
   ]
  },
  {
   "cell_type": "code",
   "execution_count": null,
   "metadata": {},
   "outputs": [],
   "source": [
    "general = ['school', 'sex', 'age', 'health']\n",
    "family = ['famsize', 'Pstatus', 'Medu', 'Fedu', 'Mjob', 'Fjob', 'guardian', 'famsup', 'famrel']\n",
    "school = ['failures', 'schoolsup', 'paid', 'activities', 'nursery', 'higher', 'absences']\n",
    "time = ['traveltime', 'studytime', 'freetime', 'goout']"
   ]
  },
  {
   "cell_type": "code",
   "execution_count": null,
   "metadata": {},
   "outputs": [],
   "source": [
    "both[['school', 'sex', 'age', 'address', 'famsize', 'Pstatus', 'Medu']]"
   ]
  },
  {
   "cell_type": "code",
   "execution_count": null,
   "metadata": {},
   "outputs": [],
   "source": [
    "both[['famrel', 'freetime', 'goout', 'Dalc', 'Walc', 'health',]].head()"
   ]
  },
  {
   "cell_type": "code",
   "execution_count": null,
   "metadata": {},
   "outputs": [],
   "source": [
    "print(both.Fjob.unique())\n",
    "print(both.Mjob.unique())"
   ]
  },
  {
   "cell_type": "code",
   "execution_count": null,
   "metadata": {},
   "outputs": [],
   "source": [
    "# Modifico le variabili binarie in 0-1 \n",
    "both['sex'] = both['sex'].map({'F': 0, 'M': 1})\n",
    "both['school'] = both['school'].map({'GP': 0, 'MS': 1})\n",
    "both['address'] = both['address'].map({'U': 0, 'R': 1})\n",
    "both['Pstatus'] = both['Pstatus'].map({'A': 0, 'T': 1})\n",
    "both['guardian'] = both['guardian'].map({'mother': 0, 'father': 1, 'other': 2})\n",
    "both['schoolsup'] = both['schoolsup'].map({'no': 0, 'yes': 1})\n",
    "both['famsup'] = both['famsup'].map({'no': 0, 'yes': 1})\n",
    "both['paid'] = both['paid'].map({'no': 0, 'yes': 1})\n",
    "both['activities'] = both['activities'].map({'no': 0, 'yes': 1})\n",
    "both['nursery'] = both['nursery'].map({'no': 0, 'yes': 1})\n",
    "both['higher'] = both['higher'].map({'no': 0, 'yes': 1})\n",
    "both['internet'] = both['internet'].map({'no': 0, 'yes': 1})\n",
    "both['romantic'] = both['romantic'].map({'no': 0, 'yes': 1})\n"
   ]
  },
  {
   "cell_type": "code",
   "execution_count": null,
   "metadata": {},
   "outputs": [],
   "source": [
    "both.info()"
   ]
  },
  {
   "cell_type": "markdown",
   "metadata": {},
   "source": [
    "<h1 id=\"eda\">EDA</h1>\n",
    "\n",
    "<b>SCALETTA: TO DELETE</b>\n",
    "Analisi esplorativa volta ad avere un focus sulle seguenti macroaree:\n",
    "<ul>\n",
    "    <li>Analisi Generale</li>\n",
    "    <li>Relazioni con la famiglia</li>\n",
    "    <li>Relazioni con la scuola</li>\n",
    "    <li>Gestione del tempo</li>\n",
    "</ul>\n",
    "<b>END TO DELETE</b>"
   ]
  },
  {
   "cell_type": "markdown",
   "metadata": {},
   "source": [
    "Dopo una prima Analisi del dataset e data la moltitudine di dati forniti da esso, è stato deciso di scomporre il problema in sottocategorie, che potessero, per quanto possibile, cercare di capire quale possa essere il rapporto degli adolescenti con l'alcol e soprattutto cercare di capire se i casi più critici possano essere ricondotti a una medesima causa."
   ]
  },
  {
   "cell_type": "markdown",
   "metadata": {},
   "source": [
    "\n",
    "Le macroaree individuate essere d'interesse sono:\n",
    "\n",
    "<ul>\n",
    "<li><b>Analisi generale</b>: finalizzata a dare una panoramica generale </li>\n",
    "<li><b>Rapporto con la famiglia</b>: volta a individuare le criticità che possono esserci in ambito familiare</li>\n",
    "<li><b>Rapporto con le istituzioni scolastiche</b>: volta a individuare le criticità che possono esserci in ambito scolastico</li>\n",
    "<li><b>Impiego del tempo</b>:</li>\n",
    "</ul>"
   ]
  },
  {
   "cell_type": "code",
   "execution_count": null,
   "metadata": {},
   "outputs": [],
   "source": [
    "dot = Digraph(comment='Diagramma a Blocchi')\n",
    "dot.attr(splines='ortho', nodesep='0.2')"
   ]
  },
  {
   "cell_type": "code",
   "execution_count": null,
   "metadata": {},
   "outputs": [],
   "source": [
    "dot.node('A', 'Consumo di alcol [15-22]', shape='box', style='filled', color='lightgrey')\n",
    "\n",
    "dot.node('B', 'Panoramica \\ngenerale', shape='box', style='filled', color='lightblue')\n",
    "dot.node('C', 'Relazioni \\nfamiliari', shape='box', style='filled', color='lightblue')\n",
    "dot.node('D', 'Relazioni \\nscolastiche', shape='box', style='filled', color='lightblue')\n",
    "dot.node('E', 'Gestione \\ntempo', shape='box', style='filled', color='lightblue')"
   ]
  },
  {
   "cell_type": "code",
   "execution_count": null,
   "metadata": {},
   "outputs": [],
   "source": [
    "dot.edge('A', 'B')\n",
    "dot.edge('A', 'C')\n",
    "dot.edge('A', 'D')\n",
    "dot.edge('A', 'E')"
   ]
  },
  {
   "cell_type": "code",
   "execution_count": null,
   "metadata": {},
   "outputs": [],
   "source": [
    "display(dot)"
   ]
  },
  {
   "cell_type": "code",
   "execution_count": null,
   "metadata": {},
   "outputs": [],
   "source": [
    "# Identificazione delle righe duplicate\n",
    "duplicate_rows = total[total.duplicated()]\n",
    "\n",
    "# Numero di righe duplicate\n",
    "num_duplicates = duplicate_rows.shape[0]"
   ]
  },
  {
   "cell_type": "code",
   "execution_count": null,
   "metadata": {},
   "outputs": [],
   "source": [
    "total[total.duplicated()]"
   ]
  },
  {
   "cell_type": "markdown",
   "metadata": {},
   "source": [
    "<h2 id=\"general\">Panoramica Generale</h2>"
   ]
  },
  {
   "cell_type": "markdown",
   "metadata": {},
   "source": [
    "<h2 id=\"family_rel\">Relazioni con la famiglia</h2>"
   ]
  },
  {
   "cell_type": "markdown",
   "metadata": {},
   "source": [
    "<h2 id=\"#school_rel\">Relazioni con le istituzioni educative</h2>"
   ]
  },
  {
   "cell_type": "markdown",
   "metadata": {},
   "source": [
    "<h2 id=\"time_mng\">Gestione del tempo</h2>"
   ]
  },
  {
   "cell_type": "markdown",
   "metadata": {},
   "source": [
    "<h2 id=\"conclusions\">Conclusioni</h2>"
   ]
  },
  {
   "cell_type": "markdown",
   "metadata": {},
   "source": [
    "<h1 id=\"pred_ana\">Data Prediction</h1>"
   ]
  },
  {
   "cell_type": "markdown",
   "metadata": {},
   "source": [
    "<h2 id=\"random_forest\">Random Forest</h2>"
   ]
  },
  {
   "cell_type": "markdown",
   "metadata": {},
   "source": [
    "<h2 id=\"SVR\">Support Vector Regression</h2>"
   ]
  },
  {
   "cell_type": "markdown",
   "metadata": {},
   "source": [
    "<h2 id=\"log_reg\">Logistic Regression</h2>"
   ]
  },
  {
   "cell_type": "markdown",
   "metadata": {},
   "source": [
    "<h2 id=\"KNN\">KNN</h2>"
   ]
  },
  {
   "cell_type": "markdown",
   "metadata": {},
   "source": [
    "<h2 id=\"comparison\">Confronto</h2>"
   ]
  },
  {
   "cell_type": "code",
   "execution_count": null,
   "metadata": {},
   "outputs": [],
   "source": []
  },
  {
   "cell_type": "code",
   "execution_count": null,
   "metadata": {},
   "outputs": [],
   "source": []
  },
  {
   "cell_type": "code",
   "execution_count": null,
   "metadata": {},
   "outputs": [],
   "source": []
  },
  {
   "cell_type": "code",
   "execution_count": null,
   "metadata": {},
   "outputs": [],
   "source": []
  },
  {
   "cell_type": "code",
   "execution_count": null,
   "metadata": {},
   "outputs": [],
   "source": []
  },
  {
   "cell_type": "code",
   "execution_count": null,
   "metadata": {},
   "outputs": [],
   "source": [
    "dalc_counts = total['Dalc'].value_counts().sort_index()\n",
    "walc_counts = total['Walc'].value_counts().sort_index()"
   ]
  },
  {
   "cell_type": "code",
   "execution_count": null,
   "metadata": {},
   "outputs": [],
   "source": [
    "# Creazione del grafico a righe per Dalc\n",
    "plt.figure(figsize=(10, 5))\n",
    "plt.plot(dalc_counts.index, dalc_counts.values, marker='o', linestyle='-', label='Dalc')\n",
    "plt.plot(walc_counts.index, walc_counts.values, marker='o', linestyle='-', label='Walc')\n",
    "plt.title('Conteggio dei valori di Dalc e Walc')\n",
    "plt.xlabel('Valori di Dalc e Walc')\n",
    "plt.ylabel('Conteggio')\n",
    "plt.xticks([1, 2, 3, 4, 5])\n",
    "plt.legend()\n",
    "plt.grid(False)\n",
    "plt.show()"
   ]
  },
  {
   "cell_type": "code",
   "execution_count": null,
   "metadata": {},
   "outputs": [],
   "source": [
    "# Contare la frequenza dei valori univoci di Dalc\n",
    "dalc_counts = total['Dalc'].value_counts().sort_index().reset_index()\n",
    "dalc_counts.columns = ['Value', 'Count']\n",
    "dalc_counts['Type'] = ('workday - Dalc')"
   ]
  },
  {
   "cell_type": "code",
   "execution_count": null,
   "metadata": {},
   "outputs": [],
   "source": [
    "# Contare la frequenza dei valori univoci di Walc\n",
    "walc_counts = total['Walc'].value_counts().sort_index().reset_index()\n",
    "walc_counts.columns = ['Value', 'Count']\n",
    "walc_counts['Type'] = 'weekend - Walc'"
   ]
  },
  {
   "cell_type": "code",
   "execution_count": null,
   "metadata": {},
   "outputs": [],
   "source": [
    "combined_counts = pd.concat([dalc_counts, walc_counts])"
   ]
  },
  {
   "cell_type": "code",
   "execution_count": null,
   "metadata": {
    "slideshow": {
     "slide_type": "slide"
    }
   },
   "outputs": [],
   "source": [
    "# Creare il grafico interattivo con Plotly\n",
    "fig = px.line(combined_counts, x='Value', y='Count', color='Type', markers=True,\n",
    "              labels={'Value': 'Valori di Dalc e Walc', 'Count': 'Conteggio'},\n",
    "              title='Numero studenti per consumo di alcol (1-low 5-high), \\ndurante la settimana (Dalc) e nel weekend(Walc)')\n",
    "\n",
    "# Aggiungere hover data per visualizzare il conteggio totale\n",
    "fig.update_traces(mode='markers+lines', hovertemplate='%{y}')\n",
    "\n",
    "# Mostrare il grafico\n",
    "fig.show()"
   ]
  },
  {
   "cell_type": "code",
   "execution_count": null,
   "metadata": {},
   "outputs": [],
   "source": []
  },
  {
   "cell_type": "code",
   "execution_count": null,
   "metadata": {},
   "outputs": [],
   "source": []
  },
  {
   "cell_type": "code",
   "execution_count": null,
   "metadata": {},
   "outputs": [],
   "source": [
    "# Creare la figura\n",
    "fig = go.Figure()\n",
    "\n",
    "# Aggiungere le barre per Dalc\n",
    "fig.add_trace(go.Bar(\n",
    "    y=dalc_counts.index,\n",
    "    x=dalc_counts.values,\n",
    "    name='Dalc',\n",
    "    orientation='h',\n",
    "    marker=dict(color='blue')\n",
    "))\n",
    "\n",
    "# Aggiungere le barre per Walc\n",
    "fig.add_trace(go.Bar(\n",
    "    y=walc_counts.index,\n",
    "    x=walc_counts.values,\n",
    "    name='Walc',\n",
    "    orientation='h',\n",
    "    marker=dict(color='orange')\n",
    "))\n",
    "\n",
    "# Aggiornare il layout per le barre parallele\n",
    "fig.update_layout(\n",
    "    barmode='group',\n",
    "    title='Conteggio dei valori di Dalc e Walc',\n",
    "    xaxis_title='Conteggio',\n",
    "    yaxis_title='Valori di Dalc e Walc',\n",
    "    legend_title_text='Tipo di Consumo',\n",
    "    legend=dict(\n",
    "        x=0.01,  # posizione orizzontale della legenda\n",
    "        y=0.99,  # posizione verticale della legenda\n",
    "        traceorder='normal',\n",
    "        font=dict(\n",
    "            family='Arial',\n",
    "            size=12,\n",
    "            color='black'\n",
    "        ),\n",
    "        bgcolor='LightSteelBlue',\n",
    "        bordercolor='Black',\n",
    "        borderwidth=2\n",
    "    )\n",
    ")\n",
    "\n",
    "# Aggiungere hover data per visualizzare il conteggio totale\n",
    "fig.update_traces(hovertemplate='Conteggio: %{x}')\n",
    "\n",
    "# Mostrare il grafico\n",
    "fig.show()"
   ]
  },
  {
   "cell_type": "code",
   "execution_count": null,
   "metadata": {},
   "outputs": [],
   "source": [
    "\n",
    "\n",
    "# Calcolare la media di Dalc per ciascuna fascia d'età\n",
    "age_dalc_mean = total.groupby('age')['Dalc'].mean().reset_index()\n",
    "\n",
    "# Creare il grafico a barre\n",
    "fig = px.bar(age_dalc_mean, x='age', y='Dalc', \n",
    "             labels={'age': 'Età', 'Dalc': 'Consumo medio di alcol nei giorni lavorativi'},\n",
    "             title='Consumo medio di alcol nei giorni lavorativi per fascia d\\'età')\n",
    "\n",
    "# Aggiungere hover data per visualizzare il consumo medio di alcol\n",
    "fig.update_traces(hovertemplate='Età: %{x}<br>Consumo medio: %{y}')\n",
    "\n",
    "# Personalizzare il layout\n",
    "fig.update_layout(\n",
    "    xaxis=dict(tickmode='linear'),\n",
    "    yaxis=dict(range=[0, 5]),  # Imposta il range dell'asse y da 0 a 5\n",
    "    bargap=0.2,  # Spazio tra le barre\n",
    "    plot_bgcolor='rgba(0,0,0,0)',  # Sfondo trasparente\n",
    "    title_x=0.5,  # Centra il titolo\n",
    ")\n",
    "\n",
    "# Mostrare il grafico\n",
    "fig.show()\n"
   ]
  },
  {
   "cell_type": "code",
   "execution_count": null,
   "metadata": {},
   "outputs": [],
   "source": []
  },
  {
   "cell_type": "markdown",
   "metadata": {},
   "source": [
    "# Machine Learning"
   ]
  },
  {
   "cell_type": "markdown",
   "metadata": {},
   "source": [
    "[fonte_1](https://www.kaggle.com/code/akerineth/notebook762a532494)"
   ]
  }
 ],
 "metadata": {
  "kernelspec": {
   "display_name": "s2i",
   "language": "python",
   "name": "python3"
  },
  "language_info": {
   "codemirror_mode": {
    "name": "ipython",
    "version": 3
   },
   "file_extension": ".py",
   "mimetype": "text/x-python",
   "name": "python",
   "nbconvert_exporter": "python",
   "pygments_lexer": "ipython3",
   "version": "3.9.18"
  }
 },
 "nbformat": 4,
 "nbformat_minor": 2
}
