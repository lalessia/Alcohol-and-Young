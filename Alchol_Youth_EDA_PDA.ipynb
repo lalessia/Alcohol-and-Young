{
 "cells": [
  {
   "cell_type": "markdown",
   "metadata": {},
   "source": [
    "1. [Introduzione](#introduction)\n",
    "\n",
    "2. [Data Cleaning & Data Manipulation](#data_clean_man)\n",
    "\n",
    "3. [EDA](#eda) \n",
    "\n",
    "    - [Analisi generali](#general)\n",
    "    - [Relazioni con la famiglia](#family_rel)\n",
    "    - [Relazioni con le istituzioni educative](#school_rel)\n",
    "    - [Gestione del tempo](#time_mng)\n",
    "    - [Conclusioni](#conclusions)\n",
    "\n",
    "4. [Analisi Predittiva](#pred_ana)\n",
    "\n",
    "    - [Random Forest (obbl)](#random_forest)\n",
    "    - [Support Vector Regression (obbl)](#SVR)\n",
    "    - [Logistic Regression (opz.)](#log_reg)\n",
    "    - [KNN (opz.)](#KNN)\n",
    "    - [Confronto](#comparison)\n",
    "\n",
    "\n",
    "[Help](https://www.kaggle.com/code/akerineth/notebook762a532494)"
   ]
  },
  {
   "cell_type": "code",
   "execution_count": 1,
   "metadata": {},
   "outputs": [],
   "source": [
    "#import library \n",
    "\n",
    "#! pip install graphviz\n",
    "\n",
    "import pandas as pd\n",
    "import numpy as np\n",
    "\n",
    "from io import StringIO\n",
    "\n",
    "import seaborn as sns\n",
    "import matplotlib.pyplot as plt\n",
    "import plotly.express as px\n",
    "import plotly.graph_objects as go\n",
    "\n",
    "from graphviz import Digraph\n",
    "from IPython.display import display\n",
    "\n",
    "from sklearn.preprocessing import LabelEncoder, OneHotEncoder"
   ]
  },
  {
   "cell_type": "markdown",
   "metadata": {},
   "source": [
    "<h1 id=\"introduction\"> Introduzione </h1>\n",
    "\n",
    "<b>SCALETTA: TO DELETE</b>\n",
    "Visualizzazione dei dati tramite shape, info, description\n",
    "\n",
    "Analisi descrittiva su:\n",
    "\n",
    "<ul>\n",
    "    <li>Cosa sto analizzando?</li>\n",
    "    <li>Come posso scomporre il problema?</li>\n",
    "    <li>Cosa mi aspetto di trovare? Da ogni sotto problema?</li>\n",
    "</ul>\n",
    "\n",
    "<b>END TO DELETE</b>"
   ]
  },
  {
   "cell_type": "code",
   "execution_count": 2,
   "metadata": {},
   "outputs": [],
   "source": [
    "mat = pd.read_csv('dataset/dataset/student-mat.csv')\n",
    "por = pd.read_csv('dataset/dataset/student-por.csv')"
   ]
  },
  {
   "cell_type": "markdown",
   "metadata": {},
   "source": [
    "Questo progetto si articola in 2 parti:\n",
    "<ul>\n",
    "<li>una prima parte è volta ad analizzare il consumo di alcolici nei giovani, prendendo ad esame un <a href=\"https://www.kaggle.com/datasets/uciml/student-alcohol-consumption\">dataset</a> di studenti della scuola secondaria (15-22 anni), cercando di capire se e quali possono essere le sottoaree su cui intervenire.</li>\n",
    "<li>successivamente, si procederà, usando lo stesso dataset, ad un'analisi predittiva sul voto finale di uno studente, utilizzando differenti algoritmi di ML e mettendoli a confronto.</li>\n",
    "</ul>"
   ]
  },
  {
   "cell_type": "markdown",
   "metadata": {},
   "source": [
    "### Dataset Analysis"
   ]
  },
  {
   "cell_type": "markdown",
   "metadata": {},
   "source": [
    "\n",
    "Il dataset selezionato, ha messo a disposizione le seguenti colonne:"
   ]
  },
  {
   "cell_type": "code",
   "execution_count": 3,
   "metadata": {},
   "outputs": [
    {
     "data": {
      "text/plain": [
       "array(['school', 'sex', 'age', 'address', 'famsize', 'Pstatus', 'Medu',\n",
       "       'Fedu', 'Mjob', 'Fjob', 'reason', 'guardian', 'traveltime',\n",
       "       'studytime', 'failures', 'schoolsup', 'famsup', 'paid',\n",
       "       'activities', 'nursery', 'higher', 'internet', 'romantic',\n",
       "       'famrel', 'freetime', 'goout', 'Dalc', 'Walc', 'health',\n",
       "       'absences', 'G1', 'G2', 'G3'], dtype=object)"
      ]
     },
     "execution_count": 3,
     "metadata": {},
     "output_type": "execute_result"
    }
   ],
   "source": [
    "mat.columns.values"
   ]
  },
  {
   "cell_type": "markdown",
   "metadata": {},
   "source": [
    "Dove: \n",
    "<ul>\n",
    "<li><b>school</b>:  student's school (binary: 'GP' - Gabriel Pereira or 'MS' - Mousinho da Silveira)</li>\n",
    "<li><b>sex</b>: student's sex (binary: 'F' - female or 'M' - male)</li>\n",
    "<li><b>age</b>: student's age (numeric: from 15 to 22)</li>\n",
    "<li><b>address</b>: student's home address type (binary: 'U' - urban or 'R' - rural)</li>\n",
    "<li><b>famsize</b>: family size (binary: 'LE3' - less or equal to 3 or 'GT3' - greater than 3)</li>\n",
    "<li><b>Pstatus</b>: parent's cohabitation status (binary: 'T' - living together or 'A' - apart)</li>\n",
    "<li><b>Medu</b>: mother's education (numeric: 0 - none, 1 - primary education (4th grade), 2 – 5th to 9th grade, 3 – secondary education or 4 – higher education)</li>\n",
    "<li><b>Fedu</b>: Fedu - father's education (numeric: 0 - none, 1 - primary education (4th grade), 2 – 5th to 9th grade, 3 – secondary education or 4 – higher education)</li>\n",
    "<li><b>Mjob</b>: Mjob - mother's job (nominal: 'teacher', 'health' care related, civil 'services' (e.g. administrative or police), 'at_home' or 'other')</li>\n",
    "<li><b>Fjob</b>: Fjob - father's job (nominal: 'teacher', 'health' care related, civil 'services' (e.g. administrative or police), 'at_home' or 'other')</li>\n",
    "<li><b>reason</b>: reason - reason to choose this school (nominal: close to 'home', school 'reputation', 'course' preference or 'other')</li>\n",
    "<li><b>guardian</b>: guardian - student's guardian (nominal: 'mother', 'father' or 'other')</li>\n",
    "<li><b>traveltime</b>: traveltime - home to school travel time (numeric: 1 - <15 min., 2 - 15 to 30 min., 3 - 30 min. to 1 hour, or 4 - >1 hour)</li>\n",
    "<li><b>studytime</b>: studytime - weekly study time (numeric: 1 - <2 hours, 2 - 2 to 5 hours, 3 - 5 to 10 hours, or 4 - >10 hours)</li>\n",
    "<li><b>failures</b>: number of past class failures (numeric: n if 1<=n<3, else 4)</li>\n",
    "<li><b>schoolsup</b>: extra educational support (binary: yes or no)</li>\n",
    "<li><b>famsup</b>: family educational support (binary: yes or no)</li>\n",
    "<li><b>paid</b>: extra paid classes within the course subject (Math or Portuguese) (binary: yes or no)</li>\n",
    "<li><b>activities</b>: extra-curricular activities (binary: yes or no)</li>\n",
    "<li><b>nursery</b>: attended nursery school (binary: yes or no)</li>\n",
    "<li><b>higher</b>: wants to take higher education (binary: yes or no)</li>\n",
    "<li><b>internet</b>: Internet access at home (binary: yes or no)</li>\n",
    "<li><b>romantic</b>: with a romantic relationship (binary: yes or no)</li>\n",
    "<li><b>famrel</b>: quality of family relationships (numeric: from 1 - very bad to 5 - excellent)</li>\n",
    "<li><b>freetime</b>: free time after school (numeric: from 1 - very low to 5 - very high)</li>\n",
    "<li><b>goout</b>: going out with friends (numeric: from 1 - very low to 5 - very high)</li>\n",
    "<li><b>Dalc</b>: workday alcohol consumption (numeric: from 1 - very low to 5 - very high)</li>\n",
    "<li><b>Walc</b>: weekend alcohol consumption (numeric: from 1 - very low to 5 - very high)</li>\n",
    "<li><b>health</b>: current health status (numeric: from 1 - very bad to 5 - very good)</li>\n",
    "<li><b>absences</b>: number of school absences (numeric: from 0 to 93)</li>\n",
    "\n",
    "<li><b>G1</b>: first period grade (numeric: from 0 to 20)</li>\n",
    "<li><b>G2</b>: second period grade (numeric: from 0 to 20)</li>\n",
    "<li><b>G3</b>: final grade (numeric: from 0 to 20, output target)</li>\n",
    "\n",
    "</ul>"
   ]
  },
  {
   "cell_type": "markdown",
   "metadata": {},
   "source": [
    "<h1 id=\"data_clean_man\"> Data Cleaning & Manipulation </h1>"
   ]
  },
  {
   "cell_type": "code",
   "execution_count": 4,
   "metadata": {},
   "outputs": [
    {
     "name": "stdout",
     "output_type": "stream",
     "text": [
      "por.shape:  (649, 33)\n",
      "mat.shape:  (395, 33)\n"
     ]
    }
   ],
   "source": [
    "#Join Dataset Analysis\n",
    "\n",
    "print('por.shape: ', por.shape)\n",
    "print('mat.shape: ', mat.shape)"
   ]
  },
  {
   "cell_type": "code",
   "execution_count": 5,
   "metadata": {},
   "outputs": [
    {
     "name": "stdout",
     "output_type": "stream",
     "text": [
      "<class 'pandas.core.frame.DataFrame'>\n",
      "RangeIndex: 649 entries, 0 to 648\n",
      "Data columns (total 33 columns):\n",
      " #   Column      Non-Null Count  Dtype \n",
      "---  ------      --------------  ----- \n",
      " 0   school      649 non-null    object\n",
      " 1   sex         649 non-null    object\n",
      " 2   age         649 non-null    int64 \n",
      " 3   address     649 non-null    object\n",
      " 4   famsize     649 non-null    object\n",
      " 5   Pstatus     649 non-null    object\n",
      " 6   Medu        649 non-null    int64 \n",
      " 7   Fedu        649 non-null    int64 \n",
      " 8   Mjob        649 non-null    object\n",
      " 9   Fjob        649 non-null    object\n",
      " 10  reason      649 non-null    object\n",
      " 11  guardian    649 non-null    object\n",
      " 12  traveltime  649 non-null    int64 \n",
      " 13  studytime   649 non-null    int64 \n",
      " 14  failures    649 non-null    int64 \n",
      " 15  schoolsup   649 non-null    object\n",
      " 16  famsup      649 non-null    object\n",
      " 17  paid        649 non-null    object\n",
      " 18  activities  649 non-null    object\n",
      " 19  nursery     649 non-null    object\n",
      " 20  higher      649 non-null    object\n",
      " 21  internet    649 non-null    object\n",
      " 22  romantic    649 non-null    object\n",
      " 23  famrel      649 non-null    int64 \n",
      " 24  freetime    649 non-null    int64 \n",
      " 25  goout       649 non-null    int64 \n",
      " 26  Dalc        649 non-null    int64 \n",
      " 27  Walc        649 non-null    int64 \n",
      " 28  health      649 non-null    int64 \n",
      " 29  absences    649 non-null    int64 \n",
      " 30  G1          649 non-null    int64 \n",
      " 31  G2          649 non-null    int64 \n",
      " 32  G3          649 non-null    int64 \n",
      "dtypes: int64(16), object(17)\n",
      "memory usage: 167.4+ KB\n"
     ]
    }
   ],
   "source": [
    "por.info()"
   ]
  },
  {
   "cell_type": "code",
   "execution_count": 6,
   "metadata": {},
   "outputs": [
    {
     "name": "stdout",
     "output_type": "stream",
     "text": [
      "<class 'pandas.core.frame.DataFrame'>\n",
      "RangeIndex: 395 entries, 0 to 394\n",
      "Data columns (total 33 columns):\n",
      " #   Column      Non-Null Count  Dtype \n",
      "---  ------      --------------  ----- \n",
      " 0   school      395 non-null    object\n",
      " 1   sex         395 non-null    object\n",
      " 2   age         395 non-null    int64 \n",
      " 3   address     395 non-null    object\n",
      " 4   famsize     395 non-null    object\n",
      " 5   Pstatus     395 non-null    object\n",
      " 6   Medu        395 non-null    int64 \n",
      " 7   Fedu        395 non-null    int64 \n",
      " 8   Mjob        395 non-null    object\n",
      " 9   Fjob        395 non-null    object\n",
      " 10  reason      395 non-null    object\n",
      " 11  guardian    395 non-null    object\n",
      " 12  traveltime  395 non-null    int64 \n",
      " 13  studytime   395 non-null    int64 \n",
      " 14  failures    395 non-null    int64 \n",
      " 15  schoolsup   395 non-null    object\n",
      " 16  famsup      395 non-null    object\n",
      " 17  paid        395 non-null    object\n",
      " 18  activities  395 non-null    object\n",
      " 19  nursery     395 non-null    object\n",
      " 20  higher      395 non-null    object\n",
      " 21  internet    395 non-null    object\n",
      " 22  romantic    395 non-null    object\n",
      " 23  famrel      395 non-null    int64 \n",
      " 24  freetime    395 non-null    int64 \n",
      " 25  goout       395 non-null    int64 \n",
      " 26  Dalc        395 non-null    int64 \n",
      " 27  Walc        395 non-null    int64 \n",
      " 28  health      395 non-null    int64 \n",
      " 29  absences    395 non-null    int64 \n",
      " 30  G1          395 non-null    int64 \n",
      " 31  G2          395 non-null    int64 \n",
      " 32  G3          395 non-null    int64 \n",
      "dtypes: int64(16), object(17)\n",
      "memory usage: 102.0+ KB\n"
     ]
    }
   ],
   "source": [
    "mat.info()"
   ]
  },
  {
   "cell_type": "code",
   "execution_count": 7,
   "metadata": {},
   "outputs": [
    {
     "name": "stdout",
     "output_type": "stream",
     "text": [
      "Numero di righe duplicate per dataset\n",
      "Por:  0\n",
      "Mat 0\n"
     ]
    }
   ],
   "source": [
    "print('Numero di righe duplicate per dataset')\n",
    "print('Por: ', len(por[por.duplicated()]))\n",
    "print('Mat', len(mat[mat.duplicated()]))"
   ]
  },
  {
   "cell_type": "code",
   "execution_count": 8,
   "metadata": {},
   "outputs": [],
   "source": [
    "mat['course'] = 'MT'\n",
    "por['course'] = 'PR'\n",
    "full_df = pd.concat([por, mat])\n",
    "\n",
    "full_df = full_df.reset_index(drop=True)"
   ]
  },
  {
   "cell_type": "code",
   "execution_count": 9,
   "metadata": {},
   "outputs": [
    {
     "data": {
      "text/html": [
       "<div>\n",
       "<style scoped>\n",
       "    .dataframe tbody tr th:only-of-type {\n",
       "        vertical-align: middle;\n",
       "    }\n",
       "\n",
       "    .dataframe tbody tr th {\n",
       "        vertical-align: top;\n",
       "    }\n",
       "\n",
       "    .dataframe thead th {\n",
       "        text-align: right;\n",
       "    }\n",
       "</style>\n",
       "<table border=\"1\" class=\"dataframe\">\n",
       "  <thead>\n",
       "    <tr style=\"text-align: right;\">\n",
       "      <th></th>\n",
       "      <th>school</th>\n",
       "      <th>sex</th>\n",
       "      <th>age</th>\n",
       "      <th>address</th>\n",
       "      <th>famsize</th>\n",
       "      <th>Pstatus</th>\n",
       "      <th>Medu</th>\n",
       "      <th>Fedu</th>\n",
       "      <th>Mjob</th>\n",
       "      <th>Fjob</th>\n",
       "      <th>...</th>\n",
       "      <th>freetime</th>\n",
       "      <th>goout</th>\n",
       "      <th>Dalc</th>\n",
       "      <th>Walc</th>\n",
       "      <th>health</th>\n",
       "      <th>absences</th>\n",
       "      <th>G1</th>\n",
       "      <th>G2</th>\n",
       "      <th>G3</th>\n",
       "      <th>course</th>\n",
       "    </tr>\n",
       "  </thead>\n",
       "  <tbody>\n",
       "  </tbody>\n",
       "</table>\n",
       "<p>0 rows × 34 columns</p>\n",
       "</div>"
      ],
      "text/plain": [
       "Empty DataFrame\n",
       "Columns: [school, sex, age, address, famsize, Pstatus, Medu, Fedu, Mjob, Fjob, reason, guardian, traveltime, studytime, failures, schoolsup, famsup, paid, activities, nursery, higher, internet, romantic, famrel, freetime, goout, Dalc, Walc, health, absences, G1, G2, G3, course]\n",
       "Index: []\n",
       "\n",
       "[0 rows x 34 columns]"
      ]
     },
     "execution_count": 9,
     "metadata": {},
     "output_type": "execute_result"
    }
   ],
   "source": [
    "#controllo che anche dopo l'unione, non ci siano righe duplicate, escludendo la colonna course dalla ricerca\n",
    "full_df[full_df.duplicated(subset=full_df.columns.difference(['course']))]"
   ]
  },
  {
   "cell_type": "code",
   "execution_count": 10,
   "metadata": {},
   "outputs": [],
   "source": [
    "# Ove possibile, vengono trasformate le variabili non numeriche in variabili numeriche"
   ]
  },
  {
   "cell_type": "code",
   "execution_count": 11,
   "metadata": {},
   "outputs": [],
   "source": [
    "full_df_original = full_df.copy()"
   ]
  },
  {
   "cell_type": "code",
   "execution_count": 12,
   "metadata": {},
   "outputs": [
    {
     "name": "stdout",
     "output_type": "stream",
     "text": [
      "<class 'pandas.core.frame.DataFrame'>\n",
      "RangeIndex: 1044 entries, 0 to 1043\n",
      "Data columns (total 34 columns):\n",
      " #   Column      Non-Null Count  Dtype \n",
      "---  ------      --------------  ----- \n",
      " 0   school      1044 non-null   object\n",
      " 1   sex         1044 non-null   object\n",
      " 2   age         1044 non-null   int64 \n",
      " 3   address     1044 non-null   object\n",
      " 4   famsize     1044 non-null   object\n",
      " 5   Pstatus     1044 non-null   object\n",
      " 6   Medu        1044 non-null   int64 \n",
      " 7   Fedu        1044 non-null   int64 \n",
      " 8   Mjob        1044 non-null   object\n",
      " 9   Fjob        1044 non-null   object\n",
      " 10  reason      1044 non-null   object\n",
      " 11  guardian    1044 non-null   object\n",
      " 12  traveltime  1044 non-null   int64 \n",
      " 13  studytime   1044 non-null   int64 \n",
      " 14  failures    1044 non-null   int64 \n",
      " 15  schoolsup   1044 non-null   object\n",
      " 16  famsup      1044 non-null   object\n",
      " 17  paid        1044 non-null   object\n",
      " 18  activities  1044 non-null   object\n",
      " 19  nursery     1044 non-null   object\n",
      " 20  higher      1044 non-null   object\n",
      " 21  internet    1044 non-null   object\n",
      " 22  romantic    1044 non-null   object\n",
      " 23  famrel      1044 non-null   int64 \n",
      " 24  freetime    1044 non-null   int64 \n",
      " 25  goout       1044 non-null   int64 \n",
      " 26  Dalc        1044 non-null   int64 \n",
      " 27  Walc        1044 non-null   int64 \n",
      " 28  health      1044 non-null   int64 \n",
      " 29  absences    1044 non-null   int64 \n",
      " 30  G1          1044 non-null   int64 \n",
      " 31  G2          1044 non-null   int64 \n",
      " 32  G3          1044 non-null   int64 \n",
      " 33  course      1044 non-null   object\n",
      "dtypes: int64(16), object(18)\n",
      "memory usage: 277.4+ KB\n"
     ]
    }
   ],
   "source": [
    "full_df.info()"
   ]
  },
  {
   "cell_type": "code",
   "execution_count": 13,
   "metadata": {},
   "outputs": [],
   "source": [
    "''' \n",
    "Leggo le variabili categoriche e le divido in binarie e non, \n",
    "in modo da poter successivamente effettuare una codifica con LabelEncoder nel primo caso e OneHotEncoder nel secondo caso\n",
    "'''\n",
    "\n",
    "categorical_columns = full_df.select_dtypes(exclude=['number']).columns\n",
    "\n",
    "categorical_binary_columns = []\n",
    "categorical_not_binary_columns = []\n",
    "\n",
    "\n",
    "for col in categorical_columns:\n",
    "        if full_df.nunique()[col] == 2:\n",
    "                categorical_binary_columns.append(col)\n",
    "        else:\n",
    "               categorical_not_binary_columns.append(col)\n"
   ]
  },
  {
   "cell_type": "code",
   "execution_count": 14,
   "metadata": {},
   "outputs": [],
   "source": [
    "label_encoders = {}\n",
    "onehot_encoders = {}\n",
    "mapping = {}  # Dizionario per il mapping di LabelEncoder"
   ]
  },
  {
   "cell_type": "code",
   "execution_count": 15,
   "metadata": {},
   "outputs": [],
   "source": [
    "# Codifica delle variabili non binarie con OneHotEncoder e aggiornamento del mapping\n",
    "for col in categorical_not_binary_columns:\n",
    "    # Configura OneHotEncoder per la colonna corrente\n",
    "    onehot_encoders[col] = OneHotEncoder(categories='auto', drop='if_binary')\n",
    "    \n",
    "    # Adatta OneHotEncoder alla colonna e trasforma i dati\n",
    "    encoded_values = onehot_encoders[col].fit_transform(full_df[[col]])\n",
    "    \n",
    "    # Converti i risultati in un DataFrame e concatena con full_df\n",
    "    encoded_df = pd.DataFrame(encoded_values.toarray(), columns=onehot_encoders[col].get_feature_names_out([col]))\n",
    "    full_df = pd.concat([full_df, encoded_df], axis=1)\n",
    "    \n",
    "    # Aggiorna il mapping\n",
    "    mapping[col] = {i: cat for i, cat in enumerate(onehot_encoders[col].categories_[0])}\n",
    "    \n",
    "    # Droppa la colonna originale dopo la codifica\n",
    "    full_df.drop(columns=[col], inplace=True)\n",
    "\n",
    "# Codifica delle variabili binarie con LabelEncoder e aggiornamento del mapping\n",
    "for col in categorical_binary_columns:\n",
    "    label_encoders[col] = LabelEncoder()\n",
    "    full_df[col] = label_encoders[col].fit_transform(full_df[col])\n",
    "    \n",
    "    # Aggiorna il mapping\n",
    "    mapping[col] = {i: cat for i, cat in enumerate(label_encoders[col].classes_)}\n"
   ]
  },
  {
   "cell_type": "code",
   "execution_count": 16,
   "metadata": {},
   "outputs": [
    {
     "data": {
      "text/plain": [
       "{'Mjob': {0: 'at_home', 1: 'health', 2: 'other', 3: 'services', 4: 'teacher'},\n",
       " 'Fjob': {0: 'at_home', 1: 'health', 2: 'other', 3: 'services', 4: 'teacher'},\n",
       " 'reason': {0: 'course', 1: 'home', 2: 'other', 3: 'reputation'},\n",
       " 'guardian': {0: 'father', 1: 'mother', 2: 'other'},\n",
       " 'school': {0: 'GP', 1: 'MS'},\n",
       " 'sex': {0: 'F', 1: 'M'},\n",
       " 'address': {0: 'R', 1: 'U'},\n",
       " 'famsize': {0: 'GT3', 1: 'LE3'},\n",
       " 'Pstatus': {0: 'A', 1: 'T'},\n",
       " 'schoolsup': {0: 'no', 1: 'yes'},\n",
       " 'famsup': {0: 'no', 1: 'yes'},\n",
       " 'paid': {0: 'no', 1: 'yes'},\n",
       " 'activities': {0: 'no', 1: 'yes'},\n",
       " 'nursery': {0: 'no', 1: 'yes'},\n",
       " 'higher': {0: 'no', 1: 'yes'},\n",
       " 'internet': {0: 'no', 1: 'yes'},\n",
       " 'romantic': {0: 'no', 1: 'yes'},\n",
       " 'course': {0: 'MT', 1: 'PR'}}"
      ]
     },
     "execution_count": 16,
     "metadata": {},
     "output_type": "execute_result"
    }
   ],
   "source": [
    "mapping"
   ]
  },
  {
   "cell_type": "code",
   "execution_count": 17,
   "metadata": {},
   "outputs": [
    {
     "name": "stdout",
     "output_type": "stream",
     "text": [
      "<class 'pandas.core.frame.DataFrame'>\n",
      "RangeIndex: 1044 entries, 0 to 1043\n",
      "Data columns (total 47 columns):\n",
      " #   Column             Non-Null Count  Dtype  \n",
      "---  ------             --------------  -----  \n",
      " 0   school             1044 non-null   int64  \n",
      " 1   sex                1044 non-null   int64  \n",
      " 2   age                1044 non-null   int64  \n",
      " 3   address            1044 non-null   int64  \n",
      " 4   famsize            1044 non-null   int64  \n",
      " 5   Pstatus            1044 non-null   int64  \n",
      " 6   Medu               1044 non-null   int64  \n",
      " 7   Fedu               1044 non-null   int64  \n",
      " 8   traveltime         1044 non-null   int64  \n",
      " 9   studytime          1044 non-null   int64  \n",
      " 10  failures           1044 non-null   int64  \n",
      " 11  schoolsup          1044 non-null   int64  \n",
      " 12  famsup             1044 non-null   int64  \n",
      " 13  paid               1044 non-null   int64  \n",
      " 14  activities         1044 non-null   int64  \n",
      " 15  nursery            1044 non-null   int64  \n",
      " 16  higher             1044 non-null   int64  \n",
      " 17  internet           1044 non-null   int64  \n",
      " 18  romantic           1044 non-null   int64  \n",
      " 19  famrel             1044 non-null   int64  \n",
      " 20  freetime           1044 non-null   int64  \n",
      " 21  goout              1044 non-null   int64  \n",
      " 22  Dalc               1044 non-null   int64  \n",
      " 23  Walc               1044 non-null   int64  \n",
      " 24  health             1044 non-null   int64  \n",
      " 25  absences           1044 non-null   int64  \n",
      " 26  G1                 1044 non-null   int64  \n",
      " 27  G2                 1044 non-null   int64  \n",
      " 28  G3                 1044 non-null   int64  \n",
      " 29  course             1044 non-null   int64  \n",
      " 30  Mjob_at_home       1044 non-null   float64\n",
      " 31  Mjob_health        1044 non-null   float64\n",
      " 32  Mjob_other         1044 non-null   float64\n",
      " 33  Mjob_services      1044 non-null   float64\n",
      " 34  Mjob_teacher       1044 non-null   float64\n",
      " 35  Fjob_at_home       1044 non-null   float64\n",
      " 36  Fjob_health        1044 non-null   float64\n",
      " 37  Fjob_other         1044 non-null   float64\n",
      " 38  Fjob_services      1044 non-null   float64\n",
      " 39  Fjob_teacher       1044 non-null   float64\n",
      " 40  reason_course      1044 non-null   float64\n",
      " 41  reason_home        1044 non-null   float64\n",
      " 42  reason_other       1044 non-null   float64\n",
      " 43  reason_reputation  1044 non-null   float64\n",
      " 44  guardian_father    1044 non-null   float64\n",
      " 45  guardian_mother    1044 non-null   float64\n",
      " 46  guardian_other     1044 non-null   float64\n",
      "dtypes: float64(17), int64(30)\n",
      "memory usage: 383.5 KB\n"
     ]
    }
   ],
   "source": [
    "full_df.info()"
   ]
  },
  {
   "cell_type": "code",
   "execution_count": null,
   "metadata": {},
   "outputs": [],
   "source": [
    "general = ['school', 'sex', 'age', 'health']\n",
    "family = ['famsize', 'Pstatus', 'Medu', 'Fedu', 'Mjob', 'Fjob', 'guardian', 'famsup', 'famrel']\n",
    "school = ['failures', 'schoolsup', 'paid', 'activities', 'nursery', 'higher', 'absences']\n",
    "time = ['traveltime', 'studytime', 'freetime', 'goout']"
   ]
  },
  {
   "cell_type": "markdown",
   "metadata": {},
   "source": [
    "<h1 id=\"eda\">EDA</h1>\n",
    "\n",
    "<b>SCALETTA: TO DELETE</b>\n",
    "Analisi esplorativa volta ad avere un focus sulle seguenti macroaree:\n",
    "<ul>\n",
    "    <li>Analisi Generale</li>\n",
    "    <li>Relazioni con la famiglia</li>\n",
    "    <li>Relazioni con la scuola</li>\n",
    "    <li>Gestione del tempo</li>\n",
    "</ul>\n",
    "<b>END TO DELETE</b>"
   ]
  },
  {
   "cell_type": "code",
   "execution_count": null,
   "metadata": {},
   "outputs": [],
   "source": [
    "# NB il parametro include='all' è stato inserito per scrupolo, \n",
    "# perché comunque il dataframe full_df è stato strutturato per avere al suo interno variabili numeriche\n",
    "full_df.describe(include='all').T"
   ]
  },
  {
   "cell_type": "markdown",
   "metadata": {},
   "source": [
    "Dopo una prima Analisi del dataset e data la moltitudine di dati forniti da esso, è stato deciso di scomporre il problema in sottocategorie, che potessero per quanto possibile, cercare di capire quale possa essere il rapporto degli adolescenti con l'alcol e soprattutto cercare di capire se i casi più critici possano essere ricondotti a una medesima causa."
   ]
  },
  {
   "cell_type": "markdown",
   "metadata": {},
   "source": [
    "\n",
    "Le macroaree individuate essere d'interesse sono:\n",
    "\n",
    "<ul>\n",
    "<li><b>Analisi generale</b>: finalizzata a dare una panoramica generale </li>\n",
    "<li><b>Ruolo della famiglia</b>: analisi volta a individuare le criticità che possono esserci in ambito familiare</li>\n",
    "<li><b>Rapporto con le autorità scolastiche</b>: volta a individuare le criticità che possono esserci in ambito scolastico</li>\n",
    "<li><b>Impiego del tempo</b>: analisi volta a mettere in luce la gestione del tempo da parte dei giovani</li>\n",
    "</ul>"
   ]
  },
  {
   "cell_type": "code",
   "execution_count": 18,
   "metadata": {},
   "outputs": [],
   "source": [
    "dot = Digraph(comment='Diagramma a Blocchi')\n",
    "dot.attr(splines='ortho', nodesep='0.2')"
   ]
  },
  {
   "cell_type": "code",
   "execution_count": 19,
   "metadata": {},
   "outputs": [],
   "source": [
    "dot.node('A', 'Consumo di alcol [15-22]', shape='box', style='filled', color='lightgrey')\n",
    "\n",
    "dot.node('B', 'Panoramica \\ngenerale', shape='box', style='filled', color='lightblue')\n",
    "dot.node('C', 'Relazioni \\nfamiliari', shape='box', style='filled', color='lightblue')\n",
    "dot.node('D', 'Relazioni \\nscolastiche', shape='box', style='filled', color='lightblue')\n",
    "dot.node('E', 'Gestione \\ntempo', shape='box', style='filled', color='lightblue')"
   ]
  },
  {
   "cell_type": "code",
   "execution_count": 20,
   "metadata": {},
   "outputs": [],
   "source": [
    "dot.edge('A', 'B')\n",
    "dot.edge('A', 'C')\n",
    "dot.edge('A', 'D')\n",
    "dot.edge('A', 'E')"
   ]
  },
  {
   "cell_type": "code",
   "execution_count": 21,
   "metadata": {},
   "outputs": [
    {
     "data": {
      "image/svg+xml": [
       "<?xml version=\"1.0\" encoding=\"UTF-8\" standalone=\"no\"?>\n",
       "<!DOCTYPE svg PUBLIC \"-//W3C//DTD SVG 1.1//EN\"\n",
       " \"http://www.w3.org/Graphics/SVG/1.1/DTD/svg11.dtd\">\n",
       "<!-- Generated by graphviz version 11.0.0 (20240428.1522)\n",
       " -->\n",
       "<!-- Pages: 1 -->\n",
       "<svg width=\"349pt\" height=\"121pt\"\n",
       " viewBox=\"0.00 0.00 349.00 121.00\" xmlns=\"http://www.w3.org/2000/svg\" xmlns:xlink=\"http://www.w3.org/1999/xlink\">\n",
       "<g id=\"graph0\" class=\"graph\" transform=\"scale(1 1) rotate(0) translate(4 117)\">\n",
       "<polygon fill=\"white\" stroke=\"none\" points=\"-4,4 -4,-117 345,-117 345,4 -4,4\"/>\n",
       "<!-- A -->\n",
       "<g id=\"node1\" class=\"node\">\n",
       "<title>A</title>\n",
       "<polygon fill=\"lightgrey\" stroke=\"lightgrey\" points=\"255.62,-113 98.62,-113 98.62,-77 255.62,-77 255.62,-113\"/>\n",
       "<text text-anchor=\"middle\" x=\"177.12\" y=\"-89.95\" font-family=\"Times,serif\" font-size=\"14.00\">Consumo di alcol [15&#45;22]</text>\n",
       "</g>\n",
       "<!-- B -->\n",
       "<g id=\"node2\" class=\"node\">\n",
       "<title>B</title>\n",
       "<polygon fill=\"lightblue\" stroke=\"lightblue\" points=\"84.25,-41 0,-41 0,0 84.25,0 84.25,-41\"/>\n",
       "<text text-anchor=\"middle\" x=\"42.12\" y=\"-23.7\" font-family=\"Times,serif\" font-size=\"14.00\">Panoramica </text>\n",
       "<text text-anchor=\"middle\" x=\"42.12\" y=\"-7.2\" font-family=\"Times,serif\" font-size=\"14.00\">generale</text>\n",
       "</g>\n",
       "<!-- A&#45;&gt;B -->\n",
       "<g id=\"edge1\" class=\"edge\">\n",
       "<title>A&#45;&gt;B</title>\n",
       "<path fill=\"none\" stroke=\"black\" d=\"M98.2,-95C68.66,-95 42.12,-95 42.12,-95 42.12,-95 42.12,-52.77 42.12,-52.77\"/>\n",
       "<polygon fill=\"black\" stroke=\"black\" points=\"45.63,-52.77 42.13,-42.77 38.63,-52.77 45.63,-52.77\"/>\n",
       "</g>\n",
       "<!-- C -->\n",
       "<g id=\"node3\" class=\"node\">\n",
       "<title>C</title>\n",
       "<polygon fill=\"lightblue\" stroke=\"lightblue\" points=\"169.88,-41 98.38,-41 98.38,0 169.88,0 169.88,-41\"/>\n",
       "<text text-anchor=\"middle\" x=\"134.12\" y=\"-23.7\" font-family=\"Times,serif\" font-size=\"14.00\">Relazioni </text>\n",
       "<text text-anchor=\"middle\" x=\"134.12\" y=\"-7.2\" font-family=\"Times,serif\" font-size=\"14.00\">familiari</text>\n",
       "</g>\n",
       "<!-- A&#45;&gt;C -->\n",
       "<g id=\"edge2\" class=\"edge\">\n",
       "<title>A&#45;&gt;C</title>\n",
       "<path fill=\"none\" stroke=\"black\" d=\"M134.25,-76.58C134.25,-76.58 134.25,-52.85 134.25,-52.85\"/>\n",
       "<polygon fill=\"black\" stroke=\"black\" points=\"137.75,-52.85 134.25,-42.85 130.75,-52.85 137.75,-52.85\"/>\n",
       "</g>\n",
       "<!-- D -->\n",
       "<g id=\"node4\" class=\"node\">\n",
       "<title>D</title>\n",
       "<polygon fill=\"lightblue\" stroke=\"lightblue\" points=\"258.75,-41 183.5,-41 183.5,0 258.75,0 258.75,-41\"/>\n",
       "<text text-anchor=\"middle\" x=\"221.12\" y=\"-23.7\" font-family=\"Times,serif\" font-size=\"14.00\">Relazioni </text>\n",
       "<text text-anchor=\"middle\" x=\"221.12\" y=\"-7.2\" font-family=\"Times,serif\" font-size=\"14.00\">scolastiche</text>\n",
       "</g>\n",
       "<!-- A&#45;&gt;D -->\n",
       "<g id=\"edge3\" class=\"edge\">\n",
       "<title>A&#45;&gt;D</title>\n",
       "<path fill=\"none\" stroke=\"black\" d=\"M219.56,-76.58C219.56,-76.58 219.56,-52.85 219.56,-52.85\"/>\n",
       "<polygon fill=\"black\" stroke=\"black\" points=\"223.06,-52.85 219.56,-42.85 216.06,-52.85 223.06,-52.85\"/>\n",
       "</g>\n",
       "<!-- E -->\n",
       "<g id=\"node5\" class=\"node\">\n",
       "<title>E</title>\n",
       "<polygon fill=\"lightblue\" stroke=\"lightblue\" points=\"341,-41 273.25,-41 273.25,0 341,0 341,-41\"/>\n",
       "<text text-anchor=\"middle\" x=\"307.12\" y=\"-23.7\" font-family=\"Times,serif\" font-size=\"14.00\">Gestione </text>\n",
       "<text text-anchor=\"middle\" x=\"307.12\" y=\"-7.2\" font-family=\"Times,serif\" font-size=\"14.00\">tempo</text>\n",
       "</g>\n",
       "<!-- A&#45;&gt;E -->\n",
       "<g id=\"edge4\" class=\"edge\">\n",
       "<title>A&#45;&gt;E</title>\n",
       "<path fill=\"none\" stroke=\"black\" d=\"M256.12,-95C283.34,-95 307.12,-95 307.12,-95 307.12,-95 307.12,-52.77 307.12,-52.77\"/>\n",
       "<polygon fill=\"black\" stroke=\"black\" points=\"310.63,-52.77 307.13,-42.77 303.63,-52.77 310.63,-52.77\"/>\n",
       "</g>\n",
       "</g>\n",
       "</svg>\n"
      ],
      "text/plain": [
       "<graphviz.graphs.Digraph at 0x173011f40>"
      ]
     },
     "metadata": {},
     "output_type": "display_data"
    }
   ],
   "source": [
    "display(dot)"
   ]
  },
  {
   "cell_type": "markdown",
   "metadata": {},
   "source": [
    "<h2 id=\"general\">Panoramica Generale</h2>"
   ]
  },
  {
   "cell_type": "markdown",
   "metadata": {},
   "source": [
    "Domande a cui rispondere:\n",
    "- quando i giovani bevono maggiormente: durante la settimana o nel weekend?\n",
    "- quanto il consumo di alcol incide sui risultati scolastici?\n",
    "- relazione tra uso di alcol e sesso\n",
    "- relazione tra uso di alcol ed età"
   ]
  },
  {
   "cell_type": "markdown",
   "metadata": {},
   "source": [
    "### Weekly Alcohol Consumption"
   ]
  },
  {
   "cell_type": "markdown",
   "metadata": {},
   "source": [
    "Il seguente grafico mostra la relazione tra il consumo di alcol tra i giovani, nei giorni lavorativi e nei weekend"
   ]
  },
  {
   "cell_type": "code",
   "execution_count": 22,
   "metadata": {},
   "outputs": [
    {
     "data": {
      "image/png": "[encoded data removed]",
      "text/plain": [
       "<Figure size 1000x600 with 1 Axes>"
      ]
     },
     "metadata": {},
     "output_type": "display_data"
    }
   ],
   "source": [
    "df_melted = full_df.melt(value_vars=['Dalc', 'Walc'], var_name='Alcohol_Consumption', value_name='Level')\n",
    "\n",
    "# Definizione dei colori manualmente\n",
    "colors = ['#A077b4', '#CC3B57']\n",
    "\n",
    "# Creazione dell'istogramma a barre parallele\n",
    "plt.figure(figsize=(10, 6))\n",
    "ax = sns.countplot(data=df_melted, x='Level', hue='Alcohol_Consumption', palette=colors, width=0.5)\n",
    "\n",
    "# Aggiunta delle etichette di testo sulle barre\n",
    "for p in ax.patches:\n",
    "    height = int(p.get_height())\n",
    "    ax.annotate(f'{height}', \n",
    "                (p.get_x() + p.get_width() / 2., height), \n",
    "                ha='center', va='center', \n",
    "                xytext=(0, 5), \n",
    "                textcoords='offset points')\n",
    "# Titolo e etichette degli assi\n",
    "plt.title('Distribuzione del Consumo di Alcol nei Giorni Lavorativi e nei Weekend')\n",
    "plt.xlabel('Livello di Consumo di Alcol (1-5)')\n",
    "plt.ylabel('Frequenza')\n",
    "plt.legend(title='Tipo di Consumo', labels=['WD', 'WE'])\n",
    "\n",
    "# Mostra il grafico\n",
    "plt.show()"
   ]
  },
  {
   "cell_type": "markdown",
   "metadata": {},
   "source": [
    "Il seguente grafico mostra la differenza tra l'uso di alcol durante la settimana e durante il weekend."
   ]
  },
  {
   "cell_type": "code",
   "execution_count": 23,
   "metadata": {},
   "outputs": [],
   "source": [
    "full_df['Gap'] = (full_df['Walc'] - full_df['Dalc'])"
   ]
  },
  {
   "cell_type": "code",
   "execution_count": 24,
   "metadata": {},
   "outputs": [
    {
     "data": {
      "image/png": "[encoded data removed]",
      "text/plain": [
       "<Figure size 1000x600 with 1 Axes>"
      ]
     },
     "metadata": {},
     "output_type": "display_data"
    }
   ],
   "source": [
    "# Creazione dell'istogramma per visualizzare la distribuzione del gap\n",
    "plt.figure(figsize=(10, 6))\n",
    "sns.histplot(full_df['Gap'], bins=9, kde=True, color='blue')\n",
    "\n",
    "# Titolo e etichette degli assi\n",
    "plt.title('Distribuzione del Gap tra il Consumo di Alcol nel Weekend e durante la Settimana')\n",
    "plt.xlabel('Gap (Walc - Dalc)')\n",
    "plt.ylabel('Frequenza')\n",
    "\n",
    "# Mostra il grafico\n",
    "plt.show()"
   ]
  },
  {
   "cell_type": "markdown",
   "metadata": {},
   "source": [
    "\n",
    "La distribuzione è massima sullo 0, ovvero non ci sono significative differenze tra il consumo d'alcol durante la settimana lavorativa e il weekend. \n",
    "I casi negativi [-4, -1] mettono in luce i casi in cui il consumo di alcolici durante la settimana è superiore a quello del fine settimana.\n",
    "Al contrario, i casi positivi [1, 4], mettono in luce i casi in cui il consumo di alcolici durante il finesettimana è superiore rispetto a quello della settimana lavorativa."
   ]
  },
  {
   "cell_type": "markdown",
   "metadata": {},
   "source": [
    "\n",
    "### Alcohol consumption and academic achievement\n"
   ]
  },
  {
   "cell_type": "code",
   "execution_count": 25,
   "metadata": {},
   "outputs": [],
   "source": [
    "# Calcolo della media di G3 per ogni livello di consumo di alcol in Dalc e Walc\n",
    "dalc_mean_g3 = full_df.groupby('Dalc')['G3'].mean().reset_index()\n",
    "walc_mean_g3 = full_df.groupby('Walc')['G3'].mean().reset_index()"
   ]
  },
  {
   "cell_type": "code",
   "execution_count": 26,
   "metadata": {},
   "outputs": [],
   "source": [
    "# Calcolo della media di G3 per ogni livello di consumo di alcol in Dalc e Walc\n",
    "dalc_mean_g3 = full_df.groupby('Dalc')['G3'].mean().reset_index()\n",
    "walc_mean_g3 = full_df.groupby('Walc')['G3'].mean().reset_index()\n",
    "\n",
    "# Rinominare le colonne per distinguere i due tipi di consumo\n",
    "dalc_mean_g3.columns = ['alcohol_consumption', 'G3_mean_dalc']\n",
    "walc_mean_g3.columns = ['alcohol_consumption', 'G3_mean_walc']\n",
    "\n",
    "# Unire i due DataFrame per creare un unico DataFrame per la visualizzazione\n",
    "mean_g3 = pd.merge(dalc_mean_g3, walc_mean_g3, on='alcohol_consumption')"
   ]
  },
  {
   "cell_type": "code",
   "execution_count": 27,
   "metadata": {},
   "outputs": [
    {
     "name": "stdout",
     "output_type": "stream",
     "text": [
      "<class 'pandas.core.frame.DataFrame'>\n",
      "RangeIndex: 5 entries, 0 to 4\n",
      "Data columns (total 3 columns):\n",
      " #   Column               Non-Null Count  Dtype  \n",
      "---  ------               --------------  -----  \n",
      " 0   alcohol_consumption  5 non-null      int64  \n",
      " 1   G3_mean_dalc         5 non-null      float64\n",
      " 2   G3_mean_walc         5 non-null      float64\n",
      "dtypes: float64(2), int64(1)\n",
      "memory usage: 252.0 bytes\n"
     ]
    }
   ],
   "source": [
    "mean_g3.info()"
   ]
  },
  {
   "cell_type": "code",
   "execution_count": 28,
   "metadata": {},
   "outputs": [],
   "source": [
    "# Trasforma il dataframe in formato long\n",
    "mean_g3_long = pd.melt(mean_g3, id_vars='alcohol_consumption', value_vars=['G3_mean_dalc', 'G3_mean_walc'], \n",
    "                       var_name='G3_type', value_name='mean_score')"
   ]
  },
  {
   "cell_type": "code",
   "execution_count": 29,
   "metadata": {},
   "outputs": [
    {
     "data": {
      "image/png": "[encoded data removed]",
      "text/plain": [
       "<Figure size 1000x600 with 1 Axes>"
      ]
     },
     "metadata": {},
     "output_type": "display_data"
    }
   ],
   "source": [
    "\n",
    "# Crea il grafico a barre parallele\n",
    "plt.figure(figsize=(10, 6))\n",
    "sns.barplot(data=mean_g3_long, x='alcohol_consumption', y='mean_score', hue='G3_type')\n",
    "\n",
    "# Personalizza il grafico\n",
    "plt.title('Mean G3 Scores by Alcohol Consumption')\n",
    "plt.xlabel('Alcohol Consumption')\n",
    "plt.ylabel('Mean G3 Score')\n",
    "plt.legend(title='G3 Type')\n",
    "\n",
    "# Mostra il grafico\n",
    "plt.show()"
   ]
  },
  {
   "cell_type": "markdown",
   "metadata": {},
   "source": [
    "### Alcohol consumption and sex\n"
   ]
  },
  {
   "cell_type": "code",
   "execution_count": 30,
   "metadata": {},
   "outputs": [
    {
     "name": "stdout",
     "output_type": "stream",
     "text": [
      "<class 'pandas.core.frame.DataFrame'>\n",
      "RangeIndex: 1044 entries, 0 to 1043\n",
      "Data columns (total 48 columns):\n",
      " #   Column             Non-Null Count  Dtype  \n",
      "---  ------             --------------  -----  \n",
      " 0   school             1044 non-null   int64  \n",
      " 1   sex                1044 non-null   int64  \n",
      " 2   age                1044 non-null   int64  \n",
      " 3   address            1044 non-null   int64  \n",
      " 4   famsize            1044 non-null   int64  \n",
      " 5   Pstatus            1044 non-null   int64  \n",
      " 6   Medu               1044 non-null   int64  \n",
      " 7   Fedu               1044 non-null   int64  \n",
      " 8   traveltime         1044 non-null   int64  \n",
      " 9   studytime          1044 non-null   int64  \n",
      " 10  failures           1044 non-null   int64  \n",
      " 11  schoolsup          1044 non-null   int64  \n",
      " 12  famsup             1044 non-null   int64  \n",
      " 13  paid               1044 non-null   int64  \n",
      " 14  activities         1044 non-null   int64  \n",
      " 15  nursery            1044 non-null   int64  \n",
      " 16  higher             1044 non-null   int64  \n",
      " 17  internet           1044 non-null   int64  \n",
      " 18  romantic           1044 non-null   int64  \n",
      " 19  famrel             1044 non-null   int64  \n",
      " 20  freetime           1044 non-null   int64  \n",
      " 21  goout              1044 non-null   int64  \n",
      " 22  Dalc               1044 non-null   int64  \n",
      " 23  Walc               1044 non-null   int64  \n",
      " 24  health             1044 non-null   int64  \n",
      " 25  absences           1044 non-null   int64  \n",
      " 26  G1                 1044 non-null   int64  \n",
      " 27  G2                 1044 non-null   int64  \n",
      " 28  G3                 1044 non-null   int64  \n",
      " 29  course             1044 non-null   int64  \n",
      " 30  Mjob_at_home       1044 non-null   float64\n",
      " 31  Mjob_health        1044 non-null   float64\n",
      " 32  Mjob_other         1044 non-null   float64\n",
      " 33  Mjob_services      1044 non-null   float64\n",
      " 34  Mjob_teacher       1044 non-null   float64\n",
      " 35  Fjob_at_home       1044 non-null   float64\n",
      " 36  Fjob_health        1044 non-null   float64\n",
      " 37  Fjob_other         1044 non-null   float64\n",
      " 38  Fjob_services      1044 non-null   float64\n",
      " 39  Fjob_teacher       1044 non-null   float64\n",
      " 40  reason_course      1044 non-null   float64\n",
      " 41  reason_home        1044 non-null   float64\n",
      " 42  reason_other       1044 non-null   float64\n",
      " 43  reason_reputation  1044 non-null   float64\n",
      " 44  guardian_father    1044 non-null   float64\n",
      " 45  guardian_mother    1044 non-null   float64\n",
      " 46  guardian_other     1044 non-null   float64\n",
      " 47  Gap                1044 non-null   int64  \n",
      "dtypes: float64(17), int64(31)\n",
      "memory usage: 391.6 KB\n"
     ]
    }
   ],
   "source": [
    "full_df.info()"
   ]
  },
  {
   "cell_type": "code",
   "execution_count": 31,
   "metadata": {},
   "outputs": [],
   "source": [
    "# Calcolo della media di G3 per ogni livello di consumo di alcol in Dalc e Walc\n",
    "dalc_mean_g3 = full_df.groupby('Dalc')['sex'].mean().reset_index()\n",
    "walc_mean_g3 = full_df.groupby('Walc')['sex'].mean().reset_index()\n",
    "\n",
    "# Rinominare le colonne per distinguere i due tipi di consumo\n",
    "dalc_mean_g3.columns = ['alcohol_consumption', 'G3_mean_dalc']\n",
    "walc_mean_g3.columns = ['alcohol_consumption', 'G3_mean_walc']\n",
    "\n",
    "# Unire i due DataFrame per creare un unico DataFrame per la visualizzazione\n",
    "mean_g3 = pd.merge(dalc_mean_g3, walc_mean_g3, on='alcohol_consumption')"
   ]
  },
  {
   "cell_type": "code",
   "execution_count": null,
   "metadata": {},
   "outputs": [],
   "source": [
    "mapping"
   ]
  },
  {
   "cell_type": "code",
   "execution_count": 32,
   "metadata": {},
   "outputs": [
    {
     "data": {
      "image/png": "[encoded data removed]",
      "text/plain": [
       "<Figure size 1200x600 with 2 Axes>"
      ]
     },
     "metadata": {},
     "output_type": "display_data"
    }
   ],
   "source": [
    "# Imposta lo stile di Seaborn per i grafici\n",
    "sns.set_theme(style=\"whitegrid\")\n",
    "\n",
    "# Creare il primo grafico per 'Dalc'\n",
    "plt.figure(figsize=(12, 6))\n",
    "plt.subplot(1, 2, 1)\n",
    "sns.countplot(x='Dalc', hue='sex', data=full_df, palette='muted')\n",
    "plt.title('Distribuzione di Dalc per sesso')\n",
    "plt.xlabel('Dalc')\n",
    "plt.ylabel('Count')\n",
    "plt.legend(title='Sex', labels=['F', 'M'])\n",
    "\n",
    "# Creare il secondo grafico per 'Walc'\n",
    "plt.subplot(1, 2, 2)\n",
    "sns.countplot(x='Walc', hue='sex', data=full_df, palette='muted')\n",
    "plt.title('Distribuzione di Walc per sesso')\n",
    "plt.xlabel('Walc')\n",
    "plt.ylabel('Count')\n",
    "plt.legend(title='Sex', labels=['F', 'M'])\n",
    "\n",
    "# Mostra i grafici\n",
    "plt.tight_layout()\n",
    "plt.show()"
   ]
  },
  {
   "cell_type": "code",
   "execution_count": 35,
   "metadata": {},
   "outputs": [
    {
     "data": {
      "text/plain": [
       "{0: 'F', 1: 'M'}"
      ]
     },
     "execution_count": 35,
     "metadata": {},
     "output_type": "execute_result"
    }
   ],
   "source": [
    "mapping[\"sex\"]"
   ]
  },
  {
   "cell_type": "code",
   "execution_count": 48,
   "metadata": {},
   "outputs": [
    {
     "data": {
      "application/vnd.plotly.v1+json": {
       "config": {
        "plotlyServerURL": "https://plot.ly"
       },
       "data": [
        {
         "alignmentgroup": "True",
         "bingroup": "x",
         "hovertemplate": "Sex=0<br>Dalc=%{x}<br>count=%{y}<extra></extra>",
         "legendgroup": "0",
         "marker": {
          "color": "#a95986",
          "pattern": {
           "shape": ""
          }
         },
         "name": "F",
         "offsetgroup": "0",
         "orientation": "v",
         "showlegend": true,
         "type": "histogram",
         "x": [
          1,
          1,
          2,
          1,
          1,
          1,
          1,
          1,
          1,
          1,
          1,
          1,
          1,
          1,
          1,
          1,
          1,
          2,
          1,
          1,
          1,
          2,
          1,
          2,
          4,
          1,
          1,
          1,
          2,
          5,
          1,
          2,
          2,
          1,
          1,
          1,
          2,
          2,
          2,
          1,
          1,
          1,
          2,
          2,
          1,
          1,
          1,
          1,
          2,
          1,
          1,
          1,
          1,
          1,
          1,
          1,
          1,
          1,
          1,
          1,
          1,
          1,
          1,
          1,
          1,
          2,
          1,
          1,
          1,
          1,
          1,
          1,
          1,
          1,
          5,
          1,
          1,
          1,
          1,
          2,
          1,
          3,
          1,
          1,
          1,
          1,
          2,
          2,
          1,
          1,
          1,
          1,
          1,
          1,
          1,
          1,
          2,
          2,
          1,
          1,
          1,
          1,
          1,
          2,
          1,
          1,
          1,
          1,
          1,
          1,
          3,
          2,
          1,
          1,
          1,
          1,
          1,
          1,
          1,
          2,
          1,
          1,
          1,
          1,
          1,
          1,
          1,
          1,
          1,
          1,
          1,
          1,
          1,
          1,
          1,
          1,
          1,
          1,
          1,
          1,
          1,
          1,
          1,
          1,
          2,
          1,
          1,
          1,
          1,
          1,
          1,
          1,
          2,
          1,
          1,
          1,
          1,
          1,
          1,
          2,
          1,
          3,
          1,
          1,
          1,
          1,
          2,
          1,
          1,
          1,
          4,
          1,
          1,
          1,
          1,
          1,
          1,
          1,
          1,
          2,
          1,
          1,
          1,
          1,
          1,
          1,
          1,
          1,
          1,
          1,
          1,
          1,
          2,
          1,
          3,
          1,
          1,
          1,
          1,
          2,
          4,
          1,
          2,
          1,
          2,
          2,
          2,
          1,
          1,
          1,
          2,
          1,
          1,
          1,
          1,
          1,
          1,
          2,
          1,
          2,
          1,
          1,
          2,
          1,
          2,
          2,
          3,
          1,
          1,
          1,
          1,
          1,
          4,
          1,
          1,
          1,
          1,
          1,
          1,
          1,
          2,
          1,
          1,
          1,
          2,
          3,
          1,
          1,
          1,
          1,
          1,
          1,
          1,
          1,
          1,
          1,
          1,
          1,
          3,
          2,
          1,
          1,
          1,
          4,
          1,
          2,
          2,
          1,
          1,
          2,
          1,
          1,
          1,
          1,
          1,
          1,
          1,
          1,
          1,
          1,
          1,
          1,
          1,
          1,
          1,
          4,
          1,
          3,
          1,
          1,
          2,
          1,
          1,
          1,
          1,
          1,
          2,
          1,
          1,
          1,
          1,
          1,
          1,
          1,
          1,
          2,
          1,
          1,
          1,
          1,
          1,
          1,
          1,
          1,
          1,
          1,
          2,
          2,
          2,
          1,
          1,
          1,
          1,
          2,
          2,
          1,
          1,
          1,
          1,
          1,
          3,
          1,
          1,
          1,
          1,
          2,
          1,
          1,
          1,
          1,
          2,
          1,
          1,
          1,
          1,
          1,
          1,
          1,
          1,
          1,
          1,
          2,
          3,
          1,
          1,
          1,
          1,
          1,
          1,
          1,
          1,
          1,
          1,
          1,
          1,
          1,
          1,
          1,
          4,
          1,
          1,
          1,
          1,
          1,
          3,
          1,
          2,
          1,
          1,
          2,
          1,
          1,
          1,
          1,
          1,
          2,
          1,
          1,
          1,
          1,
          1,
          1,
          1,
          1,
          1,
          1,
          1,
          1,
          1,
          1,
          2,
          1,
          1,
          1,
          2,
          1,
          2,
          4,
          1,
          1,
          1,
          2,
          5,
          1,
          2,
          2,
          1,
          1,
          1,
          2,
          2,
          2,
          1,
          1,
          1,
          2,
          2,
          1,
          1,
          1,
          1,
          2,
          1,
          1,
          1,
          1,
          1,
          1,
          1,
          1,
          1,
          1,
          1,
          1,
          1,
          1,
          1,
          1,
          2,
          1,
          1,
          1,
          1,
          1,
          1,
          1,
          3,
          1,
          1,
          1,
          2,
          1,
          1,
          1,
          1,
          1,
          1,
          1,
          1,
          2,
          2,
          1,
          1,
          1,
          1,
          1,
          2,
          1,
          1,
          1,
          1,
          1,
          1,
          3,
          2,
          1,
          1,
          1,
          1,
          1,
          1,
          1,
          2,
          1,
          1,
          1,
          1,
          1,
          1,
          1,
          1,
          1,
          1,
          1,
          1,
          1,
          1,
          1,
          1,
          1,
          1,
          2,
          1,
          3,
          1,
          1,
          1,
          2,
          1,
          1,
          1,
          1,
          1,
          1,
          1,
          1,
          1,
          1,
          2,
          1,
          1,
          1,
          1,
          1,
          1,
          1,
          2,
          1,
          1,
          1,
          1,
          1,
          1,
          2,
          3,
          1,
          1,
          2,
          2,
          2,
          1,
          1,
          1,
          1,
          1,
          1,
          1,
          1,
          2,
          1,
          2,
          1,
          1,
          1,
          2,
          1,
          1,
          1,
          1,
          1,
          1,
          1,
          1,
          1,
          1,
          1,
          4,
          1,
          1,
          1,
          1,
          1,
          1,
          3,
          1,
          2,
          1,
          2,
          1,
          1,
          1
         ],
         "xaxis": "x",
         "yaxis": "y"
        },
        {
         "alignmentgroup": "True",
         "bingroup": "x",
         "hovertemplate": "Sex=1<br>Dalc=%{x}<br>count=%{y}<extra></extra>",
         "legendgroup": "1",
         "marker": {
          "color": "#0c609c",
          "pattern": {
           "shape": ""
          }
         },
         "name": "M",
         "offsetgroup": "1",
         "orientation": "v",
         "showlegend": true,
         "type": "histogram",
         "x": [
          1,
          1,
          1,
          1,
          1,
          1,
          1,
          2,
          1,
          1,
          1,
          1,
          2,
          1,
          2,
          1,
          5,
          3,
          1,
          1,
          1,
          1,
          1,
          1,
          2,
          1,
          1,
          1,
          2,
          3,
          1,
          1,
          5,
          1,
          1,
          2,
          2,
          1,
          1,
          1,
          1,
          1,
          1,
          3,
          1,
          1,
          5,
          1,
          1,
          1,
          1,
          3,
          1,
          1,
          1,
          1,
          1,
          1,
          1,
          1,
          1,
          1,
          3,
          2,
          2,
          1,
          1,
          2,
          4,
          1,
          1,
          1,
          2,
          1,
          2,
          2,
          2,
          3,
          1,
          1,
          3,
          1,
          4,
          3,
          2,
          1,
          2,
          1,
          1,
          1,
          2,
          2,
          1,
          1,
          4,
          1,
          3,
          1,
          2,
          1,
          2,
          1,
          1,
          1,
          4,
          3,
          1,
          1,
          3,
          4,
          2,
          2,
          5,
          1,
          4,
          1,
          1,
          2,
          1,
          1,
          5,
          2,
          1,
          3,
          1,
          2,
          1,
          1,
          1,
          1,
          1,
          5,
          1,
          2,
          2,
          1,
          2,
          1,
          2,
          1,
          4,
          1,
          1,
          1,
          1,
          1,
          2,
          3,
          3,
          1,
          2,
          1,
          1,
          2,
          2,
          3,
          1,
          1,
          1,
          1,
          1,
          1,
          2,
          2,
          1,
          1,
          1,
          1,
          3,
          2,
          3,
          5,
          2,
          2,
          1,
          2,
          1,
          1,
          2,
          1,
          1,
          1,
          5,
          1,
          4,
          1,
          1,
          1,
          4,
          2,
          1,
          1,
          1,
          2,
          1,
          5,
          1,
          5,
          3,
          1,
          1,
          1,
          2,
          3,
          2,
          3,
          3,
          5,
          1,
          3,
          1,
          1,
          5,
          1,
          2,
          5,
          3,
          1,
          2,
          1,
          2,
          1,
          1,
          3,
          3,
          2,
          2,
          2,
          3,
          1,
          2,
          3,
          1,
          1,
          1,
          2,
          2,
          2,
          2,
          2,
          1,
          1,
          2,
          1,
          2,
          5,
          3,
          2,
          2,
          3,
          1,
          5,
          1,
          3,
          1,
          1,
          2,
          2,
          2,
          1,
          1,
          1,
          1,
          4,
          3,
          3,
          1,
          1,
          1,
          1,
          1,
          1,
          1,
          2,
          1,
          1,
          1,
          1,
          2,
          1,
          2,
          1,
          5,
          3,
          1,
          1,
          1,
          1,
          1,
          1,
          2,
          1,
          1,
          1,
          2,
          3,
          1,
          1,
          5,
          1,
          1,
          2,
          2,
          1,
          1,
          1,
          1,
          1,
          1,
          3,
          1,
          1,
          5,
          1,
          1,
          1,
          1,
          3,
          1,
          1,
          1,
          1,
          1,
          1,
          1,
          1,
          1,
          1,
          3,
          1,
          2,
          1,
          2,
          1,
          1,
          2,
          1,
          2,
          2,
          2,
          3,
          1,
          1,
          3,
          1,
          4,
          2,
          1,
          2,
          1,
          1,
          1,
          2,
          2,
          1,
          1,
          4,
          1,
          3,
          1,
          2,
          1,
          2,
          1,
          1,
          1,
          4,
          3,
          1,
          1,
          3,
          4,
          2,
          2,
          5,
          1,
          4,
          1,
          1,
          2,
          1,
          1,
          5,
          3,
          1,
          2,
          1,
          1,
          1,
          1,
          5,
          1,
          2,
          2,
          1,
          2,
          1,
          2,
          1,
          1,
          1,
          1,
          1,
          3,
          3,
          1,
          2,
          1,
          1,
          2,
          3,
          1,
          1,
          1,
          1,
          1,
          1,
          2,
          2,
          1,
          1,
          1,
          1,
          2,
          2,
          3,
          5,
          2,
          2,
          1,
          1,
          2,
          5,
          3,
          2,
          2,
          3,
          1,
          1,
          2,
          2,
          2,
          2,
          1,
          1,
          1,
          1,
          4,
          4,
          3,
          3,
          3,
          3
         ],
         "xaxis": "x",
         "yaxis": "y"
        }
       ],
       "layout": {
        "barmode": "group",
        "legend": {
         "title": {
          "text": "Sex"
         },
         "tracegroupgap": 0
        },
        "template": {
         "data": {
          "bar": [
           {
            "error_x": {
             "color": "#2a3f5f"
            },
            "error_y": {
             "color": "#2a3f5f"
            },
            "marker": {
             "line": {
              "color": "#E5ECF6",
              "width": 0.5
             },
             "pattern": {
              "fillmode": "overlay",
              "size": 10,
              "solidity": 0.2
             }
            },
            "type": "bar"
           }
          ],
          "barpolar": [
           {
            "marker": {
             "line": {
              "color": "#E5ECF6",
              "width": 0.5
             },
             "pattern": {
              "fillmode": "overlay",
              "size": 10,
              "solidity": 0.2
             }
            },
            "type": "barpolar"
           }
          ],
          "carpet": [
           {
            "aaxis": {
             "endlinecolor": "#2a3f5f",
             "gridcolor": "white",
             "linecolor": "white",
             "minorgridcolor": "white",
             "startlinecolor": "#2a3f5f"
            },
            "baxis": {
             "endlinecolor": "#2a3f5f",
             "gridcolor": "white",
             "linecolor": "white",
             "minorgridcolor": "white",
             "startlinecolor": "#2a3f5f"
            },
            "type": "carpet"
           }
          ],
          "choropleth": [
           {
            "colorbar": {
             "outlinewidth": 0,
             "ticks": ""
            },
            "type": "choropleth"
           }
          ],
          "contour": [
           {
            "colorbar": {
             "outlinewidth": 0,
             "ticks": ""
            },
            "colorscale": [
             [
              0,
              "#0d0887"
             ],
             [
              0.1111111111111111,
              "#46039f"
             ],
             [
              0.2222222222222222,
              "#7201a8"
             ],
             [
              0.3333333333333333,
              "#9c179e"
             ],
             [
              0.4444444444444444,
              "#bd3786"
             ],
             [
              0.5555555555555556,
              "#d8576b"
             ],
             [
              0.6666666666666666,
              "#ed7953"
             ],
             [
              0.7777777777777778,
              "#fb9f3a"
             ],
             [
              0.8888888888888888,
              "#fdca26"
             ],
             [
              1,
              "#f0f921"
             ]
            ],
            "type": "contour"
           }
          ],
          "contourcarpet": [
           {
            "colorbar": {
             "outlinewidth": 0,
             "ticks": ""
            },
            "type": "contourcarpet"
           }
          ],
          "heatmap": [
           {
            "colorbar": {
             "outlinewidth": 0,
             "ticks": ""
            },
            "colorscale": [
             [
              0,
              "#0d0887"
             ],
             [
              0.1111111111111111,
              "#46039f"
             ],
             [
              0.2222222222222222,
              "#7201a8"
             ],
             [
              0.3333333333333333,
              "#9c179e"
             ],
             [
              0.4444444444444444,
              "#bd3786"
             ],
             [
              0.5555555555555556,
              "#d8576b"
             ],
             [
              0.6666666666666666,
              "#ed7953"
             ],
             [
              0.7777777777777778,
              "#fb9f3a"
             ],
             [
              0.8888888888888888,
              "#fdca26"
             ],
             [
              1,
              "#f0f921"
             ]
            ],
            "type": "heatmap"
           }
          ],
          "heatmapgl": [
           {
            "colorbar": {
             "outlinewidth": 0,
             "ticks": ""
            },
            "colorscale": [
             [
              0,
              "#0d0887"
             ],
             [
              0.1111111111111111,
              "#46039f"
             ],
             [
              0.2222222222222222,
              "#7201a8"
             ],
             [
              0.3333333333333333,
              "#9c179e"
             ],
             [
              0.4444444444444444,
              "#bd3786"
             ],
             [
              0.5555555555555556,
              "#d8576b"
             ],
             [
              0.6666666666666666,
              "#ed7953"
             ],
             [
              0.7777777777777778,
              "#fb9f3a"
             ],
             [
              0.8888888888888888,
              "#fdca26"
             ],
             [
              1,
              "#f0f921"
             ]
            ],
            "type": "heatmapgl"
           }
          ],
          "histogram": [
           {
            "marker": {
             "pattern": {
              "fillmode": "overlay",
              "size": 10,
              "solidity": 0.2
             }
            },
            "type": "histogram"
           }
          ],
          "histogram2d": [
           {
            "colorbar": {
             "outlinewidth": 0,
             "ticks": ""
            },
            "colorscale": [
             [
              0,
              "#0d0887"
             ],
             [
              0.1111111111111111,
              "#46039f"
             ],
             [
              0.2222222222222222,
              "#7201a8"
             ],
             [
              0.3333333333333333,
              "#9c179e"
             ],
             [
              0.4444444444444444,
              "#bd3786"
             ],
             [
              0.5555555555555556,
              "#d8576b"
             ],
             [
              0.6666666666666666,
              "#ed7953"
             ],
             [
              0.7777777777777778,
              "#fb9f3a"
             ],
             [
              0.8888888888888888,
              "#fdca26"
             ],
             [
              1,
              "#f0f921"
             ]
            ],
            "type": "histogram2d"
           }
          ],
          "histogram2dcontour": [
           {
            "colorbar": {
             "outlinewidth": 0,
             "ticks": ""
            },
            "colorscale": [
             [
              0,
              "#0d0887"
             ],
             [
              0.1111111111111111,
              "#46039f"
             ],
             [
              0.2222222222222222,
              "#7201a8"
             ],
             [
              0.3333333333333333,
              "#9c179e"
             ],
             [
              0.4444444444444444,
              "#bd3786"
             ],
             [
              0.5555555555555556,
              "#d8576b"
             ],
             [
              0.6666666666666666,
              "#ed7953"
             ],
             [
              0.7777777777777778,
              "#fb9f3a"
             ],
             [
              0.8888888888888888,
              "#fdca26"
             ],
             [
              1,
              "#f0f921"
             ]
            ],
            "type": "histogram2dcontour"
           }
          ],
          "mesh3d": [
           {
            "colorbar": {
             "outlinewidth": 0,
             "ticks": ""
            },
            "type": "mesh3d"
           }
          ],
          "parcoords": [
           {
            "line": {
             "colorbar": {
              "outlinewidth": 0,
              "ticks": ""
             }
            },
            "type": "parcoords"
           }
          ],
          "pie": [
           {
            "automargin": true,
            "type": "pie"
           }
          ],
          "scatter": [
           {
            "fillpattern": {
             "fillmode": "overlay",
             "size": 10,
             "solidity": 0.2
            },
            "type": "scatter"
           }
          ],
          "scatter3d": [
           {
            "line": {
             "colorbar": {
              "outlinewidth": 0,
              "ticks": ""
             }
            },
            "marker": {
             "colorbar": {
              "outlinewidth": 0,
              "ticks": ""
             }
            },
            "type": "scatter3d"
           }
          ],
          "scattercarpet": [
           {
            "marker": {
             "colorbar": {
              "outlinewidth": 0,
              "ticks": ""
             }
            },
            "type": "scattercarpet"
           }
          ],
          "scattergeo": [
           {
            "marker": {
             "colorbar": {
              "outlinewidth": 0,
              "ticks": ""
             }
            },
            "type": "scattergeo"
           }
          ],
          "scattergl": [
           {
            "marker": {
             "colorbar": {
              "outlinewidth": 0,
              "ticks": ""
             }
            },
            "type": "scattergl"
           }
          ],
          "scattermapbox": [
           {
            "marker": {
             "colorbar": {
              "outlinewidth": 0,
              "ticks": ""
             }
            },
            "type": "scattermapbox"
           }
          ],
          "scatterpolar": [
           {
            "marker": {
             "colorbar": {
              "outlinewidth": 0,
              "ticks": ""
             }
            },
            "type": "scatterpolar"
           }
          ],
          "scatterpolargl": [
           {
            "marker": {
             "colorbar": {
              "outlinewidth": 0,
              "ticks": ""
             }
            },
            "type": "scatterpolargl"
           }
          ],
          "scatterternary": [
           {
            "marker": {
             "colorbar": {
              "outlinewidth": 0,
              "ticks": ""
             }
            },
            "type": "scatterternary"
           }
          ],
          "surface": [
           {
            "colorbar": {
             "outlinewidth": 0,
             "ticks": ""
            },
            "colorscale": [
             [
              0,
              "#0d0887"
             ],
             [
              0.1111111111111111,
              "#46039f"
             ],
             [
              0.2222222222222222,
              "#7201a8"
             ],
             [
              0.3333333333333333,
              "#9c179e"
             ],
             [
              0.4444444444444444,
              "#bd3786"
             ],
             [
              0.5555555555555556,
              "#d8576b"
             ],
             [
              0.6666666666666666,
              "#ed7953"
             ],
             [
              0.7777777777777778,
              "#fb9f3a"
             ],
             [
              0.8888888888888888,
              "#fdca26"
             ],
             [
              1,
              "#f0f921"
             ]
            ],
            "type": "surface"
           }
          ],
          "table": [
           {
            "cells": {
             "fill": {
              "color": "#EBF0F8"
             },
             "line": {
              "color": "white"
             }
            },
            "header": {
             "fill": {
              "color": "#C8D4E3"
             },
             "line": {
              "color": "white"
             }
            },
            "type": "table"
           }
          ]
         },
         "layout": {
          "annotationdefaults": {
           "arrowcolor": "#2a3f5f",
           "arrowhead": 0,
           "arrowwidth": 1
          },
          "autotypenumbers": "strict",
          "coloraxis": {
           "colorbar": {
            "outlinewidth": 0,
            "ticks": ""
           }
          },
          "colorscale": {
           "diverging": [
            [
             0,
             "#8e0152"
            ],
            [
             0.1,
             "#c51b7d"
            ],
            [
             0.2,
             "#de77ae"
            ],
            [
             0.3,
             "#f1b6da"
            ],
            [
             0.4,
             "#fde0ef"
            ],
            [
             0.5,
             "#f7f7f7"
            ],
            [
             0.6,
             "#e6f5d0"
            ],
            [
             0.7,
             "#b8e186"
            ],
            [
             0.8,
             "#7fbc41"
            ],
            [
             0.9,
             "#4d9221"
            ],
            [
             1,
             "#276419"
            ]
           ],
           "sequential": [
            [
             0,
             "#0d0887"
            ],
            [
             0.1111111111111111,
             "#46039f"
            ],
            [
             0.2222222222222222,
             "#7201a8"
            ],
            [
             0.3333333333333333,
             "#9c179e"
            ],
            [
             0.4444444444444444,
             "#bd3786"
            ],
            [
             0.5555555555555556,
             "#d8576b"
            ],
            [
             0.6666666666666666,
             "#ed7953"
            ],
            [
             0.7777777777777778,
             "#fb9f3a"
            ],
            [
             0.8888888888888888,
             "#fdca26"
            ],
            [
             1,
             "#f0f921"
            ]
           ],
           "sequentialminus": [
            [
             0,
             "#0d0887"
            ],
            [
             0.1111111111111111,
             "#46039f"
            ],
            [
             0.2222222222222222,
             "#7201a8"
            ],
            [
             0.3333333333333333,
             "#9c179e"
            ],
            [
             0.4444444444444444,
             "#bd3786"
            ],
            [
             0.5555555555555556,
             "#d8576b"
            ],
            [
             0.6666666666666666,
             "#ed7953"
            ],
            [
             0.7777777777777778,
             "#fb9f3a"
            ],
            [
             0.8888888888888888,
             "#fdca26"
            ],
            [
             1,
             "#f0f921"
            ]
           ]
          },
          "colorway": [
           "#636efa",
           "#EF553B",
           "#00cc96",
           "#ab63fa",
           "#FFA15A",
           "#19d3f3",
           "#FF6692",
           "#B6E880",
           "#FF97FF",
           "#FECB52"
          ],
          "font": {
           "color": "#2a3f5f"
          },
          "geo": {
           "bgcolor": "white",
           "lakecolor": "white",
           "landcolor": "#E5ECF6",
           "showlakes": true,
           "showland": true,
           "subunitcolor": "white"
          },
          "hoverlabel": {
           "align": "left"
          },
          "hovermode": "closest",
          "mapbox": {
           "style": "light"
          },
          "paper_bgcolor": "white",
          "plot_bgcolor": "#E5ECF6",
          "polar": {
           "angularaxis": {
            "gridcolor": "white",
            "linecolor": "white",
            "ticks": ""
           },
           "bgcolor": "#E5ECF6",
           "radialaxis": {
            "gridcolor": "white",
            "linecolor": "white",
            "ticks": ""
           }
          },
          "scene": {
           "xaxis": {
            "backgroundcolor": "#E5ECF6",
            "gridcolor": "white",
            "gridwidth": 2,
            "linecolor": "white",
            "showbackground": true,
            "ticks": "",
            "zerolinecolor": "white"
           },
           "yaxis": {
            "backgroundcolor": "#E5ECF6",
            "gridcolor": "white",
            "gridwidth": 2,
            "linecolor": "white",
            "showbackground": true,
            "ticks": "",
            "zerolinecolor": "white"
           },
           "zaxis": {
            "backgroundcolor": "#E5ECF6",
            "gridcolor": "white",
            "gridwidth": 2,
            "linecolor": "white",
            "showbackground": true,
            "ticks": "",
            "zerolinecolor": "white"
           }
          },
          "shapedefaults": {
           "line": {
            "color": "#2a3f5f"
           }
          },
          "ternary": {
           "aaxis": {
            "gridcolor": "white",
            "linecolor": "white",
            "ticks": ""
           },
           "baxis": {
            "gridcolor": "white",
            "linecolor": "white",
            "ticks": ""
           },
           "bgcolor": "#E5ECF6",
           "caxis": {
            "gridcolor": "white",
            "linecolor": "white",
            "ticks": ""
           }
          },
          "title": {
           "x": 0.05
          },
          "xaxis": {
           "automargin": true,
           "gridcolor": "white",
           "linecolor": "white",
           "ticks": "",
           "title": {
            "standoff": 15
           },
           "zerolinecolor": "white",
           "zerolinewidth": 2
          },
          "yaxis": {
           "automargin": true,
           "gridcolor": "white",
           "linecolor": "white",
           "ticks": "",
           "title": {
            "standoff": 15
           },
           "zerolinecolor": "white",
           "zerolinewidth": 2
          }
         }
        },
        "title": {
         "text": "Distribuzione di Dalc per sesso"
        },
        "xaxis": {
         "anchor": "y",
         "domain": [
          0,
          1
         ],
         "title": {
          "text": ""
         }
        },
        "yaxis": {
         "anchor": "x",
         "domain": [
          0,
          1
         ],
         "title": {
          "text": "count"
         }
        }
       }
      }
     },
     "metadata": {},
     "output_type": "display_data"
    },
    {
     "data": {
      "application/vnd.plotly.v1+json": {
       "config": {
        "plotlyServerURL": "https://plot.ly"
       },
       "data": [
        {
         "alignmentgroup": "True",
         "bingroup": "x",
         "hovertemplate": "Sex=0<br>Walc=%{x}<br>count=%{y}<extra></extra>",
         "legendgroup": "0",
         "marker": {
          "color": "#a95986",
          "pattern": {
           "shape": ""
          }
         },
         "name": "F",
         "offsetgroup": "0",
         "orientation": "v",
         "showlegend": true,
         "type": "histogram",
         "x": [
          1,
          1,
          3,
          1,
          2,
          1,
          2,
          1,
          2,
          2,
          1,
          1,
          3,
          1,
          1,
          1,
          2,
          2,
          1,
          4,
          1,
          3,
          1,
          3,
          4,
          1,
          1,
          1,
          3,
          5,
          1,
          4,
          4,
          2,
          2,
          3,
          3,
          4,
          4,
          3,
          2,
          1,
          3,
          3,
          2,
          3,
          3,
          3,
          3,
          1,
          1,
          1,
          2,
          1,
          1,
          1,
          1,
          1,
          1,
          1,
          2,
          2,
          1,
          1,
          1,
          2,
          3,
          2,
          2,
          3,
          4,
          1,
          1,
          1,
          1,
          2,
          1,
          1,
          1,
          3,
          1,
          3,
          2,
          1,
          1,
          1,
          4,
          3,
          1,
          5,
          1,
          1,
          1,
          1,
          1,
          4,
          3,
          3,
          2,
          3,
          1,
          1,
          1,
          3,
          2,
          5,
          3,
          3,
          2,
          1,
          4,
          2,
          1,
          4,
          1,
          2,
          1,
          2,
          3,
          4,
          4,
          1,
          2,
          1,
          1,
          1,
          1,
          3,
          2,
          2,
          1,
          2,
          1,
          1,
          1,
          1,
          2,
          2,
          1,
          1,
          1,
          3,
          1,
          4,
          3,
          1,
          1,
          2,
          3,
          1,
          1,
          3,
          3,
          1,
          1,
          2,
          3,
          1,
          1,
          2,
          2,
          3,
          3,
          1,
          2,
          1,
          3,
          1,
          1,
          1,
          3,
          1,
          1,
          2,
          1,
          2,
          1,
          2,
          1,
          3,
          2,
          1,
          1,
          1,
          1,
          2,
          2,
          2,
          1,
          1,
          1,
          4,
          5,
          1,
          3,
          1,
          2,
          2,
          1,
          2,
          3,
          1,
          4,
          1,
          2,
          3,
          3,
          2,
          3,
          2,
          5,
          1,
          1,
          1,
          1,
          1,
          3,
          3,
          1,
          3,
          2,
          2,
          3,
          3,
          2,
          4,
          4,
          1,
          1,
          3,
          1,
          3,
          4,
          2,
          3,
          1,
          2,
          3,
          1,
          1,
          3,
          2,
          1,
          2,
          2,
          5,
          1,
          2,
          2,
          2,
          3,
          1,
          1,
          1,
          2,
          1,
          2,
          2,
          3,
          1,
          1,
          1,
          1,
          3,
          2,
          2,
          3,
          1,
          1,
          3,
          1,
          1,
          1,
          1,
          1,
          1,
          1,
          3,
          2,
          2,
          2,
          4,
          1,
          1,
          1,
          1,
          1,
          5,
          3,
          1,
          2,
          1,
          2,
          1,
          1,
          2,
          4,
          1,
          1,
          1,
          1,
          1,
          3,
          4,
          4,
          3,
          4,
          3,
          3,
          1,
          2,
          1,
          2,
          2,
          2,
          1,
          2,
          2,
          2,
          1,
          4,
          1,
          2,
          3,
          2,
          1,
          1,
          1,
          1,
          2,
          4,
          1,
          1,
          1,
          1,
          2,
          3,
          2,
          1,
          1,
          2,
          1,
          1,
          2,
          2,
          2,
          1,
          1,
          4,
          1,
          2,
          3,
          1,
          2,
          2,
          1,
          4,
          1,
          1,
          2,
          2,
          1,
          4,
          3,
          1,
          2,
          2,
          2,
          2,
          1,
          3,
          1,
          2,
          1,
          4,
          2,
          3,
          3,
          1,
          2,
          2,
          1,
          1,
          1,
          1,
          3,
          1,
          2,
          1,
          2,
          1,
          2,
          2,
          1,
          1,
          3,
          1,
          1,
          1,
          2,
          2,
          1,
          4,
          1,
          3,
          1,
          3,
          4,
          1,
          1,
          1,
          3,
          5,
          1,
          4,
          4,
          2,
          2,
          3,
          3,
          4,
          4,
          3,
          2,
          1,
          3,
          3,
          2,
          3,
          3,
          3,
          3,
          1,
          1,
          1,
          2,
          1,
          1,
          1,
          1,
          1,
          1,
          1,
          2,
          2,
          1,
          1,
          1,
          2,
          2,
          3,
          4,
          1,
          1,
          1,
          1,
          3,
          2,
          1,
          1,
          3,
          1,
          5,
          1,
          1,
          1,
          1,
          1,
          4,
          3,
          3,
          2,
          3,
          1,
          1,
          1,
          3,
          2,
          5,
          3,
          3,
          2,
          1,
          4,
          2,
          1,
          4,
          1,
          2,
          1,
          2,
          3,
          4,
          4,
          1,
          2,
          1,
          1,
          1,
          1,
          3,
          2,
          2,
          1,
          1,
          1,
          1,
          1,
          3,
          1,
          1,
          2,
          2,
          3,
          3,
          1,
          1,
          3,
          1,
          1,
          1,
          1,
          2,
          2,
          1,
          2,
          1,
          1,
          3,
          2,
          1,
          1,
          1,
          2,
          1,
          3,
          2,
          1,
          2,
          1,
          1,
          2,
          1,
          5,
          3,
          2,
          1,
          2,
          3,
          3,
          3,
          2,
          1,
          1,
          1,
          1,
          3,
          2,
          3,
          1,
          3,
          3,
          2,
          2,
          3,
          3,
          1,
          2,
          2,
          1,
          4,
          3,
          1,
          2,
          2,
          2,
          2,
          1,
          1,
          3,
          1,
          2,
          1,
          4,
          2,
          3,
          3,
          2,
          2,
          1,
          1
         ],
         "xaxis": "x",
         "yaxis": "y"
        },
        {
         "alignmentgroup": "True",
         "bingroup": "x",
         "hovertemplate": "Sex=1<br>Walc=%{x}<br>count=%{y}<extra></extra>",
         "legendgroup": "1",
         "marker": {
          "color": "#0c609c",
          "pattern": {
           "shape": ""
          }
         },
         "name": "M",
         "offsetgroup": "1",
         "orientation": "v",
         "showlegend": true,
         "type": "histogram",
         "x": [
          2,
          1,
          1,
          1,
          3,
          2,
          1,
          4,
          3,
          1,
          1,
          3,
          4,
          2,
          4,
          1,
          5,
          4,
          1,
          1,
          1,
          1,
          1,
          1,
          4,
          1,
          1,
          1,
          2,
          4,
          1,
          1,
          5,
          1,
          1,
          2,
          3,
          1,
          1,
          3,
          2,
          3,
          1,
          5,
          1,
          1,
          5,
          1,
          1,
          1,
          1,
          5,
          1,
          1,
          1,
          2,
          1,
          1,
          4,
          2,
          2,
          4,
          2,
          5,
          2,
          1,
          1,
          4,
          5,
          3,
          1,
          3,
          2,
          2,
          1,
          5,
          5,
          5,
          1,
          1,
          3,
          2,
          4,
          5,
          2,
          4,
          4,
          4,
          5,
          1,
          4,
          4,
          1,
          3,
          4,
          4,
          4,
          1,
          3,
          2,
          3,
          2,
          2,
          5,
          5,
          4,
          1,
          2,
          5,
          5,
          4,
          4,
          5,
          3,
          5,
          1,
          3,
          4,
          1,
          3,
          5,
          2,
          2,
          5,
          4,
          3,
          1,
          2,
          1,
          1,
          1,
          5,
          3,
          4,
          4,
          3,
          5,
          3,
          4,
          2,
          4,
          1,
          2,
          1,
          1,
          1,
          3,
          4,
          4,
          3,
          2,
          4,
          2,
          4,
          4,
          4,
          2,
          3,
          1,
          4,
          1,
          3,
          2,
          2,
          1,
          1,
          2,
          1,
          4,
          2,
          5,
          5,
          4,
          2,
          2,
          2,
          3,
          2,
          3,
          3,
          4,
          2,
          2,
          2,
          5,
          4,
          3,
          1,
          5,
          4,
          2,
          2,
          2,
          4,
          1,
          5,
          1,
          5,
          4,
          3,
          2,
          1,
          3,
          5,
          4,
          4,
          4,
          5,
          5,
          5,
          2,
          1,
          5,
          2,
          2,
          5,
          3,
          4,
          5,
          3,
          3,
          2,
          3,
          3,
          4,
          1,
          2,
          2,
          4,
          1,
          4,
          5,
          1,
          3,
          4,
          3,
          3,
          4,
          3,
          2,
          1,
          3,
          4,
          3,
          4,
          5,
          3,
          3,
          3,
          3,
          1,
          5,
          1,
          4,
          3,
          2,
          4,
          2,
          3,
          4,
          3,
          1,
          3,
          3,
          4,
          4,
          2,
          1,
          1,
          1,
          3,
          2,
          1,
          4,
          3,
          1,
          1,
          3,
          4,
          2,
          4,
          1,
          5,
          4,
          1,
          1,
          1,
          1,
          1,
          1,
          4,
          1,
          1,
          1,
          2,
          4,
          1,
          1,
          5,
          1,
          1,
          2,
          3,
          1,
          1,
          3,
          2,
          3,
          1,
          5,
          1,
          1,
          5,
          1,
          1,
          1,
          1,
          5,
          1,
          1,
          1,
          2,
          1,
          1,
          4,
          2,
          2,
          4,
          2,
          2,
          5,
          1,
          4,
          3,
          1,
          2,
          2,
          1,
          5,
          5,
          5,
          1,
          1,
          3,
          2,
          4,
          2,
          4,
          4,
          4,
          5,
          1,
          4,
          4,
          1,
          3,
          4,
          4,
          4,
          1,
          3,
          2,
          3,
          2,
          2,
          5,
          5,
          4,
          1,
          2,
          5,
          5,
          4,
          4,
          5,
          3,
          5,
          1,
          3,
          4,
          1,
          3,
          5,
          5,
          4,
          3,
          1,
          2,
          1,
          1,
          5,
          3,
          4,
          4,
          3,
          5,
          3,
          4,
          2,
          1,
          2,
          1,
          1,
          4,
          4,
          3,
          2,
          4,
          2,
          4,
          4,
          2,
          3,
          1,
          4,
          1,
          3,
          2,
          2,
          1,
          1,
          1,
          2,
          2,
          2,
          5,
          5,
          4,
          2,
          3,
          2,
          3,
          5,
          3,
          3,
          3,
          3,
          3,
          2,
          3,
          4,
          2,
          3,
          4,
          3,
          1,
          3,
          3,
          5,
          4,
          3,
          4,
          3
         ],
         "xaxis": "x",
         "yaxis": "y"
        }
       ],
       "layout": {
        "barmode": "group",
        "legend": {
         "title": {
          "text": "Sex"
         },
         "tracegroupgap": 0
        },
        "template": {
         "data": {
          "bar": [
           {
            "error_x": {
             "color": "#2a3f5f"
            },
            "error_y": {
             "color": "#2a3f5f"
            },
            "marker": {
             "line": {
              "color": "#E5ECF6",
              "width": 0.5
             },
             "pattern": {
              "fillmode": "overlay",
              "size": 10,
              "solidity": 0.2
             }
            },
            "type": "bar"
           }
          ],
          "barpolar": [
           {
            "marker": {
             "line": {
              "color": "#E5ECF6",
              "width": 0.5
             },
             "pattern": {
              "fillmode": "overlay",
              "size": 10,
              "solidity": 0.2
             }
            },
            "type": "barpolar"
           }
          ],
          "carpet": [
           {
            "aaxis": {
             "endlinecolor": "#2a3f5f",
             "gridcolor": "white",
             "linecolor": "white",
             "minorgridcolor": "white",
             "startlinecolor": "#2a3f5f"
            },
            "baxis": {
             "endlinecolor": "#2a3f5f",
             "gridcolor": "white",
             "linecolor": "white",
             "minorgridcolor": "white",
             "startlinecolor": "#2a3f5f"
            },
            "type": "carpet"
           }
          ],
          "choropleth": [
           {
            "colorbar": {
             "outlinewidth": 0,
             "ticks": ""
            },
            "type": "choropleth"
           }
          ],
          "contour": [
           {
            "colorbar": {
             "outlinewidth": 0,
             "ticks": ""
            },
            "colorscale": [
             [
              0,
              "#0d0887"
             ],
             [
              0.1111111111111111,
              "#46039f"
             ],
             [
              0.2222222222222222,
              "#7201a8"
             ],
             [
              0.3333333333333333,
              "#9c179e"
             ],
             [
              0.4444444444444444,
              "#bd3786"
             ],
             [
              0.5555555555555556,
              "#d8576b"
             ],
             [
              0.6666666666666666,
              "#ed7953"
             ],
             [
              0.7777777777777778,
              "#fb9f3a"
             ],
             [
              0.8888888888888888,
              "#fdca26"
             ],
             [
              1,
              "#f0f921"
             ]
            ],
            "type": "contour"
           }
          ],
          "contourcarpet": [
           {
            "colorbar": {
             "outlinewidth": 0,
             "ticks": ""
            },
            "type": "contourcarpet"
           }
          ],
          "heatmap": [
           {
            "colorbar": {
             "outlinewidth": 0,
             "ticks": ""
            },
            "colorscale": [
             [
              0,
              "#0d0887"
             ],
             [
              0.1111111111111111,
              "#46039f"
             ],
             [
              0.2222222222222222,
              "#7201a8"
             ],
             [
              0.3333333333333333,
              "#9c179e"
             ],
             [
              0.4444444444444444,
              "#bd3786"
             ],
             [
              0.5555555555555556,
              "#d8576b"
             ],
             [
              0.6666666666666666,
              "#ed7953"
             ],
             [
              0.7777777777777778,
              "#fb9f3a"
             ],
             [
              0.8888888888888888,
              "#fdca26"
             ],
             [
              1,
              "#f0f921"
             ]
            ],
            "type": "heatmap"
           }
          ],
          "heatmapgl": [
           {
            "colorbar": {
             "outlinewidth": 0,
             "ticks": ""
            },
            "colorscale": [
             [
              0,
              "#0d0887"
             ],
             [
              0.1111111111111111,
              "#46039f"
             ],
             [
              0.2222222222222222,
              "#7201a8"
             ],
             [
              0.3333333333333333,
              "#9c179e"
             ],
             [
              0.4444444444444444,
              "#bd3786"
             ],
             [
              0.5555555555555556,
              "#d8576b"
             ],
             [
              0.6666666666666666,
              "#ed7953"
             ],
             [
              0.7777777777777778,
              "#fb9f3a"
             ],
             [
              0.8888888888888888,
              "#fdca26"
             ],
             [
              1,
              "#f0f921"
             ]
            ],
            "type": "heatmapgl"
           }
          ],
          "histogram": [
           {
            "marker": {
             "pattern": {
              "fillmode": "overlay",
              "size": 10,
              "solidity": 0.2
             }
            },
            "type": "histogram"
           }
          ],
          "histogram2d": [
           {
            "colorbar": {
             "outlinewidth": 0,
             "ticks": ""
            },
            "colorscale": [
             [
              0,
              "#0d0887"
             ],
             [
              0.1111111111111111,
              "#46039f"
             ],
             [
              0.2222222222222222,
              "#7201a8"
             ],
             [
              0.3333333333333333,
              "#9c179e"
             ],
             [
              0.4444444444444444,
              "#bd3786"
             ],
             [
              0.5555555555555556,
              "#d8576b"
             ],
             [
              0.6666666666666666,
              "#ed7953"
             ],
             [
              0.7777777777777778,
              "#fb9f3a"
             ],
             [
              0.8888888888888888,
              "#fdca26"
             ],
             [
              1,
              "#f0f921"
             ]
            ],
            "type": "histogram2d"
           }
          ],
          "histogram2dcontour": [
           {
            "colorbar": {
             "outlinewidth": 0,
             "ticks": ""
            },
            "colorscale": [
             [
              0,
              "#0d0887"
             ],
             [
              0.1111111111111111,
              "#46039f"
             ],
             [
              0.2222222222222222,
              "#7201a8"
             ],
             [
              0.3333333333333333,
              "#9c179e"
             ],
             [
              0.4444444444444444,
              "#bd3786"
             ],
             [
              0.5555555555555556,
              "#d8576b"
             ],
             [
              0.6666666666666666,
              "#ed7953"
             ],
             [
              0.7777777777777778,
              "#fb9f3a"
             ],
             [
              0.8888888888888888,
              "#fdca26"
             ],
             [
              1,
              "#f0f921"
             ]
            ],
            "type": "histogram2dcontour"
           }
          ],
          "mesh3d": [
           {
            "colorbar": {
             "outlinewidth": 0,
             "ticks": ""
            },
            "type": "mesh3d"
           }
          ],
          "parcoords": [
           {
            "line": {
             "colorbar": {
              "outlinewidth": 0,
              "ticks": ""
             }
            },
            "type": "parcoords"
           }
          ],
          "pie": [
           {
            "automargin": true,
            "type": "pie"
           }
          ],
          "scatter": [
           {
            "fillpattern": {
             "fillmode": "overlay",
             "size": 10,
             "solidity": 0.2
            },
            "type": "scatter"
           }
          ],
          "scatter3d": [
           {
            "line": {
             "colorbar": {
              "outlinewidth": 0,
              "ticks": ""
             }
            },
            "marker": {
             "colorbar": {
              "outlinewidth": 0,
              "ticks": ""
             }
            },
            "type": "scatter3d"
           }
          ],
          "scattercarpet": [
           {
            "marker": {
             "colorbar": {
              "outlinewidth": 0,
              "ticks": ""
             }
            },
            "type": "scattercarpet"
           }
          ],
          "scattergeo": [
           {
            "marker": {
             "colorbar": {
              "outlinewidth": 0,
              "ticks": ""
             }
            },
            "type": "scattergeo"
           }
          ],
          "scattergl": [
           {
            "marker": {
             "colorbar": {
              "outlinewidth": 0,
              "ticks": ""
             }
            },
            "type": "scattergl"
           }
          ],
          "scattermapbox": [
           {
            "marker": {
             "colorbar": {
              "outlinewidth": 0,
              "ticks": ""
             }
            },
            "type": "scattermapbox"
           }
          ],
          "scatterpolar": [
           {
            "marker": {
             "colorbar": {
              "outlinewidth": 0,
              "ticks": ""
             }
            },
            "type": "scatterpolar"
           }
          ],
          "scatterpolargl": [
           {
            "marker": {
             "colorbar": {
              "outlinewidth": 0,
              "ticks": ""
             }
            },
            "type": "scatterpolargl"
           }
          ],
          "scatterternary": [
           {
            "marker": {
             "colorbar": {
              "outlinewidth": 0,
              "ticks": ""
             }
            },
            "type": "scatterternary"
           }
          ],
          "surface": [
           {
            "colorbar": {
             "outlinewidth": 0,
             "ticks": ""
            },
            "colorscale": [
             [
              0,
              "#0d0887"
             ],
             [
              0.1111111111111111,
              "#46039f"
             ],
             [
              0.2222222222222222,
              "#7201a8"
             ],
             [
              0.3333333333333333,
              "#9c179e"
             ],
             [
              0.4444444444444444,
              "#bd3786"
             ],
             [
              0.5555555555555556,
              "#d8576b"
             ],
             [
              0.6666666666666666,
              "#ed7953"
             ],
             [
              0.7777777777777778,
              "#fb9f3a"
             ],
             [
              0.8888888888888888,
              "#fdca26"
             ],
             [
              1,
              "#f0f921"
             ]
            ],
            "type": "surface"
           }
          ],
          "table": [
           {
            "cells": {
             "fill": {
              "color": "#EBF0F8"
             },
             "line": {
              "color": "white"
             }
            },
            "header": {
             "fill": {
              "color": "#C8D4E3"
             },
             "line": {
              "color": "white"
             }
            },
            "type": "table"
           }
          ]
         },
         "layout": {
          "annotationdefaults": {
           "arrowcolor": "#2a3f5f",
           "arrowhead": 0,
           "arrowwidth": 1
          },
          "autotypenumbers": "strict",
          "coloraxis": {
           "colorbar": {
            "outlinewidth": 0,
            "ticks": ""
           }
          },
          "colorscale": {
           "diverging": [
            [
             0,
             "#8e0152"
            ],
            [
             0.1,
             "#c51b7d"
            ],
            [
             0.2,
             "#de77ae"
            ],
            [
             0.3,
             "#f1b6da"
            ],
            [
             0.4,
             "#fde0ef"
            ],
            [
             0.5,
             "#f7f7f7"
            ],
            [
             0.6,
             "#e6f5d0"
            ],
            [
             0.7,
             "#b8e186"
            ],
            [
             0.8,
             "#7fbc41"
            ],
            [
             0.9,
             "#4d9221"
            ],
            [
             1,
             "#276419"
            ]
           ],
           "sequential": [
            [
             0,
             "#0d0887"
            ],
            [
             0.1111111111111111,
             "#46039f"
            ],
            [
             0.2222222222222222,
             "#7201a8"
            ],
            [
             0.3333333333333333,
             "#9c179e"
            ],
            [
             0.4444444444444444,
             "#bd3786"
            ],
            [
             0.5555555555555556,
             "#d8576b"
            ],
            [
             0.6666666666666666,
             "#ed7953"
            ],
            [
             0.7777777777777778,
             "#fb9f3a"
            ],
            [
             0.8888888888888888,
             "#fdca26"
            ],
            [
             1,
             "#f0f921"
            ]
           ],
           "sequentialminus": [
            [
             0,
             "#0d0887"
            ],
            [
             0.1111111111111111,
             "#46039f"
            ],
            [
             0.2222222222222222,
             "#7201a8"
            ],
            [
             0.3333333333333333,
             "#9c179e"
            ],
            [
             0.4444444444444444,
             "#bd3786"
            ],
            [
             0.5555555555555556,
             "#d8576b"
            ],
            [
             0.6666666666666666,
             "#ed7953"
            ],
            [
             0.7777777777777778,
             "#fb9f3a"
            ],
            [
             0.8888888888888888,
             "#fdca26"
            ],
            [
             1,
             "#f0f921"
            ]
           ]
          },
          "colorway": [
           "#636efa",
           "#EF553B",
           "#00cc96",
           "#ab63fa",
           "#FFA15A",
           "#19d3f3",
           "#FF6692",
           "#B6E880",
           "#FF97FF",
           "#FECB52"
          ],
          "font": {
           "color": "#2a3f5f"
          },
          "geo": {
           "bgcolor": "white",
           "lakecolor": "white",
           "landcolor": "#E5ECF6",
           "showlakes": true,
           "showland": true,
           "subunitcolor": "white"
          },
          "hoverlabel": {
           "align": "left"
          },
          "hovermode": "closest",
          "mapbox": {
           "style": "light"
          },
          "paper_bgcolor": "white",
          "plot_bgcolor": "#E5ECF6",
          "polar": {
           "angularaxis": {
            "gridcolor": "white",
            "linecolor": "white",
            "ticks": ""
           },
           "bgcolor": "#E5ECF6",
           "radialaxis": {
            "gridcolor": "white",
            "linecolor": "white",
            "ticks": ""
           }
          },
          "scene": {
           "xaxis": {
            "backgroundcolor": "#E5ECF6",
            "gridcolor": "white",
            "gridwidth": 2,
            "linecolor": "white",
            "showbackground": true,
            "ticks": "",
            "zerolinecolor": "white"
           },
           "yaxis": {
            "backgroundcolor": "#E5ECF6",
            "gridcolor": "white",
            "gridwidth": 2,
            "linecolor": "white",
            "showbackground": true,
            "ticks": "",
            "zerolinecolor": "white"
           },
           "zaxis": {
            "backgroundcolor": "#E5ECF6",
            "gridcolor": "white",
            "gridwidth": 2,
            "linecolor": "white",
            "showbackground": true,
            "ticks": "",
            "zerolinecolor": "white"
           }
          },
          "shapedefaults": {
           "line": {
            "color": "#2a3f5f"
           }
          },
          "ternary": {
           "aaxis": {
            "gridcolor": "white",
            "linecolor": "white",
            "ticks": ""
           },
           "baxis": {
            "gridcolor": "white",
            "linecolor": "white",
            "ticks": ""
           },
           "bgcolor": "#E5ECF6",
           "caxis": {
            "gridcolor": "white",
            "linecolor": "white",
            "ticks": ""
           }
          },
          "title": {
           "x": 0.05
          },
          "xaxis": {
           "automargin": true,
           "gridcolor": "white",
           "linecolor": "white",
           "ticks": "",
           "title": {
            "standoff": 15
           },
           "zerolinecolor": "white",
           "zerolinewidth": 2
          },
          "yaxis": {
           "automargin": true,
           "gridcolor": "white",
           "linecolor": "white",
           "ticks": "",
           "title": {
            "standoff": 15
           },
           "zerolinecolor": "white",
           "zerolinewidth": 2
          }
         }
        },
        "title": {
         "text": "Distribuzione di Walc per sesso"
        },
        "xaxis": {
         "anchor": "y",
         "domain": [
          0,
          1
         ],
         "title": {
          "text": ""
         }
        },
        "yaxis": {
         "anchor": "x",
         "domain": [
          0,
          1
         ],
         "title": {
          "text": "count"
         }
        }
       }
      }
     },
     "metadata": {},
     "output_type": "display_data"
    }
   ],
   "source": [
    "# Creare il primo grafico per 'Dalc'\n",
    "fig_dalc = px.histogram(full_df, x='Dalc', color='sex', barmode='group',\n",
    "                        category_orders={'sex': [0, 1]},\n",
    "                        labels={'sex': 'Sex', 'Dalc': 'Dalc'},\n",
    "                        title='Distribuzione di Dalc per sesso',\n",
    "                        color_discrete_map={0: '#a95986', 1: '#0c609c'})\n",
    "\n",
    "# Modificare le etichette della legenda\n",
    "fig_dalc.for_each_trace(lambda t: t.update(name=mapping[\"sex\"][int(t.name)]))\n",
    "\n",
    "# Rimuovere il titolo dell'asse x\n",
    "fig_dalc.update_xaxes(title_text='')\n",
    "\n",
    "# Creare il secondo grafico per 'Walc'\n",
    "fig_walc = px.histogram(full_df, x='Walc', color='sex', barmode='group',\n",
    "                        category_orders={'sex': [0, 1]},\n",
    "                        labels={'sex': 'Sex', 'Walc': 'Walc'},\n",
    "                        title='Distribuzione di Walc per sesso',\n",
    "                        color_discrete_map={0: '#a95986', 1: '#0c609c'})\n",
    "\n",
    "# Modificare le etichette della legenda\n",
    "fig_walc.for_each_trace(lambda t: t.update(name=mapping[\"sex\"][int(t.name)]))\n",
    "\n",
    "# Rimuovere il titolo dell'asse x\n",
    "fig_walc.update_xaxes(title_text='')\n",
    "\n",
    "# Mostra i grafici\n",
    "fig_dalc.show()\n",
    "fig_walc.show()"
   ]
  },
  {
   "cell_type": "markdown",
   "metadata": {},
   "source": [
    "### Alcohol consumption and age\n"
   ]
  },
  {
   "cell_type": "code",
   "execution_count": 50,
   "metadata": {},
   "outputs": [
    {
     "name": "stdout",
     "output_type": "stream",
     "text": [
      "<class 'pandas.core.frame.DataFrame'>\n",
      "RangeIndex: 1044 entries, 0 to 1043\n",
      "Data columns (total 48 columns):\n",
      " #   Column             Non-Null Count  Dtype  \n",
      "---  ------             --------------  -----  \n",
      " 0   school             1044 non-null   int64  \n",
      " 1   sex                1044 non-null   int64  \n",
      " 2   age                1044 non-null   int64  \n",
      " 3   address            1044 non-null   int64  \n",
      " 4   famsize            1044 non-null   int64  \n",
      " 5   Pstatus            1044 non-null   int64  \n",
      " 6   Medu               1044 non-null   int64  \n",
      " 7   Fedu               1044 non-null   int64  \n",
      " 8   traveltime         1044 non-null   int64  \n",
      " 9   studytime          1044 non-null   int64  \n",
      " 10  failures           1044 non-null   int64  \n",
      " 11  schoolsup          1044 non-null   int64  \n",
      " 12  famsup             1044 non-null   int64  \n",
      " 13  paid               1044 non-null   int64  \n",
      " 14  activities         1044 non-null   int64  \n",
      " 15  nursery            1044 non-null   int64  \n",
      " 16  higher             1044 non-null   int64  \n",
      " 17  internet           1044 non-null   int64  \n",
      " 18  romantic           1044 non-null   int64  \n",
      " 19  famrel             1044 non-null   int64  \n",
      " 20  freetime           1044 non-null   int64  \n",
      " 21  goout              1044 non-null   int64  \n",
      " 22  Dalc               1044 non-null   int64  \n",
      " 23  Walc               1044 non-null   int64  \n",
      " 24  health             1044 non-null   int64  \n",
      " 25  absences           1044 non-null   int64  \n",
      " 26  G1                 1044 non-null   int64  \n",
      " 27  G2                 1044 non-null   int64  \n",
      " 28  G3                 1044 non-null   int64  \n",
      " 29  course             1044 non-null   int64  \n",
      " 30  Mjob_at_home       1044 non-null   float64\n",
      " 31  Mjob_health        1044 non-null   float64\n",
      " 32  Mjob_other         1044 non-null   float64\n",
      " 33  Mjob_services      1044 non-null   float64\n",
      " 34  Mjob_teacher       1044 non-null   float64\n",
      " 35  Fjob_at_home       1044 non-null   float64\n",
      " 36  Fjob_health        1044 non-null   float64\n",
      " 37  Fjob_other         1044 non-null   float64\n",
      " 38  Fjob_services      1044 non-null   float64\n",
      " 39  Fjob_teacher       1044 non-null   float64\n",
      " 40  reason_course      1044 non-null   float64\n",
      " 41  reason_home        1044 non-null   float64\n",
      " 42  reason_other       1044 non-null   float64\n",
      " 43  reason_reputation  1044 non-null   float64\n",
      " 44  guardian_father    1044 non-null   float64\n",
      " 45  guardian_mother    1044 non-null   float64\n",
      " 46  guardian_other     1044 non-null   float64\n",
      " 47  Gap                1044 non-null   int64  \n",
      "dtypes: float64(17), int64(31)\n",
      "memory usage: 391.6 KB\n"
     ]
    }
   ],
   "source": [
    "full_df.info()"
   ]
  },
  {
   "cell_type": "code",
   "execution_count": null,
   "metadata": {},
   "outputs": [],
   "source": [
    "# Calcolo della media di consumo di alcol per fascia d'età\n",
    "\n",
    "dalc_mean_sex = both.groupby('sex')['Dalc'].mean().reset_index\n",
    "#dalc_mean_g3 = both.groupby('Dalc')['G3'].mean().reset_index()\n",
    "#walc_mean_g3 = both.groupby('Walc')['G3'].mean().reset_index()\n"
   ]
  },
  {
   "cell_type": "code",
   "execution_count": null,
   "metadata": {},
   "outputs": [],
   "source": [
    "dalc_mean_sex"
   ]
  },
  {
   "cell_type": "code",
   "execution_count": null,
   "metadata": {},
   "outputs": [],
   "source": [
    "\n",
    "# Creazione dell'istogramma a barre parallele\n",
    "plt.figure(figsize=(10, 8))\n",
    "bar_width = 0.3\n",
    "\n",
    "# Definizione dei colori personalizzati\n",
    "color_dalc = '#A077b4'\n",
    "color_walc = '#CC3B57'\n",
    "\n",
    "\n",
    "# Barre per Dalc\n",
    "plt.bar(mean_g3['Alcol_Consumo'] - bar_width/2, mean_g3['Media_G3_Dalc'], width=bar_width, label='Dalc', color=color_dalc)\n",
    "\n",
    "# Barre per Walc\n",
    "plt.bar(mean_g3['Alcol_Consumo'] + bar_width/2, mean_g3['Media_G3_Walc'], width=bar_width, label='Walc', color=color_walc)\n",
    "\n",
    "# Aggiunta delle etichette di testo sulle barre\n",
    "for i in range(len(mean_g3)):\n",
    "    plt.text(mean_g3['Alcol_Consumo'][i] - bar_width/2, mean_g3['Media_G3_Dalc'][i] + 0.05, round(mean_g3['Media_G3_Dalc'][i], 2), ha='center')\n",
    "    plt.text(mean_g3['Alcol_Consumo'][i] + bar_width/2, mean_g3['Media_G3_Walc'][i] + 0.05, round(mean_g3['Media_G3_Walc'][i], 2), ha='center')\n",
    "\n",
    "# Titolo e etichette degli assi\n",
    "plt.title('Risultati Medi scolastici (G3) per Livello di Consumo di Alcol')\n",
    "plt.xlabel('Livello di Consumo di Alcol (1-5)')\n",
    "plt.ylabel('Media G3')\n",
    "plt.xticks(mean_g3['Alcol_Consumo'])\n",
    "plt.legend(title='Tipo di Consumo')\n",
    "\n",
    "# Mostra il grafico\n",
    "plt.show()\n"
   ]
  },
  {
   "cell_type": "markdown",
   "metadata": {},
   "source": [
    "Relazione tra consumo di alcolici e sesso"
   ]
  },
  {
   "cell_type": "code",
   "execution_count": null,
   "metadata": {},
   "outputs": [],
   "source": [
    "# Creazione dell'istogramma a barre parallele\n",
    "plt.figure(figsize=(10, 8))\n",
    "bar_width = 0.3\n",
    "\n",
    "# Definizione dei colori personalizzati\n",
    "color_dalc = '#A077b4'  # Blu per Dalc\n",
    "color_walc = '#CC3B57'  # Arancione per Walc"
   ]
  },
  {
   "cell_type": "markdown",
   "metadata": {},
   "source": [
    "<h2 id=\"family_rel\">Relazioni con la famiglia</h2>"
   ]
  },
  {
   "cell_type": "markdown",
   "metadata": {},
   "source": [
    "- qual è la qualità delle relazioni familiari?\n",
    "- relazione tra alcol e genitori separati (Pstatus e Guardian -> controllare)\n",
    "- Relazione tra lavoro ed educazione dei genitori e uso di alcolici da parte dei figli\n",
    "- valutare analisi per le seguenti variabili: famsize, famsup, internet"
   ]
  },
  {
   "cell_type": "markdown",
   "metadata": {},
   "source": [
    "<h2 id=\"#school_rel\">Relazioni con le istituzioni educative</h2>"
   ]
  },
  {
   "cell_type": "markdown",
   "metadata": {},
   "source": []
  },
  {
   "cell_type": "markdown",
   "metadata": {},
   "source": [
    "<h2 id=\"time_mng\">Gestione del tempo</h2>"
   ]
  },
  {
   "cell_type": "markdown",
   "metadata": {},
   "source": [
    "Valutazione tra la gestiione del tempo e l'uso di alcolici nelle seguenti categorie:\n",
    "\n",
    "- study time\n",
    "- free time\n",
    "- go out\n",
    "- travel time"
   ]
  },
  {
   "cell_type": "markdown",
   "metadata": {},
   "source": [
    "<h2 id=\"conclusions\">Conclusioni</h2>"
   ]
  },
  {
   "cell_type": "markdown",
   "metadata": {},
   "source": [
    "Conclusioni: cosa ci aspettavamo/ci potevamo aspettare di trovare e cosa abbiamo trovato"
   ]
  },
  {
   "cell_type": "markdown",
   "metadata": {},
   "source": [
    "<h1 id=\"pred_ana\">Data Prediction</h1>"
   ]
  },
  {
   "cell_type": "markdown",
   "metadata": {},
   "source": [
    "<h2 id=\"random_forest\">Random Forest</h2>"
   ]
  },
  {
   "cell_type": "markdown",
   "metadata": {},
   "source": [
    "link utili:\n",
    "\n",
    "<a href=\"https://www.geeksforgeeks.org/random-forest-regression-in-python/\">geeksforgeeks</a>\n",
    "\n",
    "<a href=\"https://www.youtube.com/watch?v=QHOazyP-YlM\">youtube</a>\n"
   ]
  },
  {
   "cell_type": "markdown",
   "metadata": {},
   "source": [
    "<h2 id=\"SVR\">Support Vector Regression</h2>"
   ]
  },
  {
   "cell_type": "markdown",
   "metadata": {},
   "source": [
    "\n",
    "<a href=\"https://www.youtube.com/watch?v=kPw1IGUAoY8\">youtube</a>\n",
    "\n",
    "<a href=\"https://towardsdatascience.com/unlocking-the-true-power-of-support-vector-regression-847fd123a4a0#:~:text=Support%20Vector%20Regression%20is%20a,the%20maximum%20number%20of%20points.\">towardsdatascience</a>\n",
    "\n",
    "<a href=\"https://www.mathworks.com/help/stats/understanding-support-vector-machine-regression.html\">mathworks</a>\n",
    "\n",
    "<a href=\"https://www.geeksforgeeks.org/support-vector-regression-svr-using-linear-and-non-linear-kernels-in-scikit-learn/\">geeksforgeeks</a>"
   ]
  },
  {
   "cell_type": "markdown",
   "metadata": {},
   "source": [
    "<h2 id=\"log_reg\">Logistic Regression</h2>"
   ]
  },
  {
   "cell_type": "markdown",
   "metadata": {},
   "source": [
    "<a href=\"\"></a>\n",
    "<a href=\"\"></a>\n",
    "<a href=\"\"></a>"
   ]
  },
  {
   "cell_type": "markdown",
   "metadata": {},
   "source": [
    "<h2 id=\"KNN\">KNN</h2>"
   ]
  },
  {
   "cell_type": "markdown",
   "metadata": {},
   "source": [
    "<a href=\"\"></a>\n",
    "<a href=\"\"></a>\n",
    "<a href=\"\"></a>"
   ]
  },
  {
   "cell_type": "markdown",
   "metadata": {},
   "source": [
    "<h2 id=\"comparison\">Confronto</h2>"
   ]
  },
  {
   "cell_type": "code",
   "execution_count": null,
   "metadata": {},
   "outputs": [],
   "source": []
  },
  {
   "cell_type": "code",
   "execution_count": null,
   "metadata": {},
   "outputs": [],
   "source": []
  },
  {
   "cell_type": "code",
   "execution_count": null,
   "metadata": {},
   "outputs": [],
   "source": []
  },
  {
   "cell_type": "code",
   "execution_count": null,
   "metadata": {},
   "outputs": [],
   "source": []
  },
  {
   "cell_type": "code",
   "execution_count": null,
   "metadata": {},
   "outputs": [],
   "source": []
  },
  {
   "cell_type": "code",
   "execution_count": null,
   "metadata": {},
   "outputs": [],
   "source": [
    "dalc_counts = total['Dalc'].value_counts().sort_index()\n",
    "walc_counts = total['Walc'].value_counts().sort_index()"
   ]
  },
  {
   "cell_type": "code",
   "execution_count": null,
   "metadata": {},
   "outputs": [],
   "source": [
    "# Creazione del grafico a righe per Dalc\n",
    "plt.figure(figsize=(10, 5))\n",
    "plt.plot(dalc_counts.index, dalc_counts.values, marker='o', linestyle='-', label='Dalc')\n",
    "plt.plot(walc_counts.index, walc_counts.values, marker='o', linestyle='-', label='Walc')\n",
    "plt.title('Conteggio dei valori di Dalc e Walc')\n",
    "plt.xlabel('Valori di Dalc e Walc')\n",
    "plt.ylabel('Conteggio')\n",
    "plt.xticks([1, 2, 3, 4, 5])\n",
    "plt.legend()\n",
    "plt.grid(False)\n",
    "plt.show()"
   ]
  },
  {
   "cell_type": "code",
   "execution_count": null,
   "metadata": {},
   "outputs": [],
   "source": [
    "# Contare la frequenza dei valori univoci di Dalc\n",
    "dalc_counts = total['Dalc'].value_counts().sort_index().reset_index()\n",
    "dalc_counts.columns = ['Value', 'Count']\n",
    "dalc_counts['Type'] = ('workday - Dalc')"
   ]
  },
  {
   "cell_type": "code",
   "execution_count": null,
   "metadata": {},
   "outputs": [],
   "source": [
    "# Contare la frequenza dei valori univoci di Walc\n",
    "walc_counts = total['Walc'].value_counts().sort_index().reset_index()\n",
    "walc_counts.columns = ['Value', 'Count']\n",
    "walc_counts['Type'] = 'weekend - Walc'"
   ]
  },
  {
   "cell_type": "code",
   "execution_count": null,
   "metadata": {},
   "outputs": [],
   "source": [
    "combined_counts = pd.concat([dalc_counts, walc_counts])"
   ]
  },
  {
   "cell_type": "code",
   "execution_count": null,
   "metadata": {
    "slideshow": {
     "slide_type": "slide"
    }
   },
   "outputs": [],
   "source": [
    "# Creare il grafico interattivo con Plotly\n",
    "fig = px.line(combined_counts, x='Value', y='Count', color='Type', markers=True,\n",
    "              labels={'Value': 'Valori di Dalc e Walc', 'Count': 'Conteggio'},\n",
    "              title='Numero studenti per consumo di alcol (1-low 5-high), \\ndurante la settimana (Dalc) e nel weekend(Walc)')\n",
    "\n",
    "# Aggiungere hover data per visualizzare il conteggio totale\n",
    "fig.update_traces(mode='markers+lines', hovertemplate='%{y}')\n",
    "\n",
    "# Mostrare il grafico\n",
    "fig.show()"
   ]
  },
  {
   "cell_type": "code",
   "execution_count": null,
   "metadata": {},
   "outputs": [],
   "source": []
  },
  {
   "cell_type": "code",
   "execution_count": null,
   "metadata": {},
   "outputs": [],
   "source": []
  },
  {
   "cell_type": "code",
   "execution_count": null,
   "metadata": {},
   "outputs": [],
   "source": [
    "# Creare la figura\n",
    "fig = go.Figure()\n",
    "\n",
    "# Aggiungere le barre per Dalc\n",
    "fig.add_trace(go.Bar(\n",
    "    y=dalc_counts.index,\n",
    "    x=dalc_counts.values,\n",
    "    name='Dalc',\n",
    "    orientation='h',\n",
    "    marker=dict(color='blue')\n",
    "))\n",
    "\n",
    "# Aggiungere le barre per Walc\n",
    "fig.add_trace(go.Bar(\n",
    "    y=walc_counts.index,\n",
    "    x=walc_counts.values,\n",
    "    name='Walc',\n",
    "    orientation='h',\n",
    "    marker=dict(color='orange')\n",
    "))\n",
    "\n",
    "# Aggiornare il layout per le barre parallele\n",
    "fig.update_layout(\n",
    "    barmode='group',\n",
    "    title='Conteggio dei valori di Dalc e Walc',\n",
    "    xaxis_title='Conteggio',\n",
    "    yaxis_title='Valori di Dalc e Walc',\n",
    "    legend_title_text='Tipo di Consumo',\n",
    "    legend=dict(\n",
    "        x=0.01,  # posizione orizzontale della legenda\n",
    "        y=0.99,  # posizione verticale della legenda\n",
    "        traceorder='normal',\n",
    "        font=dict(\n",
    "            family='Arial',\n",
    "            size=12,\n",
    "            color='black'\n",
    "        ),\n",
    "        bgcolor='LightSteelBlue',\n",
    "        bordercolor='Black',\n",
    "        borderwidth=2\n",
    "    )\n",
    ")\n",
    "\n",
    "# Aggiungere hover data per visualizzare il conteggio totale\n",
    "fig.update_traces(hovertemplate='Conteggio: %{x}')\n",
    "\n",
    "# Mostrare il grafico\n",
    "fig.show()"
   ]
  },
  {
   "cell_type": "code",
   "execution_count": null,
   "metadata": {},
   "outputs": [],
   "source": [
    "\n",
    "\n",
    "# Calcolare la media di Dalc per ciascuna fascia d'età\n",
    "age_dalc_mean = total.groupby('age')['Dalc'].mean().reset_index()\n",
    "\n",
    "# Creare il grafico a barre\n",
    "fig = px.bar(age_dalc_mean, x='age', y='Dalc', \n",
    "             labels={'age': 'Età', 'Dalc': 'Consumo medio di alcol nei giorni lavorativi'},\n",
    "             title='Consumo medio di alcol nei giorni lavorativi per fascia d\\'età')\n",
    "\n",
    "# Aggiungere hover data per visualizzare il consumo medio di alcol\n",
    "fig.update_traces(hovertemplate='Età: %{x}<br>Consumo medio: %{y}')\n",
    "\n",
    "# Personalizzare il layout\n",
    "fig.update_layout(\n",
    "    xaxis=dict(tickmode='linear'),\n",
    "    yaxis=dict(range=[0, 5]),  # Imposta il range dell'asse y da 0 a 5\n",
    "    bargap=0.2,  # Spazio tra le barre\n",
    "    plot_bgcolor='rgba(0,0,0,0)',  # Sfondo trasparente\n",
    "    title_x=0.5,  # Centra il titolo\n",
    ")\n",
    "\n",
    "# Mostrare il grafico\n",
    "fig.show()\n"
   ]
  },
  {
   "cell_type": "code",
   "execution_count": null,
   "metadata": {},
   "outputs": [],
   "source": []
  }
 ],
 "metadata": {
  "kernelspec": {
   "display_name": "s2i",
   "language": "python",
   "name": "python3"
  },
  "language_info": {
   "codemirror_mode": {
    "name": "ipython",
    "version": 3
   },
   "file_extension": ".py",
   "mimetype": "text/x-python",
   "name": "python",
   "nbconvert_exporter": "python",
   "pygments_lexer": "ipython3",
   "version": "3.12.3"
  }
 },
 "nbformat": 4,
 "nbformat_minor": 2
}
