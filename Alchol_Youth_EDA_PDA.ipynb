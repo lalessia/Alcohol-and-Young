{
 "cells": [
  {
   "cell_type": "code",
   "execution_count": 1,
   "metadata": {},
   "outputs": [],
   "source": [
    "# import library \n",
    "\n",
    "import pandas as pd\n",
    "import numpy as np\n",
    "\n",
    "import seaborn as sns\n",
    "import matplotlib.pyplot as plt\n",
    "import plotly.graph_objects as go\n",
    "\n",
    "from sklearn.preprocessing import LabelEncoder, OneHotEncoder\n",
    "\n",
    "from sklearn.decomposition import PCA\n",
    "from sklearn.preprocessing import StandardScaler\n",
    "\n",
    "from sklearn.model_selection import train_test_split, RandomizedSearchCV\n",
    "\n",
    "from sklearn.ensemble import RandomForestRegressor, GradientBoostingRegressor\n",
    "from sklearn.tree import DecisionTreeRegressor\n",
    "from sklearn.svm import SVR\n",
    "#from sklearn.neural_network import MLPRegressor\n",
    "from sklearn.linear_model import LinearRegression, Ridge\n",
    "from sklearn.neighbors import KNeighborsRegressor\n",
    "\n",
    "from scipy.stats import randint, uniform\n",
    "from sklearn.inspection import permutation_importance\n",
    "\n",
    "from sklearn.metrics import mean_squared_error, r2_score, mean_absolute_percentage_error, mean_absolute_error\n"
   ]
  },
  {
   "cell_type": "markdown",
   "metadata": {},
   "source": [
    "# EDA"
   ]
  },
  {
   "cell_type": "markdown",
   "metadata": {},
   "source": [
    "### Import and Check Dataset"
   ]
  },
  {
   "cell_type": "code",
   "execution_count": 2,
   "metadata": {},
   "outputs": [],
   "source": [
    "# import dataset\n",
    "por = pd.read_csv('dataset/dataset/student-por.csv')"
   ]
  },
  {
   "cell_type": "code",
   "execution_count": 3,
   "metadata": {},
   "outputs": [
    {
     "data": {
      "text/plain": [
       "array(['school', 'sex', 'age', 'address', 'famsize', 'Pstatus', 'Medu',\n",
       "       'Fedu', 'Mjob', 'Fjob', 'reason', 'guardian', 'traveltime',\n",
       "       'studytime', 'failures', 'schoolsup', 'famsup', 'paid',\n",
       "       'activities', 'nursery', 'higher', 'internet', 'romantic',\n",
       "       'famrel', 'freetime', 'goout', 'Dalc', 'Walc', 'health',\n",
       "       'absences', 'G1', 'G2', 'G3'], dtype=object)"
      ]
     },
     "execution_count": 3,
     "metadata": {},
     "output_type": "execute_result"
    }
   ],
   "source": [
    "por.columns.values"
   ]
  },
  {
   "cell_type": "markdown",
   "metadata": {},
   "source": [
    "Dove: \n",
    "<ul>\n",
    "<li><b>school</b>:  student's school (binary: 'GP' - Gabriel Pereira or 'MS' - Mousinho da Silveira)</li>\n",
    "<li><b>sex</b>: student's sex (binary: 'F' - female or 'M' - male)</li>\n",
    "<li><b>age</b>: student's age (numeric: from 15 to 22)</li>\n",
    "<li><b>address</b>: student's home address type (binary: 'U' - urban or 'R' - rural)</li>\n",
    "<li><b>famsize</b>: family size (binary: 'LE3' - less or equal to 3 or 'GT3' - greater than 3)</li>\n",
    "<li><b>Pstatus</b>: parent's cohabitation status (binary: 'T' - living together or 'A' - apart)</li>\n",
    "<li><b>Medu</b>: mother's education (numeric: 0 - none, 1 - primary education (4th grade), 2 – 5th to 9th grade, 3 – secondary education or 4 – higher education)</li>\n",
    "<li><b>Fedu</b>: Fedu - father's education (numeric: 0 - none, 1 - primary education (4th grade), 2 – 5th to 9th grade, 3 – secondary education or 4 – higher education)</li>\n",
    "<li><b>Mjob</b>: Mjob - mother's job (nominal: 'teacher', 'health' care related, civil 'services' (e.g. administrative or police), 'at_home' or 'other')</li>\n",
    "<li><b>Fjob</b>: Fjob - father's job (nominal: 'teacher', 'health' care related, civil 'services' (e.g. administrative or police), 'at_home' or 'other')</li>\n",
    "<li><b>reason</b>: reason - reason to choose this school (nominal: close to 'home', school 'reputation', 'course' preference or 'other')</li>\n",
    "<li><b>guardian</b>: guardian - student's guardian (nominal: 'mother', 'father' or 'other')</li>\n",
    "<li><b>traveltime</b>: traveltime - home to school travel time (numeric: 1 - <15 min., 2 - 15 to 30 min., 3 - 30 min. to 1 hour, or 4 - >1 hour)</li>\n",
    "<li><b>studytime</b>: studytime - weekly study time (numeric: 1 - <2 hours, 2 - 2 to 5 hours, 3 - 5 to 10 hours, or 4 - >10 hours)</li>\n",
    "<li><b>failures</b>: number of past class failures (numeric: n if 1<=n<3, else 4)</li>\n",
    "<li><b>schoolsup</b>: extra educational support (binary: yes or no)</li>\n",
    "<li><b>famsup</b>: family educational support (binary: yes or no)</li>\n",
    "<li><b>paid</b>: extra paid classes within the course subject (Math or Portuguese) (binary: yes or no)</li>\n",
    "<li><b>activities</b>: extra-curricular activities (binary: yes or no)</li>\n",
    "<li><b>nursery</b>: attended nursery school (binary: yes or no)</li>\n",
    "<li><b>higher</b>: wants to take higher education (binary: yes or no)</li>\n",
    "<li><b>internet</b>: Internet access at home (binary: yes or no)</li>\n",
    "<li><b>romantic</b>: with a romantic relationship (binary: yes or no)</li>\n",
    "<li><b>famrel</b>: quality of family relationships (numeric: from 1 - very bad to 5 - excellent)</li>\n",
    "<li><b>freetime</b>: free time after school (numeric: from 1 - very low to 5 - very high)</li>\n",
    "<li><b>goout</b>: going out with friends (numeric: from 1 - very low to 5 - very high)</li>\n",
    "<li><b>Dalc</b>: workday alcohol consumption (numeric: from 1 - very low to 5 - very high)</li>\n",
    "<li><b>Walc</b>: weekend alcohol consumption (numeric: from 1 - very low to 5 - very high)</li>\n",
    "<li><b>health</b>: current health status (numeric: from 1 - very bad to 5 - very good)</li>\n",
    "<li><b>absences</b>: number of school absences (numeric: from 0 to 93)</li>\n",
    "\n",
    "<li><b>G1</b>: first period grade (numeric: from 0 to 20)</li>\n",
    "<li><b>G2</b>: second period grade (numeric: from 0 to 20)</li>\n",
    "<li><b>G3</b>: final grade (numeric: from 0 to 20, output target)</li>\n",
    "\n",
    "</ul>"
   ]
  },
  {
   "cell_type": "code",
   "execution_count": 4,
   "metadata": {},
   "outputs": [
    {
     "data": {
      "text/plain": [
       "(649, 33)"
      ]
     },
     "execution_count": 4,
     "metadata": {},
     "output_type": "execute_result"
    }
   ],
   "source": [
    "por.shape"
   ]
  },
  {
   "cell_type": "code",
   "execution_count": 5,
   "metadata": {},
   "outputs": [
    {
     "data": {
      "text/plain": [
       "0"
      ]
     },
     "execution_count": 5,
     "metadata": {},
     "output_type": "execute_result"
    }
   ],
   "source": [
    "len(por[por.duplicated()])"
   ]
  },
  {
   "cell_type": "code",
   "execution_count": 6,
   "metadata": {},
   "outputs": [
    {
     "name": "stdout",
     "output_type": "stream",
     "text": [
      "<class 'pandas.core.frame.DataFrame'>\n",
      "RangeIndex: 649 entries, 0 to 648\n",
      "Data columns (total 33 columns):\n",
      " #   Column      Non-Null Count  Dtype \n",
      "---  ------      --------------  ----- \n",
      " 0   school      649 non-null    object\n",
      " 1   sex         649 non-null    object\n",
      " 2   age         649 non-null    int64 \n",
      " 3   address     649 non-null    object\n",
      " 4   famsize     649 non-null    object\n",
      " 5   Pstatus     649 non-null    object\n",
      " 6   Medu        649 non-null    int64 \n",
      " 7   Fedu        649 non-null    int64 \n",
      " 8   Mjob        649 non-null    object\n",
      " 9   Fjob        649 non-null    object\n",
      " 10  reason      649 non-null    object\n",
      " 11  guardian    649 non-null    object\n",
      " 12  traveltime  649 non-null    int64 \n",
      " 13  studytime   649 non-null    int64 \n",
      " 14  failures    649 non-null    int64 \n",
      " 15  schoolsup   649 non-null    object\n",
      " 16  famsup      649 non-null    object\n",
      " 17  paid        649 non-null    object\n",
      " 18  activities  649 non-null    object\n",
      " 19  nursery     649 non-null    object\n",
      " 20  higher      649 non-null    object\n",
      " 21  internet    649 non-null    object\n",
      " 22  romantic    649 non-null    object\n",
      " 23  famrel      649 non-null    int64 \n",
      " 24  freetime    649 non-null    int64 \n",
      " 25  goout       649 non-null    int64 \n",
      " 26  Dalc        649 non-null    int64 \n",
      " 27  Walc        649 non-null    int64 \n",
      " 28  health      649 non-null    int64 \n",
      " 29  absences    649 non-null    int64 \n",
      " 30  G1          649 non-null    int64 \n",
      " 31  G2          649 non-null    int64 \n",
      " 32  G3          649 non-null    int64 \n",
      "dtypes: int64(16), object(17)\n",
      "memory usage: 167.4+ KB\n"
     ]
    }
   ],
   "source": [
    "por.info()"
   ]
  },
  {
   "cell_type": "code",
   "execution_count": 7,
   "metadata": {},
   "outputs": [
    {
     "data": {
      "text/html": [
       "<div>\n",
       "<style scoped>\n",
       "    .dataframe tbody tr th:only-of-type {\n",
       "        vertical-align: middle;\n",
       "    }\n",
       "\n",
       "    .dataframe tbody tr th {\n",
       "        vertical-align: top;\n",
       "    }\n",
       "\n",
       "    .dataframe thead th {\n",
       "        text-align: right;\n",
       "    }\n",
       "</style>\n",
       "<table border=\"1\" class=\"dataframe\">\n",
       "  <thead>\n",
       "    <tr style=\"text-align: right;\">\n",
       "      <th></th>\n",
       "      <th>school</th>\n",
       "      <th>sex</th>\n",
       "      <th>age</th>\n",
       "      <th>address</th>\n",
       "      <th>famsize</th>\n",
       "      <th>Pstatus</th>\n",
       "      <th>Medu</th>\n",
       "      <th>Fedu</th>\n",
       "      <th>Mjob</th>\n",
       "      <th>Fjob</th>\n",
       "      <th>...</th>\n",
       "      <th>famrel</th>\n",
       "      <th>freetime</th>\n",
       "      <th>goout</th>\n",
       "      <th>Dalc</th>\n",
       "      <th>Walc</th>\n",
       "      <th>health</th>\n",
       "      <th>absences</th>\n",
       "      <th>G1</th>\n",
       "      <th>G2</th>\n",
       "      <th>G3</th>\n",
       "    </tr>\n",
       "  </thead>\n",
       "  <tbody>\n",
       "    <tr>\n",
       "      <th>0</th>\n",
       "      <td>GP</td>\n",
       "      <td>F</td>\n",
       "      <td>18</td>\n",
       "      <td>U</td>\n",
       "      <td>GT3</td>\n",
       "      <td>A</td>\n",
       "      <td>4</td>\n",
       "      <td>4</td>\n",
       "      <td>at_home</td>\n",
       "      <td>teacher</td>\n",
       "      <td>...</td>\n",
       "      <td>4</td>\n",
       "      <td>3</td>\n",
       "      <td>4</td>\n",
       "      <td>1</td>\n",
       "      <td>1</td>\n",
       "      <td>3</td>\n",
       "      <td>4</td>\n",
       "      <td>0</td>\n",
       "      <td>11</td>\n",
       "      <td>11</td>\n",
       "    </tr>\n",
       "    <tr>\n",
       "      <th>1</th>\n",
       "      <td>GP</td>\n",
       "      <td>F</td>\n",
       "      <td>17</td>\n",
       "      <td>U</td>\n",
       "      <td>GT3</td>\n",
       "      <td>T</td>\n",
       "      <td>1</td>\n",
       "      <td>1</td>\n",
       "      <td>at_home</td>\n",
       "      <td>other</td>\n",
       "      <td>...</td>\n",
       "      <td>5</td>\n",
       "      <td>3</td>\n",
       "      <td>3</td>\n",
       "      <td>1</td>\n",
       "      <td>1</td>\n",
       "      <td>3</td>\n",
       "      <td>2</td>\n",
       "      <td>9</td>\n",
       "      <td>11</td>\n",
       "      <td>11</td>\n",
       "    </tr>\n",
       "    <tr>\n",
       "      <th>2</th>\n",
       "      <td>GP</td>\n",
       "      <td>F</td>\n",
       "      <td>15</td>\n",
       "      <td>U</td>\n",
       "      <td>LE3</td>\n",
       "      <td>T</td>\n",
       "      <td>1</td>\n",
       "      <td>1</td>\n",
       "      <td>at_home</td>\n",
       "      <td>other</td>\n",
       "      <td>...</td>\n",
       "      <td>4</td>\n",
       "      <td>3</td>\n",
       "      <td>2</td>\n",
       "      <td>2</td>\n",
       "      <td>3</td>\n",
       "      <td>3</td>\n",
       "      <td>6</td>\n",
       "      <td>12</td>\n",
       "      <td>13</td>\n",
       "      <td>12</td>\n",
       "    </tr>\n",
       "    <tr>\n",
       "      <th>3</th>\n",
       "      <td>GP</td>\n",
       "      <td>F</td>\n",
       "      <td>15</td>\n",
       "      <td>U</td>\n",
       "      <td>GT3</td>\n",
       "      <td>T</td>\n",
       "      <td>4</td>\n",
       "      <td>2</td>\n",
       "      <td>health</td>\n",
       "      <td>services</td>\n",
       "      <td>...</td>\n",
       "      <td>3</td>\n",
       "      <td>2</td>\n",
       "      <td>2</td>\n",
       "      <td>1</td>\n",
       "      <td>1</td>\n",
       "      <td>5</td>\n",
       "      <td>0</td>\n",
       "      <td>14</td>\n",
       "      <td>14</td>\n",
       "      <td>14</td>\n",
       "    </tr>\n",
       "    <tr>\n",
       "      <th>4</th>\n",
       "      <td>GP</td>\n",
       "      <td>F</td>\n",
       "      <td>16</td>\n",
       "      <td>U</td>\n",
       "      <td>GT3</td>\n",
       "      <td>T</td>\n",
       "      <td>3</td>\n",
       "      <td>3</td>\n",
       "      <td>other</td>\n",
       "      <td>other</td>\n",
       "      <td>...</td>\n",
       "      <td>4</td>\n",
       "      <td>3</td>\n",
       "      <td>2</td>\n",
       "      <td>1</td>\n",
       "      <td>2</td>\n",
       "      <td>5</td>\n",
       "      <td>0</td>\n",
       "      <td>11</td>\n",
       "      <td>13</td>\n",
       "      <td>13</td>\n",
       "    </tr>\n",
       "  </tbody>\n",
       "</table>\n",
       "<p>5 rows × 33 columns</p>\n",
       "</div>"
      ],
      "text/plain": [
       "  school sex  age address famsize Pstatus  Medu  Fedu     Mjob      Fjob  ...  \\\n",
       "0     GP   F   18       U     GT3       A     4     4  at_home   teacher  ...   \n",
       "1     GP   F   17       U     GT3       T     1     1  at_home     other  ...   \n",
       "2     GP   F   15       U     LE3       T     1     1  at_home     other  ...   \n",
       "3     GP   F   15       U     GT3       T     4     2   health  services  ...   \n",
       "4     GP   F   16       U     GT3       T     3     3    other     other  ...   \n",
       "\n",
       "  famrel freetime  goout  Dalc  Walc health absences  G1  G2  G3  \n",
       "0      4        3      4     1     1      3        4   0  11  11  \n",
       "1      5        3      3     1     1      3        2   9  11  11  \n",
       "2      4        3      2     2     3      3        6  12  13  12  \n",
       "3      3        2      2     1     1      5        0  14  14  14  \n",
       "4      4        3      2     1     2      5        0  11  13  13  \n",
       "\n",
       "[5 rows x 33 columns]"
      ]
     },
     "execution_count": 7,
     "metadata": {},
     "output_type": "execute_result"
    }
   ],
   "source": [
    "por.head()"
   ]
  },
  {
   "cell_type": "markdown",
   "metadata": {},
   "source": [
    "### Score Analysis"
   ]
  },
  {
   "cell_type": "code",
   "execution_count": 4,
   "metadata": {},
   "outputs": [
    {
     "name": "stdout",
     "output_type": "stream",
     "text": [
      "Media dei voti:  11.91\n"
     ]
    }
   ],
   "source": [
    "print(\"Media dei voti: \", round(por.G3.mean(), 2))"
   ]
  },
  {
   "cell_type": "code",
   "execution_count": 5,
   "metadata": {},
   "outputs": [
    {
     "data": {
      "image/png": "[encoded data removed]",
      "text/plain": [
       "<Figure size 1000x600 with 1 Axes>"
      ]
     },
     "metadata": {},
     "output_type": "display_data"
    }
   ],
   "source": [
    "# Calcola il numero di studenti per ciascun voto distintivo\n",
    "voti_distinti = sorted(por['G3'].unique())  # Ottieni i voti distinti e ordina\n",
    "numero_studenti = por['G3'].value_counts().sort_index()  # Conta il numero di studenti per ciascun voto e ordina per voto\n",
    "\n",
    "# Crea il grafico a istogramma\n",
    "plt.figure(figsize=(10, 6))\n",
    "bars = plt.bar(voti_distinti, numero_studenti, color='skyblue')\n",
    "\n",
    "# Aggiungi il totale degli studenti sopra ogni barra\n",
    "for bar, count in zip(bars, numero_studenti):\n",
    "    plt.text(bar.get_x() + bar.get_width() / 2, bar.get_height() + 0.5, count,\n",
    "             ha='center', va='bottom', fontsize=10, color='black')\n",
    "\n",
    "plt.xlabel('Voto Finale (G3)')\n",
    "plt.ylabel('Numero di Studenti')\n",
    "plt.title('Distribuzione dei Voti Finali degli Studenti')\n",
    "plt.xticks(voti_distinti)\n",
    "plt.grid(axis='y')\n",
    "plt.show()"
   ]
  },
  {
   "cell_type": "code",
   "execution_count": null,
   "metadata": {},
   "outputs": [],
   "source": [
    "'''\n",
    "data bining: https://medium.com/@mose.kabungo/binning-explained-557aa3cce591\n",
    "'''"
   ]
  },
  {
   "cell_type": "markdown",
   "metadata": {},
   "source": [
    "Binning della variabile 'G3' per rendere più leggibile l'andamento dei voti"
   ]
  },
  {
   "cell_type": "code",
   "execution_count": 6,
   "metadata": {},
   "outputs": [],
   "source": [
    "bins = [0, 4, 8, 12, 16, 20]\n",
    "#labels = ['Scarso', 'Mediocre', 'Sufficiente', 'Buono', 'Ottimo']\n",
    "labels = ['Ottimo' , 'Buono', 'Sufficiente', 'Mediocre', 'Scarso']\n",
    "\n",
    "# Classifica i voti 'G3' in queste fasce\n",
    "por['score_range'] = pd.cut(por['G3'], bins=bins, labels=labels, right=False)\n",
    "\n",
    "# Calcola la percentuale di studenti in ogni fascia\n",
    "percentage_range = por['score_range'].value_counts(normalize=True) * 100\n",
    "\n",
    "percentage_range = percentage_range.reindex(labels)"
   ]
  },
  {
   "cell_type": "code",
   "execution_count": 7,
   "metadata": {},
   "outputs": [],
   "source": [
    "# Crea una palette di colori che va dal rosso al verde\n",
    "pal = sns.color_palette(\"RdYlGn\", len(labels))"
   ]
  },
  {
   "cell_type": "code",
   "execution_count": 8,
   "metadata": {},
   "outputs": [
    {
     "data": {
      "image/png": "[encoded data removed]",
      "text/plain": [
       "<Figure size 1000x600 with 1 Axes>"
      ]
     },
     "metadata": {},
     "output_type": "display_data"
    }
   ],
   "source": [
    "# Crea un istogramma delle percentuali\n",
    "plt.figure(figsize=(10, 6))\n",
    "\n",
    "sns.barplot(x=percentage_range.values, y=percentage_range.index, hue=percentage_range.index, palette=pal)\n",
    "\n",
    "# Aggiungi le etichette e il titolo\n",
    "plt.xlabel('Percentuale di Studenti (%)')\n",
    "plt.ylabel('')\n",
    "plt.title('Distribuzione Percentuale degli Studenti per Fasce di Voto')\n",
    "\n",
    "# Aggiungi i valori sopra ogni barra\n",
    "for i in range(len(percentage_range)):\n",
    "    plt.text(percentage_range.values[i] + 0.5, i, f'{percentage_range.values[i]:.2f}%', ha='left', va='center', fontsize=10, color='black')\n",
    "\n",
    "#plt.subplots_adjust(right=1.2)\n",
    "plt.tight_layout()\n",
    "plt.show()"
   ]
  },
  {
   "cell_type": "code",
   "execution_count": 9,
   "metadata": {},
   "outputs": [],
   "source": [
    "por = por.drop(labels='score_range', axis=1)"
   ]
  },
  {
   "cell_type": "markdown",
   "metadata": {},
   "source": [
    "### Correlation with finale score (G3)\n",
    "\n",
    "##### Encoding categorical variables"
   ]
  },
  {
   "cell_type": "markdown",
   "metadata": {},
   "source": [
    "Data la grande quantità di variabili categoriche, è stata effettuata un encoding di queste variabile, prima di generare la matrice di correlazione."
   ]
  },
  {
   "cell_type": "code",
   "execution_count": 10,
   "metadata": {},
   "outputs": [],
   "source": [
    "por_enc = por.copy()"
   ]
  },
  {
   "cell_type": "code",
   "execution_count": 11,
   "metadata": {},
   "outputs": [],
   "source": [
    "label_encoders = {}\n",
    "onehot_encoders = {}\n",
    "mapping = {}  # LabelEncoder mapping dictionary"
   ]
  },
  {
   "cell_type": "code",
   "execution_count": 12,
   "metadata": {},
   "outputs": [],
   "source": [
    "categorical_columns = por_enc.select_dtypes(exclude=['number']).columns\n",
    "\n",
    "categorical_binary_columns = []\n",
    "categorical_not_binary_columns = []\n",
    "\n",
    "\n",
    "for col in categorical_columns:\n",
    "        if por_enc.nunique()[col] == 2:\n",
    "                categorical_binary_columns.append(col)\n",
    "        else:\n",
    "               categorical_not_binary_columns.append(col)"
   ]
  },
  {
   "cell_type": "code",
   "execution_count": 13,
   "metadata": {},
   "outputs": [],
   "source": [
    "# Encoding non-binary variables with OneHotEncoder and updating the mapping\n",
    "for col in categorical_not_binary_columns:\n",
    "    onehot_encoders[col] = OneHotEncoder(categories='auto', drop='if_binary')\n",
    "    encoded_values = onehot_encoders[col].fit_transform(por_enc[[col]])\n",
    "    encoded_df = pd.DataFrame(encoded_values.toarray(), columns=onehot_encoders[col].get_feature_names_out([col]))\n",
    "    por_enc = pd.concat([por_enc, encoded_df], axis=1)\n",
    "    \n",
    "    # Update the mapping\n",
    "    mapping[col] = {i: cat for i, cat in enumerate(onehot_encoders[col].categories_[0])}\n",
    "\n",
    "    por_enc.drop(columns=[col], inplace=True)"
   ]
  },
  {
   "cell_type": "code",
   "execution_count": 14,
   "metadata": {},
   "outputs": [],
   "source": [
    "# Encoding binary variables with LabelEncoder and updating the mapping\n",
    "for col in categorical_binary_columns:\n",
    "    label_encoders[col] = LabelEncoder()\n",
    "    por_enc[col] = label_encoders[col].fit_transform(por_enc[col])\n",
    "    \n",
    "    # Update the mapping\n",
    "    mapping[col] = {i: cat for i, cat in enumerate(label_encoders[col].classes_)}"
   ]
  },
  {
   "cell_type": "markdown",
   "metadata": {},
   "source": [
    "##### G3 - Correlation"
   ]
  },
  {
   "cell_type": "code",
   "execution_count": 15,
   "metadata": {},
   "outputs": [],
   "source": [
    "# Calcolare la matrice di correlazione\n",
    "correlation_matrix = por_enc.corr()\n",
    "g3_correlations_abs = correlation_matrix['G3'].abs().sort_values(ascending=False)\n"
   ]
  },
  {
   "cell_type": "code",
   "execution_count": 16,
   "metadata": {},
   "outputs": [
    {
     "data": {
      "text/plain": [
       "G3                   1.000000\n",
       "G2                   0.918548\n",
       "G1                   0.826387\n",
       "failures             0.393316\n",
       "higher               0.332172\n",
       "school               0.284294\n",
       "studytime            0.249789\n",
       "Medu                 0.240151\n",
       "Fedu                 0.211800\n",
       "Dalc                 0.204719\n",
       "Walc                 0.176619\n",
       "reason_reputation    0.170944\n",
       "address              0.167637\n",
       "internet             0.150025\n",
       "Mjob_at_home         0.136778\n",
       "Mjob_teacher         0.134910\n",
       "reason_other         0.132577\n",
       "sex                  0.129077\n",
       "traveltime           0.127173\n",
       "Fjob_teacher         0.125916\n",
       "freetime             0.122705\n",
       "age                  0.106505\n",
       "Mjob_health          0.101244\n",
       "health               0.098851\n",
       "reason_course        0.098305\n",
       "absences             0.091379\n",
       "romantic             0.090583\n",
       "goout                0.087641\n",
       "guardian_other       0.080729\n",
       "schoolsup            0.066405\n",
       "famrel               0.063361\n",
       "activities           0.059791\n",
       "Mjob_other           0.059251\n",
       "famsup               0.059206\n",
       "paid                 0.054898\n",
       "Fjob_services        0.053204\n",
       "guardian_father      0.051030\n",
       "reason_home          0.046537\n",
       "famsize              0.045016\n",
       "Fjob_health          0.039142\n",
       "Fjob_at_home         0.038904\n",
       "Mjob_services        0.038447\n",
       "nursery              0.028752\n",
       "Fjob_other           0.005301\n",
       "guardian_mother      0.004415\n",
       "Pstatus              0.000754\n",
       "Name: G3, dtype: float64"
      ]
     },
     "execution_count": 16,
     "metadata": {},
     "output_type": "execute_result"
    }
   ],
   "source": [
    "g3_correlations_abs"
   ]
  },
  {
   "cell_type": "markdown",
   "metadata": {},
   "source": [
    "Data l'alta correlazione con le variabili G1 e G2, che sono comunque logicamente correlate a G3, è stato deciso di rimuoverle onde evitare problematiche di <b>overfitting</b> e <b>multicollinearità</b>.\n",
    "\n",
    "Il dataset originale, contenente le feature G1 e G2, verrà comunque lanciato, per dimostrare le performance in fase di valutazione dei modelli predittivi in loro presenza."
   ]
  },
  {
   "cell_type": "code",
   "execution_count": 17,
   "metadata": {},
   "outputs": [],
   "source": [
    "por_enc_bck = por_enc.copy()\n",
    "por_enc = por_enc.drop(['G1', 'G2'], axis=1)"
   ]
  },
  {
   "cell_type": "code",
   "execution_count": 18,
   "metadata": {},
   "outputs": [],
   "source": [
    "correlation_matrix = por_enc.corr()\n",
    "g3_correlations_abs = correlation_matrix['G3'].abs().sort_values(ascending=False)"
   ]
  },
  {
   "cell_type": "code",
   "execution_count": 19,
   "metadata": {},
   "outputs": [
    {
     "data": {
      "text/plain": [
       "G3                   1.000000\n",
       "failures             0.393316\n",
       "higher               0.332172\n",
       "school               0.284294\n",
       "studytime            0.249789\n",
       "Medu                 0.240151\n",
       "Fedu                 0.211800\n",
       "Dalc                 0.204719\n",
       "Walc                 0.176619\n",
       "reason_reputation    0.170944\n",
       "address              0.167637\n",
       "internet             0.150025\n",
       "Mjob_at_home         0.136778\n",
       "Mjob_teacher         0.134910\n",
       "reason_other         0.132577\n",
       "sex                  0.129077\n",
       "traveltime           0.127173\n",
       "Fjob_teacher         0.125916\n",
       "freetime             0.122705\n",
       "age                  0.106505\n",
       "Mjob_health          0.101244\n",
       "Name: G3, dtype: float64"
      ]
     },
     "execution_count": 19,
     "metadata": {},
     "output_type": "execute_result"
    }
   ],
   "source": [
    "g3_correlations_abs[g3_correlations_abs >= 0.1]"
   ]
  },
  {
   "cell_type": "code",
   "execution_count": 20,
   "metadata": {},
   "outputs": [
    {
     "data": {
      "image/png": "[encoded data removed]",
      "text/plain": [
       "<Figure size 1000x800 with 1 Axes>"
      ]
     },
     "metadata": {},
     "output_type": "display_data"
    }
   ],
   "source": [
    "plt.figure(figsize=(10, 8))\n",
    "\n",
    "# Crea una palette di colori che va dal verde al rosso\n",
    "palette = sns.color_palette(\"RdYlGn\", len(g3_correlations_abs))\n",
    "\n",
    "# Inverti la palette per avere il verde in alto e il rosso in basso\n",
    "sns.barplot(x=g3_correlations_abs.values, y=g3_correlations_abs.index, hue=g3_correlations_abs.index, orient='h', palette=palette[::-1])\n",
    "plt.title('Correlazioni Assolute con G3')\n",
    "plt.xlabel('Correlazione Assoluta')\n",
    "plt.ylabel('Variabili')\n",
    "\n",
    "# Aggiungi le annotazioni di valore utilizzando Matplotlib\n",
    "for i, v in enumerate(g3_correlations_abs):\n",
    "    plt.text(v + 0.01, i, f'{v:.2f}', va='center', fontsize=10)\n",
    "\n",
    "plt.show()\n"
   ]
  },
  {
   "cell_type": "code",
   "execution_count": null,
   "metadata": {},
   "outputs": [],
   "source": [
    "variables_of_interest = (g3_correlations_abs[g3_correlations_abs >= 0.1].index.tolist())\n",
    "\n",
    "#variables_of_interest = variables_of_interest.remove(\"G3\")\n",
    "\n",
    "print(variables_of_interest)"
   ]
  },
  {
   "cell_type": "code",
   "execution_count": null,
   "metadata": {},
   "outputs": [],
   "source": []
  },
  {
   "cell_type": "code",
   "execution_count": null,
   "metadata": {},
   "outputs": [],
   "source": []
  },
  {
   "cell_type": "code",
   "execution_count": null,
   "metadata": {},
   "outputs": [],
   "source": []
  },
  {
   "cell_type": "markdown",
   "metadata": {},
   "source": [
    "### Analisi dei voti\n",
    "\n",
    "finalizzata a capire come possiamo classificare un voto: scarso, mediocre, sufficiente, buono, ottimo"
   ]
  },
  {
   "cell_type": "code",
   "execution_count": null,
   "metadata": {},
   "outputs": [],
   "source": [
    "#analisi di chi non ha mai subito bocciature\n",
    "\n",
    "print(\"Media degli studenti che non sono stati bocciati: \", round(por[por.failures == 0].G3.mean(), 2))\n",
    "print(\"Media degli studenti che sono stati bocciati almeno una volta: \", round(por[por.failures != 0].G3.mean(), 2))\n",
    "\n",
    "print(\"Valore massimo degli studenti che sono stati bocciati almeno una volta: \", por[por.failures != 0].G3.max())\n",
    "print(\"Valore minimo degli studenti che sono stati bocciati almeno una volta: \", por[por.failures != 0].G3.min())\n",
    "\n",
    "print(\"Valore massimo degli studenti che non sono stati mai bocciati: \", por[por.failures == 0].G3.max())\n",
    "print(\"Valore minimo degli studenti che non sono stati mai bocciati: \", por[por.failures == 0].G3.min())\n",
    "\n",
    "print(\"Media degli studenti che ambiscono a studi superiori: \", round(por[por.higher == 'yes'].G3.mean(), 2))"
   ]
  },
  {
   "cell_type": "code",
   "execution_count": null,
   "metadata": {},
   "outputs": [],
   "source": [
    "print(\"Media generale: \", round(por.G3.mean(), 2))"
   ]
  },
  {
   "cell_type": "markdown",
   "metadata": {},
   "source": [
    "Boxplot"
   ]
  },
  {
   "cell_type": "code",
   "execution_count": null,
   "metadata": {},
   "outputs": [],
   "source": [
    "\n",
    "# Definisci le colonne categoriali per le quali vuoi creare i boxplot\n",
    "categorical_columns = ['sex', 'age', 'Fedu', 'Medu', 'failures', 'higher']  # Aggiungi altre colonne se necessario\n",
    "\n",
    "# Imposta lo stile di Seaborn\n",
    "sns.set_theme(style=\"whitegrid\")\n",
    "\n",
    "# Calcola il numero totale di subplot necessari\n",
    "num_plots = len(categorical_columns)\n",
    "num_rows = (num_plots - 1) // 3 + 1  # Calcola il numero di righe necessarie\n",
    "\n",
    "# Crea una figura con subplot organizzati in una griglia 3x(num_rows)\n",
    "fig, axes = plt.subplots(num_rows, 3, figsize=(18, num_rows * 6))\n",
    "\n",
    "# Flattening degli assi nel caso ci siano meno di 3 colonne\n",
    "axes = axes.flatten()\n",
    "\n",
    "# Ciclo per generare i boxplot per ciascuna colonna categoriale\n",
    "for i, col in enumerate(categorical_columns):\n",
    "    ax = axes[i]\n",
    "    sns.boxplot(x=col, y='G3', data=por, ax=ax)\n",
    "    ax.set_title(f'Distribuzione dei voti (G3) per {col}')\n",
    "    ax.set_xlabel(col)\n",
    "    ax.set_ylabel('G3')\n",
    "\n",
    "# Rimuovi eventuali assi non utilizzati se il numero di colonne non è multiplo di 3\n",
    "for j in range(num_plots, len(axes)):\n",
    "    fig.delaxes(axes[j])\n",
    "\n",
    "# Mostra il grafico\n",
    "plt.tight_layout()\n",
    "plt.show()\n"
   ]
  },
  {
   "cell_type": "code",
   "execution_count": null,
   "metadata": {},
   "outputs": [],
   "source": [
    "por.groupby(\"failures\")[\"G3\"].mean()"
   ]
  },
  {
   "cell_type": "code",
   "execution_count": null,
   "metadata": {},
   "outputs": [],
   "source": [
    "por.groupby(\"higher\")[\"G3\"].mean()"
   ]
  },
  {
   "cell_type": "markdown",
   "metadata": {},
   "source": [
    "### Personal Analysis"
   ]
  },
  {
   "cell_type": "code",
   "execution_count": null,
   "metadata": {},
   "outputs": [],
   "source": [
    "# analisi per sesso\n",
    "\n",
    "# analisi per sesso e per età\n",
    "\n",
    "# analisi del livello d'istruzione dei genitori rispetto ai risultati dei figli\n",
    "\n",
    "# analisi address"
   ]
  },
  {
   "cell_type": "code",
   "execution_count": null,
   "metadata": {},
   "outputs": [],
   "source": [
    "por.groupby(\"sex\")[\"G3\"].mean()"
   ]
  },
  {
   "cell_type": "code",
   "execution_count": null,
   "metadata": {},
   "outputs": [],
   "source": [
    "por.groupby([\"age\", \"sex\"])[\"G3\"].mean()"
   ]
  },
  {
   "cell_type": "code",
   "execution_count": null,
   "metadata": {},
   "outputs": [],
   "source": [
    "# Calcola la media dei voti dei figli per ciascuna combinazione di età e sesso\n",
    "mean_scores = por.groupby([\"age\", \"sex\"])[\"G3\"].mean().unstack()\n",
    "\n",
    "# Imposta la larghezza delle barre e la posizione delle barre parallele\n",
    "bar_height = 0.35\n",
    "age_levels = mean_scores.index\n",
    "index = np.arange(len(age_levels))\n",
    "\n",
    "# Crea la figura e gli assi\n",
    "fig, ax = plt.subplots()\n",
    "\n",
    "# Crea le barre orizzontali per i sessi con colori specificati\n",
    "bars_f = ax.barh(index, mean_scores['F'], bar_height, label='F', color='skyblue')\n",
    "bars_m = ax.barh(index + bar_height, mean_scores['M'], bar_height, label='M', color='salmon')\n",
    "\n",
    "# Aggiungi etichette e titolo\n",
    "ax.set_ylabel(\"Età\")\n",
    "ax.set_xlabel('Media dei voti (G3)')\n",
    "ax.set_title(\"Media dei voti per età e sesso\")\n",
    "ax.set_yticks(index + bar_height / 2)\n",
    "ax.set_yticklabels(age_levels)\n",
    "ax.legend()\n",
    "\n",
    "# Aggiungi i valori accanto a ogni barra con font-size ridotto e colore nero per il testo\n",
    "for bar in bars_f:\n",
    "    width = bar.get_width()\n",
    "    ax.text(width, bar.get_y() + bar.get_height() / 2, f'{width:.2f}', ha='left', va='center', fontsize=8, color='black')\n",
    "\n",
    "for bar in bars_m:\n",
    "    width = bar.get_width()\n",
    "    ax.text(width, bar.get_y() + bar.get_height() / 2, f'{width:.2f}', ha='left', va='center', fontsize=8, color='black')\n",
    "\n",
    "# Mostra il grafico\n",
    "plt.show()\n"
   ]
  },
  {
   "cell_type": "code",
   "execution_count": null,
   "metadata": {},
   "outputs": [],
   "source": [
    "print(\"Grado di educazione medio dei padri: \", por.Fedu.mean())\n",
    "print(\"Grado di educazione medio delle madri: \", por.Medu.mean())"
   ]
  },
  {
   "cell_type": "code",
   "execution_count": null,
   "metadata": {},
   "outputs": [],
   "source": [
    "# Grafico che rappresenta l'andamento scolastico dei figli rispetto al livello d'istruzione dei genitori"
   ]
  },
  {
   "cell_type": "code",
   "execution_count": null,
   "metadata": {},
   "outputs": [],
   "source": [
    "# Calcola la media dei voti dei figli per ciascun livello d'istruzione dei genitori\n",
    "fedu_mean = por.groupby('Fedu')['G3'].mean()\n",
    "medu_mean = por.groupby('Medu')['G3'].mean()\n",
    "\n",
    "# Crea un array di valori unici per Fedu e Medu\n",
    "education_levels = np.arange(5)\n",
    "\n",
    "# Imposta l'altezza delle barre e la posizione delle barre parallele\n",
    "bar_height = 0.35\n",
    "index = np.arange(len(education_levels))\n",
    "\n",
    "# Crea la figura e gli assi\n",
    "fig, ax = plt.subplots()\n",
    "\n",
    "# Colori per Fedu e Medu\n",
    "color_fedu = 'skyblue'\n",
    "color_medu = 'salmon'\n",
    "\n",
    "# Crea le barre orizzontali per Fedu e Medu con colori specificati\n",
    "bars1 = ax.barh(index, fedu_mean, bar_height, label='Fedu', color=color_fedu)\n",
    "bars2 = ax.barh(index + bar_height, medu_mean, bar_height, label='Medu', color=color_medu)\n",
    "\n",
    "# Aggiungi etichette e titolo\n",
    "ax.set_ylabel(\"Livello d'istruzione dei genitori\")\n",
    "ax.set_xlabel('Media dei voti dei figli (G3)')\n",
    "ax.set_title(\"Andamento scolastico dei figli rispetto al livello d'istruzione dei genitori\")\n",
    "ax.set_yticks(index + bar_height / 2)\n",
    "ax.set_yticklabels(education_levels)\n",
    "ax.invert_yaxis()  # Inverti l'asse y per avere il livello d'istruzione più alto in cima\n",
    "ax.legend()\n",
    "\n",
    "# Aggiungi i valori accanto a ogni barra con font-size ridotto e colore nero per il testo\n",
    "for bar in bars1:\n",
    "    width = bar.get_width()\n",
    "    ax.text(width, bar.get_y() + bar.get_height() / 2, f'{width:.2f}', ha='left', va='center', fontsize=8, color='black')\n",
    "\n",
    "for bar in bars2:\n",
    "    width = bar.get_width()\n",
    "    ax.text(width, bar.get_y() + bar.get_height() / 2, f'{width:.2f}', ha='left', va='center', fontsize=8, color='black')\n",
    "\n",
    "# Mostra il grafico\n",
    "plt.tight_layout()\n",
    "plt.show()\n"
   ]
  },
  {
   "cell_type": "markdown",
   "metadata": {},
   "source": [
    "### School analysis"
   ]
  },
  {
   "cell_type": "code",
   "execution_count": null,
   "metadata": {},
   "outputs": [],
   "source": [
    "# Analisi degli istituti scolastici\n",
    "\n",
    "# Analisi per reason: ragioni per la scelta della scuola"
   ]
  },
  {
   "cell_type": "code",
   "execution_count": null,
   "metadata": {},
   "outputs": [],
   "source": [
    "por.groupby([\"school\"])[\"G3\"].describe()"
   ]
  },
  {
   "cell_type": "markdown",
   "metadata": {},
   "source": [
    "### Other analysis"
   ]
  },
  {
   "cell_type": "code",
   "execution_count": null,
   "metadata": {},
   "outputs": [],
   "source": [
    "# Gestione del tempo\n",
    "\n",
    "# Consumo Alcolici\n",
    "\n",
    "# Uso di internet"
   ]
  },
  {
   "cell_type": "markdown",
   "metadata": {},
   "source": []
  },
  {
   "cell_type": "markdown",
   "metadata": {},
   "source": []
  },
  {
   "cell_type": "markdown",
   "metadata": {},
   "source": [
    "### Analisi dei dati anagrafici\n",
    "\n",
    "### Analisi degli istituti scolastici\n",
    "\n",
    "### Analisi familiari\n",
    "\n",
    "### Ulteriori Analisi"
   ]
  },
  {
   "cell_type": "code",
   "execution_count": null,
   "metadata": {},
   "outputs": [],
   "source": []
  },
  {
   "cell_type": "code",
   "execution_count": null,
   "metadata": {},
   "outputs": [],
   "source": []
  },
  {
   "cell_type": "code",
   "execution_count": null,
   "metadata": {},
   "outputs": [],
   "source": []
  },
  {
   "cell_type": "code",
   "execution_count": null,
   "metadata": {},
   "outputs": [],
   "source": []
  },
  {
   "cell_type": "markdown",
   "metadata": {},
   "source": [
    "# Previsioni del voto finale tramite algoritmi di machine learnig"
   ]
  },
  {
   "cell_type": "code",
   "execution_count": 21,
   "metadata": {},
   "outputs": [
    {
     "data": {
      "text/html": [
       "<div>\n",
       "<style scoped>\n",
       "    .dataframe tbody tr th:only-of-type {\n",
       "        vertical-align: middle;\n",
       "    }\n",
       "\n",
       "    .dataframe tbody tr th {\n",
       "        vertical-align: top;\n",
       "    }\n",
       "\n",
       "    .dataframe thead th {\n",
       "        text-align: right;\n",
       "    }\n",
       "</style>\n",
       "<table border=\"1\" class=\"dataframe\">\n",
       "  <thead>\n",
       "    <tr style=\"text-align: right;\">\n",
       "      <th></th>\n",
       "      <th>school</th>\n",
       "      <th>sex</th>\n",
       "      <th>age</th>\n",
       "      <th>address</th>\n",
       "      <th>famsize</th>\n",
       "      <th>Pstatus</th>\n",
       "      <th>Medu</th>\n",
       "      <th>Fedu</th>\n",
       "      <th>traveltime</th>\n",
       "      <th>studytime</th>\n",
       "      <th>...</th>\n",
       "      <th>Fjob_other</th>\n",
       "      <th>Fjob_services</th>\n",
       "      <th>Fjob_teacher</th>\n",
       "      <th>reason_course</th>\n",
       "      <th>reason_home</th>\n",
       "      <th>reason_other</th>\n",
       "      <th>reason_reputation</th>\n",
       "      <th>guardian_father</th>\n",
       "      <th>guardian_mother</th>\n",
       "      <th>guardian_other</th>\n",
       "    </tr>\n",
       "  </thead>\n",
       "  <tbody>\n",
       "    <tr>\n",
       "      <th>count</th>\n",
       "      <td>649.000000</td>\n",
       "      <td>649.000000</td>\n",
       "      <td>649.000000</td>\n",
       "      <td>649.000000</td>\n",
       "      <td>649.000000</td>\n",
       "      <td>649.000000</td>\n",
       "      <td>649.000000</td>\n",
       "      <td>649.000000</td>\n",
       "      <td>649.000000</td>\n",
       "      <td>649.000000</td>\n",
       "      <td>...</td>\n",
       "      <td>649.000000</td>\n",
       "      <td>649.000000</td>\n",
       "      <td>649.000000</td>\n",
       "      <td>649.000000</td>\n",
       "      <td>649.000000</td>\n",
       "      <td>649.00000</td>\n",
       "      <td>649.000000</td>\n",
       "      <td>649.000000</td>\n",
       "      <td>649.000000</td>\n",
       "      <td>649.000000</td>\n",
       "    </tr>\n",
       "    <tr>\n",
       "      <th>mean</th>\n",
       "      <td>0.348228</td>\n",
       "      <td>0.409861</td>\n",
       "      <td>16.744222</td>\n",
       "      <td>0.696456</td>\n",
       "      <td>0.295840</td>\n",
       "      <td>0.876733</td>\n",
       "      <td>2.514638</td>\n",
       "      <td>2.306626</td>\n",
       "      <td>1.568567</td>\n",
       "      <td>1.930663</td>\n",
       "      <td>...</td>\n",
       "      <td>0.565485</td>\n",
       "      <td>0.278891</td>\n",
       "      <td>0.055470</td>\n",
       "      <td>0.439137</td>\n",
       "      <td>0.229584</td>\n",
       "      <td>0.11094</td>\n",
       "      <td>0.220339</td>\n",
       "      <td>0.235747</td>\n",
       "      <td>0.701079</td>\n",
       "      <td>0.063174</td>\n",
       "    </tr>\n",
       "    <tr>\n",
       "      <th>std</th>\n",
       "      <td>0.476776</td>\n",
       "      <td>0.492187</td>\n",
       "      <td>1.218138</td>\n",
       "      <td>0.460143</td>\n",
       "      <td>0.456771</td>\n",
       "      <td>0.328996</td>\n",
       "      <td>1.134552</td>\n",
       "      <td>1.099931</td>\n",
       "      <td>0.748660</td>\n",
       "      <td>0.829510</td>\n",
       "      <td>...</td>\n",
       "      <td>0.496075</td>\n",
       "      <td>0.448799</td>\n",
       "      <td>0.229072</td>\n",
       "      <td>0.496665</td>\n",
       "      <td>0.420890</td>\n",
       "      <td>0.31430</td>\n",
       "      <td>0.414795</td>\n",
       "      <td>0.424792</td>\n",
       "      <td>0.458138</td>\n",
       "      <td>0.243464</td>\n",
       "    </tr>\n",
       "    <tr>\n",
       "      <th>min</th>\n",
       "      <td>0.000000</td>\n",
       "      <td>0.000000</td>\n",
       "      <td>15.000000</td>\n",
       "      <td>0.000000</td>\n",
       "      <td>0.000000</td>\n",
       "      <td>0.000000</td>\n",
       "      <td>0.000000</td>\n",
       "      <td>0.000000</td>\n",
       "      <td>1.000000</td>\n",
       "      <td>1.000000</td>\n",
       "      <td>...</td>\n",
       "      <td>0.000000</td>\n",
       "      <td>0.000000</td>\n",
       "      <td>0.000000</td>\n",
       "      <td>0.000000</td>\n",
       "      <td>0.000000</td>\n",
       "      <td>0.00000</td>\n",
       "      <td>0.000000</td>\n",
       "      <td>0.000000</td>\n",
       "      <td>0.000000</td>\n",
       "      <td>0.000000</td>\n",
       "    </tr>\n",
       "    <tr>\n",
       "      <th>25%</th>\n",
       "      <td>0.000000</td>\n",
       "      <td>0.000000</td>\n",
       "      <td>16.000000</td>\n",
       "      <td>0.000000</td>\n",
       "      <td>0.000000</td>\n",
       "      <td>1.000000</td>\n",
       "      <td>2.000000</td>\n",
       "      <td>1.000000</td>\n",
       "      <td>1.000000</td>\n",
       "      <td>1.000000</td>\n",
       "      <td>...</td>\n",
       "      <td>0.000000</td>\n",
       "      <td>0.000000</td>\n",
       "      <td>0.000000</td>\n",
       "      <td>0.000000</td>\n",
       "      <td>0.000000</td>\n",
       "      <td>0.00000</td>\n",
       "      <td>0.000000</td>\n",
       "      <td>0.000000</td>\n",
       "      <td>0.000000</td>\n",
       "      <td>0.000000</td>\n",
       "    </tr>\n",
       "    <tr>\n",
       "      <th>50%</th>\n",
       "      <td>0.000000</td>\n",
       "      <td>0.000000</td>\n",
       "      <td>17.000000</td>\n",
       "      <td>1.000000</td>\n",
       "      <td>0.000000</td>\n",
       "      <td>1.000000</td>\n",
       "      <td>2.000000</td>\n",
       "      <td>2.000000</td>\n",
       "      <td>1.000000</td>\n",
       "      <td>2.000000</td>\n",
       "      <td>...</td>\n",
       "      <td>1.000000</td>\n",
       "      <td>0.000000</td>\n",
       "      <td>0.000000</td>\n",
       "      <td>0.000000</td>\n",
       "      <td>0.000000</td>\n",
       "      <td>0.00000</td>\n",
       "      <td>0.000000</td>\n",
       "      <td>0.000000</td>\n",
       "      <td>1.000000</td>\n",
       "      <td>0.000000</td>\n",
       "    </tr>\n",
       "    <tr>\n",
       "      <th>75%</th>\n",
       "      <td>1.000000</td>\n",
       "      <td>1.000000</td>\n",
       "      <td>18.000000</td>\n",
       "      <td>1.000000</td>\n",
       "      <td>1.000000</td>\n",
       "      <td>1.000000</td>\n",
       "      <td>4.000000</td>\n",
       "      <td>3.000000</td>\n",
       "      <td>2.000000</td>\n",
       "      <td>2.000000</td>\n",
       "      <td>...</td>\n",
       "      <td>1.000000</td>\n",
       "      <td>1.000000</td>\n",
       "      <td>0.000000</td>\n",
       "      <td>1.000000</td>\n",
       "      <td>0.000000</td>\n",
       "      <td>0.00000</td>\n",
       "      <td>0.000000</td>\n",
       "      <td>0.000000</td>\n",
       "      <td>1.000000</td>\n",
       "      <td>0.000000</td>\n",
       "    </tr>\n",
       "    <tr>\n",
       "      <th>max</th>\n",
       "      <td>1.000000</td>\n",
       "      <td>1.000000</td>\n",
       "      <td>22.000000</td>\n",
       "      <td>1.000000</td>\n",
       "      <td>1.000000</td>\n",
       "      <td>1.000000</td>\n",
       "      <td>4.000000</td>\n",
       "      <td>4.000000</td>\n",
       "      <td>4.000000</td>\n",
       "      <td>4.000000</td>\n",
       "      <td>...</td>\n",
       "      <td>1.000000</td>\n",
       "      <td>1.000000</td>\n",
       "      <td>1.000000</td>\n",
       "      <td>1.000000</td>\n",
       "      <td>1.000000</td>\n",
       "      <td>1.00000</td>\n",
       "      <td>1.000000</td>\n",
       "      <td>1.000000</td>\n",
       "      <td>1.000000</td>\n",
       "      <td>1.000000</td>\n",
       "    </tr>\n",
       "  </tbody>\n",
       "</table>\n",
       "<p>8 rows × 44 columns</p>\n",
       "</div>"
      ],
      "text/plain": [
       "           school         sex         age     address     famsize     Pstatus  \\\n",
       "count  649.000000  649.000000  649.000000  649.000000  649.000000  649.000000   \n",
       "mean     0.348228    0.409861   16.744222    0.696456    0.295840    0.876733   \n",
       "std      0.476776    0.492187    1.218138    0.460143    0.456771    0.328996   \n",
       "min      0.000000    0.000000   15.000000    0.000000    0.000000    0.000000   \n",
       "25%      0.000000    0.000000   16.000000    0.000000    0.000000    1.000000   \n",
       "50%      0.000000    0.000000   17.000000    1.000000    0.000000    1.000000   \n",
       "75%      1.000000    1.000000   18.000000    1.000000    1.000000    1.000000   \n",
       "max      1.000000    1.000000   22.000000    1.000000    1.000000    1.000000   \n",
       "\n",
       "             Medu        Fedu  traveltime   studytime  ...  Fjob_other  \\\n",
       "count  649.000000  649.000000  649.000000  649.000000  ...  649.000000   \n",
       "mean     2.514638    2.306626    1.568567    1.930663  ...    0.565485   \n",
       "std      1.134552    1.099931    0.748660    0.829510  ...    0.496075   \n",
       "min      0.000000    0.000000    1.000000    1.000000  ...    0.000000   \n",
       "25%      2.000000    1.000000    1.000000    1.000000  ...    0.000000   \n",
       "50%      2.000000    2.000000    1.000000    2.000000  ...    1.000000   \n",
       "75%      4.000000    3.000000    2.000000    2.000000  ...    1.000000   \n",
       "max      4.000000    4.000000    4.000000    4.000000  ...    1.000000   \n",
       "\n",
       "       Fjob_services  Fjob_teacher  reason_course  reason_home  reason_other  \\\n",
       "count     649.000000    649.000000     649.000000   649.000000     649.00000   \n",
       "mean        0.278891      0.055470       0.439137     0.229584       0.11094   \n",
       "std         0.448799      0.229072       0.496665     0.420890       0.31430   \n",
       "min         0.000000      0.000000       0.000000     0.000000       0.00000   \n",
       "25%         0.000000      0.000000       0.000000     0.000000       0.00000   \n",
       "50%         0.000000      0.000000       0.000000     0.000000       0.00000   \n",
       "75%         1.000000      0.000000       1.000000     0.000000       0.00000   \n",
       "max         1.000000      1.000000       1.000000     1.000000       1.00000   \n",
       "\n",
       "       reason_reputation  guardian_father  guardian_mother  guardian_other  \n",
       "count         649.000000       649.000000       649.000000      649.000000  \n",
       "mean            0.220339         0.235747         0.701079        0.063174  \n",
       "std             0.414795         0.424792         0.458138        0.243464  \n",
       "min             0.000000         0.000000         0.000000        0.000000  \n",
       "25%             0.000000         0.000000         0.000000        0.000000  \n",
       "50%             0.000000         0.000000         1.000000        0.000000  \n",
       "75%             0.000000         0.000000         1.000000        0.000000  \n",
       "max             1.000000         1.000000         1.000000        1.000000  \n",
       "\n",
       "[8 rows x 44 columns]"
      ]
     },
     "execution_count": 21,
     "metadata": {},
     "output_type": "execute_result"
    }
   ],
   "source": [
    "por_enc.describe()"
   ]
  },
  {
   "cell_type": "markdown",
   "metadata": {},
   "source": [
    "Algoritmi adoperati:\n",
    "\n",
    "1. Random Forest:\n",
    "https://www.analyticsvidhya.com/blog/2021/10/an-introduction-to-random-forest-algorithm-for-beginners/\n",
    "\n",
    "2. SVR\n",
    "\n",
    "3. Neural Network Regressor\n",
    "\n",
    "4. Gradient Boosting Regressor\n",
    "\n",
    "5. KNN\n",
    "\n",
    "6. Linear regression"
   ]
  },
  {
   "cell_type": "code",
   "execution_count": 22,
   "metadata": {},
   "outputs": [],
   "source": [
    "# 1. Separazione delle feature e del target\n",
    "X = por_enc.drop(columns=['G3'])\n",
    "y = por_enc['G3']"
   ]
  },
  {
   "cell_type": "code",
   "execution_count": 23,
   "metadata": {},
   "outputs": [
    {
     "data": {
      "image/png": "[encoded data removed]",
      "text/plain": [
       "<Figure size 1000x600 with 1 Axes>"
      ]
     },
     "metadata": {},
     "output_type": "display_data"
    }
   ],
   "source": [
    "# 2. Riduzione della dimensionalità\n",
    "\n",
    "'''\n",
    "Normalization method: \n",
    "\n",
    "    https://medium.com/@mkc940/different-normalization-methods-a1be71fe9f1\n",
    "\n",
    "    https://www.datacamp.com/tutorial/normalization-in-machine-learning\n",
    "\n",
    "    https://www.geeksforgeeks.org/what-is-data-normalization/\n",
    "\n",
    "DimensionalityReduction Techniques\n",
    "    \n",
    "    https://medium.com/nerd-for-tech/dimensionality-reduction-techniques-pca-lca-and-svd-f2a56b097f7c\n",
    "\n",
    "    https://medium.com/machine-learning-researcher/dimensionality-reduction-pca-and-lda-6be91734f567\n",
    "\n",
    "'''\n",
    "\n",
    "# Normalizzazione dei dati\n",
    "scaler = StandardScaler()\n",
    "# X_scaled = scaler.fit_transform(X) \n",
    "X_scaled = pd.DataFrame(scaler.fit_transform(X), columns=X.columns)\n",
    "\n",
    "# PCA senza specificare il numero di componenti\n",
    "pca = PCA()\n",
    "pca.fit(X_scaled)\n",
    "\n",
    "# Varianza spiegata cumulativa\n",
    "cumulative_variance = np.cumsum(pca.explained_variance_ratio_)\n",
    "\n",
    "# Plot della varianza spiegata cumulativa\n",
    "plt.figure(figsize=(10, 6))\n",
    "plt.plot(range(1, len(cumulative_variance) + 1), cumulative_variance, marker='o')\n",
    "plt.xlabel('Numero di componenti principali')\n",
    "plt.ylabel('Varianza spiegata cumulativa')\n",
    "plt.title('Varianza spiegata cumulativa per PCA')\n",
    "plt.grid(True)\n",
    "plt.show()\n"
   ]
  },
  {
   "cell_type": "code",
   "execution_count": 24,
   "metadata": {},
   "outputs": [
    {
     "name": "stdout",
     "output_type": "stream",
     "text": [
      "Numero di componenti principali per spiegare almeno il 95% della varianza: 34\n"
     ]
    }
   ],
   "source": [
    "# Scegliere il numero di componenti che spiegano almeno il 95% della varianza\n",
    "threshold = 0.95\n",
    "num_components = np.argmax(cumulative_variance >= threshold) + 1\n",
    "\n",
    "print(f\"Numero di componenti principali per spiegare almeno il 95% della varianza: {num_components}\")\n",
    "\n",
    "# Riduzione della dimensionalità con il numero ottimale di componenti\n",
    "pca = PCA(n_components=num_components)\n",
    "X_pca = pca.fit_transform(X_scaled)\n",
    "\n",
    "# Salva i nomi delle colonne originali prima di applicare PCA\n",
    "col_names = X.columns.tolist()"
   ]
  },
  {
   "cell_type": "code",
   "execution_count": 25,
   "metadata": {},
   "outputs": [],
   "source": [
    "# Estrazione dei coefficienti del PCA\n",
    "pca_components = pca.components_\n",
    "\n",
    "# Creazione di un dataframe per visualizzare l'importanza delle feature originali\n",
    "original_feature_names = X.columns.tolist()"
   ]
  },
  {
   "cell_type": "code",
   "execution_count": null,
   "metadata": {},
   "outputs": [],
   "source": [
    "# Confermando che le stesse feature che sono state tirate precedentemente\n",
    "# come maggiormente correlate correlate dalla matrice di correlazione\n",
    "# adesso sono state confermate anche PCA\n",
    "# le stesse feature g3_correlations_abs.index.to_list()"
   ]
  },
  {
   "cell_type": "code",
   "execution_count": null,
   "metadata": {},
   "outputs": [],
   "source": [
    "feature_diff = [f for f in g3_correlations_abs.index.to_list() if f not in original_feature_names]\n",
    "\n",
    "print(feature_diff)\n"
   ]
  },
  {
   "cell_type": "code",
   "execution_count": null,
   "metadata": {},
   "outputs": [],
   "source": [
    "feature_importances = np.sum(np.abs(pca_components), axis=0)\n",
    "\n",
    "# Creazione di un dataframe per visualizzare l'importanza delle feature originali\n",
    "pca_importance_df = pd.DataFrame({'Feature': original_feature_names, 'Importance': feature_importances})\n",
    "\n",
    "# Ordinamento delle feature per importanza\n",
    "pca_importance_df = pca_importance_df.sort_values(by='Importance', ascending=False)\n"
   ]
  },
  {
   "cell_type": "code",
   "execution_count": null,
   "metadata": {},
   "outputs": [],
   "source": [
    "pca_importance_df"
   ]
  },
  {
   "cell_type": "code",
   "execution_count": 29,
   "metadata": {},
   "outputs": [],
   "source": [
    "# 3. Divisione del dataset in training e test\n",
    "\n",
    "X_train, X_test, y_train, y_test = train_test_split(X_pca, y, test_size=0.2, random_state=42)\n"
   ]
  },
  {
   "cell_type": "code",
   "execution_count": 26,
   "metadata": {},
   "outputs": [
    {
     "data": {
      "text/plain": [
       "\"\\nparam_dist_nn = {\\n    'hidden_layer_sizes': [(50, 50, 50), (50, 100, 50), (100,), (100, 100), (100, 50, 25)],\\n    'activation': ['tanh', 'relu', 'logistic'],\\n    #'solver': ['sgd', 'adam', 'lbfgs'],\\n    'solver': ['sgd', 'adam'],\\n    'alpha': uniform(0.0001, 0.1),\\n    'learning_rate': ['constant', 'adaptive', 'invscaling'],\\n    'max_iter': [5000, 6000, 7000],  # aumentare ulteriormente il numero massimo di iterazioni\\n    'early_stopping': [True, False]\\n}\\n\\nparam_dist_lr = {}  # Linear Regression non ha iperparametri da ottimizzare\\n\""
      ]
     },
     "execution_count": 26,
     "metadata": {},
     "output_type": "execute_result"
    }
   ],
   "source": [
    "# 4. Ottimizzazione dei parametri di ogni modello\n",
    "\n",
    "'''\n",
    "Supervised ML regression algorithms\n",
    "\n",
    "    https://www.onlinemanipal.com/blogs/popular-regression-algorithms-in-machine-learning\n",
    "\n",
    "    https://www.analyticsvidhya.com/blog/2021/05/5-regression-algorithms-you-should-know-introductory-guide/\n",
    "\n",
    "    https://www.geeksforgeeks.org/regression-in-machine-learning/\n",
    "\n",
    "\n",
    "\n",
    "Parameter optimization machine learning models\n",
    "\n",
    "    https://www.linkedin.com/pulse/machine-learning-optimization-techniques-bilal-el-jamal/\n",
    "\n",
    "    https://www.datacamp.com/tutorial/parameter-optimization-machine-learning-models\n",
    "    \n",
    "'''\n",
    "'''\n",
    "math explained \n",
    "\n",
    "\n",
    "Random forest:\n",
    "    https://medium.com/capital-one-tech/random-forest-algorithm-for-machine-learning-c4b2c8cc9feb\n",
    "\n",
    "Decision Tree:\n",
    "    https://ankitnitjsr13.medium.com/math-behind-decision-tree-algorithm-2aa398561d6d\n",
    "\n",
    "Gradient Boosting Regressor:\n",
    "    https://medium.com/geekculture/gradient-boosting-for-regression-math-intuition-71f9a9826035#:~:text=Gradient%20Boosting%20starts%20by%20making,made%20by%20the%20previous%20tree.\n",
    "    \n",
    "SVR\n",
    "    https://medium.com/@rahulrastogi1104/support-vector-regression-and-its-mathematical-implementation-b6377898cd74\n",
    "\n",
    "Lasso & Ridge Regression\n",
    "    https://medium.com/codex/mathematical-background-of-lasso-and-ridge-regression-23b74737c817\n",
    "\n",
    "KNN\n",
    "'''\n",
    "\n",
    "# Definizione delle distribuzioni dei parametri\n",
    "param_dist_rf = {\n",
    "    'n_estimators': randint(50, 500),\n",
    "    'max_depth': [None, 10, 20, 30],\n",
    "    'min_samples_split': randint(2, 10),\n",
    "    'min_samples_leaf': randint(1, 10),\n",
    "    'max_features': ['sqrt', 'log2', None]\n",
    "}\n",
    "\n",
    "param_dist_dt = {\n",
    "    'max_depth': [None, 10, 20, 30],\n",
    "    'min_samples_split': randint(2, 20),\n",
    "    'min_samples_leaf': randint(1, 20)\n",
    "}\n",
    "\n",
    "param_dist_gb = {\n",
    "    'n_estimators': randint(50, 500),\n",
    "    'learning_rate': uniform(0.01, 0.3),\n",
    "    'max_depth': randint(3, 10),\n",
    "    'min_samples_split': randint(2, 20),\n",
    "    'min_samples_leaf': randint(1, 20),\n",
    "    'subsample': uniform(0.7, 0.3)\n",
    "}\n",
    "\n",
    "param_dist_svr = {\n",
    "    'C': uniform(0.1, 100),\n",
    "    'gamma': ['scale', 'auto'] + list(uniform(0.0001, 0.1).rvs(10)),\n",
    "    'epsilon': uniform(0.1, 1.0)\n",
    "}\n",
    "\n",
    "param_dist_ridge = {\n",
    "    'alpha': uniform(0.1, 10)\n",
    "}\n",
    "\n",
    "param_dist_knn = {\n",
    "    'n_neighbors': randint(1, 30),\n",
    "    'weights': ['uniform', 'distance'],\n",
    "    'metric': ['euclidean', 'manhattan']\n",
    "}\n",
    "\n",
    "\n",
    "'''\n",
    "param_dist_nn = {\n",
    "    'hidden_layer_sizes': [(50, 50, 50), (50, 100, 50), (100,), (100, 100), (100, 50, 25)],\n",
    "    'activation': ['tanh', 'relu', 'logistic'],\n",
    "    #'solver': ['sgd', 'adam', 'lbfgs'],\n",
    "    'solver': ['sgd', 'adam'],\n",
    "    'alpha': uniform(0.0001, 0.1),\n",
    "    'learning_rate': ['constant', 'adaptive', 'invscaling'],\n",
    "    'max_iter': [5000, 6000, 7000],  # aumentare ulteriormente il numero massimo di iterazioni\n",
    "    'early_stopping': [True, False]\n",
    "}\n",
    "\n",
    "param_dist_lr = {}  # Linear Regression non ha iperparametri da ottimizzare\n",
    "'''"
   ]
  },
  {
   "cell_type": "code",
   "execution_count": 27,
   "metadata": {},
   "outputs": [],
   "source": [
    "# 5. Addestramento di ogni modello ottimizzato\n",
    "\n",
    "# Definizione dei modelli\n",
    "models = {\n",
    "    'RandomForest': (RandomForestRegressor(random_state=42), param_dist_rf),\n",
    "    'DecisionTree': (DecisionTreeRegressor(random_state=42), param_dist_dt),\n",
    "    'GradientBoosting': (GradientBoostingRegressor(random_state=42), param_dist_gb),\n",
    "    'SVR': (SVR(), param_dist_svr),\n",
    "    #'NeuralNetwork': (MLPRegressor(max_iter=1000, random_state=42), param_dist_nn),\n",
    "    #'LinearRegression': (LinearRegression(), param_dist_lr),\n",
    "    'Ridge': (Ridge(), param_dist_ridge),\n",
    "    'KNN': (KNeighborsRegressor(), param_dist_knn)\n",
    "}\n",
    "\n"
   ]
  },
  {
   "cell_type": "code",
   "execution_count": 30,
   "metadata": {},
   "outputs": [
    {
     "name": "stdout",
     "output_type": "stream",
     "text": [
      "Best parameters for RandomForest: {'max_depth': 30, 'max_features': None, 'min_samples_leaf': 8, 'min_samples_split': 7, 'n_estimators': 264}\n",
      "Best parameters for DecisionTree: {'max_depth': None, 'min_samples_leaf': 14, 'min_samples_split': 19}\n",
      "Best parameters for GradientBoosting: {'learning_rate': np.float64(0.02031655633456552), 'max_depth': 8, 'min_samples_leaf': 17, 'min_samples_split': 5, 'n_estimators': 99, 'subsample': np.float64(0.8987566853061946)}\n",
      "Best parameters for SVR: {'C': np.float64(4.7450412719997725), 'epsilon': np.float64(0.7075448519014383), 'gamma': np.float64(0.009362519916828849)}\n",
      "Best parameters for Ridge: {'alpha': np.float64(9.799098521619943)}\n",
      "Best parameters for KNN: {'metric': 'euclidean', 'n_neighbors': 21, 'weights': 'uniform'}\n"
     ]
    }
   ],
   "source": [
    "# RandomizedSearchCV per ogni modello\n",
    "random_searches = {}\n",
    "for model_name, (model, param_dist) in models.items():\n",
    "    random_search = RandomizedSearchCV(estimator=model, param_distributions=param_dist, n_iter=20, cv=5, scoring='r2', random_state=42, n_jobs=-1, error_score='raise')\n",
    "    random_search.fit(X_train, y_train)\n",
    "    random_searches[model_name] = random_search\n",
    "    print(f\"Best parameters for {model_name}: {random_search.best_params_}\")\n"
   ]
  },
  {
   "cell_type": "code",
   "execution_count": 31,
   "metadata": {},
   "outputs": [
    {
     "name": "stdout",
     "output_type": "stream",
     "text": [
      "Starting training for RandomForest\n",
      "Best parameters for RandomForest: {'max_depth': 30, 'max_features': None, 'min_samples_leaf': 8, 'min_samples_split': 7, 'n_estimators': 264}\n",
      "Starting training for DecisionTree\n",
      "Best parameters for DecisionTree: {'max_depth': None, 'min_samples_leaf': 14, 'min_samples_split': 19}\n",
      "Starting training for GradientBoosting\n",
      "Best parameters for GradientBoosting: {'learning_rate': np.float64(0.02031655633456552), 'max_depth': 8, 'min_samples_leaf': 17, 'min_samples_split': 5, 'n_estimators': 99, 'subsample': np.float64(0.8987566853061946)}\n",
      "Starting training for SVR\n",
      "Best parameters for SVR: {'C': np.float64(4.7450412719997725), 'epsilon': np.float64(0.7075448519014383), 'gamma': np.float64(0.009362519916828849)}\n",
      "Starting training for Ridge\n",
      "Best parameters for Ridge: {'alpha': np.float64(9.799098521619943)}\n",
      "Starting training for KNN\n",
      "Best parameters for KNN: {'metric': 'euclidean', 'n_neighbors': 21, 'weights': 'uniform'}\n",
      "Training complete for all models.\n"
     ]
    }
   ],
   "source": [
    "# RandomizedSearchCV per ogni modello\n",
    "random_searches = {}\n",
    "for model_name, (model, param_dist) in models.items():\n",
    "    try:\n",
    "        print(f\"Starting training for {model_name}\")\n",
    "        random_search = RandomizedSearchCV(estimator=model, param_distributions=param_dist, n_iter=20, cv=5, scoring='r2', random_state=42, n_jobs=-1, error_score='raise')\n",
    "        random_search.fit(X_train, y_train)\n",
    "        random_searches[model_name] = random_search\n",
    "        print(f\"Best parameters for {model_name}: {random_search.best_params_}\")\n",
    "    except Exception as e:\n",
    "        print(f\"An error occurred while training {model_name}: {e}\")\n",
    "\n",
    "print(\"Training complete for all models.\")"
   ]
  },
  {
   "cell_type": "code",
   "execution_count": null,
   "metadata": {},
   "outputs": [],
   "source": [
    "\n",
    "'''\n",
    "\n",
    "# 6. Previsione e valutazione di ogni modello\n",
    "# Previsione e valutazione dei modelli\n",
    "results = {}\n",
    "for model_name, search in random_searches.items():\n",
    "    y_pred = search.best_estimator_.predict(X_test)\n",
    "    r2 = r2_score(y_test, y_pred)\n",
    "    mse = mean_squared_error(y_test, y_pred)\n",
    "    results[model_name] = {'R^2': r2, 'MSE': mse}\n",
    "\n",
    "# Creazione del DataFrame per i risultati\n",
    "results_df = pd.DataFrame(results).T\n",
    "print(\"Risultati delle previsioni:\")\n",
    "print(results_df)\n",
    "'''"
   ]
  },
  {
   "cell_type": "code",
   "execution_count": 34,
   "metadata": {},
   "outputs": [
    {
     "name": "stdout",
     "output_type": "stream",
     "text": [
      "Risultati per RandomForest:\n",
      "R^2: 0.1621\n",
      "MSE: 8.1707\n",
      "RMSE: 2.8584\n",
      "MAPE: 717644803104416.7500\n",
      "MAE: 2.0956\n",
      "\n",
      "Risultati per DecisionTree:\n",
      "R^2: -0.4385\n",
      "MSE: 14.0278\n",
      "RMSE: 3.7454\n",
      "MAPE: 697810491713450.6250\n",
      "MAE: 2.9120\n",
      "\n",
      "Risultati per GradientBoosting:\n",
      "R^2: 0.1553\n",
      "MSE: 8.2369\n",
      "RMSE: 2.8700\n",
      "MAPE: 708113444587128.5000\n",
      "MAE: 2.1160\n",
      "\n",
      "Risultati per SVR:\n",
      "R^2: 0.2220\n",
      "MSE: 7.5866\n",
      "RMSE: 2.7544\n",
      "MAPE: 759173648178114.7500\n",
      "MAE: 2.0030\n",
      "\n",
      "Risultati per Ridge:\n",
      "R^2: 0.1874\n",
      "MSE: 7.9241\n",
      "RMSE: 2.8150\n",
      "MAPE: 685686031948072.3750\n",
      "MAE: 2.1292\n",
      "\n",
      "Risultati per KNN:\n",
      "R^2: 0.1265\n",
      "MSE: 8.5179\n",
      "RMSE: 2.9185\n",
      "MAPE: 801739713883539.0000\n",
      "MAE: 2.1930\n",
      "\n"
     ]
    }
   ],
   "source": [
    "# Inizializzare un dizionario per salvare i risultati\n",
    "results = {}\n",
    "\n",
    "# Loop attraverso ogni modello e calcolare le metriche\n",
    "for model_name, search in random_searches.items():\n",
    "    y_pred = search.best_estimator_.predict(X_test)\n",
    "    \n",
    "    # Calcolare le metriche\n",
    "    # Calcolare le metriche\n",
    "    r2 = r2_score(y_test, y_pred)\n",
    "    mse = mean_squared_error(y_test, y_pred)\n",
    "    rmse = np.sqrt(mse)  # RMSE è la radice quadrata del MSE\n",
    "    mape = mean_absolute_percentage_error(y_test, y_pred)\n",
    "    mae = mean_absolute_error(y_test, y_pred)\n",
    "    \n",
    "    # Salvare le metriche nel dizionario\n",
    "    results[model_name] = {'R^2': r2, 'MSE': mse, 'RMSE': rmse, 'MAPE': mape, 'MAE': mae}\n",
    "\n",
    "\n",
    "# Stampa dei risultati per ogni modello\n",
    "for model_name, metrics in results.items():\n",
    "    print(f\"Risultati per {model_name}:\")\n",
    "    for metric_name, value in metrics.items():\n",
    "        print(f\"{metric_name}: {value:.4f}\")\n",
    "    print()  # Linea vuota per separare i risultati dei modelli"
   ]
  },
  {
   "cell_type": "code",
   "execution_count": null,
   "metadata": {},
   "outputs": [],
   "source": [
    "results_df2 = pd.DataFrame(results).T\n",
    "print(results_df2)"
   ]
  },
  {
   "cell_type": "code",
   "execution_count": null,
   "metadata": {},
   "outputs": [],
   "source": [
    "results_df1 = pd.DataFrame(results).T\n",
    "print(results_df1)"
   ]
  },
  {
   "cell_type": "markdown",
   "metadata": {},
   "source": [
    "<b>Considerazioni:</b>\n",
    "\n",
    "Miglior Modello in Base a R²: Il modello Ridge ha il miglior R², quindi spiega meglio la variabilità dei dati rispetto agli altri modelli.\n",
    "\n",
    "Modello con Meno Errori Assoluti: Il modello Ridge ha il MSE e il RMSE più bassi, indicando che commette meno errori assoluti rispetto agli altri modelli.\n",
    "\n",
    "Modello con Meno Errori Percentuali: Il modello GradientBoosting ha il MAPE più basso, il che significa che ha errori percentuali più bassi rispetto agli altri modelli.\n",
    "\n",
    "<b>Conclusione:</b>\n",
    "\n",
    "Il modello Ridge sembra essere il migliore tra quelli elencati, poiché ha il miglior R² e commette meno errori assoluti (MSE e RMSE più bassi). Tuttavia, se l'errore percentuale è una metrica critica per il problema specifico (come nel caso di predizioni finanziarie o di business), potrebbe essere più appropriato considerare il modello GradientBoosting che ha il MAPE più basso."
   ]
  },
  {
   "cell_type": "code",
   "execution_count": null,
   "metadata": {},
   "outputs": [],
   "source": [
    "# 7. Visualizzazione dell'importanza delle feature"
   ]
  },
  {
   "cell_type": "code",
   "execution_count": null,
   "metadata": {},
   "outputs": [],
   "source": [
    "# Nome delle componenti principali\n",
    "pca_feature_names = [f'PC{i+1}' for i in range(num_components)]"
   ]
  },
  {
   "cell_type": "code",
   "execution_count": null,
   "metadata": {},
   "outputs": [],
   "source": []
  },
  {
   "cell_type": "code",
   "execution_count": null,
   "metadata": {},
   "outputs": [],
   "source": [
    "def plot_feature_importances(model, feature_names, col_names, model_name):\n",
    "\n",
    "    # RandomForest, DecisionTree, GradientBoosting\n",
    "    if hasattr(model, 'feature_importances_'):\n",
    "        importances = model.feature_importances_\n",
    "    \n",
    "    # SVR, Ridge, KNN\n",
    "    else:\n",
    "        if model_name == 'Ridge':\n",
    "            importances = np.abs(model.coef_)\n",
    "        else:\n",
    "            importances = permutation_importance(model, X_test, y_test, n_repeats=10, random_state=42, n_jobs=-1)\n",
    "            importances = importances.importances_mean\n",
    "\n",
    "    indices = np.argsort(importances)\n",
    "    title = f\"Feature Importances - {model_name}\"\n",
    "\n",
    "    plt.figure(figsize=(10, 8))\n",
    "    bars = plt.barh(range(len(feature_names)), importances[indices], align=\"center\")\n",
    "    plt.yticks(range(len(feature_names)), [col_names[i] for i in indices], rotation=45, ha='right')\n",
    "    plt.title(title)\n",
    "    plt.ylabel('Feature')\n",
    "    plt.xlabel('Importance')\n",
    "    plt.tight_layout()  \n",
    "\n",
    "    # Annotazione dei valori sulla destra delle barre\n",
    "    for bar in bars:\n",
    "        plt.annotate(f'{bar.get_width():.2f}', xy=(bar.get_width(), bar.get_y() + bar.get_height() / 2),\n",
    "                     xytext=(3, 0), textcoords='offset points', ha='left', va='center')\n",
    "    \n",
    "    plt.show()  \n"
   ]
  },
  {
   "cell_type": "code",
   "execution_count": null,
   "metadata": {},
   "outputs": [],
   "source": [
    "for model_name, model_info in models.items():\n",
    "    plot_feature_importances(random_searches[model_name].best_estimator_, pca_feature_names, col_names, model_name)"
   ]
  },
  {
   "cell_type": "code",
   "execution_count": null,
   "metadata": {},
   "outputs": [],
   "source": []
  }
 ],
 "metadata": {
  "kernelspec": {
   "display_name": ".venv",
   "language": "python",
   "name": "python3"
  },
  "language_info": {
   "codemirror_mode": {
    "name": "ipython",
    "version": 3
   },
   "file_extension": ".py",
   "mimetype": "text/x-python",
   "name": "python",
   "nbconvert_exporter": "python",
   "pygments_lexer": "ipython3",
   "version": "3.12.3"
  }
 },
 "nbformat": 4,
 "nbformat_minor": 2
}
