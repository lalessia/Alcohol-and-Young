{
 "cells": [
  {
   "cell_type": "markdown",
   "metadata": {},
   "source": [
    "<h1>Indice</h1>\n",
    "    <ul>\n",
    "        <li><a href=\"eda\">Exploratory Analytics</a>\n",
    "            <ul>\n",
    "                <li><a href=\"#final_score_analysis\">Final Score Analysis</a></li>\n",
    "                <li><a href=\"#correlation\">Final Score Correlation</a></li>\n",
    "                <li><a href=\"#variables_analysis\">Final Score e fattori impattanti</a>\n",
    "                    <ul>\n",
    "                        <li><a href=\"#personal\">Dati Anagrafici</a></li>\n",
    "                        <li><a href=\"#school\">Istituti Scolastici</a></li>\n",
    "                        <li><a href=\"#family\">Ambiente Familiare</a></li>\n",
    "                        <li><a href=\"#time_management\">Gestione del Tempo</a></li>\n",
    "                        <li><a href=\"#alchol\">Consumo di Alcolici</a></li>\n",
    "                        <li><a href=\"#other_analysis\">Ulteriori Analisi</a></li>\n",
    "                    </ul>\n",
    "                </li>\n",
    "            </ul>\n",
    "        </li>\n",
    "        <li><a href=\"pa\">Predictive Analytics</a>\n",
    "            <ul>\n",
    "                <li><a href=\"#reduce_dim\">Riduzione della Dimensionalità</a></li>\n",
    "                <li><a href=\"#train\">Ottimizzazione dei Parametri e Addestramento</a></li>\n",
    "                <li><a href=\"#valutation\">Valutazione</a></li>\n",
    "                <li><a href=\"#f_importance\">Importanza delle features</a></li>\n",
    "            </ul>\n",
    "        </li>\n",
    "    </ul>"
   ]
  },
  {
   "cell_type": "code",
   "execution_count": 1,
   "metadata": {},
   "outputs": [],
   "source": [
    "# import library \n",
    "\n",
    "import warnings\n",
    "import pandas as pd\n",
    "import numpy as np\n",
    "import time\n",
    "from tabulate import tabulate\n",
    "\n",
    "import seaborn as sns\n",
    "import matplotlib.pyplot as plt\n",
    "from matplotlib.patches import FancyBboxPatch, FancyArrow\n",
    "\n",
    "import plotly.graph_objects as go\n",
    "\n",
    "from sklearn.preprocessing import LabelEncoder, OneHotEncoder\n",
    "\n",
    "from sklearn.decomposition import PCA\n",
    "from sklearn.preprocessing import StandardScaler\n",
    "\n",
    "from sklearn.model_selection import train_test_split, RandomizedSearchCV\n",
    "\n",
    "from sklearn.ensemble import RandomForestRegressor, GradientBoostingRegressor, BaggingRegressor\n",
    "from sklearn.tree import DecisionTreeRegressor\n",
    "from sklearn.svm import SVR\n",
    "from sklearn.linear_model import LinearRegression, Ridge, Lasso\n",
    "from sklearn.neighbors import KNeighborsRegressor\n",
    "from sklearn.neural_network import MLPRegressor\n",
    "\n",
    "\n",
    "from scipy.stats import randint, uniform\n",
    "# from sklearn.inspection import permutation_importance\n",
    "\n",
    "from sklearn.metrics import mean_squared_error, r2_score, mean_absolute_error, max_error\n"
   ]
  },
  {
   "cell_type": "markdown",
   "metadata": {},
   "source": [
    "\n",
    "<h1><a id=\"eda\">Exploratory Analytics</a></h1>"
   ]
  },
  {
   "cell_type": "markdown",
   "metadata": {},
   "source": [
    "Import and Check Dataset"
   ]
  },
  {
   "cell_type": "code",
   "execution_count": 2,
   "metadata": {},
   "outputs": [],
   "source": [
    "# import dataset\n",
    "por = pd.read_csv('dataset/dataset/student-por.csv')"
   ]
  },
  {
   "cell_type": "code",
   "execution_count": 3,
   "metadata": {},
   "outputs": [
    {
     "data": {
      "text/plain": [
       "array(['school', 'sex', 'age', 'address', 'famsize', 'Pstatus', 'Medu',\n",
       "       'Fedu', 'Mjob', 'Fjob', 'reason', 'guardian', 'traveltime',\n",
       "       'studytime', 'failures', 'schoolsup', 'famsup', 'paid',\n",
       "       'activities', 'nursery', 'higher', 'internet', 'romantic',\n",
       "       'famrel', 'freetime', 'goout', 'Dalc', 'Walc', 'health',\n",
       "       'absences', 'G1', 'G2', 'G3'], dtype=object)"
      ]
     },
     "execution_count": 3,
     "metadata": {},
     "output_type": "execute_result"
    }
   ],
   "source": [
    "por.columns.values"
   ]
  },
  {
   "cell_type": "markdown",
   "metadata": {},
   "source": [
    "Dove: \n",
    "<ul>\n",
    "<li><b>school</b>:  student's school (binary: 'GP' - Gabriel Pereira or 'MS' - Mousinho da Silveira)</li>\n",
    "<li><b>sex</b>: student's sex (binary: 'F' - female or 'M' - male)</li>\n",
    "<li><b>age</b>: student's age (numeric: from 15 to 22)</li>\n",
    "<li><b>address</b>: student's home address type (binary: 'U' - urban or 'R' - rural)</li>\n",
    "<li><b>famsize</b>: family size (binary: 'LE3' - less or equal to 3 or 'GT3' - greater than 3)</li>\n",
    "<li><b>Pstatus</b>: parent's cohabitation status (binary: 'T' - living together or 'A' - apart)</li>\n",
    "<li><b>Medu</b>: mother's education (numeric: 0 - none, 1 - primary education (4th grade), 2 – 5th to 9th grade, 3 – secondary education or 4 – higher education)</li>\n",
    "<li><b>Fedu</b>: Fedu - father's education (numeric: 0 - none, 1 - primary education (4th grade), 2 – 5th to 9th grade, 3 – secondary education or 4 – higher education)</li>\n",
    "<li><b>Mjob</b>: Mjob - mother's job (nominal: 'teacher', 'health' care related, civil 'services' (e.g. administrative or police), 'at_home' or 'other')</li>\n",
    "<li><b>Fjob</b>: Fjob - father's job (nominal: 'teacher', 'health' care related, civil 'services' (e.g. administrative or police), 'at_home' or 'other')</li>\n",
    "<li><b>reason</b>: reason - reason to choose this school (nominal: close to 'home', school 'reputation', 'course' preference or 'other')</li>\n",
    "<li><b>guardian</b>: guardian - student's guardian (nominal: 'mother', 'father' or 'other')</li>\n",
    "<li><b>traveltime</b>: traveltime - home to school travel time (numeric: 1 - <15 min., 2 - 15 to 30 min., 3 - 30 min. to 1 hour, or 4 - >1 hour)</li>\n",
    "<li><b>studytime</b>: studytime - weekly study time (numeric: 1 - <2 hours, 2 - 2 to 5 hours, 3 - 5 to 10 hours, or 4 - >10 hours)</li>\n",
    "<li><b>failures</b>: number of past class failures (numeric: n if 1<=n<3, else 4)</li>\n",
    "<li><b>schoolsup</b>: extra educational support (binary: yes or no)</li>\n",
    "<li><b>famsup</b>: family educational support (binary: yes or no)</li>\n",
    "<li><b>paid</b>: extra paid classes within the course subject (Math or Portuguese) (binary: yes or no)</li>\n",
    "<li><b>activities</b>: extra-curricular activities (binary: yes or no)</li>\n",
    "<li><b>nursery</b>: attended nursery school (binary: yes or no)</li>\n",
    "<li><b>higher</b>: wants to take higher education (binary: yes or no)</li>\n",
    "<li><b>internet</b>: Internet access at home (binary: yes or no)</li>\n",
    "<li><b>romantic</b>: with a romantic relationship (binary: yes or no)</li>\n",
    "<li><b>famrel</b>: quality of family relationships (numeric: from 1 - very bad to 5 - excellent)</li>\n",
    "<li><b>freetime</b>: free time after school (numeric: from 1 - very low to 5 - very high)</li>\n",
    "<li><b>goout</b>: going out with friends (numeric: from 1 - very low to 5 - very high)</li>\n",
    "<li><b>Dalc</b>: workday alcohol consumption (numeric: from 1 - very low to 5 - very high)</li>\n",
    "<li><b>Walc</b>: weekend alcohol consumption (numeric: from 1 - very low to 5 - very high)</li>\n",
    "<li><b>health</b>: current health status (numeric: from 1 - very bad to 5 - very good)</li>\n",
    "<li><b>absences</b>: number of school absences (numeric: from 0 to 93)</li>\n",
    "\n",
    "<li><b>G1</b>: first period grade (numeric: from 0 to 20)</li>\n",
    "<li><b>G2</b>: second period grade (numeric: from 0 to 20)</li>\n",
    "<li><b>G3</b>: final grade (numeric: from 0 to 20, output target)</li>\n",
    "\n",
    "</ul>"
   ]
  },
  {
   "cell_type": "code",
   "execution_count": 4,
   "metadata": {},
   "outputs": [
    {
     "data": {
      "text/plain": [
       "(649, 33)"
      ]
     },
     "execution_count": 4,
     "metadata": {},
     "output_type": "execute_result"
    }
   ],
   "source": [
    "por.shape"
   ]
  },
  {
   "cell_type": "code",
   "execution_count": 5,
   "metadata": {},
   "outputs": [
    {
     "data": {
      "text/plain": [
       "0"
      ]
     },
     "execution_count": 5,
     "metadata": {},
     "output_type": "execute_result"
    }
   ],
   "source": [
    "len(por[por.duplicated()])"
   ]
  },
  {
   "cell_type": "code",
   "execution_count": 6,
   "metadata": {},
   "outputs": [
    {
     "name": "stdout",
     "output_type": "stream",
     "text": [
      "<class 'pandas.core.frame.DataFrame'>\n",
      "RangeIndex: 649 entries, 0 to 648\n",
      "Data columns (total 33 columns):\n",
      " #   Column      Non-Null Count  Dtype \n",
      "---  ------      --------------  ----- \n",
      " 0   school      649 non-null    object\n",
      " 1   sex         649 non-null    object\n",
      " 2   age         649 non-null    int64 \n",
      " 3   address     649 non-null    object\n",
      " 4   famsize     649 non-null    object\n",
      " 5   Pstatus     649 non-null    object\n",
      " 6   Medu        649 non-null    int64 \n",
      " 7   Fedu        649 non-null    int64 \n",
      " 8   Mjob        649 non-null    object\n",
      " 9   Fjob        649 non-null    object\n",
      " 10  reason      649 non-null    object\n",
      " 11  guardian    649 non-null    object\n",
      " 12  traveltime  649 non-null    int64 \n",
      " 13  studytime   649 non-null    int64 \n",
      " 14  failures    649 non-null    int64 \n",
      " 15  schoolsup   649 non-null    object\n",
      " 16  famsup      649 non-null    object\n",
      " 17  paid        649 non-null    object\n",
      " 18  activities  649 non-null    object\n",
      " 19  nursery     649 non-null    object\n",
      " 20  higher      649 non-null    object\n",
      " 21  internet    649 non-null    object\n",
      " 22  romantic    649 non-null    object\n",
      " 23  famrel      649 non-null    int64 \n",
      " 24  freetime    649 non-null    int64 \n",
      " 25  goout       649 non-null    int64 \n",
      " 26  Dalc        649 non-null    int64 \n",
      " 27  Walc        649 non-null    int64 \n",
      " 28  health      649 non-null    int64 \n",
      " 29  absences    649 non-null    int64 \n",
      " 30  G1          649 non-null    int64 \n",
      " 31  G2          649 non-null    int64 \n",
      " 32  G3          649 non-null    int64 \n",
      "dtypes: int64(16), object(17)\n",
      "memory usage: 167.4+ KB\n"
     ]
    }
   ],
   "source": [
    "por.info()"
   ]
  },
  {
   "cell_type": "code",
   "execution_count": 7,
   "metadata": {},
   "outputs": [
    {
     "data": {
      "text/html": [
       "<div>\n",
       "<style scoped>\n",
       "    .dataframe tbody tr th:only-of-type {\n",
       "        vertical-align: middle;\n",
       "    }\n",
       "\n",
       "    .dataframe tbody tr th {\n",
       "        vertical-align: top;\n",
       "    }\n",
       "\n",
       "    .dataframe thead th {\n",
       "        text-align: right;\n",
       "    }\n",
       "</style>\n",
       "<table border=\"1\" class=\"dataframe\">\n",
       "  <thead>\n",
       "    <tr style=\"text-align: right;\">\n",
       "      <th></th>\n",
       "      <th>school</th>\n",
       "      <th>sex</th>\n",
       "      <th>age</th>\n",
       "      <th>address</th>\n",
       "      <th>famsize</th>\n",
       "      <th>Pstatus</th>\n",
       "      <th>Medu</th>\n",
       "      <th>Fedu</th>\n",
       "      <th>Mjob</th>\n",
       "      <th>Fjob</th>\n",
       "      <th>...</th>\n",
       "      <th>famrel</th>\n",
       "      <th>freetime</th>\n",
       "      <th>goout</th>\n",
       "      <th>Dalc</th>\n",
       "      <th>Walc</th>\n",
       "      <th>health</th>\n",
       "      <th>absences</th>\n",
       "      <th>G1</th>\n",
       "      <th>G2</th>\n",
       "      <th>G3</th>\n",
       "    </tr>\n",
       "  </thead>\n",
       "  <tbody>\n",
       "    <tr>\n",
       "      <th>0</th>\n",
       "      <td>GP</td>\n",
       "      <td>F</td>\n",
       "      <td>18</td>\n",
       "      <td>U</td>\n",
       "      <td>GT3</td>\n",
       "      <td>A</td>\n",
       "      <td>4</td>\n",
       "      <td>4</td>\n",
       "      <td>at_home</td>\n",
       "      <td>teacher</td>\n",
       "      <td>...</td>\n",
       "      <td>4</td>\n",
       "      <td>3</td>\n",
       "      <td>4</td>\n",
       "      <td>1</td>\n",
       "      <td>1</td>\n",
       "      <td>3</td>\n",
       "      <td>4</td>\n",
       "      <td>0</td>\n",
       "      <td>11</td>\n",
       "      <td>11</td>\n",
       "    </tr>\n",
       "    <tr>\n",
       "      <th>1</th>\n",
       "      <td>GP</td>\n",
       "      <td>F</td>\n",
       "      <td>17</td>\n",
       "      <td>U</td>\n",
       "      <td>GT3</td>\n",
       "      <td>T</td>\n",
       "      <td>1</td>\n",
       "      <td>1</td>\n",
       "      <td>at_home</td>\n",
       "      <td>other</td>\n",
       "      <td>...</td>\n",
       "      <td>5</td>\n",
       "      <td>3</td>\n",
       "      <td>3</td>\n",
       "      <td>1</td>\n",
       "      <td>1</td>\n",
       "      <td>3</td>\n",
       "      <td>2</td>\n",
       "      <td>9</td>\n",
       "      <td>11</td>\n",
       "      <td>11</td>\n",
       "    </tr>\n",
       "    <tr>\n",
       "      <th>2</th>\n",
       "      <td>GP</td>\n",
       "      <td>F</td>\n",
       "      <td>15</td>\n",
       "      <td>U</td>\n",
       "      <td>LE3</td>\n",
       "      <td>T</td>\n",
       "      <td>1</td>\n",
       "      <td>1</td>\n",
       "      <td>at_home</td>\n",
       "      <td>other</td>\n",
       "      <td>...</td>\n",
       "      <td>4</td>\n",
       "      <td>3</td>\n",
       "      <td>2</td>\n",
       "      <td>2</td>\n",
       "      <td>3</td>\n",
       "      <td>3</td>\n",
       "      <td>6</td>\n",
       "      <td>12</td>\n",
       "      <td>13</td>\n",
       "      <td>12</td>\n",
       "    </tr>\n",
       "    <tr>\n",
       "      <th>3</th>\n",
       "      <td>GP</td>\n",
       "      <td>F</td>\n",
       "      <td>15</td>\n",
       "      <td>U</td>\n",
       "      <td>GT3</td>\n",
       "      <td>T</td>\n",
       "      <td>4</td>\n",
       "      <td>2</td>\n",
       "      <td>health</td>\n",
       "      <td>services</td>\n",
       "      <td>...</td>\n",
       "      <td>3</td>\n",
       "      <td>2</td>\n",
       "      <td>2</td>\n",
       "      <td>1</td>\n",
       "      <td>1</td>\n",
       "      <td>5</td>\n",
       "      <td>0</td>\n",
       "      <td>14</td>\n",
       "      <td>14</td>\n",
       "      <td>14</td>\n",
       "    </tr>\n",
       "    <tr>\n",
       "      <th>4</th>\n",
       "      <td>GP</td>\n",
       "      <td>F</td>\n",
       "      <td>16</td>\n",
       "      <td>U</td>\n",
       "      <td>GT3</td>\n",
       "      <td>T</td>\n",
       "      <td>3</td>\n",
       "      <td>3</td>\n",
       "      <td>other</td>\n",
       "      <td>other</td>\n",
       "      <td>...</td>\n",
       "      <td>4</td>\n",
       "      <td>3</td>\n",
       "      <td>2</td>\n",
       "      <td>1</td>\n",
       "      <td>2</td>\n",
       "      <td>5</td>\n",
       "      <td>0</td>\n",
       "      <td>11</td>\n",
       "      <td>13</td>\n",
       "      <td>13</td>\n",
       "    </tr>\n",
       "  </tbody>\n",
       "</table>\n",
       "<p>5 rows × 33 columns</p>\n",
       "</div>"
      ],
      "text/plain": [
       "  school sex  age address famsize Pstatus  Medu  Fedu     Mjob      Fjob  ...  \\\n",
       "0     GP   F   18       U     GT3       A     4     4  at_home   teacher  ...   \n",
       "1     GP   F   17       U     GT3       T     1     1  at_home     other  ...   \n",
       "2     GP   F   15       U     LE3       T     1     1  at_home     other  ...   \n",
       "3     GP   F   15       U     GT3       T     4     2   health  services  ...   \n",
       "4     GP   F   16       U     GT3       T     3     3    other     other  ...   \n",
       "\n",
       "  famrel freetime  goout  Dalc  Walc health absences  G1  G2  G3  \n",
       "0      4        3      4     1     1      3        4   0  11  11  \n",
       "1      5        3      3     1     1      3        2   9  11  11  \n",
       "2      4        3      2     2     3      3        6  12  13  12  \n",
       "3      3        2      2     1     1      5        0  14  14  14  \n",
       "4      4        3      2     1     2      5        0  11  13  13  \n",
       "\n",
       "[5 rows x 33 columns]"
      ]
     },
     "execution_count": 7,
     "metadata": {},
     "output_type": "execute_result"
    }
   ],
   "source": [
    "por.head()"
   ]
  },
  {
   "cell_type": "markdown",
   "metadata": {},
   "source": [
    "<h3><a id=\"final_score_analysis\">Final Score Analysis</a></h3>"
   ]
  },
  {
   "cell_type": "code",
   "execution_count": 8,
   "metadata": {},
   "outputs": [
    {
     "name": "stdout",
     "output_type": "stream",
     "text": [
      "Grade point mean:  11.91\n"
     ]
    }
   ],
   "source": [
    "print(\"Grade point mean: \", round(por.G3.mean(), 2))"
   ]
  },
  {
   "cell_type": "code",
   "execution_count": 9,
   "metadata": {},
   "outputs": [
    {
     "data": {
      "image/png": "[encoded data removed]",
      "text/plain": [
       "<Figure size 1000x600 with 1 Axes>"
      ]
     },
     "metadata": {},
     "output_type": "display_data"
    }
   ],
   "source": [
    "# Calculate the number of students for each distinctive grade\n",
    "voti_distinti = sorted(por['G3'].unique())  # Ottieni i voti distinti e ordina\n",
    "numero_studenti = por['G3'].value_counts().sort_index()  # Conta il numero di studenti per ciascun voto e ordina per voto\n",
    "\n",
    "# Create plot\n",
    "plt.figure(figsize=(10, 6))\n",
    "bars = plt.bar(voti_distinti, numero_studenti, color='#77DD77')\n",
    "\n",
    "for bar, count in zip(bars, numero_studenti):\n",
    "    plt.text(bar.get_x() + bar.get_width() / 2, bar.get_height() + 0.5, count,\n",
    "             ha='center', va='bottom', fontsize=10, color='black')\n",
    "\n",
    "plt.xlabel('Voto Finale (G3)')\n",
    "plt.ylabel('Numero di Studenti')\n",
    "plt.title('Distribuzione dei Voti Finali degli Studenti')\n",
    "plt.xticks(voti_distinti)\n",
    "plt.grid(axis='y')\n",
    "plt.show()"
   ]
  },
  {
   "cell_type": "markdown",
   "metadata": {},
   "source": [
    "Binning della variabile 'G3' per rendere più leggibile l'andamento dei voti"
   ]
  },
  {
   "cell_type": "code",
   "execution_count": 10,
   "metadata": {},
   "outputs": [],
   "source": [
    "bins = [0, 4, 8, 12, 16, 20]\n",
    "labels = ['Ottimo' , 'Buono', 'Sufficiente', 'Mediocre', 'Scarso']\n",
    "\n",
    "por['score_range'] = pd.cut(por['G3'], bins=bins, labels=labels, right=False)\n",
    "\n",
    "# Calculate the percentage of students in each band\n",
    "percentage_range = por['score_range'].value_counts(normalize=True) * 100\n",
    "percentage_range = percentage_range.reindex(labels)\n",
    "\n",
    "pal = sns.color_palette(\"RdYlGn\", len(labels))"
   ]
  },
  {
   "cell_type": "code",
   "execution_count": 11,
   "metadata": {},
   "outputs": [
    {
     "data": {
      "image/png": "[encoded data removed]",
      "text/plain": [
       "<Figure size 800x500 with 1 Axes>"
      ]
     },
     "metadata": {},
     "output_type": "display_data"
    }
   ],
   "source": [
    "# Create plot\n",
    "plt.figure(figsize=(8, 5))\n",
    "\n",
    "sns.barplot(x=percentage_range.values, y=percentage_range.index, hue=percentage_range.index, palette=pal)\n",
    "\n",
    "plt.xlabel('Percentuale di Studenti (%)')\n",
    "plt.ylabel('')\n",
    "plt.title('Distribuzione Percentuale degli Studenti per Fasce di Voto')\n",
    "\n",
    "for i in range(len(percentage_range)):\n",
    "    plt.text(percentage_range.values[i] + 0.5, i, f'{percentage_range.values[i]:.2f}%', ha='left', va='center', fontsize=10, color='black')\n",
    "\n",
    "plt.tight_layout()\n",
    "plt.show()"
   ]
  },
  {
   "cell_type": "code",
   "execution_count": 12,
   "metadata": {},
   "outputs": [],
   "source": [
    "por = por.drop(labels='score_range', axis=1)"
   ]
  },
  {
   "cell_type": "markdown",
   "metadata": {},
   "source": [
    "<h3><a id=\"correlation\">Final Score Correlation</a></h3>"
   ]
  },
  {
   "cell_type": "markdown",
   "metadata": {},
   "source": [
    "Data la grande quantità di variabili categoriche, è stata effettuata un encoding di queste variabile, prima di generare la matrice di correlazione."
   ]
  },
  {
   "cell_type": "code",
   "execution_count": 13,
   "metadata": {},
   "outputs": [],
   "source": [
    "por_enc = por.copy()"
   ]
  },
  {
   "cell_type": "code",
   "execution_count": 14,
   "metadata": {},
   "outputs": [],
   "source": [
    "label_encoders = {}\n",
    "onehot_encoders = {}\n",
    "mapping = {}"
   ]
  },
  {
   "cell_type": "code",
   "execution_count": 15,
   "metadata": {},
   "outputs": [],
   "source": [
    "categorical_columns = por_enc.select_dtypes(exclude=['number']).columns\n",
    "\n",
    "categorical_binary_columns = []\n",
    "categorical_not_binary_columns = []\n",
    "\n",
    "\n",
    "for col in categorical_columns:\n",
    "        if por_enc.nunique()[col] == 2:\n",
    "                categorical_binary_columns.append(col)\n",
    "        else:\n",
    "               categorical_not_binary_columns.append(col)"
   ]
  },
  {
   "cell_type": "code",
   "execution_count": 16,
   "metadata": {},
   "outputs": [],
   "source": [
    "# Encoding non-binary variables with OneHotEncoder and updating the mapping\n",
    "for col in categorical_not_binary_columns:\n",
    "    onehot_encoders[col] = OneHotEncoder(categories='auto', drop='if_binary')\n",
    "    encoded_values = onehot_encoders[col].fit_transform(por_enc[[col]])\n",
    "    encoded_df = pd.DataFrame(encoded_values.toarray(), columns=onehot_encoders[col].get_feature_names_out([col]))\n",
    "    por_enc = pd.concat([por_enc, encoded_df], axis=1)\n",
    "    \n",
    "    # Update the mapping\n",
    "    mapping[col] = {i: cat for i, cat in enumerate(onehot_encoders[col].categories_[0])}\n",
    "\n",
    "    por_enc.drop(columns=[col], inplace=True)"
   ]
  },
  {
   "cell_type": "code",
   "execution_count": 17,
   "metadata": {},
   "outputs": [],
   "source": [
    "# Encoding binary variables with LabelEncoder and updating the mapping\n",
    "for col in categorical_binary_columns:\n",
    "    label_encoders[col] = LabelEncoder()\n",
    "    por_enc[col] = label_encoders[col].fit_transform(por_enc[col])\n",
    "    \n",
    "    # Update the mapping\n",
    "    mapping[col] = {i: cat for i, cat in enumerate(label_encoders[col].classes_)}"
   ]
  },
  {
   "cell_type": "markdown",
   "metadata": {},
   "source": [
    "##### G3 - Correlation"
   ]
  },
  {
   "cell_type": "code",
   "execution_count": 18,
   "metadata": {},
   "outputs": [],
   "source": [
    "correlation_matrix = por_enc.corr()\n",
    "g3_correlations_abs = correlation_matrix['G3'].abs().sort_values(ascending=False)\n"
   ]
  },
  {
   "cell_type": "code",
   "execution_count": 19,
   "metadata": {},
   "outputs": [
    {
     "data": {
      "image/png": "[encoded data removed]",
      "text/plain": [
       "<Figure size 1000x800 with 1 Axes>"
      ]
     },
     "metadata": {},
     "output_type": "display_data"
    }
   ],
   "source": [
    "#Create plot\n",
    "plt.figure(figsize=(10, 8))\n",
    "\n",
    "palette = sns.color_palette(\"RdYlGn\", len(g3_correlations_abs))\n",
    "\n",
    "sns.barplot(x=g3_correlations_abs.values, y=g3_correlations_abs.index, hue=g3_correlations_abs.index, orient='h', palette=palette[::-1])\n",
    "plt.title('Correlazioni Assolute con G3')\n",
    "plt.xlabel('Correlazione Assoluta')\n",
    "plt.ylabel('Variabili')\n",
    "\n",
    "for i, v in enumerate(g3_correlations_abs):\n",
    "    plt.text(v + 0.01, i, f'{v:.2f}', va='center', fontsize=10)\n",
    "\n",
    "plt.show()"
   ]
  },
  {
   "cell_type": "markdown",
   "metadata": {},
   "source": [
    "<h3><a id=\"variables_analysis\">Analisi dei fattori impattanti sul voto finale</a></h3>"
   ]
  },
  {
   "cell_type": "markdown",
   "metadata": {},
   "source": [
    "\n",
    "<h5><a id=\"personal\">Dati Anagrafici</a></h5>"
   ]
  },
  {
   "cell_type": "code",
   "execution_count": 20,
   "metadata": {},
   "outputs": [
    {
     "name": "stdout",
     "output_type": "stream",
     "text": [
      "Media voti per sesso\n",
      "  sex\n",
      "F    12.253264\n",
      "M    11.406015\n",
      "Name: G3, dtype: float64\n"
     ]
    }
   ],
   "source": [
    "print(\"Media voti per sesso\\n \", por.groupby(\"sex\")[\"G3\"].mean())"
   ]
  },
  {
   "cell_type": "code",
   "execution_count": 21,
   "metadata": {},
   "outputs": [
    {
     "name": "stdout",
     "output_type": "stream",
     "text": [
      "Media voti per età e sesso\n",
      "  age  sex\n",
      "15   F      12.000000\n",
      "     M      12.218182\n",
      "16   F      12.419048\n",
      "     M      11.375000\n",
      "17   F      12.884956\n",
      "     M      11.212121\n",
      "18   F      12.047619\n",
      "     M      11.357143\n",
      "19   F       9.368421\n",
      "     M       9.769231\n",
      "20   F      11.750000\n",
      "     M      12.500000\n",
      "21   F      12.000000\n",
      "     M      10.000000\n",
      "22   M       5.000000\n",
      "Name: G3, dtype: float64\n"
     ]
    }
   ],
   "source": [
    "print(\"Media voti per età e sesso\\n \", por.groupby([\"age\", \"sex\"])[\"G3\"].mean())"
   ]
  },
  {
   "cell_type": "code",
   "execution_count": 22,
   "metadata": {},
   "outputs": [],
   "source": [
    "# Calculate your children's grade point average for each combination of age and gender\n",
    "mean_scores = por.groupby([\"age\", \"sex\"])[\"G3\"].mean().unstack()\n",
    "\n",
    "# Calculate the number of students by age and gender\n",
    "student_count = por.groupby([\"age\", \"sex\"]).size().unstack()\n",
    "\n",
    "# Check for existence of NaN values ​​and replace them with 0\n",
    "mean_scores = mean_scores.fillna(0)\n",
    "student_count = student_count.fillna(0)\n",
    "\n",
    "ages = mean_scores.index"
   ]
  },
  {
   "cell_type": "code",
   "execution_count": 23,
   "metadata": {},
   "outputs": [
    {
     "data": {
      "application/vnd.plotly.v1+json": {
       "config": {
        "plotlyServerURL": "https://plot.ly"
       },
       "data": [
        {
         "hoverinfo": "y",
         "marker": {
          "color": "#FF6961"
         },
         "name": "F",
         "type": "bar",
         "x": [
          15,
          16,
          17,
          18,
          19,
          20,
          21,
          22
         ],
         "y": [
          12,
          12.41904761904762,
          12.88495575221239,
          12.047619047619047,
          9.368421052631579,
          11.75,
          12,
          0
         ]
        },
        {
         "hoverinfo": "y",
         "marker": {
          "color": "#A2CFFE"
         },
         "name": "M",
         "type": "bar",
         "x": [
          15,
          16,
          17,
          18,
          19,
          20,
          21,
          22
         ],
         "y": [
          12.218181818181819,
          11.375,
          11.212121212121213,
          11.357142857142858,
          9.76923076923077,
          12.5,
          10,
          5
         ]
        },
        {
         "hoverinfo": "y",
         "marker": {
          "color": "red"
         },
         "mode": "lines+markers",
         "name": "Distr F",
         "type": "scatter",
         "x": [
          15,
          16,
          17,
          18,
          19,
          20,
          21,
          22
         ],
         "y": [
          57,
          105,
          113,
          84,
          19,
          4,
          1,
          0
         ],
         "yaxis": "y2"
        },
        {
         "hoverinfo": "y",
         "marker": {
          "color": "blue"
         },
         "mode": "lines+markers",
         "name": "Dist M",
         "type": "scatter",
         "x": [
          15,
          16,
          17,
          18,
          19,
          20,
          21,
          22
         ],
         "y": [
          55,
          72,
          66,
          56,
          13,
          2,
          1,
          1
         ],
         "yaxis": "y2"
        }
       ],
       "layout": {
        "barmode": "group",
        "hovermode": "x",
        "legend": {
         "x": 1.05,
         "y": 1
        },
        "template": {
         "data": {
          "bar": [
           {
            "error_x": {
             "color": "#2a3f5f"
            },
            "error_y": {
             "color": "#2a3f5f"
            },
            "marker": {
             "line": {
              "color": "#E5ECF6",
              "width": 0.5
             },
             "pattern": {
              "fillmode": "overlay",
              "size": 10,
              "solidity": 0.2
             }
            },
            "type": "bar"
           }
          ],
          "barpolar": [
           {
            "marker": {
             "line": {
              "color": "#E5ECF6",
              "width": 0.5
             },
             "pattern": {
              "fillmode": "overlay",
              "size": 10,
              "solidity": 0.2
             }
            },
            "type": "barpolar"
           }
          ],
          "carpet": [
           {
            "aaxis": {
             "endlinecolor": "#2a3f5f",
             "gridcolor": "white",
             "linecolor": "white",
             "minorgridcolor": "white",
             "startlinecolor": "#2a3f5f"
            },
            "baxis": {
             "endlinecolor": "#2a3f5f",
             "gridcolor": "white",
             "linecolor": "white",
             "minorgridcolor": "white",
             "startlinecolor": "#2a3f5f"
            },
            "type": "carpet"
           }
          ],
          "choropleth": [
           {
            "colorbar": {
             "outlinewidth": 0,
             "ticks": ""
            },
            "type": "choropleth"
           }
          ],
          "contour": [
           {
            "colorbar": {
             "outlinewidth": 0,
             "ticks": ""
            },
            "colorscale": [
             [
              0,
              "#0d0887"
             ],
             [
              0.1111111111111111,
              "#46039f"
             ],
             [
              0.2222222222222222,
              "#7201a8"
             ],
             [
              0.3333333333333333,
              "#9c179e"
             ],
             [
              0.4444444444444444,
              "#bd3786"
             ],
             [
              0.5555555555555556,
              "#d8576b"
             ],
             [
              0.6666666666666666,
              "#ed7953"
             ],
             [
              0.7777777777777778,
              "#fb9f3a"
             ],
             [
              0.8888888888888888,
              "#fdca26"
             ],
             [
              1,
              "#f0f921"
             ]
            ],
            "type": "contour"
           }
          ],
          "contourcarpet": [
           {
            "colorbar": {
             "outlinewidth": 0,
             "ticks": ""
            },
            "type": "contourcarpet"
           }
          ],
          "heatmap": [
           {
            "colorbar": {
             "outlinewidth": 0,
             "ticks": ""
            },
            "colorscale": [
             [
              0,
              "#0d0887"
             ],
             [
              0.1111111111111111,
              "#46039f"
             ],
             [
              0.2222222222222222,
              "#7201a8"
             ],
             [
              0.3333333333333333,
              "#9c179e"
             ],
             [
              0.4444444444444444,
              "#bd3786"
             ],
             [
              0.5555555555555556,
              "#d8576b"
             ],
             [
              0.6666666666666666,
              "#ed7953"
             ],
             [
              0.7777777777777778,
              "#fb9f3a"
             ],
             [
              0.8888888888888888,
              "#fdca26"
             ],
             [
              1,
              "#f0f921"
             ]
            ],
            "type": "heatmap"
           }
          ],
          "heatmapgl": [
           {
            "colorbar": {
             "outlinewidth": 0,
             "ticks": ""
            },
            "colorscale": [
             [
              0,
              "#0d0887"
             ],
             [
              0.1111111111111111,
              "#46039f"
             ],
             [
              0.2222222222222222,
              "#7201a8"
             ],
             [
              0.3333333333333333,
              "#9c179e"
             ],
             [
              0.4444444444444444,
              "#bd3786"
             ],
             [
              0.5555555555555556,
              "#d8576b"
             ],
             [
              0.6666666666666666,
              "#ed7953"
             ],
             [
              0.7777777777777778,
              "#fb9f3a"
             ],
             [
              0.8888888888888888,
              "#fdca26"
             ],
             [
              1,
              "#f0f921"
             ]
            ],
            "type": "heatmapgl"
           }
          ],
          "histogram": [
           {
            "marker": {
             "pattern": {
              "fillmode": "overlay",
              "size": 10,
              "solidity": 0.2
             }
            },
            "type": "histogram"
           }
          ],
          "histogram2d": [
           {
            "colorbar": {
             "outlinewidth": 0,
             "ticks": ""
            },
            "colorscale": [
             [
              0,
              "#0d0887"
             ],
             [
              0.1111111111111111,
              "#46039f"
             ],
             [
              0.2222222222222222,
              "#7201a8"
             ],
             [
              0.3333333333333333,
              "#9c179e"
             ],
             [
              0.4444444444444444,
              "#bd3786"
             ],
             [
              0.5555555555555556,
              "#d8576b"
             ],
             [
              0.6666666666666666,
              "#ed7953"
             ],
             [
              0.7777777777777778,
              "#fb9f3a"
             ],
             [
              0.8888888888888888,
              "#fdca26"
             ],
             [
              1,
              "#f0f921"
             ]
            ],
            "type": "histogram2d"
           }
          ],
          "histogram2dcontour": [
           {
            "colorbar": {
             "outlinewidth": 0,
             "ticks": ""
            },
            "colorscale": [
             [
              0,
              "#0d0887"
             ],
             [
              0.1111111111111111,
              "#46039f"
             ],
             [
              0.2222222222222222,
              "#7201a8"
             ],
             [
              0.3333333333333333,
              "#9c179e"
             ],
             [
              0.4444444444444444,
              "#bd3786"
             ],
             [
              0.5555555555555556,
              "#d8576b"
             ],
             [
              0.6666666666666666,
              "#ed7953"
             ],
             [
              0.7777777777777778,
              "#fb9f3a"
             ],
             [
              0.8888888888888888,
              "#fdca26"
             ],
             [
              1,
              "#f0f921"
             ]
            ],
            "type": "histogram2dcontour"
           }
          ],
          "mesh3d": [
           {
            "colorbar": {
             "outlinewidth": 0,
             "ticks": ""
            },
            "type": "mesh3d"
           }
          ],
          "parcoords": [
           {
            "line": {
             "colorbar": {
              "outlinewidth": 0,
              "ticks": ""
             }
            },
            "type": "parcoords"
           }
          ],
          "pie": [
           {
            "automargin": true,
            "type": "pie"
           }
          ],
          "scatter": [
           {
            "fillpattern": {
             "fillmode": "overlay",
             "size": 10,
             "solidity": 0.2
            },
            "type": "scatter"
           }
          ],
          "scatter3d": [
           {
            "line": {
             "colorbar": {
              "outlinewidth": 0,
              "ticks": ""
             }
            },
            "marker": {
             "colorbar": {
              "outlinewidth": 0,
              "ticks": ""
             }
            },
            "type": "scatter3d"
           }
          ],
          "scattercarpet": [
           {
            "marker": {
             "colorbar": {
              "outlinewidth": 0,
              "ticks": ""
             }
            },
            "type": "scattercarpet"
           }
          ],
          "scattergeo": [
           {
            "marker": {
             "colorbar": {
              "outlinewidth": 0,
              "ticks": ""
             }
            },
            "type": "scattergeo"
           }
          ],
          "scattergl": [
           {
            "marker": {
             "colorbar": {
              "outlinewidth": 0,
              "ticks": ""
             }
            },
            "type": "scattergl"
           }
          ],
          "scattermapbox": [
           {
            "marker": {
             "colorbar": {
              "outlinewidth": 0,
              "ticks": ""
             }
            },
            "type": "scattermapbox"
           }
          ],
          "scatterpolar": [
           {
            "marker": {
             "colorbar": {
              "outlinewidth": 0,
              "ticks": ""
             }
            },
            "type": "scatterpolar"
           }
          ],
          "scatterpolargl": [
           {
            "marker": {
             "colorbar": {
              "outlinewidth": 0,
              "ticks": ""
             }
            },
            "type": "scatterpolargl"
           }
          ],
          "scatterternary": [
           {
            "marker": {
             "colorbar": {
              "outlinewidth": 0,
              "ticks": ""
             }
            },
            "type": "scatterternary"
           }
          ],
          "surface": [
           {
            "colorbar": {
             "outlinewidth": 0,
             "ticks": ""
            },
            "colorscale": [
             [
              0,
              "#0d0887"
             ],
             [
              0.1111111111111111,
              "#46039f"
             ],
             [
              0.2222222222222222,
              "#7201a8"
             ],
             [
              0.3333333333333333,
              "#9c179e"
             ],
             [
              0.4444444444444444,
              "#bd3786"
             ],
             [
              0.5555555555555556,
              "#d8576b"
             ],
             [
              0.6666666666666666,
              "#ed7953"
             ],
             [
              0.7777777777777778,
              "#fb9f3a"
             ],
             [
              0.8888888888888888,
              "#fdca26"
             ],
             [
              1,
              "#f0f921"
             ]
            ],
            "type": "surface"
           }
          ],
          "table": [
           {
            "cells": {
             "fill": {
              "color": "#EBF0F8"
             },
             "line": {
              "color": "white"
             }
            },
            "header": {
             "fill": {
              "color": "#C8D4E3"
             },
             "line": {
              "color": "white"
             }
            },
            "type": "table"
           }
          ]
         },
         "layout": {
          "annotationdefaults": {
           "arrowcolor": "#2a3f5f",
           "arrowhead": 0,
           "arrowwidth": 1
          },
          "autotypenumbers": "strict",
          "coloraxis": {
           "colorbar": {
            "outlinewidth": 0,
            "ticks": ""
           }
          },
          "colorscale": {
           "diverging": [
            [
             0,
             "#8e0152"
            ],
            [
             0.1,
             "#c51b7d"
            ],
            [
             0.2,
             "#de77ae"
            ],
            [
             0.3,
             "#f1b6da"
            ],
            [
             0.4,
             "#fde0ef"
            ],
            [
             0.5,
             "#f7f7f7"
            ],
            [
             0.6,
             "#e6f5d0"
            ],
            [
             0.7,
             "#b8e186"
            ],
            [
             0.8,
             "#7fbc41"
            ],
            [
             0.9,
             "#4d9221"
            ],
            [
             1,
             "#276419"
            ]
           ],
           "sequential": [
            [
             0,
             "#0d0887"
            ],
            [
             0.1111111111111111,
             "#46039f"
            ],
            [
             0.2222222222222222,
             "#7201a8"
            ],
            [
             0.3333333333333333,
             "#9c179e"
            ],
            [
             0.4444444444444444,
             "#bd3786"
            ],
            [
             0.5555555555555556,
             "#d8576b"
            ],
            [
             0.6666666666666666,
             "#ed7953"
            ],
            [
             0.7777777777777778,
             "#fb9f3a"
            ],
            [
             0.8888888888888888,
             "#fdca26"
            ],
            [
             1,
             "#f0f921"
            ]
           ],
           "sequentialminus": [
            [
             0,
             "#0d0887"
            ],
            [
             0.1111111111111111,
             "#46039f"
            ],
            [
             0.2222222222222222,
             "#7201a8"
            ],
            [
             0.3333333333333333,
             "#9c179e"
            ],
            [
             0.4444444444444444,
             "#bd3786"
            ],
            [
             0.5555555555555556,
             "#d8576b"
            ],
            [
             0.6666666666666666,
             "#ed7953"
            ],
            [
             0.7777777777777778,
             "#fb9f3a"
            ],
            [
             0.8888888888888888,
             "#fdca26"
            ],
            [
             1,
             "#f0f921"
            ]
           ]
          },
          "colorway": [
           "#636efa",
           "#EF553B",
           "#00cc96",
           "#ab63fa",
           "#FFA15A",
           "#19d3f3",
           "#FF6692",
           "#B6E880",
           "#FF97FF",
           "#FECB52"
          ],
          "font": {
           "color": "#2a3f5f"
          },
          "geo": {
           "bgcolor": "white",
           "lakecolor": "white",
           "landcolor": "#E5ECF6",
           "showlakes": true,
           "showland": true,
           "subunitcolor": "white"
          },
          "hoverlabel": {
           "align": "left"
          },
          "hovermode": "closest",
          "mapbox": {
           "style": "light"
          },
          "paper_bgcolor": "white",
          "plot_bgcolor": "#E5ECF6",
          "polar": {
           "angularaxis": {
            "gridcolor": "white",
            "linecolor": "white",
            "ticks": ""
           },
           "bgcolor": "#E5ECF6",
           "radialaxis": {
            "gridcolor": "white",
            "linecolor": "white",
            "ticks": ""
           }
          },
          "scene": {
           "xaxis": {
            "backgroundcolor": "#E5ECF6",
            "gridcolor": "white",
            "gridwidth": 2,
            "linecolor": "white",
            "showbackground": true,
            "ticks": "",
            "zerolinecolor": "white"
           },
           "yaxis": {
            "backgroundcolor": "#E5ECF6",
            "gridcolor": "white",
            "gridwidth": 2,
            "linecolor": "white",
            "showbackground": true,
            "ticks": "",
            "zerolinecolor": "white"
           },
           "zaxis": {
            "backgroundcolor": "#E5ECF6",
            "gridcolor": "white",
            "gridwidth": 2,
            "linecolor": "white",
            "showbackground": true,
            "ticks": "",
            "zerolinecolor": "white"
           }
          },
          "shapedefaults": {
           "line": {
            "color": "#2a3f5f"
           }
          },
          "ternary": {
           "aaxis": {
            "gridcolor": "white",
            "linecolor": "white",
            "ticks": ""
           },
           "baxis": {
            "gridcolor": "white",
            "linecolor": "white",
            "ticks": ""
           },
           "bgcolor": "#E5ECF6",
           "caxis": {
            "gridcolor": "white",
            "linecolor": "white",
            "ticks": ""
           }
          },
          "title": {
           "x": 0.05
          },
          "xaxis": {
           "automargin": true,
           "gridcolor": "white",
           "linecolor": "white",
           "ticks": "",
           "title": {
            "standoff": 15
           },
           "zerolinecolor": "white",
           "zerolinewidth": 2
          },
          "yaxis": {
           "automargin": true,
           "gridcolor": "white",
           "linecolor": "white",
           "ticks": "",
           "title": {
            "standoff": 15
           },
           "zerolinecolor": "white",
           "zerolinewidth": 2
          }
         }
        },
        "title": {
         "text": "Media voti e Distribuzione studenti per età e sesso"
        },
        "xaxis": {
         "title": {
          "text": "Età"
         }
        },
        "yaxis": {
         "title": {
          "text": "Media voti finali"
         }
        },
        "yaxis2": {
         "overlaying": "y",
         "side": "right",
         "title": {
          "text": "n° studenti"
         }
        }
       }
      }
     },
     "metadata": {},
     "output_type": "display_data"
    }
   ],
   "source": [
    "# Create trace for bar graph\n",
    "fig = go.Figure()\n",
    "\n",
    "fig.add_trace(go.Bar(\n",
    "    x=ages,\n",
    "    y=mean_scores['F'],\n",
    "    name='F',\n",
    "    marker_color='#FF6961',\n",
    "    hoverinfo='y'\n",
    "))\n",
    "\n",
    "fig.add_trace(go.Bar(\n",
    "    x=ages,\n",
    "    y=mean_scores['M'],\n",
    "    name='M',\n",
    "    marker_color='#A2CFFE',\n",
    "    hoverinfo='y'\n",
    "))\n",
    "\n",
    "# Create trace for the student distribution curves\n",
    "fig.add_trace(go.Scatter(\n",
    "    x=ages,\n",
    "    y=student_count['F'],\n",
    "    name='Distr F',\n",
    "    yaxis='y2',\n",
    "    mode='lines+markers',\n",
    "    marker=dict(color='red'),\n",
    "    hoverinfo='y'\n",
    "))\n",
    "\n",
    "fig.add_trace(go.Scatter(\n",
    "    x=ages,\n",
    "    y=student_count['M'],\n",
    "    name='Dist M',\n",
    "    yaxis='y2',\n",
    "    mode='lines+markers',\n",
    "    marker=dict(color='blue'),\n",
    "    hoverinfo='y'\n",
    "))\n",
    "\n",
    "# Set i layout\n",
    "fig.update_layout(\n",
    "    title='Media voti e Distribuzione studenti per età e sesso',\n",
    "    xaxis=dict(title='Età'),\n",
    "    yaxis=dict(title='Media voti finali'),\n",
    "    yaxis2=dict(title='n° studenti', overlaying='y', side='right'),\n",
    "    barmode='group',\n",
    "    hovermode='x',\n",
    "    legend=dict(\n",
    "        x=1.05,\n",
    "        y=1\n",
    "    )\n",
    ")\n",
    "\n",
    "# Mostra il grafico\n",
    "fig.show()"
   ]
  },
  {
   "cell_type": "markdown",
   "metadata": {},
   "source": [
    "<h5><a id=\"school\">Istituti Scolastici</a></h5>"
   ]
  },
  {
   "cell_type": "code",
   "execution_count": 24,
   "metadata": {},
   "outputs": [
    {
     "name": "stdout",
     "output_type": "stream",
     "text": [
      "Istituti scolastici  ['GP' 'MS']\n"
     ]
    }
   ],
   "source": [
    "print(\"Istituti scolastici \", por.school.unique())"
   ]
  },
  {
   "cell_type": "code",
   "execution_count": 25,
   "metadata": {},
   "outputs": [],
   "source": [
    "failed_students_per_school = por[por['failures'] > 1].groupby('school').size().reset_index(name='failed_students')"
   ]
  },
  {
   "cell_type": "code",
   "execution_count": 26,
   "metadata": {},
   "outputs": [
    {
     "name": "stdout",
     "output_type": "stream",
     "text": [
      "  school  counts\n",
      "0     GP     423\n",
      "1     MS     226\n"
     ]
    }
   ],
   "source": [
    "print(por.groupby('school').size().reset_index(name='counts'))"
   ]
  },
  {
   "cell_type": "code",
   "execution_count": 27,
   "metadata": {},
   "outputs": [
    {
     "data": {
      "text/html": [
       "<div>\n",
       "<style scoped>\n",
       "    .dataframe tbody tr th:only-of-type {\n",
       "        vertical-align: middle;\n",
       "    }\n",
       "\n",
       "    .dataframe tbody tr th {\n",
       "        vertical-align: top;\n",
       "    }\n",
       "\n",
       "    .dataframe thead th {\n",
       "        text-align: right;\n",
       "    }\n",
       "</style>\n",
       "<table border=\"1\" class=\"dataframe\">\n",
       "  <thead>\n",
       "    <tr style=\"text-align: right;\">\n",
       "      <th></th>\n",
       "      <th>school</th>\n",
       "      <th>avg_sch</th>\n",
       "    </tr>\n",
       "  </thead>\n",
       "  <tbody>\n",
       "    <tr>\n",
       "      <th>0</th>\n",
       "      <td>GP</td>\n",
       "      <td>12.576832</td>\n",
       "    </tr>\n",
       "    <tr>\n",
       "      <th>1</th>\n",
       "      <td>MS</td>\n",
       "      <td>10.650442</td>\n",
       "    </tr>\n",
       "  </tbody>\n",
       "</table>\n",
       "</div>"
      ],
      "text/plain": [
       "  school    avg_sch\n",
       "0     GP  12.576832\n",
       "1     MS  10.650442"
      ]
     },
     "execution_count": 27,
     "metadata": {},
     "output_type": "execute_result"
    }
   ],
   "source": [
    "por.groupby('school')['G3'].mean().reset_index(name='avg_sch')"
   ]
  },
  {
   "cell_type": "code",
   "execution_count": 28,
   "metadata": {},
   "outputs": [
    {
     "name": "stdout",
     "output_type": "stream",
     "text": [
      "  school  total_students  failed_students  failure_percentage\n",
      "0     GP             423               18            4.255319\n",
      "1     MS             226               12            5.309735\n"
     ]
    }
   ],
   "source": [
    "# Percentage finale grade by failures by school\n",
    "\n",
    "failed_students_per_school = por[por['failures'] > 1].groupby('school').size().reset_index(name='failed_students')\n",
    "total_students_per_school = por.groupby('school').size().reset_index(name='total_students')\n",
    "\n",
    "\n",
    "school_failures = pd.merge(total_students_per_school, failed_students_per_school, on='school', how='left')\n",
    "school_failures['failed_students'] = school_failures['failed_students'].fillna(0)\n",
    "\n",
    "school_failures['failure_percentage'] = (school_failures['failed_students'] / school_failures['total_students']) * 100\n",
    "\n",
    "print(school_failures)"
   ]
  },
  {
   "cell_type": "code",
   "execution_count": 29,
   "metadata": {},
   "outputs": [
    {
     "name": "stdout",
     "output_type": "stream",
     "text": [
      "  school    avg_sch\n",
      "0     GP  12.576832\n",
      "1     MS  10.650442\n"
     ]
    }
   ],
   "source": [
    "# grade point average by school\n",
    "mean_by_school = por.groupby('school')['G3'].mean().reset_index(name='avg_sch')\n",
    "\n",
    "print(mean_by_school)"
   ]
  },
  {
   "cell_type": "code",
   "execution_count": 30,
   "metadata": {},
   "outputs": [
    {
     "name": "stdout",
     "output_type": "stream",
     "text": [
      "  school  mean_G3_by_higher\n",
      "0     GP          12.861893\n",
      "1     MS          11.063492\n"
     ]
    }
   ],
   "source": [
    "# average number of students who want to continue their studies per school\n",
    "\n",
    "higher_students = por[por['higher'] == 'yes']\n",
    "mean_g3_higher = higher_students.groupby('school')['G3'].mean().reset_index(name='mean_G3_by_higher')\n",
    "\n",
    "print(mean_g3_higher)"
   ]
  },
  {
   "cell_type": "code",
   "execution_count": 36,
   "metadata": {},
   "outputs": [
    {
     "name": "stdout",
     "output_type": "stream",
     "text": [
      "| sch   |   avg_sch |   fail_per |   G3_higher |\n",
      "|-------|-----------|------------|-------------|\n",
      "| GP    |     12.58 |       4.26 |       12.86 |\n",
      "| MS    |     10.65 |       5.31 |       11.06 |\n"
     ]
    }
   ],
   "source": [
    "school_report = mean_by_school.merge(school_failures, on=\"school\")\n",
    "school_report = school_report.merge(mean_g3_higher, on=\"school\")\n",
    "\n",
    "school_report = school_report.drop([\"total_students\", \"failed_students\"], axis=1)\n",
    "school_report = school_report.rename(columns={\"school\": \"sch\", \"failure_percentage\": \"fail_per\", \"mean_G3_by_higher\": \"G3_higher\"})\n",
    "\n",
    "numeric_columns = school_report.select_dtypes(include=['float64']).columns\n",
    "school_report[numeric_columns] = school_report[numeric_columns].round(2)\n",
    "\n",
    "table = tabulate(school_report, headers='keys', tablefmt='github', showindex=False)\n",
    "\n",
    "print(table)"
   ]
  },
  {
   "cell_type": "code",
   "execution_count": 32,
   "metadata": {},
   "outputs": [
    {
     "data": {
      "application/vnd.plotly.v1+json": {
       "config": {
        "plotlyServerURL": "https://plot.ly"
       },
       "data": [
        {
         "name": "course",
         "type": "bar",
         "width": [
          0.16,
          0.16
         ],
         "x": [
          "GP",
          "MS"
         ],
         "y": [
          12.149700598802395,
          10.694915254237289
         ]
        },
        {
         "name": "home",
         "type": "bar",
         "width": [
          0.16,
          0.16
         ],
         "x": [
          "GP",
          "MS"
         ],
         "y": [
          12.6,
          10.764705882352942
         ]
        },
        {
         "name": "other",
         "type": "bar",
         "width": [
          0.16,
          0.16
         ],
         "x": [
          "GP",
          "MS"
         ],
         "y": [
          12.25925925925926,
          9.755555555555556
         ]
        },
        {
         "name": "reputation",
         "type": "bar",
         "width": [
          0.16,
          0.16
         ],
         "x": [
          "GP",
          "MS"
         ],
         "y": [
          13.25438596491228,
          11.724137931034482
         ]
        }
       ],
       "layout": {
        "barmode": "group",
        "template": {
         "data": {
          "bar": [
           {
            "error_x": {
             "color": "#2a3f5f"
            },
            "error_y": {
             "color": "#2a3f5f"
            },
            "marker": {
             "line": {
              "color": "#E5ECF6",
              "width": 0.5
             },
             "pattern": {
              "fillmode": "overlay",
              "size": 10,
              "solidity": 0.2
             }
            },
            "type": "bar"
           }
          ],
          "barpolar": [
           {
            "marker": {
             "line": {
              "color": "#E5ECF6",
              "width": 0.5
             },
             "pattern": {
              "fillmode": "overlay",
              "size": 10,
              "solidity": 0.2
             }
            },
            "type": "barpolar"
           }
          ],
          "carpet": [
           {
            "aaxis": {
             "endlinecolor": "#2a3f5f",
             "gridcolor": "white",
             "linecolor": "white",
             "minorgridcolor": "white",
             "startlinecolor": "#2a3f5f"
            },
            "baxis": {
             "endlinecolor": "#2a3f5f",
             "gridcolor": "white",
             "linecolor": "white",
             "minorgridcolor": "white",
             "startlinecolor": "#2a3f5f"
            },
            "type": "carpet"
           }
          ],
          "choropleth": [
           {
            "colorbar": {
             "outlinewidth": 0,
             "ticks": ""
            },
            "type": "choropleth"
           }
          ],
          "contour": [
           {
            "colorbar": {
             "outlinewidth": 0,
             "ticks": ""
            },
            "colorscale": [
             [
              0,
              "#0d0887"
             ],
             [
              0.1111111111111111,
              "#46039f"
             ],
             [
              0.2222222222222222,
              "#7201a8"
             ],
             [
              0.3333333333333333,
              "#9c179e"
             ],
             [
              0.4444444444444444,
              "#bd3786"
             ],
             [
              0.5555555555555556,
              "#d8576b"
             ],
             [
              0.6666666666666666,
              "#ed7953"
             ],
             [
              0.7777777777777778,
              "#fb9f3a"
             ],
             [
              0.8888888888888888,
              "#fdca26"
             ],
             [
              1,
              "#f0f921"
             ]
            ],
            "type": "contour"
           }
          ],
          "contourcarpet": [
           {
            "colorbar": {
             "outlinewidth": 0,
             "ticks": ""
            },
            "type": "contourcarpet"
           }
          ],
          "heatmap": [
           {
            "colorbar": {
             "outlinewidth": 0,
             "ticks": ""
            },
            "colorscale": [
             [
              0,
              "#0d0887"
             ],
             [
              0.1111111111111111,
              "#46039f"
             ],
             [
              0.2222222222222222,
              "#7201a8"
             ],
             [
              0.3333333333333333,
              "#9c179e"
             ],
             [
              0.4444444444444444,
              "#bd3786"
             ],
             [
              0.5555555555555556,
              "#d8576b"
             ],
             [
              0.6666666666666666,
              "#ed7953"
             ],
             [
              0.7777777777777778,
              "#fb9f3a"
             ],
             [
              0.8888888888888888,
              "#fdca26"
             ],
             [
              1,
              "#f0f921"
             ]
            ],
            "type": "heatmap"
           }
          ],
          "heatmapgl": [
           {
            "colorbar": {
             "outlinewidth": 0,
             "ticks": ""
            },
            "colorscale": [
             [
              0,
              "#0d0887"
             ],
             [
              0.1111111111111111,
              "#46039f"
             ],
             [
              0.2222222222222222,
              "#7201a8"
             ],
             [
              0.3333333333333333,
              "#9c179e"
             ],
             [
              0.4444444444444444,
              "#bd3786"
             ],
             [
              0.5555555555555556,
              "#d8576b"
             ],
             [
              0.6666666666666666,
              "#ed7953"
             ],
             [
              0.7777777777777778,
              "#fb9f3a"
             ],
             [
              0.8888888888888888,
              "#fdca26"
             ],
             [
              1,
              "#f0f921"
             ]
            ],
            "type": "heatmapgl"
           }
          ],
          "histogram": [
           {
            "marker": {
             "pattern": {
              "fillmode": "overlay",
              "size": 10,
              "solidity": 0.2
             }
            },
            "type": "histogram"
           }
          ],
          "histogram2d": [
           {
            "colorbar": {
             "outlinewidth": 0,
             "ticks": ""
            },
            "colorscale": [
             [
              0,
              "#0d0887"
             ],
             [
              0.1111111111111111,
              "#46039f"
             ],
             [
              0.2222222222222222,
              "#7201a8"
             ],
             [
              0.3333333333333333,
              "#9c179e"
             ],
             [
              0.4444444444444444,
              "#bd3786"
             ],
             [
              0.5555555555555556,
              "#d8576b"
             ],
             [
              0.6666666666666666,
              "#ed7953"
             ],
             [
              0.7777777777777778,
              "#fb9f3a"
             ],
             [
              0.8888888888888888,
              "#fdca26"
             ],
             [
              1,
              "#f0f921"
             ]
            ],
            "type": "histogram2d"
           }
          ],
          "histogram2dcontour": [
           {
            "colorbar": {
             "outlinewidth": 0,
             "ticks": ""
            },
            "colorscale": [
             [
              0,
              "#0d0887"
             ],
             [
              0.1111111111111111,
              "#46039f"
             ],
             [
              0.2222222222222222,
              "#7201a8"
             ],
             [
              0.3333333333333333,
              "#9c179e"
             ],
             [
              0.4444444444444444,
              "#bd3786"
             ],
             [
              0.5555555555555556,
              "#d8576b"
             ],
             [
              0.6666666666666666,
              "#ed7953"
             ],
             [
              0.7777777777777778,
              "#fb9f3a"
             ],
             [
              0.8888888888888888,
              "#fdca26"
             ],
             [
              1,
              "#f0f921"
             ]
            ],
            "type": "histogram2dcontour"
           }
          ],
          "mesh3d": [
           {
            "colorbar": {
             "outlinewidth": 0,
             "ticks": ""
            },
            "type": "mesh3d"
           }
          ],
          "parcoords": [
           {
            "line": {
             "colorbar": {
              "outlinewidth": 0,
              "ticks": ""
             }
            },
            "type": "parcoords"
           }
          ],
          "pie": [
           {
            "automargin": true,
            "type": "pie"
           }
          ],
          "scatter": [
           {
            "fillpattern": {
             "fillmode": "overlay",
             "size": 10,
             "solidity": 0.2
            },
            "type": "scatter"
           }
          ],
          "scatter3d": [
           {
            "line": {
             "colorbar": {
              "outlinewidth": 0,
              "ticks": ""
             }
            },
            "marker": {
             "colorbar": {
              "outlinewidth": 0,
              "ticks": ""
             }
            },
            "type": "scatter3d"
           }
          ],
          "scattercarpet": [
           {
            "marker": {
             "colorbar": {
              "outlinewidth": 0,
              "ticks": ""
             }
            },
            "type": "scattercarpet"
           }
          ],
          "scattergeo": [
           {
            "marker": {
             "colorbar": {
              "outlinewidth": 0,
              "ticks": ""
             }
            },
            "type": "scattergeo"
           }
          ],
          "scattergl": [
           {
            "marker": {
             "colorbar": {
              "outlinewidth": 0,
              "ticks": ""
             }
            },
            "type": "scattergl"
           }
          ],
          "scattermapbox": [
           {
            "marker": {
             "colorbar": {
              "outlinewidth": 0,
              "ticks": ""
             }
            },
            "type": "scattermapbox"
           }
          ],
          "scatterpolar": [
           {
            "marker": {
             "colorbar": {
              "outlinewidth": 0,
              "ticks": ""
             }
            },
            "type": "scatterpolar"
           }
          ],
          "scatterpolargl": [
           {
            "marker": {
             "colorbar": {
              "outlinewidth": 0,
              "ticks": ""
             }
            },
            "type": "scatterpolargl"
           }
          ],
          "scatterternary": [
           {
            "marker": {
             "colorbar": {
              "outlinewidth": 0,
              "ticks": ""
             }
            },
            "type": "scatterternary"
           }
          ],
          "surface": [
           {
            "colorbar": {
             "outlinewidth": 0,
             "ticks": ""
            },
            "colorscale": [
             [
              0,
              "#0d0887"
             ],
             [
              0.1111111111111111,
              "#46039f"
             ],
             [
              0.2222222222222222,
              "#7201a8"
             ],
             [
              0.3333333333333333,
              "#9c179e"
             ],
             [
              0.4444444444444444,
              "#bd3786"
             ],
             [
              0.5555555555555556,
              "#d8576b"
             ],
             [
              0.6666666666666666,
              "#ed7953"
             ],
             [
              0.7777777777777778,
              "#fb9f3a"
             ],
             [
              0.8888888888888888,
              "#fdca26"
             ],
             [
              1,
              "#f0f921"
             ]
            ],
            "type": "surface"
           }
          ],
          "table": [
           {
            "cells": {
             "fill": {
              "color": "#EBF0F8"
             },
             "line": {
              "color": "white"
             }
            },
            "header": {
             "fill": {
              "color": "#C8D4E3"
             },
             "line": {
              "color": "white"
             }
            },
            "type": "table"
           }
          ]
         },
         "layout": {
          "annotationdefaults": {
           "arrowcolor": "#2a3f5f",
           "arrowhead": 0,
           "arrowwidth": 1
          },
          "autotypenumbers": "strict",
          "coloraxis": {
           "colorbar": {
            "outlinewidth": 0,
            "ticks": ""
           }
          },
          "colorscale": {
           "diverging": [
            [
             0,
             "#8e0152"
            ],
            [
             0.1,
             "#c51b7d"
            ],
            [
             0.2,
             "#de77ae"
            ],
            [
             0.3,
             "#f1b6da"
            ],
            [
             0.4,
             "#fde0ef"
            ],
            [
             0.5,
             "#f7f7f7"
            ],
            [
             0.6,
             "#e6f5d0"
            ],
            [
             0.7,
             "#b8e186"
            ],
            [
             0.8,
             "#7fbc41"
            ],
            [
             0.9,
             "#4d9221"
            ],
            [
             1,
             "#276419"
            ]
           ],
           "sequential": [
            [
             0,
             "#0d0887"
            ],
            [
             0.1111111111111111,
             "#46039f"
            ],
            [
             0.2222222222222222,
             "#7201a8"
            ],
            [
             0.3333333333333333,
             "#9c179e"
            ],
            [
             0.4444444444444444,
             "#bd3786"
            ],
            [
             0.5555555555555556,
             "#d8576b"
            ],
            [
             0.6666666666666666,
             "#ed7953"
            ],
            [
             0.7777777777777778,
             "#fb9f3a"
            ],
            [
             0.8888888888888888,
             "#fdca26"
            ],
            [
             1,
             "#f0f921"
            ]
           ],
           "sequentialminus": [
            [
             0,
             "#0d0887"
            ],
            [
             0.1111111111111111,
             "#46039f"
            ],
            [
             0.2222222222222222,
             "#7201a8"
            ],
            [
             0.3333333333333333,
             "#9c179e"
            ],
            [
             0.4444444444444444,
             "#bd3786"
            ],
            [
             0.5555555555555556,
             "#d8576b"
            ],
            [
             0.6666666666666666,
             "#ed7953"
            ],
            [
             0.7777777777777778,
             "#fb9f3a"
            ],
            [
             0.8888888888888888,
             "#fdca26"
            ],
            [
             1,
             "#f0f921"
            ]
           ]
          },
          "colorway": [
           "#636efa",
           "#EF553B",
           "#00cc96",
           "#ab63fa",
           "#FFA15A",
           "#19d3f3",
           "#FF6692",
           "#B6E880",
           "#FF97FF",
           "#FECB52"
          ],
          "font": {
           "color": "#2a3f5f"
          },
          "geo": {
           "bgcolor": "white",
           "lakecolor": "white",
           "landcolor": "#E5ECF6",
           "showlakes": true,
           "showland": true,
           "subunitcolor": "white"
          },
          "hoverlabel": {
           "align": "left"
          },
          "hovermode": "closest",
          "mapbox": {
           "style": "light"
          },
          "paper_bgcolor": "white",
          "plot_bgcolor": "#E5ECF6",
          "polar": {
           "angularaxis": {
            "gridcolor": "white",
            "linecolor": "white",
            "ticks": ""
           },
           "bgcolor": "#E5ECF6",
           "radialaxis": {
            "gridcolor": "white",
            "linecolor": "white",
            "ticks": ""
           }
          },
          "scene": {
           "xaxis": {
            "backgroundcolor": "#E5ECF6",
            "gridcolor": "white",
            "gridwidth": 2,
            "linecolor": "white",
            "showbackground": true,
            "ticks": "",
            "zerolinecolor": "white"
           },
           "yaxis": {
            "backgroundcolor": "#E5ECF6",
            "gridcolor": "white",
            "gridwidth": 2,
            "linecolor": "white",
            "showbackground": true,
            "ticks": "",
            "zerolinecolor": "white"
           },
           "zaxis": {
            "backgroundcolor": "#E5ECF6",
            "gridcolor": "white",
            "gridwidth": 2,
            "linecolor": "white",
            "showbackground": true,
            "ticks": "",
            "zerolinecolor": "white"
           }
          },
          "shapedefaults": {
           "line": {
            "color": "#2a3f5f"
           }
          },
          "ternary": {
           "aaxis": {
            "gridcolor": "white",
            "linecolor": "white",
            "ticks": ""
           },
           "baxis": {
            "gridcolor": "white",
            "linecolor": "white",
            "ticks": ""
           },
           "bgcolor": "#E5ECF6",
           "caxis": {
            "gridcolor": "white",
            "linecolor": "white",
            "ticks": ""
           }
          },
          "title": {
           "x": 0.05
          },
          "xaxis": {
           "automargin": true,
           "gridcolor": "white",
           "linecolor": "white",
           "ticks": "",
           "title": {
            "standoff": 15
           },
           "zerolinecolor": "white",
           "zerolinewidth": 2
          },
          "yaxis": {
           "automargin": true,
           "gridcolor": "white",
           "linecolor": "white",
           "ticks": "",
           "title": {
            "standoff": 15
           },
           "zerolinecolor": "white",
           "zerolinewidth": 2
          }
         }
        },
        "title": {
         "text": "Media dei voti finali rispetto al motivo della scelta della scuola"
        },
        "xaxis": {
         "title": {
          "text": "Scuola"
         }
        }
       }
      }
     },
     "metadata": {},
     "output_type": "display_data"
    }
   ],
   "source": [
    "# Relationship between school choice and final grade plotly\n",
    "\n",
    "\n",
    "mean_g3_by_reason = por.groupby(['school', 'reason'])['G3'].mean().unstack()\n",
    "\n",
    "fig = go.Figure()\n",
    "\n",
    "bar_width = 0.16 \n",
    "\n",
    "for reason in mean_g3_by_reason.columns:\n",
    "    fig.add_trace(go.Bar(\n",
    "        x=mean_g3_by_reason.index,\n",
    "        y=mean_g3_by_reason[reason],\n",
    "        name=reason,\n",
    "        width=[bar_width] * len(mean_g3_by_reason.index)  # Imposta la larghezza delle barre\n",
    "    ))\n",
    "\n",
    "fig.update_layout(\n",
    "    title='Media dei voti finali rispetto al motivo della scelta della scuola',\n",
    "    xaxis=dict(title='Scuola'),\n",
    "    #yaxis=dict(title='Media dei voti finali'),\n",
    "    barmode='group'\n",
    ")\n",
    "\n",
    "# Plot graph\n",
    "fig.show()"
   ]
  },
  {
   "cell_type": "markdown",
   "metadata": {},
   "source": [
    "<h5><a id=\"family\">Ambiente Familiare</a></h5>"
   ]
  },
  {
   "cell_type": "code",
   "execution_count": 62,
   "metadata": {},
   "outputs": [
    {
     "data": {
      "application/vnd.plotly.v1+json": {
       "config": {
        "plotlyServerURL": "https://plot.ly"
       },
       "data": [
        {
         "marker": {
          "color": "#A2CFFE"
         },
         "name": "Fedu",
         "type": "bar",
         "width": 0.25,
         "x": [
          -0.125,
          0.875,
          1.875,
          2.875,
          3.875
         ],
         "y": [
          12.142857142857142,
          10.936781609195402,
          11.78468899521531,
          12.381679389312977,
          12.921875
         ]
        },
        {
         "marker": {
          "color": "#FF6961"
         },
         "name": "Medu",
         "type": "bar",
         "width": 0.25,
         "x": [
          0.125,
          1.125,
          2.125,
          3.125,
          4.125
         ],
         "y": [
          11.666666666666666,
          10.797202797202797,
          11.661290322580646,
          11.920863309352518,
          13.06857142857143
         ]
        }
       ],
       "layout": {
        "annotations": [
         {
          "font": {
           "color": "black",
           "size": 8
          },
          "showarrow": false,
          "text": "12.14",
          "x": -0.125,
          "y": 12.242857142857142
         },
         {
          "font": {
           "color": "black",
           "size": 8
          },
          "showarrow": false,
          "text": "11.67",
          "x": 0.125,
          "y": 11.766666666666666
         },
         {
          "font": {
           "color": "black",
           "size": 8
          },
          "showarrow": false,
          "text": "10.94",
          "x": 0.875,
          "y": 11.036781609195401
         },
         {
          "font": {
           "color": "black",
           "size": 8
          },
          "showarrow": false,
          "text": "10.80",
          "x": 1.125,
          "y": 10.897202797202796
         },
         {
          "font": {
           "color": "black",
           "size": 8
          },
          "showarrow": false,
          "text": "11.78",
          "x": 1.875,
          "y": 11.88468899521531
         },
         {
          "font": {
           "color": "black",
           "size": 8
          },
          "showarrow": false,
          "text": "11.66",
          "x": 2.125,
          "y": 11.761290322580646
         },
         {
          "font": {
           "color": "black",
           "size": 8
          },
          "showarrow": false,
          "text": "12.38",
          "x": 2.875,
          "y": 12.481679389312976
         },
         {
          "font": {
           "color": "black",
           "size": 8
          },
          "showarrow": false,
          "text": "11.92",
          "x": 3.125,
          "y": 12.020863309352517
         },
         {
          "font": {
           "color": "black",
           "size": 8
          },
          "showarrow": false,
          "text": "12.92",
          "x": 3.875,
          "y": 13.021875
         },
         {
          "font": {
           "color": "black",
           "size": 8
          },
          "showarrow": false,
          "text": "13.07",
          "x": 4.125,
          "y": 13.168571428571429
         }
        ],
        "barmode": "group",
        "height": 450,
        "legend": {
         "title": {
          "text": "Tipo di Istruzione"
         }
        },
        "template": {
         "data": {
          "bar": [
           {
            "error_x": {
             "color": "#2a3f5f"
            },
            "error_y": {
             "color": "#2a3f5f"
            },
            "marker": {
             "line": {
              "color": "#E5ECF6",
              "width": 0.5
             },
             "pattern": {
              "fillmode": "overlay",
              "size": 10,
              "solidity": 0.2
             }
            },
            "type": "bar"
           }
          ],
          "barpolar": [
           {
            "marker": {
             "line": {
              "color": "#E5ECF6",
              "width": 0.5
             },
             "pattern": {
              "fillmode": "overlay",
              "size": 10,
              "solidity": 0.2
             }
            },
            "type": "barpolar"
           }
          ],
          "carpet": [
           {
            "aaxis": {
             "endlinecolor": "#2a3f5f",
             "gridcolor": "white",
             "linecolor": "white",
             "minorgridcolor": "white",
             "startlinecolor": "#2a3f5f"
            },
            "baxis": {
             "endlinecolor": "#2a3f5f",
             "gridcolor": "white",
             "linecolor": "white",
             "minorgridcolor": "white",
             "startlinecolor": "#2a3f5f"
            },
            "type": "carpet"
           }
          ],
          "choropleth": [
           {
            "colorbar": {
             "outlinewidth": 0,
             "ticks": ""
            },
            "type": "choropleth"
           }
          ],
          "contour": [
           {
            "colorbar": {
             "outlinewidth": 0,
             "ticks": ""
            },
            "colorscale": [
             [
              0,
              "#0d0887"
             ],
             [
              0.1111111111111111,
              "#46039f"
             ],
             [
              0.2222222222222222,
              "#7201a8"
             ],
             [
              0.3333333333333333,
              "#9c179e"
             ],
             [
              0.4444444444444444,
              "#bd3786"
             ],
             [
              0.5555555555555556,
              "#d8576b"
             ],
             [
              0.6666666666666666,
              "#ed7953"
             ],
             [
              0.7777777777777778,
              "#fb9f3a"
             ],
             [
              0.8888888888888888,
              "#fdca26"
             ],
             [
              1,
              "#f0f921"
             ]
            ],
            "type": "contour"
           }
          ],
          "contourcarpet": [
           {
            "colorbar": {
             "outlinewidth": 0,
             "ticks": ""
            },
            "type": "contourcarpet"
           }
          ],
          "heatmap": [
           {
            "colorbar": {
             "outlinewidth": 0,
             "ticks": ""
            },
            "colorscale": [
             [
              0,
              "#0d0887"
             ],
             [
              0.1111111111111111,
              "#46039f"
             ],
             [
              0.2222222222222222,
              "#7201a8"
             ],
             [
              0.3333333333333333,
              "#9c179e"
             ],
             [
              0.4444444444444444,
              "#bd3786"
             ],
             [
              0.5555555555555556,
              "#d8576b"
             ],
             [
              0.6666666666666666,
              "#ed7953"
             ],
             [
              0.7777777777777778,
              "#fb9f3a"
             ],
             [
              0.8888888888888888,
              "#fdca26"
             ],
             [
              1,
              "#f0f921"
             ]
            ],
            "type": "heatmap"
           }
          ],
          "heatmapgl": [
           {
            "colorbar": {
             "outlinewidth": 0,
             "ticks": ""
            },
            "colorscale": [
             [
              0,
              "#0d0887"
             ],
             [
              0.1111111111111111,
              "#46039f"
             ],
             [
              0.2222222222222222,
              "#7201a8"
             ],
             [
              0.3333333333333333,
              "#9c179e"
             ],
             [
              0.4444444444444444,
              "#bd3786"
             ],
             [
              0.5555555555555556,
              "#d8576b"
             ],
             [
              0.6666666666666666,
              "#ed7953"
             ],
             [
              0.7777777777777778,
              "#fb9f3a"
             ],
             [
              0.8888888888888888,
              "#fdca26"
             ],
             [
              1,
              "#f0f921"
             ]
            ],
            "type": "heatmapgl"
           }
          ],
          "histogram": [
           {
            "marker": {
             "pattern": {
              "fillmode": "overlay",
              "size": 10,
              "solidity": 0.2
             }
            },
            "type": "histogram"
           }
          ],
          "histogram2d": [
           {
            "colorbar": {
             "outlinewidth": 0,
             "ticks": ""
            },
            "colorscale": [
             [
              0,
              "#0d0887"
             ],
             [
              0.1111111111111111,
              "#46039f"
             ],
             [
              0.2222222222222222,
              "#7201a8"
             ],
             [
              0.3333333333333333,
              "#9c179e"
             ],
             [
              0.4444444444444444,
              "#bd3786"
             ],
             [
              0.5555555555555556,
              "#d8576b"
             ],
             [
              0.6666666666666666,
              "#ed7953"
             ],
             [
              0.7777777777777778,
              "#fb9f3a"
             ],
             [
              0.8888888888888888,
              "#fdca26"
             ],
             [
              1,
              "#f0f921"
             ]
            ],
            "type": "histogram2d"
           }
          ],
          "histogram2dcontour": [
           {
            "colorbar": {
             "outlinewidth": 0,
             "ticks": ""
            },
            "colorscale": [
             [
              0,
              "#0d0887"
             ],
             [
              0.1111111111111111,
              "#46039f"
             ],
             [
              0.2222222222222222,
              "#7201a8"
             ],
             [
              0.3333333333333333,
              "#9c179e"
             ],
             [
              0.4444444444444444,
              "#bd3786"
             ],
             [
              0.5555555555555556,
              "#d8576b"
             ],
             [
              0.6666666666666666,
              "#ed7953"
             ],
             [
              0.7777777777777778,
              "#fb9f3a"
             ],
             [
              0.8888888888888888,
              "#fdca26"
             ],
             [
              1,
              "#f0f921"
             ]
            ],
            "type": "histogram2dcontour"
           }
          ],
          "mesh3d": [
           {
            "colorbar": {
             "outlinewidth": 0,
             "ticks": ""
            },
            "type": "mesh3d"
           }
          ],
          "parcoords": [
           {
            "line": {
             "colorbar": {
              "outlinewidth": 0,
              "ticks": ""
             }
            },
            "type": "parcoords"
           }
          ],
          "pie": [
           {
            "automargin": true,
            "type": "pie"
           }
          ],
          "scatter": [
           {
            "fillpattern": {
             "fillmode": "overlay",
             "size": 10,
             "solidity": 0.2
            },
            "type": "scatter"
           }
          ],
          "scatter3d": [
           {
            "line": {
             "colorbar": {
              "outlinewidth": 0,
              "ticks": ""
             }
            },
            "marker": {
             "colorbar": {
              "outlinewidth": 0,
              "ticks": ""
             }
            },
            "type": "scatter3d"
           }
          ],
          "scattercarpet": [
           {
            "marker": {
             "colorbar": {
              "outlinewidth": 0,
              "ticks": ""
             }
            },
            "type": "scattercarpet"
           }
          ],
          "scattergeo": [
           {
            "marker": {
             "colorbar": {
              "outlinewidth": 0,
              "ticks": ""
             }
            },
            "type": "scattergeo"
           }
          ],
          "scattergl": [
           {
            "marker": {
             "colorbar": {
              "outlinewidth": 0,
              "ticks": ""
             }
            },
            "type": "scattergl"
           }
          ],
          "scattermapbox": [
           {
            "marker": {
             "colorbar": {
              "outlinewidth": 0,
              "ticks": ""
             }
            },
            "type": "scattermapbox"
           }
          ],
          "scatterpolar": [
           {
            "marker": {
             "colorbar": {
              "outlinewidth": 0,
              "ticks": ""
             }
            },
            "type": "scatterpolar"
           }
          ],
          "scatterpolargl": [
           {
            "marker": {
             "colorbar": {
              "outlinewidth": 0,
              "ticks": ""
             }
            },
            "type": "scatterpolargl"
           }
          ],
          "scatterternary": [
           {
            "marker": {
             "colorbar": {
              "outlinewidth": 0,
              "ticks": ""
             }
            },
            "type": "scatterternary"
           }
          ],
          "surface": [
           {
            "colorbar": {
             "outlinewidth": 0,
             "ticks": ""
            },
            "colorscale": [
             [
              0,
              "#0d0887"
             ],
             [
              0.1111111111111111,
              "#46039f"
             ],
             [
              0.2222222222222222,
              "#7201a8"
             ],
             [
              0.3333333333333333,
              "#9c179e"
             ],
             [
              0.4444444444444444,
              "#bd3786"
             ],
             [
              0.5555555555555556,
              "#d8576b"
             ],
             [
              0.6666666666666666,
              "#ed7953"
             ],
             [
              0.7777777777777778,
              "#fb9f3a"
             ],
             [
              0.8888888888888888,
              "#fdca26"
             ],
             [
              1,
              "#f0f921"
             ]
            ],
            "type": "surface"
           }
          ],
          "table": [
           {
            "cells": {
             "fill": {
              "color": "#EBF0F8"
             },
             "line": {
              "color": "white"
             }
            },
            "header": {
             "fill": {
              "color": "#C8D4E3"
             },
             "line": {
              "color": "white"
             }
            },
            "type": "table"
           }
          ]
         },
         "layout": {
          "annotationdefaults": {
           "arrowcolor": "#2a3f5f",
           "arrowhead": 0,
           "arrowwidth": 1
          },
          "autotypenumbers": "strict",
          "coloraxis": {
           "colorbar": {
            "outlinewidth": 0,
            "ticks": ""
           }
          },
          "colorscale": {
           "diverging": [
            [
             0,
             "#8e0152"
            ],
            [
             0.1,
             "#c51b7d"
            ],
            [
             0.2,
             "#de77ae"
            ],
            [
             0.3,
             "#f1b6da"
            ],
            [
             0.4,
             "#fde0ef"
            ],
            [
             0.5,
             "#f7f7f7"
            ],
            [
             0.6,
             "#e6f5d0"
            ],
            [
             0.7,
             "#b8e186"
            ],
            [
             0.8,
             "#7fbc41"
            ],
            [
             0.9,
             "#4d9221"
            ],
            [
             1,
             "#276419"
            ]
           ],
           "sequential": [
            [
             0,
             "#0d0887"
            ],
            [
             0.1111111111111111,
             "#46039f"
            ],
            [
             0.2222222222222222,
             "#7201a8"
            ],
            [
             0.3333333333333333,
             "#9c179e"
            ],
            [
             0.4444444444444444,
             "#bd3786"
            ],
            [
             0.5555555555555556,
             "#d8576b"
            ],
            [
             0.6666666666666666,
             "#ed7953"
            ],
            [
             0.7777777777777778,
             "#fb9f3a"
            ],
            [
             0.8888888888888888,
             "#fdca26"
            ],
            [
             1,
             "#f0f921"
            ]
           ],
           "sequentialminus": [
            [
             0,
             "#0d0887"
            ],
            [
             0.1111111111111111,
             "#46039f"
            ],
            [
             0.2222222222222222,
             "#7201a8"
            ],
            [
             0.3333333333333333,
             "#9c179e"
            ],
            [
             0.4444444444444444,
             "#bd3786"
            ],
            [
             0.5555555555555556,
             "#d8576b"
            ],
            [
             0.6666666666666666,
             "#ed7953"
            ],
            [
             0.7777777777777778,
             "#fb9f3a"
            ],
            [
             0.8888888888888888,
             "#fdca26"
            ],
            [
             1,
             "#f0f921"
            ]
           ]
          },
          "colorway": [
           "#636efa",
           "#EF553B",
           "#00cc96",
           "#ab63fa",
           "#FFA15A",
           "#19d3f3",
           "#FF6692",
           "#B6E880",
           "#FF97FF",
           "#FECB52"
          ],
          "font": {
           "color": "#2a3f5f"
          },
          "geo": {
           "bgcolor": "white",
           "lakecolor": "white",
           "landcolor": "#E5ECF6",
           "showlakes": true,
           "showland": true,
           "subunitcolor": "white"
          },
          "hoverlabel": {
           "align": "left"
          },
          "hovermode": "closest",
          "mapbox": {
           "style": "light"
          },
          "paper_bgcolor": "white",
          "plot_bgcolor": "#E5ECF6",
          "polar": {
           "angularaxis": {
            "gridcolor": "white",
            "linecolor": "white",
            "ticks": ""
           },
           "bgcolor": "#E5ECF6",
           "radialaxis": {
            "gridcolor": "white",
            "linecolor": "white",
            "ticks": ""
           }
          },
          "scene": {
           "xaxis": {
            "backgroundcolor": "#E5ECF6",
            "gridcolor": "white",
            "gridwidth": 2,
            "linecolor": "white",
            "showbackground": true,
            "ticks": "",
            "zerolinecolor": "white"
           },
           "yaxis": {
            "backgroundcolor": "#E5ECF6",
            "gridcolor": "white",
            "gridwidth": 2,
            "linecolor": "white",
            "showbackground": true,
            "ticks": "",
            "zerolinecolor": "white"
           },
           "zaxis": {
            "backgroundcolor": "#E5ECF6",
            "gridcolor": "white",
            "gridwidth": 2,
            "linecolor": "white",
            "showbackground": true,
            "ticks": "",
            "zerolinecolor": "white"
           }
          },
          "shapedefaults": {
           "line": {
            "color": "#2a3f5f"
           }
          },
          "ternary": {
           "aaxis": {
            "gridcolor": "white",
            "linecolor": "white",
            "ticks": ""
           },
           "baxis": {
            "gridcolor": "white",
            "linecolor": "white",
            "ticks": ""
           },
           "bgcolor": "#E5ECF6",
           "caxis": {
            "gridcolor": "white",
            "linecolor": "white",
            "ticks": ""
           }
          },
          "title": {
           "x": 0.05
          },
          "xaxis": {
           "automargin": true,
           "gridcolor": "white",
           "linecolor": "white",
           "ticks": "",
           "title": {
            "standoff": 15
           },
           "zerolinecolor": "white",
           "zerolinewidth": 2
          },
          "yaxis": {
           "automargin": true,
           "gridcolor": "white",
           "linecolor": "white",
           "ticks": "",
           "title": {
            "standoff": 15
           },
           "zerolinecolor": "white",
           "zerolinewidth": 2
          }
         }
        },
        "title": {
         "text": "Andamento scolastico dei figli rispetto al livello d'istruzione dei genitori"
        },
        "width": 700,
        "xaxis": {
         "ticktext": [
          "0",
          "1",
          "2",
          "3",
          "4"
         ],
         "tickvals": [
          0,
          1,
          2,
          3,
          4
         ],
         "title": {
          "text": "Livello d'istruzione dei genitori"
         }
        },
        "yaxis": {
         "title": {
          "text": "Media dei voti dei figli"
         }
        }
       }
      }
     },
     "metadata": {},
     "output_type": "display_data"
    }
   ],
   "source": [
    "education_levels = np.arange(5)\n",
    "fedu_mean = por.groupby('Fedu')['G3'].mean()\n",
    "medu_mean = por.groupby('Medu')['G3'].mean()\n",
    "\n",
    "bar_width = 0.25\n",
    "index = np.arange(len(education_levels))\n",
    "\n",
    "fig = go.Figure()\n",
    "\n",
    "# Fedu bars\n",
    "fig.add_trace(go.Bar(\n",
    "    x=index - bar_width / 2,  # Spostamento per le barre\n",
    "    y=fedu_mean,\n",
    "    width=bar_width,\n",
    "    name='Fedu',\n",
    "    marker_color='#A2CFFE'\n",
    "))\n",
    "\n",
    "# Medu bars\n",
    "fig.add_trace(go.Bar(\n",
    "    x=index + bar_width / 2, \n",
    "    y=medu_mean,\n",
    "    width=bar_width,\n",
    "    name='Medu',\n",
    "    marker_color='#FF6961'\n",
    "))\n",
    "\n",
    "# Plot layout\n",
    "fig.update_layout(\n",
    "    title=\"Andamento scolastico dei figli rispetto al livello d'istruzione dei genitori\",\n",
    "    xaxis_title=\"Livello d'istruzione dei genitori\",\n",
    "    yaxis_title=\"Media dei voti dei figli\",\n",
    "    xaxis=dict(\n",
    "        tickvals=index,\n",
    "        ticktext=[str(level) for level in education_levels],\n",
    "        title=\"Livello d'istruzione dei genitori\"\n",
    "    ),\n",
    "    barmode='group',\n",
    "    legend_title=\"Tipo di Istruzione\",\n",
    "    width=700,\n",
    "    height=450\n",
    ")\n",
    "\n",
    "# Settings bar's labels\n",
    "for i in range(len(education_levels)):\n",
    "    fig.add_annotation(\n",
    "        x=index[i] - bar_width / 2,\n",
    "        y=fedu_mean[i] + 0.1,\n",
    "        text=f'{fedu_mean[i]:.2f}',\n",
    "        showarrow=False,\n",
    "        font=dict(size=8, color='black')\n",
    "    )\n",
    "    fig.add_annotation(\n",
    "        x=index[i] + bar_width / 2,\n",
    "        y=medu_mean[i] + 0.1,\n",
    "        text=f'{medu_mean[i]:.2f}',\n",
    "        showarrow=False,\n",
    "        font=dict(size=8, color='black')\n",
    "    )\n",
    "\n",
    "fig.show()\n"
   ]
  },
  {
   "cell_type": "code",
   "execution_count": 60,
   "metadata": {},
   "outputs": [
    {
     "data": {
      "application/vnd.plotly.v1+json": {
       "config": {
        "plotlyServerURL": "https://plot.ly"
       },
       "data": [
        {
         "marker": {
          "color": "#A2CFFE"
         },
         "name": "Fjob",
         "type": "bar",
         "width": 0.25,
         "x": [
          -0.125,
          0.875,
          1.875,
          2.875,
          3.875
         ],
         "y": [
          11.428571428571429,
          12.565217391304348,
          11.629834254143647,
          13.583333333333334,
          11.89100817438692
         ]
        },
        {
         "marker": {
          "color": "#FF6961"
         },
         "name": "Mjob",
         "type": "bar",
         "width": 0.25,
         "x": [
          0.125,
          1.125,
          2.125,
          3.125,
          4.125
         ],
         "y": [
          11.044444444444444,
          13.0625,
          12.147058823529411,
          13.13888888888889,
          11.670542635658915
         ]
        }
       ],
       "layout": {
        "annotations": [
         {
          "font": {
           "color": "black",
           "size": 8
          },
          "showarrow": false,
          "text": "11.43",
          "x": -0.125,
          "y": 11.528571428571428
         },
         {
          "font": {
           "color": "black",
           "size": 8
          },
          "showarrow": false,
          "text": "11.04",
          "x": 0.125,
          "y": 11.144444444444444
         },
         {
          "font": {
           "color": "black",
           "size": 8
          },
          "showarrow": false,
          "text": "12.57",
          "x": 0.875,
          "y": 12.665217391304347
         },
         {
          "font": {
           "color": "black",
           "size": 8
          },
          "showarrow": false,
          "text": "13.06",
          "x": 1.125,
          "y": 13.1625
         },
         {
          "font": {
           "color": "black",
           "size": 8
          },
          "showarrow": false,
          "text": "11.63",
          "x": 1.875,
          "y": 11.729834254143647
         },
         {
          "font": {
           "color": "black",
           "size": 8
          },
          "showarrow": false,
          "text": "12.15",
          "x": 2.125,
          "y": 12.24705882352941
         },
         {
          "font": {
           "color": "black",
           "size": 8
          },
          "showarrow": false,
          "text": "13.58",
          "x": 2.875,
          "y": 13.683333333333334
         },
         {
          "font": {
           "color": "black",
           "size": 8
          },
          "showarrow": false,
          "text": "13.14",
          "x": 3.125,
          "y": 13.238888888888889
         },
         {
          "font": {
           "color": "black",
           "size": 8
          },
          "showarrow": false,
          "text": "11.89",
          "x": 3.875,
          "y": 11.99100817438692
         },
         {
          "font": {
           "color": "black",
           "size": 8
          },
          "showarrow": false,
          "text": "11.67",
          "x": 4.125,
          "y": 11.770542635658915
         }
        ],
        "barmode": "group",
        "height": 500,
        "legend": {
         "title": {
          "text": "Tipo di Professione"
         }
        },
        "template": {
         "data": {
          "bar": [
           {
            "error_x": {
             "color": "#2a3f5f"
            },
            "error_y": {
             "color": "#2a3f5f"
            },
            "marker": {
             "line": {
              "color": "#E5ECF6",
              "width": 0.5
             },
             "pattern": {
              "fillmode": "overlay",
              "size": 10,
              "solidity": 0.2
             }
            },
            "type": "bar"
           }
          ],
          "barpolar": [
           {
            "marker": {
             "line": {
              "color": "#E5ECF6",
              "width": 0.5
             },
             "pattern": {
              "fillmode": "overlay",
              "size": 10,
              "solidity": 0.2
             }
            },
            "type": "barpolar"
           }
          ],
          "carpet": [
           {
            "aaxis": {
             "endlinecolor": "#2a3f5f",
             "gridcolor": "white",
             "linecolor": "white",
             "minorgridcolor": "white",
             "startlinecolor": "#2a3f5f"
            },
            "baxis": {
             "endlinecolor": "#2a3f5f",
             "gridcolor": "white",
             "linecolor": "white",
             "minorgridcolor": "white",
             "startlinecolor": "#2a3f5f"
            },
            "type": "carpet"
           }
          ],
          "choropleth": [
           {
            "colorbar": {
             "outlinewidth": 0,
             "ticks": ""
            },
            "type": "choropleth"
           }
          ],
          "contour": [
           {
            "colorbar": {
             "outlinewidth": 0,
             "ticks": ""
            },
            "colorscale": [
             [
              0,
              "#0d0887"
             ],
             [
              0.1111111111111111,
              "#46039f"
             ],
             [
              0.2222222222222222,
              "#7201a8"
             ],
             [
              0.3333333333333333,
              "#9c179e"
             ],
             [
              0.4444444444444444,
              "#bd3786"
             ],
             [
              0.5555555555555556,
              "#d8576b"
             ],
             [
              0.6666666666666666,
              "#ed7953"
             ],
             [
              0.7777777777777778,
              "#fb9f3a"
             ],
             [
              0.8888888888888888,
              "#fdca26"
             ],
             [
              1,
              "#f0f921"
             ]
            ],
            "type": "contour"
           }
          ],
          "contourcarpet": [
           {
            "colorbar": {
             "outlinewidth": 0,
             "ticks": ""
            },
            "type": "contourcarpet"
           }
          ],
          "heatmap": [
           {
            "colorbar": {
             "outlinewidth": 0,
             "ticks": ""
            },
            "colorscale": [
             [
              0,
              "#0d0887"
             ],
             [
              0.1111111111111111,
              "#46039f"
             ],
             [
              0.2222222222222222,
              "#7201a8"
             ],
             [
              0.3333333333333333,
              "#9c179e"
             ],
             [
              0.4444444444444444,
              "#bd3786"
             ],
             [
              0.5555555555555556,
              "#d8576b"
             ],
             [
              0.6666666666666666,
              "#ed7953"
             ],
             [
              0.7777777777777778,
              "#fb9f3a"
             ],
             [
              0.8888888888888888,
              "#fdca26"
             ],
             [
              1,
              "#f0f921"
             ]
            ],
            "type": "heatmap"
           }
          ],
          "heatmapgl": [
           {
            "colorbar": {
             "outlinewidth": 0,
             "ticks": ""
            },
            "colorscale": [
             [
              0,
              "#0d0887"
             ],
             [
              0.1111111111111111,
              "#46039f"
             ],
             [
              0.2222222222222222,
              "#7201a8"
             ],
             [
              0.3333333333333333,
              "#9c179e"
             ],
             [
              0.4444444444444444,
              "#bd3786"
             ],
             [
              0.5555555555555556,
              "#d8576b"
             ],
             [
              0.6666666666666666,
              "#ed7953"
             ],
             [
              0.7777777777777778,
              "#fb9f3a"
             ],
             [
              0.8888888888888888,
              "#fdca26"
             ],
             [
              1,
              "#f0f921"
             ]
            ],
            "type": "heatmapgl"
           }
          ],
          "histogram": [
           {
            "marker": {
             "pattern": {
              "fillmode": "overlay",
              "size": 10,
              "solidity": 0.2
             }
            },
            "type": "histogram"
           }
          ],
          "histogram2d": [
           {
            "colorbar": {
             "outlinewidth": 0,
             "ticks": ""
            },
            "colorscale": [
             [
              0,
              "#0d0887"
             ],
             [
              0.1111111111111111,
              "#46039f"
             ],
             [
              0.2222222222222222,
              "#7201a8"
             ],
             [
              0.3333333333333333,
              "#9c179e"
             ],
             [
              0.4444444444444444,
              "#bd3786"
             ],
             [
              0.5555555555555556,
              "#d8576b"
             ],
             [
              0.6666666666666666,
              "#ed7953"
             ],
             [
              0.7777777777777778,
              "#fb9f3a"
             ],
             [
              0.8888888888888888,
              "#fdca26"
             ],
             [
              1,
              "#f0f921"
             ]
            ],
            "type": "histogram2d"
           }
          ],
          "histogram2dcontour": [
           {
            "colorbar": {
             "outlinewidth": 0,
             "ticks": ""
            },
            "colorscale": [
             [
              0,
              "#0d0887"
             ],
             [
              0.1111111111111111,
              "#46039f"
             ],
             [
              0.2222222222222222,
              "#7201a8"
             ],
             [
              0.3333333333333333,
              "#9c179e"
             ],
             [
              0.4444444444444444,
              "#bd3786"
             ],
             [
              0.5555555555555556,
              "#d8576b"
             ],
             [
              0.6666666666666666,
              "#ed7953"
             ],
             [
              0.7777777777777778,
              "#fb9f3a"
             ],
             [
              0.8888888888888888,
              "#fdca26"
             ],
             [
              1,
              "#f0f921"
             ]
            ],
            "type": "histogram2dcontour"
           }
          ],
          "mesh3d": [
           {
            "colorbar": {
             "outlinewidth": 0,
             "ticks": ""
            },
            "type": "mesh3d"
           }
          ],
          "parcoords": [
           {
            "line": {
             "colorbar": {
              "outlinewidth": 0,
              "ticks": ""
             }
            },
            "type": "parcoords"
           }
          ],
          "pie": [
           {
            "automargin": true,
            "type": "pie"
           }
          ],
          "scatter": [
           {
            "fillpattern": {
             "fillmode": "overlay",
             "size": 10,
             "solidity": 0.2
            },
            "type": "scatter"
           }
          ],
          "scatter3d": [
           {
            "line": {
             "colorbar": {
              "outlinewidth": 0,
              "ticks": ""
             }
            },
            "marker": {
             "colorbar": {
              "outlinewidth": 0,
              "ticks": ""
             }
            },
            "type": "scatter3d"
           }
          ],
          "scattercarpet": [
           {
            "marker": {
             "colorbar": {
              "outlinewidth": 0,
              "ticks": ""
             }
            },
            "type": "scattercarpet"
           }
          ],
          "scattergeo": [
           {
            "marker": {
             "colorbar": {
              "outlinewidth": 0,
              "ticks": ""
             }
            },
            "type": "scattergeo"
           }
          ],
          "scattergl": [
           {
            "marker": {
             "colorbar": {
              "outlinewidth": 0,
              "ticks": ""
             }
            },
            "type": "scattergl"
           }
          ],
          "scattermapbox": [
           {
            "marker": {
             "colorbar": {
              "outlinewidth": 0,
              "ticks": ""
             }
            },
            "type": "scattermapbox"
           }
          ],
          "scatterpolar": [
           {
            "marker": {
             "colorbar": {
              "outlinewidth": 0,
              "ticks": ""
             }
            },
            "type": "scatterpolar"
           }
          ],
          "scatterpolargl": [
           {
            "marker": {
             "colorbar": {
              "outlinewidth": 0,
              "ticks": ""
             }
            },
            "type": "scatterpolargl"
           }
          ],
          "scatterternary": [
           {
            "marker": {
             "colorbar": {
              "outlinewidth": 0,
              "ticks": ""
             }
            },
            "type": "scatterternary"
           }
          ],
          "surface": [
           {
            "colorbar": {
             "outlinewidth": 0,
             "ticks": ""
            },
            "colorscale": [
             [
              0,
              "#0d0887"
             ],
             [
              0.1111111111111111,
              "#46039f"
             ],
             [
              0.2222222222222222,
              "#7201a8"
             ],
             [
              0.3333333333333333,
              "#9c179e"
             ],
             [
              0.4444444444444444,
              "#bd3786"
             ],
             [
              0.5555555555555556,
              "#d8576b"
             ],
             [
              0.6666666666666666,
              "#ed7953"
             ],
             [
              0.7777777777777778,
              "#fb9f3a"
             ],
             [
              0.8888888888888888,
              "#fdca26"
             ],
             [
              1,
              "#f0f921"
             ]
            ],
            "type": "surface"
           }
          ],
          "table": [
           {
            "cells": {
             "fill": {
              "color": "#EBF0F8"
             },
             "line": {
              "color": "white"
             }
            },
            "header": {
             "fill": {
              "color": "#C8D4E3"
             },
             "line": {
              "color": "white"
             }
            },
            "type": "table"
           }
          ]
         },
         "layout": {
          "annotationdefaults": {
           "arrowcolor": "#2a3f5f",
           "arrowhead": 0,
           "arrowwidth": 1
          },
          "autotypenumbers": "strict",
          "coloraxis": {
           "colorbar": {
            "outlinewidth": 0,
            "ticks": ""
           }
          },
          "colorscale": {
           "diverging": [
            [
             0,
             "#8e0152"
            ],
            [
             0.1,
             "#c51b7d"
            ],
            [
             0.2,
             "#de77ae"
            ],
            [
             0.3,
             "#f1b6da"
            ],
            [
             0.4,
             "#fde0ef"
            ],
            [
             0.5,
             "#f7f7f7"
            ],
            [
             0.6,
             "#e6f5d0"
            ],
            [
             0.7,
             "#b8e186"
            ],
            [
             0.8,
             "#7fbc41"
            ],
            [
             0.9,
             "#4d9221"
            ],
            [
             1,
             "#276419"
            ]
           ],
           "sequential": [
            [
             0,
             "#0d0887"
            ],
            [
             0.1111111111111111,
             "#46039f"
            ],
            [
             0.2222222222222222,
             "#7201a8"
            ],
            [
             0.3333333333333333,
             "#9c179e"
            ],
            [
             0.4444444444444444,
             "#bd3786"
            ],
            [
             0.5555555555555556,
             "#d8576b"
            ],
            [
             0.6666666666666666,
             "#ed7953"
            ],
            [
             0.7777777777777778,
             "#fb9f3a"
            ],
            [
             0.8888888888888888,
             "#fdca26"
            ],
            [
             1,
             "#f0f921"
            ]
           ],
           "sequentialminus": [
            [
             0,
             "#0d0887"
            ],
            [
             0.1111111111111111,
             "#46039f"
            ],
            [
             0.2222222222222222,
             "#7201a8"
            ],
            [
             0.3333333333333333,
             "#9c179e"
            ],
            [
             0.4444444444444444,
             "#bd3786"
            ],
            [
             0.5555555555555556,
             "#d8576b"
            ],
            [
             0.6666666666666666,
             "#ed7953"
            ],
            [
             0.7777777777777778,
             "#fb9f3a"
            ],
            [
             0.8888888888888888,
             "#fdca26"
            ],
            [
             1,
             "#f0f921"
            ]
           ]
          },
          "colorway": [
           "#636efa",
           "#EF553B",
           "#00cc96",
           "#ab63fa",
           "#FFA15A",
           "#19d3f3",
           "#FF6692",
           "#B6E880",
           "#FF97FF",
           "#FECB52"
          ],
          "font": {
           "color": "#2a3f5f"
          },
          "geo": {
           "bgcolor": "white",
           "lakecolor": "white",
           "landcolor": "#E5ECF6",
           "showlakes": true,
           "showland": true,
           "subunitcolor": "white"
          },
          "hoverlabel": {
           "align": "left"
          },
          "hovermode": "closest",
          "mapbox": {
           "style": "light"
          },
          "paper_bgcolor": "white",
          "plot_bgcolor": "#E5ECF6",
          "polar": {
           "angularaxis": {
            "gridcolor": "white",
            "linecolor": "white",
            "ticks": ""
           },
           "bgcolor": "#E5ECF6",
           "radialaxis": {
            "gridcolor": "white",
            "linecolor": "white",
            "ticks": ""
           }
          },
          "scene": {
           "xaxis": {
            "backgroundcolor": "#E5ECF6",
            "gridcolor": "white",
            "gridwidth": 2,
            "linecolor": "white",
            "showbackground": true,
            "ticks": "",
            "zerolinecolor": "white"
           },
           "yaxis": {
            "backgroundcolor": "#E5ECF6",
            "gridcolor": "white",
            "gridwidth": 2,
            "linecolor": "white",
            "showbackground": true,
            "ticks": "",
            "zerolinecolor": "white"
           },
           "zaxis": {
            "backgroundcolor": "#E5ECF6",
            "gridcolor": "white",
            "gridwidth": 2,
            "linecolor": "white",
            "showbackground": true,
            "ticks": "",
            "zerolinecolor": "white"
           }
          },
          "shapedefaults": {
           "line": {
            "color": "#2a3f5f"
           }
          },
          "ternary": {
           "aaxis": {
            "gridcolor": "white",
            "linecolor": "white",
            "ticks": ""
           },
           "baxis": {
            "gridcolor": "white",
            "linecolor": "white",
            "ticks": ""
           },
           "bgcolor": "#E5ECF6",
           "caxis": {
            "gridcolor": "white",
            "linecolor": "white",
            "ticks": ""
           }
          },
          "title": {
           "x": 0.05
          },
          "xaxis": {
           "automargin": true,
           "gridcolor": "white",
           "linecolor": "white",
           "ticks": "",
           "title": {
            "standoff": 15
           },
           "zerolinecolor": "white",
           "zerolinewidth": 2
          },
          "yaxis": {
           "automargin": true,
           "gridcolor": "white",
           "linecolor": "white",
           "ticks": "",
           "title": {
            "standoff": 15
           },
           "zerolinecolor": "white",
           "zerolinewidth": 2
          }
         }
        },
        "title": {
         "text": "Andamento scolastico dei figli rispetto alla professione dei genitori"
        },
        "width": 750,
        "xaxis": {
         "ticktext": [
          "at_home",
          "health",
          "services",
          "teacher",
          "other"
         ],
         "tickvals": [
          0,
          1,
          2,
          3,
          4
         ],
         "title": {
          "text": "Professione dei genitori"
         }
        },
        "yaxis": {
         "title": {
          "text": "Media dei voti dei figli"
         }
        }
       }
      }
     },
     "metadata": {},
     "output_type": "display_data"
    }
   ],
   "source": [
    "fjob_mean = por.groupby('Fjob')['G3'].mean()\n",
    "mjob_mean = por.groupby('Mjob')['G3'].mean()\n",
    "\n",
    "# Add 'other' as finally category\n",
    "job_levels = sorted(por['Fjob'].unique())\n",
    "if 'other' in job_levels:\n",
    "    job_levels.remove('other')\n",
    "    job_levels.append('other')\n",
    "\n",
    "fjob_mean = fjob_mean.reindex(job_levels, fill_value=0) \n",
    "mjob_mean = mjob_mean.reindex(job_levels, fill_value=0)\n",
    "\n",
    "bar_width = 0.25\n",
    "index = np.arange(len(job_levels))\n",
    "\n",
    "fig = go.Figure()\n",
    "\n",
    "# Fjob bars\n",
    "fig.add_trace(go.Bar(\n",
    "    x=index - bar_width / 2,\n",
    "    y=fjob_mean.values,\n",
    "    width=bar_width,\n",
    "    name='Fjob',\n",
    "    marker_color='#A2CFFE'\n",
    "))\n",
    "\n",
    "# Mjob bars\n",
    "fig.add_trace(go.Bar(\n",
    "    x=index + bar_width / 2, \n",
    "    y=mjob_mean.values,\n",
    "    width=bar_width,\n",
    "    name='Mjob',\n",
    "    marker_color='#FF6961'\n",
    "))\n",
    "\n",
    "# Plot layout\n",
    "fig.update_layout(\n",
    "    title=\"Andamento scolastico dei figli rispetto alla professione dei genitori\",\n",
    "    xaxis_title=\"Professione dei genitori\",\n",
    "    yaxis_title=\"Media dei voti dei figli\",\n",
    "    xaxis=dict(\n",
    "        tickvals=index,\n",
    "        ticktext=job_levels,\n",
    "        title=\"Professione dei genitori\"\n",
    "    ),\n",
    "    barmode='group',\n",
    "    legend_title=\"Tipo di Professione\", \n",
    "    width=750,\n",
    "    height=500\n",
    ")\n",
    "\n",
    "# Settings bar's labels\n",
    "for i in range(len(job_levels)):\n",
    "    fig.add_annotation(\n",
    "        x=index[i] - bar_width / 2,\n",
    "        y=fjob_mean.iloc[i] + 0.1,\n",
    "        text=f'{fjob_mean.iloc[i]:.2f}',\n",
    "        showarrow=False,\n",
    "        font=dict(size=8, color='black')\n",
    "    )\n",
    "    fig.add_annotation(\n",
    "        x=index[i] + bar_width / 2,\n",
    "        y=mjob_mean.iloc[i] + 0.1,\n",
    "        text=f'{mjob_mean.iloc[i]:.2f}',\n",
    "        showarrow=False,\n",
    "        font=dict(size=8, color='black')\n",
    "    )\n",
    "\n",
    "fig.show()\n"
   ]
  },
  {
   "cell_type": "markdown",
   "metadata": {},
   "source": [
    "<h5><a id=\"time_management\">Gestione del tempo</a></h5>\n"
   ]
  },
  {
   "cell_type": "code",
   "execution_count": 66,
   "metadata": {},
   "outputs": [
    {
     "data": {
      "image/png": "[encoded data removed]",
      "text/plain": [
       "<Figure size 1400x1000 with 4 Axes>"
      ]
     },
     "metadata": {},
     "output_type": "display_data"
    }
   ],
   "source": [
    "# Colonne di gestione del tempo\n",
    "time_management_columns = ['studytime', 'traveltime', 'freetime', 'goout']\n",
    "\n",
    "# Crea una figura e assi per i 4 grafici\n",
    "fig, axs = plt.subplots(2, 2, figsize=(14, 10))\n",
    "fig.suptitle('Media dei voti finali rispetto alla gestione del tempo')\n",
    "\n",
    "# Mappa degli assi per facilitare il posizionamento\n",
    "axes_map = {\n",
    "    'studytime': (0, 0),\n",
    "    'traveltime': (0, 1),\n",
    "    'freetime': (1, 0),\n",
    "    'goout': (1, 1)\n",
    "}\n",
    "\n",
    "# Etichette personalizzate per studytime e traveltime\n",
    "studytime_labels = ['<2 h', '2-5 h', '5-10 h', '>10 h']\n",
    "traveltime_labels = ['<15 m', '15-30 m', '30 m-1 h', '>1 h']\n",
    "\n",
    "# Genera i grafici per ciascuna colonna di gestione del tempo\n",
    "for col in time_management_columns:\n",
    "    mean_scores = por.groupby(col)[\"G3\"].mean()\n",
    "    ax = axs[axes_map[col][0], axes_map[col][1]]\n",
    "    ax.plot(mean_scores.index, mean_scores.values, marker='o', linestyle='-')\n",
    "    ax.set_title(f'Media dei voti finali vs {col.capitalize()}')\n",
    "    #ax.set_ylabel('Media dei voti finali')\n",
    "    ax.grid(True)\n",
    "    \n",
    "    # Imposta solo i valori interi sull'asse x\n",
    "    xticks = range(int(mean_scores.index.min()), int(mean_scores.index.max()) + 1)\n",
    "    ax.set_xticks(xticks)\n",
    "    \n",
    "    # Personalizza le etichette degli xticks per studytime e traveltime\n",
    "    if col == 'studytime':\n",
    "        ax.set_xticklabels(studytime_labels)\n",
    "    elif col == 'traveltime':\n",
    "        ax.set_xticklabels(traveltime_labels)\n",
    "    else:\n",
    "        ax.set_xticklabels([str(tick) for tick in xticks])\n",
    "\n",
    "# Aggiungi un po' di spazio tra i grafici\n",
    "plt.tight_layout(rect=[0, 0, 1, 0.96])\n",
    "plt.show()"
   ]
  },
  {
   "cell_type": "code",
   "execution_count": 77,
   "metadata": {},
   "outputs": [
    {
     "data": {
      "application/vnd.plotly.v1+json": {
       "config": {
        "plotlyServerURL": "https://plot.ly"
       },
       "data": [
        {
         "hoverinfo": "text+x",
         "mode": "lines+markers",
         "name": "Studytime",
         "text": [
          "Media: 10.84",
          "Media: 12.09",
          "Media: 13.23",
          "Media: 13.06"
         ],
         "type": "scatter",
         "x": [
          "<2 h",
          "2-5 h",
          "5-10 h",
          ">10 h"
         ],
         "xaxis": "x",
         "y": [
          10.84433962264151,
          12.091803278688525,
          13.22680412371134,
          13.057142857142857
         ],
         "yaxis": "y"
        },
        {
         "hoverinfo": "text+x",
         "mode": "lines+markers",
         "name": "Traveltime",
         "text": [
          "Media: 12.25",
          "Media: 11.58",
          "Media: 11.17",
          "Media: 10.88"
         ],
         "type": "scatter",
         "x": [
          "<15 m",
          "15-30 m",
          "30 m-1 h",
          ">1 h"
         ],
         "xaxis": "x2",
         "y": [
          12.251366120218579,
          11.577464788732394,
          11.166666666666666,
          10.875
         ],
         "yaxis": "y2"
        },
        {
         "hoverinfo": "text+x",
         "mode": "lines+markers",
         "name": "Freetime",
         "text": [
          "Media: 11.73",
          "Media: 12.71",
          "Media: 12.06",
          "Media: 11.71",
          "Media: 10.69"
         ],
         "type": "scatter",
         "x": [
          1,
          2,
          3,
          4,
          5
         ],
         "xaxis": "x3",
         "y": [
          11.733333333333333,
          12.710280373831775,
          12.0597609561753,
          11.713483146067416,
          10.691176470588236
         ],
         "yaxis": "y3"
        },
        {
         "hoverinfo": "text+x",
         "mode": "lines+markers",
         "name": "Goout",
         "text": [
          "Media: 10.73",
          "Media: 12.67",
          "Media: 12.15",
          "Media: 11.97",
          "Media: 10.87"
         ],
         "type": "scatter",
         "x": [
          1,
          2,
          3,
          4,
          5
         ],
         "xaxis": "x4",
         "y": [
          10.729166666666666,
          12.668965517241379,
          12.151219512195121,
          11.97163120567376,
          10.872727272727273
         ],
         "yaxis": "y4"
        }
       ],
       "layout": {
        "annotations": [
         {
          "font": {
           "size": 11
          },
          "showarrow": false,
          "text": "Media dei voti finali vs Studytime",
          "x": 0.2375,
          "xanchor": "center",
          "xref": "paper",
          "y": 1,
          "yanchor": "bottom",
          "yref": "paper"
         },
         {
          "font": {
           "size": 11
          },
          "showarrow": false,
          "text": "Media dei voti finali vs Traveltime",
          "x": 0.7625,
          "xanchor": "center",
          "xref": "paper",
          "y": 1,
          "yanchor": "bottom",
          "yref": "paper"
         },
         {
          "font": {
           "size": 11
          },
          "showarrow": false,
          "text": "Media dei voti finali vs Freetime",
          "x": 0.2375,
          "xanchor": "center",
          "xref": "paper",
          "y": 0.46,
          "yanchor": "bottom",
          "yref": "paper"
         },
         {
          "font": {
           "size": 11
          },
          "showarrow": false,
          "text": "Media dei voti finali vs Goout",
          "x": 0.7625,
          "xanchor": "center",
          "xref": "paper",
          "y": 0.46,
          "yanchor": "bottom",
          "yref": "paper"
         }
        ],
        "height": 700,
        "showlegend": false,
        "template": {
         "data": {
          "bar": [
           {
            "error_x": {
             "color": "#2a3f5f"
            },
            "error_y": {
             "color": "#2a3f5f"
            },
            "marker": {
             "line": {
              "color": "#E5ECF6",
              "width": 0.5
             },
             "pattern": {
              "fillmode": "overlay",
              "size": 10,
              "solidity": 0.2
             }
            },
            "type": "bar"
           }
          ],
          "barpolar": [
           {
            "marker": {
             "line": {
              "color": "#E5ECF6",
              "width": 0.5
             },
             "pattern": {
              "fillmode": "overlay",
              "size": 10,
              "solidity": 0.2
             }
            },
            "type": "barpolar"
           }
          ],
          "carpet": [
           {
            "aaxis": {
             "endlinecolor": "#2a3f5f",
             "gridcolor": "white",
             "linecolor": "white",
             "minorgridcolor": "white",
             "startlinecolor": "#2a3f5f"
            },
            "baxis": {
             "endlinecolor": "#2a3f5f",
             "gridcolor": "white",
             "linecolor": "white",
             "minorgridcolor": "white",
             "startlinecolor": "#2a3f5f"
            },
            "type": "carpet"
           }
          ],
          "choropleth": [
           {
            "colorbar": {
             "outlinewidth": 0,
             "ticks": ""
            },
            "type": "choropleth"
           }
          ],
          "contour": [
           {
            "colorbar": {
             "outlinewidth": 0,
             "ticks": ""
            },
            "colorscale": [
             [
              0,
              "#0d0887"
             ],
             [
              0.1111111111111111,
              "#46039f"
             ],
             [
              0.2222222222222222,
              "#7201a8"
             ],
             [
              0.3333333333333333,
              "#9c179e"
             ],
             [
              0.4444444444444444,
              "#bd3786"
             ],
             [
              0.5555555555555556,
              "#d8576b"
             ],
             [
              0.6666666666666666,
              "#ed7953"
             ],
             [
              0.7777777777777778,
              "#fb9f3a"
             ],
             [
              0.8888888888888888,
              "#fdca26"
             ],
             [
              1,
              "#f0f921"
             ]
            ],
            "type": "contour"
           }
          ],
          "contourcarpet": [
           {
            "colorbar": {
             "outlinewidth": 0,
             "ticks": ""
            },
            "type": "contourcarpet"
           }
          ],
          "heatmap": [
           {
            "colorbar": {
             "outlinewidth": 0,
             "ticks": ""
            },
            "colorscale": [
             [
              0,
              "#0d0887"
             ],
             [
              0.1111111111111111,
              "#46039f"
             ],
             [
              0.2222222222222222,
              "#7201a8"
             ],
             [
              0.3333333333333333,
              "#9c179e"
             ],
             [
              0.4444444444444444,
              "#bd3786"
             ],
             [
              0.5555555555555556,
              "#d8576b"
             ],
             [
              0.6666666666666666,
              "#ed7953"
             ],
             [
              0.7777777777777778,
              "#fb9f3a"
             ],
             [
              0.8888888888888888,
              "#fdca26"
             ],
             [
              1,
              "#f0f921"
             ]
            ],
            "type": "heatmap"
           }
          ],
          "heatmapgl": [
           {
            "colorbar": {
             "outlinewidth": 0,
             "ticks": ""
            },
            "colorscale": [
             [
              0,
              "#0d0887"
             ],
             [
              0.1111111111111111,
              "#46039f"
             ],
             [
              0.2222222222222222,
              "#7201a8"
             ],
             [
              0.3333333333333333,
              "#9c179e"
             ],
             [
              0.4444444444444444,
              "#bd3786"
             ],
             [
              0.5555555555555556,
              "#d8576b"
             ],
             [
              0.6666666666666666,
              "#ed7953"
             ],
             [
              0.7777777777777778,
              "#fb9f3a"
             ],
             [
              0.8888888888888888,
              "#fdca26"
             ],
             [
              1,
              "#f0f921"
             ]
            ],
            "type": "heatmapgl"
           }
          ],
          "histogram": [
           {
            "marker": {
             "pattern": {
              "fillmode": "overlay",
              "size": 10,
              "solidity": 0.2
             }
            },
            "type": "histogram"
           }
          ],
          "histogram2d": [
           {
            "colorbar": {
             "outlinewidth": 0,
             "ticks": ""
            },
            "colorscale": [
             [
              0,
              "#0d0887"
             ],
             [
              0.1111111111111111,
              "#46039f"
             ],
             [
              0.2222222222222222,
              "#7201a8"
             ],
             [
              0.3333333333333333,
              "#9c179e"
             ],
             [
              0.4444444444444444,
              "#bd3786"
             ],
             [
              0.5555555555555556,
              "#d8576b"
             ],
             [
              0.6666666666666666,
              "#ed7953"
             ],
             [
              0.7777777777777778,
              "#fb9f3a"
             ],
             [
              0.8888888888888888,
              "#fdca26"
             ],
             [
              1,
              "#f0f921"
             ]
            ],
            "type": "histogram2d"
           }
          ],
          "histogram2dcontour": [
           {
            "colorbar": {
             "outlinewidth": 0,
             "ticks": ""
            },
            "colorscale": [
             [
              0,
              "#0d0887"
             ],
             [
              0.1111111111111111,
              "#46039f"
             ],
             [
              0.2222222222222222,
              "#7201a8"
             ],
             [
              0.3333333333333333,
              "#9c179e"
             ],
             [
              0.4444444444444444,
              "#bd3786"
             ],
             [
              0.5555555555555556,
              "#d8576b"
             ],
             [
              0.6666666666666666,
              "#ed7953"
             ],
             [
              0.7777777777777778,
              "#fb9f3a"
             ],
             [
              0.8888888888888888,
              "#fdca26"
             ],
             [
              1,
              "#f0f921"
             ]
            ],
            "type": "histogram2dcontour"
           }
          ],
          "mesh3d": [
           {
            "colorbar": {
             "outlinewidth": 0,
             "ticks": ""
            },
            "type": "mesh3d"
           }
          ],
          "parcoords": [
           {
            "line": {
             "colorbar": {
              "outlinewidth": 0,
              "ticks": ""
             }
            },
            "type": "parcoords"
           }
          ],
          "pie": [
           {
            "automargin": true,
            "type": "pie"
           }
          ],
          "scatter": [
           {
            "fillpattern": {
             "fillmode": "overlay",
             "size": 10,
             "solidity": 0.2
            },
            "type": "scatter"
           }
          ],
          "scatter3d": [
           {
            "line": {
             "colorbar": {
              "outlinewidth": 0,
              "ticks": ""
             }
            },
            "marker": {
             "colorbar": {
              "outlinewidth": 0,
              "ticks": ""
             }
            },
            "type": "scatter3d"
           }
          ],
          "scattercarpet": [
           {
            "marker": {
             "colorbar": {
              "outlinewidth": 0,
              "ticks": ""
             }
            },
            "type": "scattercarpet"
           }
          ],
          "scattergeo": [
           {
            "marker": {
             "colorbar": {
              "outlinewidth": 0,
              "ticks": ""
             }
            },
            "type": "scattergeo"
           }
          ],
          "scattergl": [
           {
            "marker": {
             "colorbar": {
              "outlinewidth": 0,
              "ticks": ""
             }
            },
            "type": "scattergl"
           }
          ],
          "scattermapbox": [
           {
            "marker": {
             "colorbar": {
              "outlinewidth": 0,
              "ticks": ""
             }
            },
            "type": "scattermapbox"
           }
          ],
          "scatterpolar": [
           {
            "marker": {
             "colorbar": {
              "outlinewidth": 0,
              "ticks": ""
             }
            },
            "type": "scatterpolar"
           }
          ],
          "scatterpolargl": [
           {
            "marker": {
             "colorbar": {
              "outlinewidth": 0,
              "ticks": ""
             }
            },
            "type": "scatterpolargl"
           }
          ],
          "scatterternary": [
           {
            "marker": {
             "colorbar": {
              "outlinewidth": 0,
              "ticks": ""
             }
            },
            "type": "scatterternary"
           }
          ],
          "surface": [
           {
            "colorbar": {
             "outlinewidth": 0,
             "ticks": ""
            },
            "colorscale": [
             [
              0,
              "#0d0887"
             ],
             [
              0.1111111111111111,
              "#46039f"
             ],
             [
              0.2222222222222222,
              "#7201a8"
             ],
             [
              0.3333333333333333,
              "#9c179e"
             ],
             [
              0.4444444444444444,
              "#bd3786"
             ],
             [
              0.5555555555555556,
              "#d8576b"
             ],
             [
              0.6666666666666666,
              "#ed7953"
             ],
             [
              0.7777777777777778,
              "#fb9f3a"
             ],
             [
              0.8888888888888888,
              "#fdca26"
             ],
             [
              1,
              "#f0f921"
             ]
            ],
            "type": "surface"
           }
          ],
          "table": [
           {
            "cells": {
             "fill": {
              "color": "#EBF0F8"
             },
             "line": {
              "color": "white"
             }
            },
            "header": {
             "fill": {
              "color": "#C8D4E3"
             },
             "line": {
              "color": "white"
             }
            },
            "type": "table"
           }
          ]
         },
         "layout": {
          "annotationdefaults": {
           "arrowcolor": "#2a3f5f",
           "arrowhead": 0,
           "arrowwidth": 1
          },
          "autotypenumbers": "strict",
          "coloraxis": {
           "colorbar": {
            "outlinewidth": 0,
            "ticks": ""
           }
          },
          "colorscale": {
           "diverging": [
            [
             0,
             "#8e0152"
            ],
            [
             0.1,
             "#c51b7d"
            ],
            [
             0.2,
             "#de77ae"
            ],
            [
             0.3,
             "#f1b6da"
            ],
            [
             0.4,
             "#fde0ef"
            ],
            [
             0.5,
             "#f7f7f7"
            ],
            [
             0.6,
             "#e6f5d0"
            ],
            [
             0.7,
             "#b8e186"
            ],
            [
             0.8,
             "#7fbc41"
            ],
            [
             0.9,
             "#4d9221"
            ],
            [
             1,
             "#276419"
            ]
           ],
           "sequential": [
            [
             0,
             "#0d0887"
            ],
            [
             0.1111111111111111,
             "#46039f"
            ],
            [
             0.2222222222222222,
             "#7201a8"
            ],
            [
             0.3333333333333333,
             "#9c179e"
            ],
            [
             0.4444444444444444,
             "#bd3786"
            ],
            [
             0.5555555555555556,
             "#d8576b"
            ],
            [
             0.6666666666666666,
             "#ed7953"
            ],
            [
             0.7777777777777778,
             "#fb9f3a"
            ],
            [
             0.8888888888888888,
             "#fdca26"
            ],
            [
             1,
             "#f0f921"
            ]
           ],
           "sequentialminus": [
            [
             0,
             "#0d0887"
            ],
            [
             0.1111111111111111,
             "#46039f"
            ],
            [
             0.2222222222222222,
             "#7201a8"
            ],
            [
             0.3333333333333333,
             "#9c179e"
            ],
            [
             0.4444444444444444,
             "#bd3786"
            ],
            [
             0.5555555555555556,
             "#d8576b"
            ],
            [
             0.6666666666666666,
             "#ed7953"
            ],
            [
             0.7777777777777778,
             "#fb9f3a"
            ],
            [
             0.8888888888888888,
             "#fdca26"
            ],
            [
             1,
             "#f0f921"
            ]
           ]
          },
          "colorway": [
           "#636efa",
           "#EF553B",
           "#00cc96",
           "#ab63fa",
           "#FFA15A",
           "#19d3f3",
           "#FF6692",
           "#B6E880",
           "#FF97FF",
           "#FECB52"
          ],
          "font": {
           "color": "#2a3f5f"
          },
          "geo": {
           "bgcolor": "white",
           "lakecolor": "white",
           "landcolor": "#E5ECF6",
           "showlakes": true,
           "showland": true,
           "subunitcolor": "white"
          },
          "hoverlabel": {
           "align": "left"
          },
          "hovermode": "closest",
          "mapbox": {
           "style": "light"
          },
          "paper_bgcolor": "white",
          "plot_bgcolor": "#E5ECF6",
          "polar": {
           "angularaxis": {
            "gridcolor": "white",
            "linecolor": "white",
            "ticks": ""
           },
           "bgcolor": "#E5ECF6",
           "radialaxis": {
            "gridcolor": "white",
            "linecolor": "white",
            "ticks": ""
           }
          },
          "scene": {
           "xaxis": {
            "backgroundcolor": "#E5ECF6",
            "gridcolor": "white",
            "gridwidth": 2,
            "linecolor": "white",
            "showbackground": true,
            "ticks": "",
            "zerolinecolor": "white"
           },
           "yaxis": {
            "backgroundcolor": "#E5ECF6",
            "gridcolor": "white",
            "gridwidth": 2,
            "linecolor": "white",
            "showbackground": true,
            "ticks": "",
            "zerolinecolor": "white"
           },
           "zaxis": {
            "backgroundcolor": "#E5ECF6",
            "gridcolor": "white",
            "gridwidth": 2,
            "linecolor": "white",
            "showbackground": true,
            "ticks": "",
            "zerolinecolor": "white"
           }
          },
          "shapedefaults": {
           "line": {
            "color": "#2a3f5f"
           }
          },
          "ternary": {
           "aaxis": {
            "gridcolor": "white",
            "linecolor": "white",
            "ticks": ""
           },
           "baxis": {
            "gridcolor": "white",
            "linecolor": "white",
            "ticks": ""
           },
           "bgcolor": "#E5ECF6",
           "caxis": {
            "gridcolor": "white",
            "linecolor": "white",
            "ticks": ""
           }
          },
          "title": {
           "x": 0.05
          },
          "xaxis": {
           "automargin": true,
           "gridcolor": "white",
           "linecolor": "white",
           "ticks": "",
           "title": {
            "standoff": 15
           },
           "zerolinecolor": "white",
           "zerolinewidth": 2
          },
          "yaxis": {
           "automargin": true,
           "gridcolor": "white",
           "linecolor": "white",
           "ticks": "",
           "title": {
            "standoff": 15
           },
           "zerolinecolor": "white",
           "zerolinewidth": 2
          }
         }
        },
        "width": 700,
        "xaxis": {
         "anchor": "y",
         "domain": [
          0,
          0.475
         ]
        },
        "xaxis2": {
         "anchor": "y2",
         "domain": [
          0.525,
          1
         ]
        },
        "xaxis3": {
         "anchor": "y3",
         "domain": [
          0,
          0.475
         ]
        },
        "xaxis4": {
         "anchor": "y4",
         "domain": [
          0.525,
          1
         ]
        },
        "yaxis": {
         "anchor": "x",
         "domain": [
          0.54,
          1
         ]
        },
        "yaxis2": {
         "anchor": "x2",
         "domain": [
          0.54,
          1
         ]
        },
        "yaxis3": {
         "anchor": "x3",
         "domain": [
          0,
          0.46
         ]
        },
        "yaxis4": {
         "anchor": "x4",
         "domain": [
          0,
          0.46
         ]
        }
       }
      }
     },
     "metadata": {},
     "output_type": "display_data"
    }
   ],
   "source": [
    "#import plotly.graph_objects as go\n",
    "from plotly.subplots import make_subplots\n",
    "\n",
    "\n",
    "time_management_columns = ['studytime', 'traveltime', 'freetime', 'goout']\n",
    "\n",
    "# Etichette personalizzate per studytime e traveltime\n",
    "studytime_labels = ['<2 h', '2-5 h', '5-10 h', '>10 h']\n",
    "traveltime_labels = ['<15 m', '15-30 m', '30 m-1 h', '>1 h']\n",
    "\n",
    "# Crea una figura con una griglia 2x2\n",
    "fig = make_subplots(\n",
    "    rows=2, cols=2,\n",
    "    subplot_titles=[\n",
    "        'Media dei voti finali vs Studytime',\n",
    "        'Media dei voti finali vs Traveltime',\n",
    "        'Media dei voti finali vs Freetime',\n",
    "        'Media dei voti finali vs Goout'\n",
    "    ],\n",
    "    horizontal_spacing=0.05, \n",
    "    vertical_spacing=0.08\n",
    ")\n",
    "\n",
    "# Mappa degli assi per facilitare il posizionamento\n",
    "axes_map = {\n",
    "    'studytime': (1, 1),\n",
    "    'traveltime': (1, 2),\n",
    "    'freetime': (2, 1),\n",
    "    'goout': (2, 2)\n",
    "}\n",
    "\n",
    "# Genera i grafici per ciascuna colonna di gestione del tempo\n",
    "for col in time_management_columns:\n",
    "    mean_scores = por.groupby(col)[\"G3\"].mean()\n",
    "    labels = mean_scores.index\n",
    "\n",
    "    if col == 'studytime':\n",
    "        labels = studytime_labels\n",
    "    elif col == 'traveltime':\n",
    "        labels = traveltime_labels\n",
    "\n",
    "    row, col_num = axes_map[col]\n",
    "\n",
    "    fig.add_trace(go.Scatter(\n",
    "        x=labels,\n",
    "        y=mean_scores.values,\n",
    "        mode='lines+markers',\n",
    "        name=col.capitalize(),\n",
    "        text=[f'Media: {val:.2f}' for val in mean_scores.values],\n",
    "        hoverinfo='text+x'\n",
    "    ), row=row, col=col_num)\n",
    "\n",
    "# Aggiorna il layout del grafico\n",
    "fig.update_layout(\n",
    "    #title='Media dei voti finali rispetto alla gestione del tempo',\n",
    "    height=700,\n",
    "    width=700,\n",
    "    showlegend=False\n",
    ")\n",
    "\n",
    "# Modifica le annotazioni dei titoli dei subplot per ridurre la dimensione dei caratteri\n",
    "for annotation in fig['layout']['annotations']:\n",
    "    annotation['font'] = {'size': 11}  # Riduci la dimensione del font a 10\n",
    "\n",
    "fig.show()\n"
   ]
  },
  {
   "cell_type": "markdown",
   "metadata": {},
   "source": [
    "<h5><a id=\"alchol\">Consumo di Alcolici</a></h5>"
   ]
  },
  {
   "cell_type": "code",
   "execution_count": null,
   "metadata": {},
   "outputs": [],
   "source": [
    "# Calcola la media dei voti finali per ciascun livello di consumo di alcol\n",
    "dalc_mean = por.groupby('Dalc')['G3'].mean()\n",
    "walc_mean = por.groupby('Walc')['G3'].mean()\n",
    "\n",
    "# Imposta la larghezza delle barre e la posizione delle barre parallele\n",
    "bar_width = 0.35\n",
    "index = np.arange(1, 6)\n",
    "\n",
    "# Crea la figura e gli assi\n",
    "fig, ax = plt.subplots(figsize=(10, 6))\n",
    "\n",
    "# Crea le barre parallele per Dalc e Walc con colori specificati\n",
    "bars1 = ax.bar(index - bar_width/2, dalc_mean[index], bar_width, label='Dalc (Giorni feriali)', color='skyblue')\n",
    "bars2 = ax.bar(index + bar_width/2, walc_mean[index], bar_width, label='Walc (Fine settimana)', color='salmon')\n",
    "\n",
    "# Aggiungi etichette e titolo\n",
    "ax.set_xlabel('Livello di consumo di alcol')\n",
    "ax.set_ylabel('Media dei voti finali (G3)')\n",
    "ax.set_title('Media dei voti finali (G3) rispetto al consumo di alcol')\n",
    "ax.set_xticks(index)\n",
    "ax.set_xticklabels(index)\n",
    "ax.legend()\n",
    "\n",
    "# Aggiungi i valori sopra ogni barra con font-size ridotto e colore nero per il testo\n",
    "for bar in bars1:\n",
    "    height = bar.get_height()\n",
    "    ax.text(bar.get_x() + bar.get_width() / 2, height, f'{height:.2f}', ha='center', va='bottom', fontsize=10, color='black')\n",
    "\n",
    "for bar in bars2:\n",
    "    height = bar.get_height()\n",
    "    ax.text(bar.get_x() + bar.get_width() / 2, height, f'{height:.2f}', ha='center', va='bottom', fontsize=10, color='black')\n",
    "\n",
    "# Mostra il grafico\n",
    "plt.tight_layout()\n",
    "plt.show()"
   ]
  },
  {
   "cell_type": "code",
   "execution_count": null,
   "metadata": {},
   "outputs": [],
   "source": [
    "# Calcola la media dei voti finali per ciascun livello di consumo di alcol\n",
    "dalc_mean = por.groupby('Dalc')['G3'].mean()\n",
    "walc_mean = por.groupby('Walc')['G3'].mean()\n",
    "\n",
    "# Imposta la larghezza delle barre e la posizione delle barre parallele\n",
    "bar_width = 0.35\n",
    "index = np.arange(1, 6)\n",
    "\n",
    "# Crea la figura e gli assi\n",
    "fig, ax = plt.subplots(figsize=(8, 5))\n",
    "\n",
    "# Crea le barre parallele per Dalc e Walc con colori specificati\n",
    "color_fedu = '#095D9D'  # Colore personalizzato per Dalc\n",
    "color_medu = '#E40D0D'  # Colore personalizzato per Walc\n",
    "\n",
    "bars1 = ax.bar(index - bar_width/2, dalc_mean[index], bar_width, label='Giorni Feriali)', color=color_fedu)\n",
    "bars2 = ax.bar(index + bar_width/2, walc_mean[index], bar_width, label='Week End', color=color_medu)\n",
    "\n",
    "# Aggiungi etichette e titolo\n",
    "ax.set_xlabel('Livello di consumo di alcol')\n",
    "ax.set_ylabel('Media dei voti finali (G3)')\n",
    "ax.set_title('Media dei voti finali (G3) rispetto al consumo di alcol')\n",
    "ax.set_xticks(index)\n",
    "ax.set_xticklabels(index)\n",
    "ax.legend()\n",
    "\n",
    "# Aggiungi i valori sopra ogni barra con font-size ridotto e colore nero per il testo\n",
    "for bar in bars1:\n",
    "    height = bar.get_height()\n",
    "    ax.text(bar.get_x() + bar.get_width() / 2, height, f'{height:.2f}', ha='center', va='bottom', fontsize=10, color='black')\n",
    "\n",
    "for bar in bars2:\n",
    "    height = bar.get_height()\n",
    "    ax.text(bar.get_x() + bar.get_width() / 2, height, f'{height:.2f}', ha='center', va='bottom', fontsize=10, color='black')\n",
    "\n",
    "# Mostra il grafico\n",
    "plt.tight_layout()\n",
    "plt.show()"
   ]
  },
  {
   "cell_type": "markdown",
   "metadata": {},
   "source": [
    "<h5><a id=\"other_analysis\">Ulteriori Analisi</a></h5>"
   ]
  },
  {
   "cell_type": "code",
   "execution_count": null,
   "metadata": {},
   "outputs": [],
   "source": [
    "# Gestione del tempo\n",
    "\n",
    "# Consumo Alcolici\n",
    "\n",
    "# Uso di internet"
   ]
  },
  {
   "cell_type": "code",
   "execution_count": null,
   "metadata": {},
   "outputs": [],
   "source": [
    "# Variabili binarie\n",
    "binary_columns = ['internet', 'schoolsup', 'romantic']\n",
    "\n",
    "# Calcola la media dei voti finali per ciascuna variabile binaria\n",
    "means = {col: por.groupby(col)['G3'].mean() for col in binary_columns}\n",
    "\n",
    "# Imposta la larghezza delle barre\n",
    "bar_width = 0.35\n",
    "index = np.arange(len(binary_columns))\n",
    "\n",
    "# Crea la figura e gli assi\n",
    "fig, ax = plt.subplots(figsize=(10, 6))\n",
    "\n",
    "# Crea le barre parallele per ciascuna variabile binaria\n",
    "colors = ['skyblue', 'salmon']\n",
    "for i, col in enumerate(binary_columns):\n",
    "    yes_mean = means[col]['yes']\n",
    "    no_mean = means[col]['no']\n",
    "    \n",
    "    bars1 = ax.bar(index[i] - bar_width/2, yes_mean, bar_width, label=f'{col} - yes' if i == 0 else \"\", color=colors[0])\n",
    "    bars2 = ax.bar(index[i] + bar_width/2, no_mean, bar_width, label=f'{col} - no' if i == 0 else \"\", color=colors[1])\n",
    "    \n",
    "    # Aggiungi i valori sopra ogni barra\n",
    "    ax.text(index[i] - bar_width/2, yes_mean + 0.2, f'{yes_mean:.2f}', ha='center', va='bottom', fontsize=10, color='black')\n",
    "    ax.text(index[i] + bar_width/2, no_mean + 0.2, f'{no_mean:.2f}', ha='center', va='bottom', fontsize=10, color='black')\n",
    "\n",
    "# Aggiungi etichette e titolo\n",
    "ax.set_xlabel('Variabili')\n",
    "ax.set_ylabel('Media dei voti finali (G3)')\n",
    "ax.set_title('Media dei voti finali (G3) rispetto alle variabili binarie')\n",
    "ax.set_xticks(index)\n",
    "ax.set_xticklabels(binary_columns)\n",
    "ax.legend()\n",
    "\n",
    "# Mostra il grafico\n",
    "plt.tight_layout()\n",
    "plt.show()"
   ]
  },
  {
   "cell_type": "code",
   "execution_count": null,
   "metadata": {},
   "outputs": [],
   "source": [
    "from matplotlib.patches import Patch\n",
    "\n",
    "# Variabili binarie\n",
    "binary_columns = ['internet', 'schoolsup', 'romantic']\n",
    "\n",
    "# Calcola la media dei voti finali per ciascuna variabile binaria\n",
    "means = {col: por.groupby(col)['G3'].mean() for col in binary_columns}\n",
    "\n",
    "# Imposta la larghezza delle barre più stretta\n",
    "bar_width = 0.2\n",
    "index = np.arange(len(binary_columns))\n",
    "\n",
    "# Crea la figura e gli assi\n",
    "fig, ax = plt.subplots(figsize=(8, 5))\n",
    "\n",
    "# Definisce i colori per ciascuna variabile binaria\n",
    "colors = {\n",
    "    'internet': ['#0b5394', '#9fc5e8'],  # Blu deciso per 'yes', Blu tenue per 'no'\n",
    "    'schoolsup': ['#38761d', '#b6d7a8'],  # Verde deciso per 'yes', Verde tenue per 'no'\n",
    "    'romantic': ['#990000', '#e06666']  # Rosso deciso per 'yes', Rosso tenue per 'no'\n",
    "}\n",
    "\n",
    "# Crea le barre parallele per ciascuna variabile binaria\n",
    "for i, col in enumerate(binary_columns):\n",
    "    yes_mean = means[col]['yes']\n",
    "    no_mean = means[col]['no']\n",
    "    \n",
    "    bars1 = ax.bar(index[i] - bar_width/2, yes_mean, bar_width, color=colors[col][0])\n",
    "    bars2 = ax.bar(index[i] + bar_width/2, no_mean, bar_width, color=colors[col][1])\n",
    "    \n",
    "    # Aggiungi i valori sopra ogni barra\n",
    "    ax.text(index[i] - bar_width/2, yes_mean + 0.2, f'{yes_mean:.2f}', ha='center', va='bottom', fontsize=10, color='black')\n",
    "    ax.text(index[i] + bar_width/2, no_mean + 0.2, f'{no_mean:.2f}', ha='center', va='bottom', fontsize=10, color='black')\n",
    "\n",
    "# Aggiungi etichette e titolo\n",
    "ax.set_xlabel('Variabili')\n",
    "ax.set_ylabel('Media dei voti finali (G3)')\n",
    "ax.set_title('Media dei voti finali (G3) rispetto alle variabili binarie')\n",
    "ax.set_xticks(index)\n",
    "ax.set_xticklabels(binary_columns)\n",
    "\n",
    "# Crea una legenda personalizzata con sfondo grigio\n",
    "legend_elements = [\n",
    "    Patch(facecolor='#0b5394', label='internet - yes'),\n",
    "    Patch(facecolor='#9fc5e8', label='internet - no'),\n",
    "    Patch(facecolor='#38761d', label='schoolsup - yes'),\n",
    "    Patch(facecolor='#b6d7a8', label='schoolsup - no'),\n",
    "    Patch(facecolor='#990000', label='romantic - yes'),\n",
    "    Patch(facecolor='#e06666', label='romantic - no')\n",
    "]\n",
    "legend = ax.legend(handles=legend_elements, title='Categorie')\n",
    "legend.get_frame().set_facecolor('#e0e0e0')  # Imposta il colore di sfondo della legenda a grigio chiaro\n",
    "\n",
    "# Mostra il grafico\n",
    "plt.tight_layout()\n",
    "plt.show()"
   ]
  },
  {
   "cell_type": "code",
   "execution_count": null,
   "metadata": {},
   "outputs": [],
   "source": [
    "# Variabili binarie\n",
    "binary_columns = ['internet', 'schoolsup', 'romantic', 'address']\n",
    "\n",
    "# Calcola la media dei voti finali per ciascuna variabile binaria\n",
    "means = {col: por.groupby(col)['G3'].mean() for col in binary_columns}\n",
    "\n",
    "# Imposta la larghezza delle barre più stretta\n",
    "bar_width = 0.2\n",
    "index = np.arange(len(binary_columns))\n",
    "\n",
    "# Crea la figura e gli assi\n",
    "fig, ax = plt.subplots(figsize=(8, 6))\n",
    "\n",
    "# Definisce i colori per ciascuna variabile binaria\n",
    "colors = {\n",
    "    'internet': ['#0b5394', '#9fc5e8'],  # Blu deciso per 'yes', Blu tenue per 'no'\n",
    "    'schoolsup': ['#ff9900', '#ffd966'],  # Arancione deciso per 'yes', Arancione tenue per 'no'\n",
    "    'romantic': ['#990000', '#e06666'],  # Rosso deciso per 'yes', Rosso tenue per 'no'\n",
    "    'address': ['#38761d', '#b6d7a8']  # Verde deciso per 'U', Verde tenue per 'R'\n",
    "}\n",
    "\n",
    "# Crea le barre parallele per ciascuna variabile binaria\n",
    "for i, col in enumerate(binary_columns):\n",
    "    yes_mean = means[col].get('yes', means[col].get('U', np.nan))\n",
    "    no_mean = means[col].get('no', means[col].get('R', np.nan))\n",
    "    \n",
    "    bars1 = ax.bar(index[i] - bar_width/2, yes_mean, bar_width, color=colors[col][0])\n",
    "    bars2 = ax.bar(index[i] + bar_width/2, no_mean, bar_width, color=colors[col][1])\n",
    "    \n",
    "    # Aggiungi i valori sopra ogni barra\n",
    "    if not np.isnan(yes_mean):\n",
    "        ax.text(index[i] - bar_width/2, yes_mean + 0.2, f'{yes_mean:.2f}', ha='center', va='bottom', fontsize=10, color='black')\n",
    "    if not np.isnan(no_mean):\n",
    "        ax.text(index[i] + bar_width/2, no_mean + 0.2, f'{no_mean:.2f}', ha='center', va='bottom', fontsize=10, color='black')\n",
    "\n",
    "# Aggiungi etichette e titolo\n",
    "ax.set_xlabel('')\n",
    "ax.set_ylabel('Media dei voti finali (G3)')\n",
    "ax.set_title('Media dei voti finali (G3) rispetto ad alcune variabili binarie')\n",
    "ax.set_xticks(index)\n",
    "ax.set_xticklabels(binary_columns)\n",
    "\n",
    "# Crea una legenda personalizzata con sfondo grigio\n",
    "legend_elements = [\n",
    "    Patch(facecolor='#0b5394', label='int - yes'),\n",
    "    Patch(facecolor='#9fc5e8', label='int - no'),\n",
    "    Patch(facecolor='#ff9900', label='sch - yes'),\n",
    "    Patch(facecolor='#ffd966', label='sch - no'),\n",
    "    Patch(facecolor='#990000', label='rom - yes'),\n",
    "    Patch(facecolor='#e06666', label='rom - no'),\n",
    "    Patch(facecolor='#38761d', label='add - Urban'),\n",
    "    Patch(facecolor='#b6d7a8', label='add - Rural')\n",
    "]\n",
    "legend = ax.legend(handles=legend_elements, title='Categorie')\n",
    "legend.get_frame().set_facecolor('#e0e0e0')  # Imposta il colore di sfondo della legenda a grigio chiaro\n",
    "\n",
    "# Mostra il grafico\n",
    "plt.tight_layout()\n",
    "plt.show()"
   ]
  },
  {
   "cell_type": "markdown",
   "metadata": {},
   "source": [
    "<h1><a id=\"pa\">Predictive Analytics</a></h1>"
   ]
  },
  {
   "cell_type": "markdown",
   "metadata": {},
   "source": [
    "<p>Final grade prediction (G3) using ML algorithms</p>"
   ]
  },
  {
   "cell_type": "code",
   "execution_count": null,
   "metadata": {},
   "outputs": [],
   "source": [
    "steps = [\n",
    "    \"Riduzione Dimensionalità\\n(PCA)\",\n",
    "    \"Ottimizzazione Parametri\\n(RandomSearchCV)\",\n",
    "    \"Metriche e Valutazione\\n(R², RMSE, MAE, Max Error)\",\n",
    "    \"Importanza Feature\\n(Feature Importance)\"\n",
    "]\n",
    "\n",
    "# Definisci la posizione e la dimensione dei blocchi\n",
    "x = 0\n",
    "y = 0\n",
    "width = 2\n",
    "height = 1\n",
    "space = 1.5\n",
    "arrow_space = 0.5\n",
    "\n",
    "# Crea la figura e gli assi\n",
    "fig, ax = plt.subplots(figsize=(11, 3))\n",
    "ax.set_xlim(-1, len(steps) * (width + space))\n",
    "ax.set_ylim(-2, 2)\n",
    "ax.axis('off')\n",
    "\n",
    "# Aggiungi i blocchi e le frecce\n",
    "for i, step in enumerate(steps):\n",
    "    box = FancyBboxPatch(\n",
    "        (x + i * (width + space), y),\n",
    "        width,\n",
    "        height,\n",
    "        boxstyle=\"round,pad=0.3\",\n",
    "        edgecolor='white',\n",
    "        facecolor='#507796'\n",
    "    )\n",
    "    ax.add_patch(box)\n",
    "    ax.text(\n",
    "        x + i * (width + space) + width / 2,\n",
    "        y + height / 2,\n",
    "        step,\n",
    "        ha='center',\n",
    "        va='center',\n",
    "        fontsize=8,\n",
    "        fontweight='bold',\n",
    "        fontname='Arial'\n",
    "    )\n",
    "    if i < len(steps) - 1:\n",
    "        arrow = FancyArrow(\n",
    "            x + (i + 1) * (width + space) - space + arrow_space,  \n",
    "            y + height / 2,\n",
    "            space - 2 * arrow_space,\n",
    "            0,\n",
    "            width=0.03,\n",
    "            length_includes_head=True,\n",
    "            color='black'\n",
    "        )\n",
    "        ax.add_patch(arrow)\n",
    "\n",
    "plt.title(\"Diagramma Relazionale dei Punti Salienti per la Predizione dei Voti\", fontsize=12)\n",
    "plt.show()\n"
   ]
  },
  {
   "cell_type": "code",
   "execution_count": null,
   "metadata": {},
   "outputs": [],
   "source": [
    "por_enc.describe()"
   ]
  },
  {
   "cell_type": "markdown",
   "metadata": {},
   "source": [
    "Per dimostrare l'efficacia di diversi algoritmi di machine learning nella previsione del voto finale, sono stati testati una gamma diversificata di modelli. Questo approccio didattico, ha permesso di:\n",
    "\n",
    "- Apprendere come ogni algoritmo gestisce i dati e identifica le caratteristiche rilevanti\n",
    "\n",
    "- Valutare le performance relative di ciascun modello, fornendo una comprensione pratica delle loro capacità e limitazioni\n",
    "\n",
    "- Comprendere le differenze fondamentali tra gli algoritmi, facilitando la scelta del modello più adatto per previsioni accurate"
   ]
  },
  {
   "cell_type": "markdown",
   "metadata": {},
   "source": [
    "<b>Algoritmi usati</b>\n",
    "\n",
    "1. [SVR](https://scikit-learn.org/stable/modules/generated/sklearn.svm.SVR.html): Algoritmo di regressione basato su Support Vector Machines. Efficace per dati di alta dimensione.\n",
    "\n",
    "2. [GradientBoosting Regressor](https://scikit-learn.org/stable/modules/generated/sklearn.ensemble.GradientBoostingRegressor.html): Metodo di ensemble che costruisce alberi sequenziali.\n",
    "Alta accuratezza, ma richiede più tempo di addestramento.\n",
    "\n",
    "3. [Bagging Regressor](https://scikit-learn.org/stable/modules/generated/sklearn.ensemble.BaggingRegressor.html): Metodo di ensemble che combina multiple istanze dello stesso modello. Riduce la varianza e migliora la stabilità.\n",
    "\n",
    "4. [RandomForest Regressor](https://scikit-learn.org/stable/modules/generated/sklearn.ensemble.RandomForestRegressor.html): Algoritmo basato su ensemble di alberi decisionali.\n",
    "Buona capacità di generalizzazione e gestione della variabilità nei dati.\n",
    "\n",
    "\n",
    "5. [DecisionTree Regressor](https://scikit-learn.org/stable/modules/generated/sklearn.tree.DecisionTreeRegressor.html): Algoritmo basato su alberi singoli. Facile interpretabilità, ma suscettibile all'overfitting.\n",
    "\n",
    "6. [Linear Regression](https://scikit-learn.org/stable/modules/generated/sklearn.linear_model.LinearRegression.html): Modello di regressione lineare semplice. Base di confronto per valutare la complessità degli altri due modelli.\n",
    "\n",
    "7. [Ridge](https://scikit-learn.org/stable/modules/generated/sklearn.linear_model.Ridge.html): Variante della regressione lineare che include una penalità. Migliora la generalizzazione riducendo l'overfitting.\n",
    "\n",
    "8. [Lasso](https://scikit-learn.org/stable/modules/generated/sklearn.linear_model.Lasso.html): Variante della regressione lineare che effettua selezione delle caratteristiche. Utile per ridurre il numero di feature rilevanti.\n",
    "\n",
    "9. [MLP Regressor](https://scikit-learn.org/stable/modules/generated/sklearn.neural_network.MLPRegressor.html): Modello di apprendimento profondo. Capacità di catturare pattern complessi nei dati, ma necessita di molti dati e tempo di addestramento.\n",
    "\n",
    "10. [KNeighbors Regressor](https://scikit-learn.org/stable/modules/generated/sklearn.neighbors.KNeighborsRegressor.html):Algoritmo di classificazione e regressione basato sulla vicinanza. Semplice da implementare, ma computationalmente costoso per dataset grandi."
   ]
  },
  {
   "cell_type": "code",
   "execution_count": null,
   "metadata": {},
   "outputs": [],
   "source": [
    "# 1. Separation of features and target\n",
    "X = por_enc.drop(columns=['G3'])\n",
    "y = por_enc['G3']"
   ]
  },
  {
   "cell_type": "markdown",
   "metadata": {},
   "source": [
    "<h3><a id=\"reduce_dim\">Riduzione della Dimensionalità</a></h3>"
   ]
  },
  {
   "cell_type": "code",
   "execution_count": null,
   "metadata": {},
   "outputs": [],
   "source": [
    "# 2. Dimensionality Reduction\n",
    "\n",
    "\n",
    "# Data normalization\n",
    "scaler = StandardScaler()\n",
    "X_scaled = pd.DataFrame(scaler.fit_transform(X), columns=X.columns)\n",
    "\n",
    "pca = PCA()\n",
    "pca.fit(X_scaled)"
   ]
  },
  {
   "cell_type": "code",
   "execution_count": null,
   "metadata": {},
   "outputs": [],
   "source": [
    "\n",
    "# Cumulative Explained Variance Plot\n",
    "cumulative_variance = np.cumsum(pca.explained_variance_ratio_)\n",
    "\n",
    "plt.figure(figsize=(10, 6))\n",
    "plt.plot(range(1, len(cumulative_variance) + 1), cumulative_variance, marker='o')\n",
    "plt.xlabel('Numero di componenti principali')\n",
    "plt.ylabel('Varianza spiegata cumulativa')\n",
    "plt.title('Varianza spiegata cumulativa per PCA')\n",
    "plt.grid(True)\n",
    "plt.show()\n"
   ]
  },
  {
   "cell_type": "code",
   "execution_count": null,
   "metadata": {},
   "outputs": [],
   "source": [
    "# Scegliere il numero di componenti che spiegano almeno il 95% della varianza\n",
    "threshold = 0.95\n",
    "num_components = np.argmax(cumulative_variance >= threshold) + 1\n",
    "\n",
    "print(f\"Numero di componenti principali per spiegare almeno il 95% della varianza: {num_components}\")\n",
    "\n",
    "# Riduzione della dimensionalità con il numero ottimale di componenti\n",
    "pca = PCA(n_components=num_components)\n",
    "X_pca = pca.fit_transform(X_scaled)\n"
   ]
  },
  {
   "cell_type": "code",
   "execution_count": null,
   "metadata": {},
   "outputs": [],
   "source": [
    "feature_labels = [f'PC{i+1}' for i in range(num_components)]"
   ]
  },
  {
   "cell_type": "code",
   "execution_count": null,
   "metadata": {},
   "outputs": [],
   "source": [
    "# Salva i nomi delle colonne originali prima di applicare PCA\n",
    "col_names = X.columns.tolist()\n",
    "\n",
    "# Estrazione dei coefficienti del PCA\n",
    "pca_components = pca.components_\n",
    "\n",
    "# Creazione di un dataframe per visualizzare l'importanza delle feature originali\n",
    "original_feature_names = X.columns.tolist()"
   ]
  },
  {
   "cell_type": "code",
   "execution_count": null,
   "metadata": {},
   "outputs": [],
   "source": []
  },
  {
   "cell_type": "code",
   "execution_count": null,
   "metadata": {},
   "outputs": [],
   "source": [
    "feature_importances = np.sum(np.abs(pca_components), axis=0)\n",
    "\n",
    "# Creazione di un dataframe per visualizzare l'importanza delle feature originali\n",
    "pca_importance_df = pd.DataFrame({'Feature': original_feature_names, 'Importance': feature_importances})\n",
    "\n",
    "# Ordinamento delle feature per importanza\n",
    "pca_importance_df = pca_importance_df.sort_values(by='Importance', ascending=False)\n"
   ]
  },
  {
   "cell_type": "code",
   "execution_count": null,
   "metadata": {},
   "outputs": [],
   "source": []
  },
  {
   "cell_type": "code",
   "execution_count": null,
   "metadata": {},
   "outputs": [],
   "source": []
  },
  {
   "cell_type": "code",
   "execution_count": null,
   "metadata": {},
   "outputs": [],
   "source": [
    "# 3. Divisione del dataset in training e test\n",
    "\n",
    "X_train, X_test, y_train, y_test = train_test_split(X_pca, y, test_size=0.2, random_state=42)\n"
   ]
  },
  {
   "cell_type": "markdown",
   "metadata": {},
   "source": [
    "<h3><a id=\"train\">Ottimizzazione dei Parametri e Addestramento</a></h3>"
   ]
  },
  {
   "cell_type": "code",
   "execution_count": null,
   "metadata": {},
   "outputs": [],
   "source": [
    "# 4. Ottimizzazione dei parametri di ogni modello\n",
    "\n",
    "# Definizione delle distribuzioni dei parametri\n",
    "\n",
    "param_dist_svr = {\n",
    "    'C': uniform(0.1, 100),\n",
    "    'gamma': ['scale', 'auto'] + list(uniform(0.0001, 0.1).rvs(10)),\n",
    "    'epsilon': uniform(0.1, 1.0)\n",
    "}\n",
    "\n",
    "param_dist_gb = {\n",
    "    'n_estimators': randint(50, 500),\n",
    "    'learning_rate': uniform(0.01, 0.3),\n",
    "    'max_depth': randint(3, 10),\n",
    "    'min_samples_split': randint(2, 20),\n",
    "    'min_samples_leaf': randint(1, 20),\n",
    "    'subsample': uniform(0.7, 0.3)\n",
    "}\n",
    "\n",
    "param_dist_bagging = {\n",
    "    'n_estimators': [10, 50, 100, 200],\n",
    "    'max_samples': [0.5, 0.7, 1.0],\n",
    "    'max_features': [0.5, 0.7, 1.0]\n",
    "}\n",
    "\n",
    "param_dist_rf = {\n",
    "    'n_estimators': randint(50, 500),\n",
    "    'max_depth': [None, 10, 20, 30],\n",
    "    'min_samples_split': randint(2, 10),\n",
    "    'min_samples_leaf': randint(1, 10),\n",
    "    'max_features': ['sqrt', 'log2', None]\n",
    "}\n",
    "\n",
    "param_dist_dt = {\n",
    "    'max_depth': [None, 10, 20, 30],\n",
    "    'min_samples_split': randint(2, 20),\n",
    "    'min_samples_leaf': randint(1, 20)\n",
    "}\n",
    "\n",
    "param_dist_lr = {}\n",
    "\n",
    "param_dist_ridge = {\n",
    "    'alpha': uniform(0.1, 10)\n",
    "}\n",
    "\n",
    "param_dist_lasso = {\n",
    "    'alpha': np.logspace(-4, 4, 50)\n",
    "}\n",
    "\n",
    "param_dist_knn = {\n",
    "    'n_neighbors': randint(1, 30),\n",
    "    'weights': ['uniform', 'distance'],\n",
    "    'metric': ['euclidean', 'manhattan']\n",
    "}\n",
    "\n",
    "param_dist_nn = {\n",
    "    'hidden_layer_sizes': [(50,50,50), (50,100,50), (100,)],\n",
    "    'activation': ['tanh', 'relu'],\n",
    "    'solver': ['sgd', 'adam'],\n",
    "    'alpha': [0.0001, 0.05],\n",
    "    'learning_rate': ['constant','adaptive'],\n",
    "    'max_iter': [2000, 3000, 4000]  # Aumenta il numero massimo di iterazioni\n",
    "}"
   ]
  },
  {
   "cell_type": "code",
   "execution_count": null,
   "metadata": {},
   "outputs": [],
   "source": [
    "# 5. Addestramento di ogni modello ottimizzato\n",
    "\n",
    "# Definizione dei modelli\n",
    "models = {\n",
    "    'SVR': (SVR(kernel = 'rbf'), param_dist_svr),\n",
    "    'GradientBoosting': (GradientBoostingRegressor(random_state=42), param_dist_gb),\n",
    "    'Bagging': (BaggingRegressor(random_state=42), param_dist_bagging),    \n",
    "    'RandomForest': (RandomForestRegressor(random_state=42), param_dist_rf),\n",
    "    'DecisionTree': (DecisionTreeRegressor(random_state=42), param_dist_dt),\n",
    "    'LinearRegression': (LinearRegression(), param_dist_lr),\n",
    "    'Ridge': (Ridge(), param_dist_ridge),\n",
    "    'Lasso': (Lasso(random_state=42), param_dist_lasso),\n",
    "    'NeuralNetwork': (MLPRegressor(max_iter=1000, random_state=42), param_dist_nn),\n",
    "    'KNN': (KNeighborsRegressor(), param_dist_knn)\n",
    "}\n"
   ]
  },
  {
   "cell_type": "code",
   "execution_count": null,
   "metadata": {},
   "outputs": [],
   "source": [
    "# RandomizedSearchCV per ogni modello\n",
    "random_searches = {}\n",
    "training_times = {}\n",
    "\n",
    "# Disabilitare temporaneamente i warning\n",
    "warnings.filterwarnings(\"ignore\", category=UserWarning)\n",
    "\n",
    "for model_name, (model, param_dist) in models.items():\n",
    "    try:\n",
    "        print(f\"Starting training for {model_name}\")\n",
    "        start_time = time.time()\n",
    "        \n",
    "        random_search = RandomizedSearchCV(estimator=model, param_distributions=param_dist, n_iter=20, cv=5, scoring='r2', random_state=42, n_jobs=-1, error_score='raise')\n",
    "        random_search.fit(X_train, y_train)\n",
    "\n",
    "        end_time = time.time()\n",
    "\n",
    "        random_searches[model_name] = random_search\n",
    "        training_times[model_name] = end_time - start_time\n",
    "\n",
    "        print(f\"Best parameters for {model_name}: {random_search.best_params_}\")\n",
    "        print(f\"Training time for {model_name}: {training_times[model_name]:.2f} seconds\")\n",
    "        print(\"------\")\n",
    "\n",
    "    except UserWarning as e:\n",
    "        print(f\"A UserWarning occurred while training {model_name}: {e}\")\n",
    "    except Exception as e:\n",
    "        print(f\"An error occurred while training {model_name}: {e}\")\n",
    "\n",
    "warnings.filterwarnings(\"default\", category=UserWarning)\n",
    "\n",
    "print(\"Training complete for all models.\")"
   ]
  },
  {
   "cell_type": "markdown",
   "metadata": {},
   "source": [
    "\n",
    "<h3><a id=\"valutation\">Valutazione</a></h3>"
   ]
  },
  {
   "cell_type": "code",
   "execution_count": null,
   "metadata": {},
   "outputs": [],
   "source": [
    "# 6. Previsione e valutazione di ogni modello\n",
    "\n",
    "results = {}\n",
    "\n",
    "# Loop attraverso ogni modello e calcolare le metriche\n",
    "for model_name, search in random_searches.items():\n",
    "    y_pred = search.best_estimator_.predict(X_test)\n",
    "\n",
    "    # Calcolare le metriche\n",
    "    r2 = r2_score(y_test, y_pred)\n",
    "    mse = mean_squared_error(y_test, y_pred)\n",
    "    rmse = np.sqrt(mse)\n",
    "    mae = mean_absolute_error(y_test, y_pred)\n",
    "    max_err = max_error(y_test, y_pred)\n",
    "\n",
    "    results[model_name] = {'R^2': round(r2, 2), 'RMSE': round(rmse, 2), 'MAE': round(mae, 2), 'Max Err': round(max_err, 2)}\n",
    "\n",
    "results_df = pd.DataFrame(results)\n",
    "training_times_df = pd.Series(training_times, name=\"Train Time (s)\")\n",
    "\n",
    "\n",
    "results_df = results_df.T\n",
    "\n",
    "final_results_df = results_df.join(training_times_df)"
   ]
  },
  {
   "cell_type": "code",
   "execution_count": null,
   "metadata": {},
   "outputs": [],
   "source": [
    "final_results_df.columns.values"
   ]
  },
  {
   "cell_type": "code",
   "execution_count": null,
   "metadata": {},
   "outputs": [],
   "source": [
    "print(tabulate(final_results_df, headers='keys', tablefmt='github'))"
   ]
  },
  {
   "cell_type": "markdown",
   "metadata": {},
   "source": [
    "<h3><a id=\"f_importance\">Importanza delle features</a></h3>\n"
   ]
  },
  {
   "cell_type": "code",
   "execution_count": null,
   "metadata": {},
   "outputs": [],
   "source": [
    "# 7. Visualizzazione dell'importanza delle feature"
   ]
  },
  {
   "cell_type": "code",
   "execution_count": null,
   "metadata": {},
   "outputs": [],
   "source": [
    "# Mantenere le etichette delle feature originali per la visualizzazione\n",
    "feature_labels = X_scaled.columns\n",
    "# Dizionario per le importanze delle feature\n",
    "feature_importances_dict = {}"
   ]
  },
  {
   "cell_type": "code",
   "execution_count": null,
   "metadata": {},
   "outputs": [],
   "source": [
    "# Estrai le importanze delle feature per ogni modello\n",
    "for model_name, search in random_searches.items():\n",
    "    if hasattr(search.best_estimator_, 'feature_importances_'):\n",
    "        # Per modelli che hanno l'attributo 'feature_importances_'\n",
    "        feature_importances_dict[model_name] = search.best_estimator_.feature_importances_\n",
    "    elif hasattr(search.best_estimator_, 'coef_'):\n",
    "        # Per modelli che hanno l'attributo 'coef_' (come modelli lineari)\n",
    "        feature_importances_dict[model_name] = np.abs(search.best_estimator_.coef_)\n",
    "\n",
    "# Creazione del DataFrame delle importanze delle feature\n",
    "# Per i modelli che utilizzano PCA, è necessario mappare le importanze dei componenti principali alle feature originali\n",
    "def get_feature_importances_from_pca(pca, feature_importances_dict, original_feature_labels):\n",
    "    component_loadings = pca.components_.T\n",
    "    importance_dict = {}\n",
    "    for model_name, importances in feature_importances_dict.items():\n",
    "        if isinstance(importances, np.ndarray) and len(importances) == pca.n_components_:\n",
    "            # Importanze dei componenti principali\n",
    "            importances_matrix = np.dot(component_loadings, np.diag(importances))\n",
    "            # Calcola l'importanza totale per ogni feature\n",
    "            feature_importances = np.abs(importances_matrix).sum(axis=1)\n",
    "            importance_dict[model_name] = feature_importances\n",
    "        else:\n",
    "            # Modelli senza importanze o importanze non compatibili\n",
    "            importance_dict[model_name] = np.nan * len(original_feature_labels)\n",
    "    return pd.DataFrame(importance_dict, index=original_feature_labels)\n"
   ]
  },
  {
   "cell_type": "code",
   "execution_count": null,
   "metadata": {},
   "outputs": [],
   "source": [
    "feature_importances_df = get_feature_importances_from_pca(pca, feature_importances_dict, feature_labels)\n",
    "\n",
    "# Normalizzazione delle importanze delle feature (opzionale)\n",
    "feature_importances_df = feature_importances_df.apply(lambda x: x / np.nansum(x), axis=0)\n",
    "\n",
    "# Visualizzazione della heatmap\n",
    "plt.figure(figsize=(14, 10))\n",
    "sns.heatmap(feature_importances_df, annot=True, cmap='viridis', cbar_kws={'label': 'Normalized Importance'})\n",
    "plt.title('Feature Importances Heatmap')\n",
    "plt.xlabel('')\n",
    "plt.ylabel('')\n",
    "plt.xticks(rotation=45)  # Ruota le etichette dei modelli per una migliore leggibilità\n",
    "plt.show()"
   ]
  },
  {
   "cell_type": "markdown",
   "metadata": {},
   "source": [
    "<h1>Web Bibliografy</h1>\n",
    "\n",
    "2. Riduzione della dimensionalità\n",
    "\n",
    "Normalization method: \n",
    "\n",
    "    [](https://medium.com/@mkc940/different-normalization-methods-a1be71fe9f1)\n",
    "\n",
    "    [](https://www.datacamp.com/tutorial/normalization-in-machine-learning)\n",
    "\n",
    "    [](https://www.geeksforgeeks.org/what-is-data-normalization/)\n",
    "\n",
    "DimensionalityReduction Techniques\n",
    "    \n",
    "    [](https://medium.com/nerd-for-tech/dimensionality-reduction-techniques-pca-lca-and-svd-f2a56b097f7c)\n",
    "\n",
    "    [](https://medium.com/machine-learning-researcher/dimensionality-reduction-pca-and-lda-6be91734f567)\n",
    "\n",
    "\n",
    "# 4. Ottimizzazione dei parametri di ogni modello\n",
    "\n",
    "'''\n",
    "Supervised ML regression algorithms\n",
    "\n",
    "    https://www.onlinemanipal.com/blogs/popular-regression-algorithms-in-machine-learning\n",
    "\n",
    "    https://www.analyticsvidhya.com/blog/2021/05/5-regression-algorithms-you-should-know-introductory-guide/\n",
    "\n",
    "    https://www.geeksforgeeks.org/regression-in-machine-learning/\n",
    "\n",
    "\n",
    "\n",
    "Parameter optimization machine learning models\n",
    "\n",
    "    https://www.linkedin.com/pulse/machine-learning-optimization-techniques-bilal-el-jamal/\n",
    "\n",
    "    https://www.datacamp.com/tutorial/parameter-optimization-machine-learning-models\n",
    "    \n",
    "'''\n",
    "'''\n",
    "math explained \n",
    "\n",
    "\n",
    "Random forest:\n",
    "    https://medium.com/capital-one-tech/random-forest-algorithm-for-machine-learning-c4b2c8cc9feb\n",
    "\n",
    "Decision Tree:\n",
    "    https://ankitnitjsr13.medium.com/math-behind-decision-tree-algorithm-2aa398561d6d\n",
    "\n",
    "Gradient Boosting Regressor:\n",
    "    https://medium.com/geekculture/gradient-boosting-for-regression-math-intuition-71f9a9826035#:~:text=Gradient%20Boosting%20starts%20by%20making,made%20by%20the%20previous%20tree.\n",
    "    \n",
    "SVR\n",
    "    https://medium.com/@rahulrastogi1104/support-vector-regression-and-its-mathematical-implementation-b6377898cd74\n",
    "\n",
    "Lasso & Ridge Regression\n",
    "    https://medium.com/codex/mathematical-background-of-lasso-and-ridge-regression-23b74737c817\n",
    "\n",
    "KNN\n",
    "\n",
    "\n",
    "data binning: https://medium.com/@mose.kabungo/binning-explained-557aa3cce591"
   ]
  }
 ],
 "metadata": {
  "kernelspec": {
   "display_name": "Python 3 (ipykernel)",
   "language": "python",
   "name": "python3"
  },
  "language_info": {
   "codemirror_mode": {
    "name": "ipython",
    "version": 3
   },
   "file_extension": ".py",
   "mimetype": "text/x-python",
   "name": "python",
   "nbconvert_exporter": "python",
   "pygments_lexer": "ipython3",
   "version": "3.9.7"
  }
 },
 "nbformat": 4,
 "nbformat_minor": 2
}
